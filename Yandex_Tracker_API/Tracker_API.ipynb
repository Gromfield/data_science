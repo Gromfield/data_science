{
 "cells": [
  {
   "cell_type": "markdown",
   "metadata": {},
   "source": [
    "# Программа для работы с Yandex Tracker API"
   ]
  },
  {
   "cell_type": "markdown",
   "metadata": {},
   "source": [
    "Необходима установка библиотеки для работы с Яндекс Трекером: **yandex_tracker_client**"
   ]
  },
  {
   "cell_type": "markdown",
   "metadata": {},
   "source": [
    "## Импорт библиотек"
   ]
  },
  {
   "cell_type": "code",
   "execution_count": 15,
   "metadata": {},
   "outputs": [],
   "source": [
    "import yandex_tracker_client as ytc        # подключение к Яндекс трекеру по API\n",
    "import pandas as pd                        # работа с табличными данными\n",
    "import numpy as np                         # выполнение математических операций\n",
    "import re                                  # регулярные выражения\n",
    "from datetime import datetime              # работа с датой и временем\n",
    "import os                                  # работа с операционной системой"
   ]
  },
  {
   "cell_type": "code",
   "execution_count": 14,
   "metadata": {},
   "outputs": [
    {
     "name": "stdout",
     "output_type": "stream",
     "text": [
      "Версии библиотек\n",
      "Pandas: 2.2.3\n",
      "Numpy: 1.24.1\n"
     ]
    }
   ],
   "source": [
    "# Проверка версии библиотек\n",
    "print('Версии библиотек')\n",
    "print('Pandas:', pd.__version__)\n",
    "print('Numpy:', np.__version__)"
   ]
  },
  {
   "cell_type": "code",
   "execution_count": null,
   "metadata": {},
   "outputs": [],
   "source": []
  }
 ],
 "metadata": {
  "kernelspec": {
   "display_name": "Python 3",
   "language": "python",
   "name": "python3"
  },
  "language_info": {
   "codemirror_mode": {
    "name": "ipython",
    "version": 3
   },
   "file_extension": ".py",
   "mimetype": "text/x-python",
   "name": "python",
   "nbconvert_exporter": "python",
   "pygments_lexer": "ipython3",
   "version": "3.10.9"
  }
 },
 "nbformat": 4,
 "nbformat_minor": 2
}
