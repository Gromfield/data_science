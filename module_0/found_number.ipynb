{
 "cells": [
  {
   "cell_type": "markdown",
   "id": "780fc206",
   "metadata": {},
   "source": [
    "# Программа версии 3, угадывает в среднем за 4 попытки"
   ]
  },
  {
   "cell_type": "code",
   "execution_count": 7,
   "id": "3ecba08a",
   "metadata": {
    "scrolled": false
   },
   "outputs": [
    {
     "name": "stdout",
     "output_type": "stream",
     "text": [
      "Ваш алгоритм угадывает число в среднем за 4 попыток\n"
     ]
    },
    {
     "data": {
      "text/plain": [
       "4"
      ]
     },
     "execution_count": 7,
     "metadata": {},
     "output_type": "execute_result"
    }
   ],
   "source": [
    "import numpy as np\n",
    "\n",
    "\n",
    "def game_core_v3(number):\n",
    "    '''Сначала устанавливаем любое random число, а потом уменьшаем или увеличиваем его в зависимости от того, \n",
    "       больше оно или меньше нужного.\n",
    "       Функция принимает загаданное число и возвращает число попыток'''\n",
    "    \n",
    "    # Задаем счетчик попыток, присваиваем ему значение 1\n",
    "    count = 1\n",
    "    \n",
    "    # Загадываем случайное число от 1 до 100\n",
    "    predict = np.random.randint(1, 101)\n",
    "    \n",
    "    # Запускам цикл, пока называемое число не равно загаданному\n",
    "    while number != predict:\n",
    "        \n",
    "        # Увеличиваем количество попыток на 1\n",
    "        count += 1\n",
    "        \n",
    "        # Выясняем, на сколько необходимо увеличить называемое в случае, если оно меньше загаданного\n",
    "        if number > predict:\n",
    "            if number - predict > 50:\n",
    "                predict += 50\n",
    "            elif number - predict > 25:\n",
    "                predict += 25\n",
    "            elif number - predict > 12:\n",
    "                predict += 12\n",
    "            elif number - predict > 6:\n",
    "                predict += 6\n",
    "            elif number - predict > 3:\n",
    "                predict += 3\n",
    "            else:\n",
    "                predict += 1\n",
    "        \n",
    "        # Выясняем, на сколько необходимо уменьшить называемое в случае, если оно больше загаданного \n",
    "        elif number < predict:\n",
    "            if predict - number > 50:\n",
    "                predict -= 50\n",
    "            elif predict - number > 25:\n",
    "                predict -= 25\n",
    "            elif predict - number > 12:\n",
    "                predict -= 12\n",
    "            elif predict - number > 6:\n",
    "                predict -= 6\n",
    "            elif predict - number > 3:\n",
    "                predict -= 3\n",
    "            else:\n",
    "                predict -= 1\n",
    "    \n",
    "    # Выход из цикла, если угадали\n",
    "    return(count)\n",
    "\n",
    "\n",
    "def score_game(game_core):\n",
    "    # Запускаем игру 1000 раз, чтобы узнать, как быстро игра угадывает число\n",
    "    count_ls = []\n",
    "    \n",
    "    # Фиксируем RANDOM SEED, чтобы ваш эксперимент был воспроизводим\n",
    "    np.random.seed(1)\n",
    "    \n",
    "    # Генерируем число, которое будем угадывать 1000 раз\n",
    "    random_array = np.random.randint(1,101, size=(1000))\n",
    "    \n",
    "    # Запускаем цикл угадываний\n",
    "    for number in random_array:\n",
    "        \n",
    "        # Добавляем значение в список проведенных игр\n",
    "        count_ls.append(game_core(number))\n",
    "    \n",
    "    # Вычисляем среднее количество попыток и выводим его\n",
    "    score = int(np.mean(count_ls))\n",
    "    print(f\"Ваш алгоритм угадывает число в среднем за {score} попыток\")\n",
    "    \n",
    "    return(score)\n",
    "\n",
    "\n",
    "score_game(game_core_v3)"
   ]
  },
  {
   "cell_type": "markdown",
   "id": "8cdf794f",
   "metadata": {},
   "source": [
    "# Тест условий увеличения/уменьшения называемого числа"
   ]
  },
  {
   "cell_type": "code",
   "execution_count": 4,
   "id": "088cdae9",
   "metadata": {},
   "outputs": [
    {
     "name": "stdout",
     "output_type": "stream",
     "text": [
      "9\n"
     ]
    }
   ],
   "source": [
    "number = 1\n",
    "predict = 100\n",
    "count = 1\n",
    "\n",
    "while number != predict:\n",
    "    count += 1\n",
    "    if number > predict:\n",
    "        if number - predict > 50:\n",
    "            predict += 50\n",
    "        elif number - predict > 25:\n",
    "            predict += 25\n",
    "        elif number - predict > 12:\n",
    "            predict += 12\n",
    "        elif number - predict > 6:\n",
    "            predict += 6\n",
    "        elif number - predict > 3:\n",
    "            predict += 3\n",
    "        else:\n",
    "            predict += 1\n",
    "    elif number < predict:\n",
    "        if predict - number > 50:\n",
    "            predict -= 50\n",
    "        elif predict - number > 25:\n",
    "            predict -= 25\n",
    "        elif predict - number > 12:\n",
    "            predict -= 12\n",
    "        elif predict - number > 6:\n",
    "            predict -= 6\n",
    "        elif predict - number > 3:\n",
    "            predict -= 3\n",
    "        else:\n",
    "            predict -= 1\n",
    "\n",
    "print(count)"
   ]
  }
 ],
 "metadata": {
  "kernelspec": {
   "display_name": "Python 3",
   "language": "python",
   "name": "python3"
  },
  "language_info": {
   "codemirror_mode": {
    "name": "ipython",
    "version": 3
   },
   "file_extension": ".py",
   "mimetype": "text/x-python",
   "name": "python",
   "nbconvert_exporter": "python",
   "pygments_lexer": "ipython3",
   "version": "3.8.8"
  }
 },
 "nbformat": 4,
 "nbformat_minor": 5
}
