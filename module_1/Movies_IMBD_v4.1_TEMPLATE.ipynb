{
 "cells": [
  {
   "cell_type": "code",
   "execution_count": 176,
   "metadata": {
    "_cell_guid": "b1076dfc-b9ad-4769-8c92-a6c4dae69d19",
    "_uuid": "8f2839f25d086af736a60e9eeb907d3b93b6e0e5",
    "colab": {},
    "colab_type": "code",
    "id": "U2D2gTdJVp90"
   },
   "outputs": [],
   "source": [
    "import numpy as np\n",
    "import pandas as pd\n",
    "import seaborn as sns\n",
    "import matplotlib.pyplot as plt\n",
    "from collections import Counter\n",
    "from itertools import combinations"
   ]
  },
  {
   "cell_type": "code",
   "execution_count": 177,
   "metadata": {
    "_cell_guid": "79c7e3d0-c299-4dcb-8224-4455121ee9b0",
    "_uuid": "d629ff2d2480ee46fbb7e2d37f6b5fab8052498a",
    "colab": {},
    "colab_type": "code",
    "id": "oyGfxL3eVp9-"
   },
   "outputs": [
    {
     "data": {
      "text/html": [
       "<div>\n",
       "<style scoped>\n",
       "    .dataframe tbody tr th:only-of-type {\n",
       "        vertical-align: middle;\n",
       "    }\n",
       "\n",
       "    .dataframe tbody tr th {\n",
       "        vertical-align: top;\n",
       "    }\n",
       "\n",
       "    .dataframe thead th {\n",
       "        text-align: right;\n",
       "    }\n",
       "</style>\n",
       "<table border=\"1\" class=\"dataframe\">\n",
       "  <thead>\n",
       "    <tr style=\"text-align: right;\">\n",
       "      <th></th>\n",
       "      <th>imdb_id</th>\n",
       "      <th>budget</th>\n",
       "      <th>revenue</th>\n",
       "      <th>original_title</th>\n",
       "      <th>cast</th>\n",
       "      <th>director</th>\n",
       "      <th>tagline</th>\n",
       "      <th>overview</th>\n",
       "      <th>runtime</th>\n",
       "      <th>genres</th>\n",
       "      <th>production_companies</th>\n",
       "      <th>release_date</th>\n",
       "      <th>vote_average</th>\n",
       "      <th>release_year</th>\n",
       "    </tr>\n",
       "  </thead>\n",
       "  <tbody>\n",
       "    <tr>\n",
       "      <th>353</th>\n",
       "      <td>tt1289406</td>\n",
       "      <td>7300000</td>\n",
       "      <td>10329747</td>\n",
       "      <td>Harry Brown</td>\n",
       "      <td>Michael Caine|Emily Mortimer|Iain Glen|Lee Oak...</td>\n",
       "      <td>Daniel Barber</td>\n",
       "      <td>Every man has a breaking point.</td>\n",
       "      <td>An elderly ex-serviceman and widower looks to ...</td>\n",
       "      <td>103</td>\n",
       "      <td>Thriller|Crime|Drama|Action</td>\n",
       "      <td>HanWay Films|UK Film Council|Marv Films</td>\n",
       "      <td>11/11/2009</td>\n",
       "      <td>6.6</td>\n",
       "      <td>2009</td>\n",
       "    </tr>\n",
       "    <tr>\n",
       "      <th>622</th>\n",
       "      <td>tt0887912</td>\n",
       "      <td>15000000</td>\n",
       "      <td>42000000</td>\n",
       "      <td>The Hurt Locker</td>\n",
       "      <td>Jeremy Renner|Anthony Mackie|Brian Geraghty|Gu...</td>\n",
       "      <td>Kathryn Bigelow</td>\n",
       "      <td>You'll know when you're in it.</td>\n",
       "      <td>Forced to play a dangerous game of cat-and-mou...</td>\n",
       "      <td>131</td>\n",
       "      <td>Drama|Thriller|War</td>\n",
       "      <td>Summit Entertainment|Kingsgate Films|Grosvenor...</td>\n",
       "      <td>10/10/2008</td>\n",
       "      <td>7.2</td>\n",
       "      <td>2008</td>\n",
       "    </tr>\n",
       "    <tr>\n",
       "      <th>621</th>\n",
       "      <td>tt0448157</td>\n",
       "      <td>150000000</td>\n",
       "      <td>624029371</td>\n",
       "      <td>Hancock</td>\n",
       "      <td>Will Smith|Charlize Theron|Jason Bateman|Jae H...</td>\n",
       "      <td>Peter Berg</td>\n",
       "      <td>Bad Behavior. Bad Attitude. Real Hero.</td>\n",
       "      <td>Hancock is a down-and-out superhero who's forc...</td>\n",
       "      <td>92</td>\n",
       "      <td>Fantasy|Action</td>\n",
       "      <td>Columbia Pictures|Weed Road Pictures|Forward P...</td>\n",
       "      <td>7/1/2008</td>\n",
       "      <td>6.0</td>\n",
       "      <td>2008</td>\n",
       "    </tr>\n",
       "    <tr>\n",
       "      <th>15</th>\n",
       "      <td>tt3460252</td>\n",
       "      <td>44000000</td>\n",
       "      <td>155760117</td>\n",
       "      <td>The Hateful Eight</td>\n",
       "      <td>Samuel L. Jackson|Kurt Russell|Jennifer Jason ...</td>\n",
       "      <td>Quentin Tarantino</td>\n",
       "      <td>No one comes up here without a damn good reason.</td>\n",
       "      <td>Bounty hunters seek shelter from a raging bliz...</td>\n",
       "      <td>167</td>\n",
       "      <td>Crime|Drama|Mystery|Western</td>\n",
       "      <td>Double Feature Films|The Weinstein Company|Fil...</td>\n",
       "      <td>12/25/2015</td>\n",
       "      <td>7.4</td>\n",
       "      <td>2015</td>\n",
       "    </tr>\n",
       "    <tr>\n",
       "      <th>314</th>\n",
       "      <td>tt1045772</td>\n",
       "      <td>13000000</td>\n",
       "      <td>10652035</td>\n",
       "      <td>I Love You Phillip Morris</td>\n",
       "      <td>Jim Carrey|Ewan McGregor|Leslie Mann|Rodrigo S...</td>\n",
       "      <td>Glenn Ficarra|John Requa</td>\n",
       "      <td>The Conman who wouldn't go straight.</td>\n",
       "      <td>Bad Santa co-screenwriters Glenn Ficara and Jo...</td>\n",
       "      <td>98</td>\n",
       "      <td>Comedy|Drama|Romance</td>\n",
       "      <td>EuropaCorp</td>\n",
       "      <td>1/18/2009</td>\n",
       "      <td>6.3</td>\n",
       "      <td>2009</td>\n",
       "    </tr>\n",
       "  </tbody>\n",
       "</table>\n",
       "</div>"
      ],
      "text/plain": [
       "       imdb_id     budget    revenue             original_title  \\\n",
       "353  tt1289406    7300000   10329747                Harry Brown   \n",
       "622  tt0887912   15000000   42000000            The Hurt Locker   \n",
       "621  tt0448157  150000000  624029371                    Hancock   \n",
       "15   tt3460252   44000000  155760117          The Hateful Eight   \n",
       "314  tt1045772   13000000   10652035  I Love You Phillip Morris   \n",
       "\n",
       "                                                  cast  \\\n",
       "353  Michael Caine|Emily Mortimer|Iain Glen|Lee Oak...   \n",
       "622  Jeremy Renner|Anthony Mackie|Brian Geraghty|Gu...   \n",
       "621  Will Smith|Charlize Theron|Jason Bateman|Jae H...   \n",
       "15   Samuel L. Jackson|Kurt Russell|Jennifer Jason ...   \n",
       "314  Jim Carrey|Ewan McGregor|Leslie Mann|Rodrigo S...   \n",
       "\n",
       "                     director  \\\n",
       "353             Daniel Barber   \n",
       "622           Kathryn Bigelow   \n",
       "621                Peter Berg   \n",
       "15          Quentin Tarantino   \n",
       "314  Glenn Ficarra|John Requa   \n",
       "\n",
       "                                              tagline  \\\n",
       "353                   Every man has a breaking point.   \n",
       "622                    You'll know when you're in it.   \n",
       "621            Bad Behavior. Bad Attitude. Real Hero.   \n",
       "15   No one comes up here without a damn good reason.   \n",
       "314              The Conman who wouldn't go straight.   \n",
       "\n",
       "                                              overview  runtime  \\\n",
       "353  An elderly ex-serviceman and widower looks to ...      103   \n",
       "622  Forced to play a dangerous game of cat-and-mou...      131   \n",
       "621  Hancock is a down-and-out superhero who's forc...       92   \n",
       "15   Bounty hunters seek shelter from a raging bliz...      167   \n",
       "314  Bad Santa co-screenwriters Glenn Ficara and Jo...       98   \n",
       "\n",
       "                          genres  \\\n",
       "353  Thriller|Crime|Drama|Action   \n",
       "622           Drama|Thriller|War   \n",
       "621               Fantasy|Action   \n",
       "15   Crime|Drama|Mystery|Western   \n",
       "314         Comedy|Drama|Romance   \n",
       "\n",
       "                                  production_companies release_date  \\\n",
       "353            HanWay Films|UK Film Council|Marv Films   11/11/2009   \n",
       "622  Summit Entertainment|Kingsgate Films|Grosvenor...   10/10/2008   \n",
       "621  Columbia Pictures|Weed Road Pictures|Forward P...     7/1/2008   \n",
       "15   Double Feature Films|The Weinstein Company|Fil...   12/25/2015   \n",
       "314                                         EuropaCorp    1/18/2009   \n",
       "\n",
       "     vote_average  release_year  \n",
       "353           6.6          2009  \n",
       "622           7.2          2008  \n",
       "621           6.0          2008  \n",
       "15            7.4          2015  \n",
       "314           6.3          2009  "
      ]
     },
     "execution_count": 177,
     "metadata": {},
     "output_type": "execute_result"
    }
   ],
   "source": [
    "data = pd.read_csv('D:\\Data Science\\Learning/movie_bd_v5.csv')\n",
    "data.sample(5)"
   ]
  },
  {
   "cell_type": "code",
   "execution_count": 178,
   "metadata": {
    "colab": {},
    "colab_type": "code",
    "id": "CoYUnagMVp-C"
   },
   "outputs": [
    {
     "data": {
      "text/html": [
       "<div>\n",
       "<style scoped>\n",
       "    .dataframe tbody tr th:only-of-type {\n",
       "        vertical-align: middle;\n",
       "    }\n",
       "\n",
       "    .dataframe tbody tr th {\n",
       "        vertical-align: top;\n",
       "    }\n",
       "\n",
       "    .dataframe thead th {\n",
       "        text-align: right;\n",
       "    }\n",
       "</style>\n",
       "<table border=\"1\" class=\"dataframe\">\n",
       "  <thead>\n",
       "    <tr style=\"text-align: right;\">\n",
       "      <th></th>\n",
       "      <th>budget</th>\n",
       "      <th>revenue</th>\n",
       "      <th>runtime</th>\n",
       "      <th>vote_average</th>\n",
       "      <th>release_year</th>\n",
       "    </tr>\n",
       "  </thead>\n",
       "  <tbody>\n",
       "    <tr>\n",
       "      <th>count</th>\n",
       "      <td>1.889000e+03</td>\n",
       "      <td>1.889000e+03</td>\n",
       "      <td>1889.000000</td>\n",
       "      <td>1889.000000</td>\n",
       "      <td>1889.000000</td>\n",
       "    </tr>\n",
       "    <tr>\n",
       "      <th>mean</th>\n",
       "      <td>5.431083e+07</td>\n",
       "      <td>1.553653e+08</td>\n",
       "      <td>109.658549</td>\n",
       "      <td>6.140762</td>\n",
       "      <td>2007.860773</td>\n",
       "    </tr>\n",
       "    <tr>\n",
       "      <th>std</th>\n",
       "      <td>4.858721e+07</td>\n",
       "      <td>2.146698e+08</td>\n",
       "      <td>18.017041</td>\n",
       "      <td>0.764763</td>\n",
       "      <td>4.468841</td>\n",
       "    </tr>\n",
       "    <tr>\n",
       "      <th>min</th>\n",
       "      <td>5.000000e+06</td>\n",
       "      <td>2.033165e+06</td>\n",
       "      <td>63.000000</td>\n",
       "      <td>3.300000</td>\n",
       "      <td>2000.000000</td>\n",
       "    </tr>\n",
       "    <tr>\n",
       "      <th>25%</th>\n",
       "      <td>2.000000e+07</td>\n",
       "      <td>3.456058e+07</td>\n",
       "      <td>97.000000</td>\n",
       "      <td>5.600000</td>\n",
       "      <td>2004.000000</td>\n",
       "    </tr>\n",
       "    <tr>\n",
       "      <th>50%</th>\n",
       "      <td>3.800000e+07</td>\n",
       "      <td>8.361541e+07</td>\n",
       "      <td>107.000000</td>\n",
       "      <td>6.100000</td>\n",
       "      <td>2008.000000</td>\n",
       "    </tr>\n",
       "    <tr>\n",
       "      <th>75%</th>\n",
       "      <td>7.200000e+07</td>\n",
       "      <td>1.782626e+08</td>\n",
       "      <td>120.000000</td>\n",
       "      <td>6.600000</td>\n",
       "      <td>2012.000000</td>\n",
       "    </tr>\n",
       "    <tr>\n",
       "      <th>max</th>\n",
       "      <td>3.800000e+08</td>\n",
       "      <td>2.781506e+09</td>\n",
       "      <td>214.000000</td>\n",
       "      <td>8.100000</td>\n",
       "      <td>2015.000000</td>\n",
       "    </tr>\n",
       "  </tbody>\n",
       "</table>\n",
       "</div>"
      ],
      "text/plain": [
       "             budget       revenue      runtime  vote_average  release_year\n",
       "count  1.889000e+03  1.889000e+03  1889.000000   1889.000000   1889.000000\n",
       "mean   5.431083e+07  1.553653e+08   109.658549      6.140762   2007.860773\n",
       "std    4.858721e+07  2.146698e+08    18.017041      0.764763      4.468841\n",
       "min    5.000000e+06  2.033165e+06    63.000000      3.300000   2000.000000\n",
       "25%    2.000000e+07  3.456058e+07    97.000000      5.600000   2004.000000\n",
       "50%    3.800000e+07  8.361541e+07   107.000000      6.100000   2008.000000\n",
       "75%    7.200000e+07  1.782626e+08   120.000000      6.600000   2012.000000\n",
       "max    3.800000e+08  2.781506e+09   214.000000      8.100000   2015.000000"
      ]
     },
     "metadata": {},
     "output_type": "display_data"
    },
    {
     "data": {
      "text/html": [
       "<div>\n",
       "<style scoped>\n",
       "    .dataframe tbody tr th:only-of-type {\n",
       "        vertical-align: middle;\n",
       "    }\n",
       "\n",
       "    .dataframe tbody tr th {\n",
       "        vertical-align: top;\n",
       "    }\n",
       "\n",
       "    .dataframe thead th {\n",
       "        text-align: right;\n",
       "    }\n",
       "</style>\n",
       "<table border=\"1\" class=\"dataframe\">\n",
       "  <thead>\n",
       "    <tr style=\"text-align: right;\">\n",
       "      <th></th>\n",
       "      <th>imdb_id</th>\n",
       "      <th>original_title</th>\n",
       "      <th>cast</th>\n",
       "      <th>director</th>\n",
       "      <th>tagline</th>\n",
       "      <th>overview</th>\n",
       "      <th>genres</th>\n",
       "      <th>production_companies</th>\n",
       "      <th>release_date</th>\n",
       "    </tr>\n",
       "  </thead>\n",
       "  <tbody>\n",
       "    <tr>\n",
       "      <th>count</th>\n",
       "      <td>1889</td>\n",
       "      <td>1889</td>\n",
       "      <td>1889</td>\n",
       "      <td>1889</td>\n",
       "      <td>1889</td>\n",
       "      <td>1889</td>\n",
       "      <td>1889</td>\n",
       "      <td>1889</td>\n",
       "      <td>1889</td>\n",
       "    </tr>\n",
       "    <tr>\n",
       "      <th>unique</th>\n",
       "      <td>1889</td>\n",
       "      <td>1887</td>\n",
       "      <td>1878</td>\n",
       "      <td>957</td>\n",
       "      <td>1880</td>\n",
       "      <td>1889</td>\n",
       "      <td>652</td>\n",
       "      <td>1624</td>\n",
       "      <td>1435</td>\n",
       "    </tr>\n",
       "    <tr>\n",
       "      <th>top</th>\n",
       "      <td>tt0468569</td>\n",
       "      <td>The Gift</td>\n",
       "      <td>Elijah Wood|Ian McKellen|Viggo Mortensen|Liv T...</td>\n",
       "      <td>Steven Soderbergh</td>\n",
       "      <td>Misery loves family.</td>\n",
       "      <td>A pampered Beverly Hills chihuahua named Chloe...</td>\n",
       "      <td>Comedy</td>\n",
       "      <td>New Line Cinema</td>\n",
       "      <td>12/25/2014</td>\n",
       "    </tr>\n",
       "    <tr>\n",
       "      <th>freq</th>\n",
       "      <td>1</td>\n",
       "      <td>2</td>\n",
       "      <td>3</td>\n",
       "      <td>13</td>\n",
       "      <td>2</td>\n",
       "      <td>1</td>\n",
       "      <td>141</td>\n",
       "      <td>21</td>\n",
       "      <td>7</td>\n",
       "    </tr>\n",
       "  </tbody>\n",
       "</table>\n",
       "</div>"
      ],
      "text/plain": [
       "          imdb_id original_title  \\\n",
       "count        1889           1889   \n",
       "unique       1889           1887   \n",
       "top     tt0468569       The Gift   \n",
       "freq            1              2   \n",
       "\n",
       "                                                     cast           director  \\\n",
       "count                                                1889               1889   \n",
       "unique                                               1878                957   \n",
       "top     Elijah Wood|Ian McKellen|Viggo Mortensen|Liv T...  Steven Soderbergh   \n",
       "freq                                                    3                 13   \n",
       "\n",
       "                     tagline  \\\n",
       "count                   1889   \n",
       "unique                  1880   \n",
       "top     Misery loves family.   \n",
       "freq                       2   \n",
       "\n",
       "                                                 overview  genres  \\\n",
       "count                                                1889    1889   \n",
       "unique                                               1889     652   \n",
       "top     A pampered Beverly Hills chihuahua named Chloe...  Comedy   \n",
       "freq                                                    1     141   \n",
       "\n",
       "       production_companies release_date  \n",
       "count                  1889         1889  \n",
       "unique                 1624         1435  \n",
       "top         New Line Cinema   12/25/2014  \n",
       "freq                     21            7  "
      ]
     },
     "metadata": {},
     "output_type": "display_data"
    },
    {
     "name": "stdout",
     "output_type": "stream",
     "text": [
      "<class 'pandas.core.frame.DataFrame'>\n",
      "RangeIndex: 1889 entries, 0 to 1888\n",
      "Data columns (total 14 columns):\n",
      " #   Column                Non-Null Count  Dtype  \n",
      "---  ------                --------------  -----  \n",
      " 0   imdb_id               1889 non-null   object \n",
      " 1   budget                1889 non-null   int64  \n",
      " 2   revenue               1889 non-null   int64  \n",
      " 3   original_title        1889 non-null   object \n",
      " 4   cast                  1889 non-null   object \n",
      " 5   director              1889 non-null   object \n",
      " 6   tagline               1889 non-null   object \n",
      " 7   overview              1889 non-null   object \n",
      " 8   runtime               1889 non-null   int64  \n",
      " 9   genres                1889 non-null   object \n",
      " 10  production_companies  1889 non-null   object \n",
      " 11  release_date          1889 non-null   object \n",
      " 12  vote_average          1889 non-null   float64\n",
      " 13  release_year          1889 non-null   int64  \n",
      "dtypes: float64(1), int64(4), object(9)\n",
      "memory usage: 206.7+ KB\n"
     ]
    },
    {
     "data": {
      "text/plain": [
       "None"
      ]
     },
     "metadata": {},
     "output_type": "display_data"
    }
   ],
   "source": [
    "display(data.describe())\n",
    "display(data.describe(include = ['object']))\n",
    "display(data.info())"
   ]
  },
  {
   "cell_type": "markdown",
   "metadata": {
    "colab_type": "text",
    "id": "DTIt7ezGVp-G"
   },
   "source": [
    "# Предобработка"
   ]
  },
  {
   "cell_type": "code",
   "execution_count": 179,
   "metadata": {
    "colab": {},
    "colab_type": "code",
    "id": "jNb40DwKVp-H"
   },
   "outputs": [],
   "source": [
    "# создадим словарь для ответов\n",
    "answers = {} \n",
    "\n",
    "# Создаем новый столбец, в который записываем прибыль фильма, равную разниче между сборами и бюджетом\n",
    "data['profit'] = data.revenue - data.budget\n",
    "\n",
    "# Создаем новый столбец, в который записываем месяц выхода фильма\n",
    "data['release_month'] = pd.to_datetime(data.release_date).dt.month"
   ]
  },
  {
   "cell_type": "markdown",
   "metadata": {
    "colab_type": "text",
    "id": "YxZaH-nPVp-L"
   },
   "source": [
    "# 1. У какого фильма из списка самый большой бюджет?"
   ]
  },
  {
   "cell_type": "markdown",
   "metadata": {
    "colab_type": "text",
    "id": "Nd-G5gX6Vp-M"
   },
   "source": [
    "Использовать варианты ответов в коде решения запрещено.    \n",
    "Вы думаете и в жизни у вас будут варианты ответов?)"
   ]
  },
  {
   "cell_type": "code",
   "execution_count": 180,
   "metadata": {
    "colab": {},
    "colab_type": "code",
    "id": "uVnXAY5RVp-O"
   },
   "outputs": [],
   "source": [
    "# в словарь вставляем номер вопроса и ваш ответ на него\n",
    "# Пример: \n",
    "# answers['1'] = '2. Spider-Man 3 (tt0413300)'\n",
    "# запишите свой вариант ответа\n",
    "answers['1'] = '5. Pirates of the Caribbean: On Stranger Tides (tt1298650)'\n",
    "# если ответили верно, можете добавить комментарий со значком \"+\""
   ]
  },
  {
   "cell_type": "code",
   "execution_count": 181,
   "metadata": {
    "colab": {},
    "colab_type": "code",
    "id": "dZwb3m28Vp-S"
   },
   "outputs": [
    {
     "data": {
      "text/plain": [
       "723    Pirates of the Caribbean: On Stranger Tides\n",
       "Name: original_title, dtype: object"
      ]
     },
     "metadata": {},
     "output_type": "display_data"
    },
    {
     "data": {
      "text/plain": [
       "723    tt1298650\n",
       "Name: imdb_id, dtype: object"
      ]
     },
     "metadata": {},
     "output_type": "display_data"
    }
   ],
   "source": [
    "# тут пишем ваш код для решения данного вопроса:\n",
    "display(data[data.budget == data.budget.max()].original_title)\n",
    "display(data[data.budget == data.budget.max()].imdb_id)"
   ]
  },
  {
   "cell_type": "markdown",
   "metadata": {
    "colab_type": "text",
    "id": "K7L3nbRXVp-X"
   },
   "source": [
    "ВАРИАНТ 2"
   ]
  },
  {
   "cell_type": "code",
   "execution_count": 182,
   "metadata": {
    "colab": {},
    "colab_type": "code",
    "id": "OGaoQI7rVp-X"
   },
   "outputs": [],
   "source": [
    "# можно добавлять разные варианты решения"
   ]
  },
  {
   "cell_type": "markdown",
   "metadata": {
    "colab_type": "text",
    "id": "FNRbbI3vVp-c"
   },
   "source": [
    "# 2. Какой из фильмов самый длительный (в минутах)?"
   ]
  },
  {
   "cell_type": "code",
   "execution_count": 183,
   "metadata": {
    "colab": {},
    "colab_type": "code",
    "id": "vHAoEXNTVp-d"
   },
   "outputs": [],
   "source": [
    "# думаю логику работы с этим словарем вы уже поняли, \n",
    "# по этому не буду больше его дублировать\n",
    "answers['2'] = '2. Gods and Generals (tt0279111)'"
   ]
  },
  {
   "cell_type": "code",
   "execution_count": 184,
   "metadata": {
    "colab": {},
    "colab_type": "code",
    "id": "ot-VX2XrVp-g"
   },
   "outputs": [
    {
     "data": {
      "text/plain": [
       "1157    Gods and Generals\n",
       "Name: original_title, dtype: object"
      ]
     },
     "execution_count": 184,
     "metadata": {},
     "output_type": "execute_result"
    }
   ],
   "source": [
    "# Выводим название фильма с максимальной длительностью\n",
    "data[data.runtime == data.runtime.max()].original_title"
   ]
  },
  {
   "cell_type": "markdown",
   "metadata": {
    "colab_type": "text",
    "id": "bapLlpW8Vp-k"
   },
   "source": [
    "# 3. Какой из фильмов самый короткий (в минутах)?\n",
    "\n",
    "\n",
    "\n"
   ]
  },
  {
   "cell_type": "code",
   "execution_count": 185,
   "metadata": {
    "colab": {},
    "colab_type": "code",
    "id": "YBxaSHuAVp-l"
   },
   "outputs": [
    {
     "data": {
      "text/plain": [
       "768    Winnie the Pooh\n",
       "Name: original_title, dtype: object"
      ]
     },
     "metadata": {},
     "output_type": "display_data"
    }
   ],
   "source": [
    "# Выводим название фильма с минимальной длительностью\n",
    "display(data[data.runtime == data.runtime.min()].original_title)\n",
    "\n",
    "# Записываем в словарь ответ на третий вопрос\n",
    "answers['3'] = '3. Winnie the Pooh (tt1449283)'"
   ]
  },
  {
   "cell_type": "markdown",
   "metadata": {
    "colab_type": "text",
    "id": "TfQbxbfNVp-p"
   },
   "source": [
    "# 4. Какова средняя длительность фильмов?\n"
   ]
  },
  {
   "cell_type": "code",
   "execution_count": 186,
   "metadata": {
    "colab": {},
    "colab_type": "code",
    "id": "5K6dKZYVVp-q"
   },
   "outputs": [
    {
     "data": {
      "text/plain": [
       "110.0"
      ]
     },
     "metadata": {},
     "output_type": "display_data"
    }
   ],
   "source": [
    "# Выводим среднее значение длительности фильмов, округленное до целого значения\n",
    "display(round(data.runtime.mean(), 0))\n",
    "\n",
    "# Записываем в словарь ответ на четвертый вопрос\n",
    "answers['4'] = '2. 110'"
   ]
  },
  {
   "cell_type": "markdown",
   "metadata": {
    "colab_type": "text",
    "id": "r5TvbnT_Vp-u"
   },
   "source": [
    "# 5. Каково медианное значение длительности фильмов? "
   ]
  },
  {
   "cell_type": "code",
   "execution_count": 187,
   "metadata": {
    "colab": {},
    "colab_type": "code",
    "id": "iBROplKnVp-v"
   },
   "outputs": [
    {
     "data": {
      "text/plain": [
       "107.0"
      ]
     },
     "metadata": {},
     "output_type": "display_data"
    }
   ],
   "source": [
    "# Выводим медианное значение длительности фильмов, округленное до целого значения\n",
    "display(round(data.runtime.median(), 0))\n",
    "\n",
    "# Записываем в словарь ответ на пятый вопрос\n",
    "answers['5'] = '1. 107'"
   ]
  },
  {
   "cell_type": "markdown",
   "metadata": {
    "colab_type": "text",
    "id": "39P-deDSVp-y"
   },
   "source": [
    "# 6. Какой самый прибыльный фильм?\n",
    "#### Внимание! Здесь и далее под «прибылью» или «убытками» понимается разность между сборами и бюджетом фильма. (прибыль = сборы - бюджет) в нашем датасете это будет (profit = revenue - budget) "
   ]
  },
  {
   "cell_type": "code",
   "execution_count": 188,
   "metadata": {
    "colab": {},
    "colab_type": "code",
    "id": "UYZh4T9WVp-y"
   },
   "outputs": [
    {
     "data": {
      "text/plain": [
       "239    Avatar\n",
       "Name: original_title, dtype: object"
      ]
     },
     "metadata": {},
     "output_type": "display_data"
    }
   ],
   "source": [
    "# Выводим название фильма с максимальным значением прибыли\n",
    "display(data[data.profit == data.profit.max()].original_title)\n",
    "\n",
    "# Записываем в словарь ответ на шестой вопрос\n",
    "answers['6'] = '5. Avatar (tt0499549)'"
   ]
  },
  {
   "cell_type": "markdown",
   "metadata": {
    "colab_type": "text",
    "id": "M99JmIX4Vp-2"
   },
   "source": [
    "# 7. Какой фильм самый убыточный? "
   ]
  },
  {
   "cell_type": "code",
   "execution_count": 189,
   "metadata": {
    "colab": {},
    "colab_type": "code",
    "id": "w-D2m4XPVp-3"
   },
   "outputs": [
    {
     "data": {
      "text/plain": [
       "1245    The Lone Ranger\n",
       "Name: original_title, dtype: object"
      ]
     },
     "metadata": {},
     "output_type": "display_data"
    }
   ],
   "source": [
    "# Выводим название фильма с максимальным значением прибыли\n",
    "display(data[data.profit == data.profit.min()].original_title)\n",
    "\n",
    "# Записываем в словарь ответ на седьмой вопрос\n",
    "answers['7'] = '5. The Lone Ranger (tt1210819)'"
   ]
  },
  {
   "cell_type": "markdown",
   "metadata": {
    "colab_type": "text",
    "id": "wEOM5ERVVp-6"
   },
   "source": [
    "# 8. У скольких фильмов из датасета объем сборов оказался выше бюджета?"
   ]
  },
  {
   "cell_type": "code",
   "execution_count": 190,
   "metadata": {
    "colab": {},
    "colab_type": "code",
    "id": "y00_7HD6Vp-7"
   },
   "outputs": [
    {
     "data": {
      "text/plain": [
       "1478"
      ]
     },
     "metadata": {},
     "output_type": "display_data"
    }
   ],
   "source": [
    "# Выводим количество уникальных значений идентификаторов фильмов у который сборы превысили бюджет\n",
    "display(data[data.revenue > data.budget].imdb_id.nunique())\n",
    "\n",
    "# Записываем в словарь ответ на восьмой вопрос\n",
    "answers['8'] = '1. 1478'"
   ]
  },
  {
   "cell_type": "markdown",
   "metadata": {
    "colab_type": "text",
    "id": "xhpspA9KVp_A"
   },
   "source": [
    "# 9. Какой фильм оказался самым кассовым в 2008 году?"
   ]
  },
  {
   "cell_type": "code",
   "execution_count": 191,
   "metadata": {
    "colab": {},
    "colab_type": "code",
    "id": "MoUyQr9RVp_B"
   },
   "outputs": [
    {
     "data": {
      "text/plain": [
       "599    The Dark Knight\n",
       "Name: original_title, dtype: object"
      ]
     },
     "metadata": {},
     "output_type": "display_data"
    },
    {
     "data": {
      "text/plain": [
       "599    tt0468569\n",
       "Name: imdb_id, dtype: object"
      ]
     },
     "metadata": {},
     "output_type": "display_data"
    }
   ],
   "source": [
    "# Записываем в переменную датасет с фильмами, которые вышли в 2008 году\n",
    "a = data[data.release_year == 2008]\n",
    "\n",
    "# Из полученного датасета выводим название фильма с максимальными сборами \n",
    "display(a[a.revenue == a.revenue.max()].original_title)\n",
    "\n",
    "# Из полученного датасета выводим идентификатор фильма с максимальными сборами\n",
    "display(a[a.revenue == a.revenue.max()].imdb_id)\n",
    "\n",
    "# Записываем в словарь ответ на девятый вопрос\n",
    "answers['9'] = '4. The Dark Knight (tt0468569)'"
   ]
  },
  {
   "cell_type": "markdown",
   "metadata": {
    "colab_type": "text",
    "id": "Zi4hDKidVp_F"
   },
   "source": [
    "# 10. Самый убыточный фильм за период с 2012 по 2014 г. (включительно)?\n"
   ]
  },
  {
   "cell_type": "code",
   "execution_count": 192,
   "metadata": {
    "colab": {},
    "colab_type": "code",
    "id": "XqyRmufJVp_F"
   },
   "outputs": [
    {
     "data": {
      "text/plain": [
       "1245    The Lone Ranger\n",
       "Name: original_title, dtype: object"
      ]
     },
     "metadata": {},
     "output_type": "display_data"
    },
    {
     "data": {
      "text/plain": [
       "1245    tt1210819\n",
       "Name: imdb_id, dtype: object"
      ]
     },
     "metadata": {},
     "output_type": "display_data"
    }
   ],
   "source": [
    "# Записываем в переменную датасет с фильмами, которые вышли с 2012 по 2014 включительно\n",
    "b = data[(data.release_year >= 2012) & (data.release_year <= 2014)]\n",
    "\n",
    "# Из полученного датасета выводим название фильма с минимальной прибылью\n",
    "display(b[b.profit == b.profit.min()].original_title)\n",
    "\n",
    "# Из полученного датасета выводим идентификатор фильма с минимальной прибылью\n",
    "display(b[b.profit == b.profit.min()].imdb_id)\n",
    "\n",
    "# Записываем в словарь ответ на десятый вопрос\n",
    "answers['10'] = '5. The Lone Ranger (tt1210819)'"
   ]
  },
  {
   "cell_type": "markdown",
   "metadata": {
    "colab_type": "text",
    "id": "EA7Sa9dkVp_I"
   },
   "source": [
    "# 11. Какого жанра фильмов больше всего?"
   ]
  },
  {
   "cell_type": "code",
   "execution_count": 193,
   "metadata": {
    "colab": {},
    "colab_type": "code",
    "id": "zsJAwJ8QVp_J"
   },
   "outputs": [
    {
     "data": {
      "text/plain": [
       "'Drama'"
      ]
     },
     "metadata": {},
     "output_type": "display_data"
    }
   ],
   "source": [
    "# Копируем данные для чистоты эксперимента\n",
    "data_11 = data.copy()\n",
    "\n",
    "# Преобразовываем значения ячеек столбца 'genres' в строки, далее в список, в качестве разделителя указываем '|'\n",
    "data_11.genres = data_11.genres.apply(lambda x: str(x).split('|'))\n",
    "\n",
    "# \"Распаковываем\" списки столбца 'genres' в отдельные значения с сохранением индекса строк\n",
    "data_11 = data_11.explode('genres')\n",
    "\n",
    "# Группируем данные по жанрам, подсчитываем количество значений, сортируем в порядке убывания\n",
    "display(data_11.groupby('genres').genres.count().sort_values(ascending=False).index[0])\n",
    "\n",
    "# Записываем в словарь ответ на одиннадцатый вопрос\n",
    "answers['11'] = '3. Drama'"
   ]
  },
  {
   "cell_type": "markdown",
   "metadata": {
    "colab_type": "text",
    "id": "Ax6g2C8SVp_M"
   },
   "source": [
    "ВАРИАНТ 2"
   ]
  },
  {
   "cell_type": "code",
   "execution_count": 194,
   "metadata": {
    "colab": {},
    "colab_type": "code",
    "id": "otO3SbrSVp_N"
   },
   "outputs": [
    {
     "data": {
      "text/plain": [
       "'Drama'"
      ]
     },
     "execution_count": 194,
     "metadata": {},
     "output_type": "execute_result"
    }
   ],
   "source": [
    "# Копируем исходные данные для чистоты эксперимента\n",
    "data_g = pd.read_csv('D:\\Data Science\\Learning/movie_bd_v5.csv')\n",
    "\n",
    "'''Преобразуем все значения столбца 'genres' в единую строку(str), разделяя элементы через '|', \n",
    "    преобразовываем строку в список(list), указав в качестве разделителя '|',\n",
    "    преобразовываем список в серию(Series) и считаем количество раз, которое встречается каждый жанр из списка'''\n",
    "pd.Series(data_g.genres.str.cat(sep='|').split('|')).value_counts().index[0]"
   ]
  },
  {
   "cell_type": "markdown",
   "metadata": {
    "colab_type": "text",
    "id": "T9_bPWpkVp_Q"
   },
   "source": [
    "# 12. Фильмы какого жанра чаще всего становятся прибыльными? "
   ]
  },
  {
   "cell_type": "code",
   "execution_count": 195,
   "metadata": {
    "colab": {},
    "colab_type": "code",
    "id": "Tmt8MaK1Vp_R"
   },
   "outputs": [
    {
     "data": {
      "text/plain": [
       "'Drama'"
      ]
     },
     "metadata": {},
     "output_type": "display_data"
    }
   ],
   "source": [
    "# Копируем данные для чистоты эксперимента\n",
    "data_12 = data.copy()\n",
    "\n",
    "# Преобразовываем значения ячеек столбца 'genres' в строки, далее в список, в качестве разделителя указываем '|'\n",
    "data_12.genres = data_12.genres.apply(lambda x: str(x).split('|'))\n",
    "\n",
    "# \"Распаковываем\" списки столбца 'genres' в отдельные значения с сохранением индекса строк\n",
    "data_12 = data_12.explode('genres')\n",
    "\n",
    "# По жанрам группируем фильмы, прибыль которых больше 0, считаем их количество, значения сортируем в порядке убывания\n",
    "display(data_12[data_12.profit > 0].groupby('genres').genres.count().sort_values(ascending=False).index[0])\n",
    "\n",
    "# Записываем в словарь ответ на двенадцатый вопрос\n",
    "answers['12'] = '1. Drama'"
   ]
  },
  {
   "cell_type": "markdown",
   "metadata": {
    "colab_type": "text",
    "id": "0F23bgsDVp_U"
   },
   "source": [
    "# 13. У какого режиссера самые большие суммарные кассовые сборы?"
   ]
  },
  {
   "cell_type": "code",
   "execution_count": 196,
   "metadata": {
    "colab": {},
    "colab_type": "code",
    "id": "K6Z3J8ygVp_X"
   },
   "outputs": [
    {
     "data": {
      "text/plain": [
       "'Peter Jackson'"
      ]
     },
     "metadata": {},
     "output_type": "display_data"
    }
   ],
   "source": [
    "# Копируем данные для чистоты эксперимента\n",
    "data_13 = data.copy()\n",
    "\n",
    "# Преобразовываем значения ячеек столбца 'director' в строки, далее в список, в качестве разделителя указываем '|'\n",
    "data_13.director = data_13.director.apply(lambda x: str(x).split('|'))\n",
    "\n",
    "# \"Распаковываем\" списки столбца 'director' в отдельные значения с сохранением индекса строк\n",
    "data_13 = data_13.explode('director')\n",
    "\n",
    "# Суммируем кассовыые сборы фильмов, группируем по режиссерам, сортируем в порядке убывания, выводим индекс первой строки\n",
    "display(data_13.groupby('director').revenue.sum().sort_values(ascending=False).index[0])\n",
    "\n",
    "# Записываем в словарь ответ на тринадцатый вопрос\n",
    "answers['13'] = '5. Peter Jackson'"
   ]
  },
  {
   "cell_type": "markdown",
   "metadata": {
    "colab_type": "text",
    "id": "PsYC9FgRVp_a"
   },
   "source": [
    "# 14. Какой режисер снял больше всего фильмов в стиле Action?"
   ]
  },
  {
   "cell_type": "code",
   "execution_count": 197,
   "metadata": {
    "colab": {},
    "colab_type": "code",
    "id": "wd2M-wHeVp_b"
   },
   "outputs": [
    {
     "data": {
      "text/plain": [
       "'Robert Rodriguez'"
      ]
     },
     "metadata": {},
     "output_type": "display_data"
    }
   ],
   "source": [
    "# Копируем данные для чистоты эксперимента\n",
    "data_14 = data.copy()\n",
    "\n",
    "# Преобразовываем значения ячеек столбца 'genres' в строки, далее в список, в качестве разделителя указываем '|'\n",
    "data_14.genres = data_14.genres.apply(lambda x: str(x).split('|'))\n",
    "\n",
    "# \"Распаковываем\" списки столбца 'genres' в отдельные значения с сохранением индекса строк\n",
    "data_14 = data_14.explode('genres')\n",
    "\n",
    "# Преобразовываем значения ячеек столбца 'director' в строки, далее в список, в качестве разделителя указываем '|'\n",
    "data_14.director = data_14.director.apply(lambda x: str(x).split('|'))\n",
    "\n",
    "# \"Распаковываем\" списки столбца 'director' в отдельные значения с сохранением индекса строк\n",
    "data_14 = data_14.explode('director')\n",
    "\n",
    "# Считаем количество фильмов в жанре 'Action', группируем по режиссерам, сортируем по убыванию, выводим индекс первой строки\n",
    "display(data_14[data_14.genres == 'Action'].groupby('director').director.count().sort_values(ascending=False).index[0])\n",
    "\n",
    "# Записываем в словарь ответ на четырнадцатый вопрос\n",
    "answers['14'] = '3. Robert Rodriguez'"
   ]
  },
  {
   "cell_type": "markdown",
   "metadata": {
    "colab_type": "text",
    "id": "PQ0KciD7Vp_f"
   },
   "source": [
    "# 15. Фильмы с каким актером принесли самые высокие кассовые сборы в 2012 году? "
   ]
  },
  {
   "cell_type": "code",
   "execution_count": 198,
   "metadata": {
    "colab": {},
    "colab_type": "code",
    "id": "aga62oeKVp_g"
   },
   "outputs": [
    {
     "data": {
      "text/plain": [
       "'Chris Hemsworth'"
      ]
     },
     "metadata": {},
     "output_type": "display_data"
    }
   ],
   "source": [
    "# Копируем данные для чистоты эксперимента\n",
    "data_15 = data.copy()\n",
    "\n",
    "# Преобразовываем значения ячеек столбца 'cast' в строки, далее в список, в качестве разделителя указываем '|'\n",
    "data_15.cast = data_15.cast.apply(lambda x: str(x).split('|'))\n",
    "\n",
    "# \"Распаковываем\" списки столбца 'cast' в отдельные значения с сохранением индекса строк\n",
    "data_15 = data_15.explode('cast')\n",
    "\n",
    "display(data_15[data_15.release_year == 2012].groupby('cast').revenue.sum().sort_values(ascending=False).index[0])\n",
    "\n",
    "# Записываем в словарь ответ на четырнадцатый вопрос\n",
    "answers['15'] = '3. Chris Hemsworth'"
   ]
  },
  {
   "cell_type": "markdown",
   "metadata": {
    "colab_type": "text",
    "id": "mWHyyL7QVp_j"
   },
   "source": [
    "# 16. Какой актер снялся в большем количестве высокобюджетных фильмов?"
   ]
  },
  {
   "cell_type": "code",
   "execution_count": 199,
   "metadata": {
    "colab": {},
    "colab_type": "code",
    "id": "qQtmHKTFVp_k"
   },
   "outputs": [
    {
     "data": {
      "text/plain": [
       "'Matt Damon'"
      ]
     },
     "metadata": {},
     "output_type": "display_data"
    }
   ],
   "source": [
    "# Копируем данные для чистоты эксперимента\n",
    "data_16 = data.copy()\n",
    "\n",
    "# Преобразовываем значения ячеек столбца 'cast' в строки, далее в список, в качестве разделителя указываем '|'\n",
    "data_16.cast = data_16.cast.apply(lambda x: str(x).split('|'))\n",
    "\n",
    "# \"Распаковываем\" списки столбца 'cast' в отдельные значения с сохранением индекса строк\n",
    "data_16 = data_16.explode('cast')\n",
    "\n",
    "# Отбираем фильмы с бюджетом выше среднего, считаем количество фильмов в котором снялся каждый актер, сортируем по убыванию\n",
    "display(data_16[data_16.budget > data_16.budget.mean()].groupby('cast').imdb_id.count().sort_values(ascending=False).index[0])\n",
    "\n",
    "# Записываем в словарь ответ на шестнадцатый вопрос\n",
    "answers['16'] = '3. Matt Damon'"
   ]
  },
  {
   "cell_type": "markdown",
   "metadata": {
    "colab_type": "text",
    "id": "NIh6AaW5Vp_n"
   },
   "source": [
    "# 17. В фильмах какого жанра больше всего снимался Nicolas Cage? "
   ]
  },
  {
   "cell_type": "code",
   "execution_count": 200,
   "metadata": {
    "colab": {},
    "colab_type": "code",
    "id": "H74SJDIBVp_n"
   },
   "outputs": [
    {
     "data": {
      "text/plain": [
       "'Action'"
      ]
     },
     "metadata": {},
     "output_type": "display_data"
    }
   ],
   "source": [
    "# Копируем данные для чистоты эксперимента\n",
    "data_17 = data.copy()\n",
    "\n",
    "# Преобразовываем значения ячеек столбца 'genres' в строки, далее в список, в качестве разделителя указываем '|'\n",
    "data_17.genres = data_17.genres.apply(lambda x: str(x).split('|'))\n",
    "\n",
    "# \"Распаковываем\" списки столбца 'genres' в отдельные значения с сохранением индекса строк\n",
    "data_17 = data_17.explode('genres')\n",
    "\n",
    "# Преобразовываем значения ячеек столбца 'cast' в строки, далее в список, в качестве разделителя указываем '|'\n",
    "data_17.cast = data_17.cast.apply(lambda x: str(x).split('|'))\n",
    "\n",
    "# \"Распаковываем\" списки столбца 'cast' в отдельные значения с сохранением индекса строк\n",
    "data_17 = data_17.explode('cast')\n",
    "\n",
    "# Отбираем фильмы с участием 'Nicolas Cage', группируем по жанрам, считаем количество, сортируем по убыванию, выводим индекс первой строки\n",
    "display(data_17[data_17.cast == 'Nicolas Cage'].groupby('genres').imdb_id.count().sort_values(ascending=False).index[0])\n",
    "\n",
    "# Записываем в словарь ответ на семнадцатый вопрос\n",
    "answers['17'] = '2. Action'"
   ]
  },
  {
   "cell_type": "markdown",
   "metadata": {
    "colab_type": "text",
    "id": "RqOmPRfWVp_q"
   },
   "source": [
    "# 18. Самый убыточный фильм от Paramount Pictures"
   ]
  },
  {
   "cell_type": "code",
   "execution_count": 201,
   "metadata": {
    "colab": {},
    "colab_type": "code",
    "id": "9E_B0Y96Vp_r"
   },
   "outputs": [
    {
     "data": {
      "text/html": [
       "<div>\n",
       "<style scoped>\n",
       "    .dataframe tbody tr th:only-of-type {\n",
       "        vertical-align: middle;\n",
       "    }\n",
       "\n",
       "    .dataframe tbody tr th {\n",
       "        vertical-align: top;\n",
       "    }\n",
       "\n",
       "    .dataframe thead th {\n",
       "        text-align: right;\n",
       "    }\n",
       "</style>\n",
       "<table border=\"1\" class=\"dataframe\">\n",
       "  <thead>\n",
       "    <tr style=\"text-align: right;\">\n",
       "      <th></th>\n",
       "      <th>imdb_id</th>\n",
       "      <th>budget</th>\n",
       "      <th>revenue</th>\n",
       "      <th>original_title</th>\n",
       "      <th>cast</th>\n",
       "      <th>director</th>\n",
       "      <th>tagline</th>\n",
       "      <th>overview</th>\n",
       "      <th>runtime</th>\n",
       "      <th>genres</th>\n",
       "      <th>production_companies</th>\n",
       "      <th>release_date</th>\n",
       "      <th>vote_average</th>\n",
       "      <th>release_year</th>\n",
       "      <th>profit</th>\n",
       "      <th>release_month</th>\n",
       "    </tr>\n",
       "  </thead>\n",
       "  <tbody>\n",
       "    <tr>\n",
       "      <th>925</th>\n",
       "      <td>tt0267626</td>\n",
       "      <td>100000000</td>\n",
       "      <td>35168966</td>\n",
       "      <td>K-19: The Widowmaker</td>\n",
       "      <td>Harrison Ford|Liam Neeson|Peter Sarsgaard|Joss...</td>\n",
       "      <td>Kathryn Bigelow</td>\n",
       "      <td>Fate has found its hero.</td>\n",
       "      <td>When Russia's first nuclear submarine malfunct...</td>\n",
       "      <td>138</td>\n",
       "      <td>Thriller|Drama|History</td>\n",
       "      <td>Paramount Pictures</td>\n",
       "      <td>7/19/2002</td>\n",
       "      <td>6.0</td>\n",
       "      <td>2002</td>\n",
       "      <td>-64831034</td>\n",
       "      <td>7</td>\n",
       "    </tr>\n",
       "  </tbody>\n",
       "</table>\n",
       "</div>"
      ],
      "text/plain": [
       "       imdb_id     budget   revenue        original_title  \\\n",
       "925  tt0267626  100000000  35168966  K-19: The Widowmaker   \n",
       "\n",
       "                                                  cast         director  \\\n",
       "925  Harrison Ford|Liam Neeson|Peter Sarsgaard|Joss...  Kathryn Bigelow   \n",
       "\n",
       "                      tagline  \\\n",
       "925  Fate has found its hero.   \n",
       "\n",
       "                                              overview  runtime  \\\n",
       "925  When Russia's first nuclear submarine malfunct...      138   \n",
       "\n",
       "                     genres production_companies release_date  vote_average  \\\n",
       "925  Thriller|Drama|History   Paramount Pictures    7/19/2002           6.0   \n",
       "\n",
       "     release_year    profit  release_month  \n",
       "925          2002 -64831034              7  "
      ]
     },
     "metadata": {},
     "output_type": "display_data"
    }
   ],
   "source": [
    "# Копируем исходные данные\n",
    "data_18 = data.copy()\n",
    "\n",
    "# Преобразовываем значения ячеек столбца 'production_companies' в строки, далее в список, в качестве разделителя указываем '|'\n",
    "data_18.production_companies = data_18.production_companies.apply(lambda x: str(x).split('|'))\n",
    "\n",
    "# \"Распаковываем\" списки столбца 'production_companies' в отдельные значения с сохранением индекса строк\n",
    "data_18 = data_18.explode('production_companies')\n",
    "\n",
    "# Оставляем в датасете только фильмы компании Paramount Pictures\n",
    "data_18 = data_18[data_18.production_companies == 'Paramount Pictures']\n",
    "\n",
    "# Отбираем из датасета фильм с минимальной прибылью\n",
    "display(data_18[data_18.profit == data_18.profit.min()].head(1))\n",
    "\n",
    "# Записываем в словарь ответ на восемнадцатый вопрос\n",
    "answers['18'] = '1. K-19: The Widowmaker (tt0267626)'"
   ]
  },
  {
   "cell_type": "markdown",
   "metadata": {
    "colab_type": "text",
    "id": "vS8Ur6ddVp_u"
   },
   "source": [
    "# 19. Какой год стал самым успешным по суммарным кассовым сборам?"
   ]
  },
  {
   "cell_type": "code",
   "execution_count": 202,
   "metadata": {
    "colab": {},
    "colab_type": "code",
    "id": "Dnbt4GdIVp_v"
   },
   "outputs": [
    {
     "data": {
      "text/plain": [
       "2015"
      ]
     },
     "metadata": {},
     "output_type": "display_data"
    }
   ],
   "source": [
    "# Копируем исходные данные\n",
    "data_19 = data.copy()\n",
    "\n",
    "# Группируем по дате выхода и суммируем кассовые сборы, сортируем в порядке убывания\n",
    "display(data_19.groupby('release_year').revenue.sum().sort_values(ascending=False).index[0])\n",
    "\n",
    "# Записываем в словарь ответ на девятнадцатый вопрос\n",
    "answers['19'] = '5. 2015'"
   ]
  },
  {
   "cell_type": "markdown",
   "metadata": {
    "colab_type": "text",
    "id": "JAzJh4QAVp_z"
   },
   "source": [
    "# 20. Какой самый прибыльный год для студии Warner Bros?"
   ]
  },
  {
   "cell_type": "code",
   "execution_count": 203,
   "metadata": {
    "colab": {},
    "colab_type": "code",
    "id": "wgVu02DEVp_0"
   },
   "outputs": [
    {
     "data": {
      "text/plain": [
       "2014"
      ]
     },
     "metadata": {},
     "output_type": "display_data"
    }
   ],
   "source": [
    "# Копируем исходные данные\n",
    "data_20 = data.copy()\n",
    "\n",
    "# Преобразовываем значения ячеек столбца 'production_companies' в строки, далее в список, в качестве разделителя указываем '|'\n",
    "data_20.production_companies = data_20.production_companies.apply(lambda x: str(x).split('|'))\n",
    "\n",
    "# \"Распаковываем\" списки столбца 'production_companies' в отдельные значения с сохранением индекса строк\n",
    "data_20 = data_20.explode('production_companies')\n",
    "\n",
    "# Отбираем фильмы компаний Warner Bros, группируем по годам выпуска и суммируем прибыль\n",
    "display(data_20[data_20.production_companies.str.contains('Warner Bros')].groupby('release_year').profit.sum().sort_values(ascending=False).index[0])\n",
    "\n",
    "# Записываем в словарь ответ на двадцатый вопрос\n",
    "answers['20'] = '1. 2014'"
   ]
  },
  {
   "cell_type": "markdown",
   "metadata": {
    "colab_type": "text",
    "id": "8Im1S2HRVp_4"
   },
   "source": [
    "# 21. В каком месяце за все годы суммарно вышло больше всего фильмов?"
   ]
  },
  {
   "cell_type": "code",
   "execution_count": 204,
   "metadata": {
    "colab": {},
    "colab_type": "code",
    "id": "lev6TH7gVp_4"
   },
   "outputs": [
    {
     "data": {
      "text/plain": [
       "9"
      ]
     },
     "metadata": {},
     "output_type": "display_data"
    }
   ],
   "source": [
    "# Копируем исходные данные\n",
    "data_21 = data.copy()\n",
    "\n",
    "# Считаем количество вышедших фильмов в каждом месяце, сортируем по убыванию, показываем первый индекс в полученной серии \n",
    "display(data_21.groupby('release_month').imdb_id.count().sort_values(ascending=False).index[0])\n",
    "\n",
    "# Записываем в словарь ответ на двадцать первый вопрос\n",
    "answers['21'] = '4. Сентябрь'"
   ]
  },
  {
   "cell_type": "markdown",
   "metadata": {
    "colab_type": "text",
    "id": "uAJsZ_NeVp_7"
   },
   "source": [
    "# 22. Сколько суммарно вышло фильмов летом? (за июнь, июль, август)"
   ]
  },
  {
   "cell_type": "code",
   "execution_count": 205,
   "metadata": {
    "colab": {},
    "colab_type": "code",
    "id": "Aa-hEREoVp_8"
   },
   "outputs": [
    {
     "data": {
      "text/plain": [
       "450"
      ]
     },
     "metadata": {},
     "output_type": "display_data"
    }
   ],
   "source": [
    "# Копируем исходные данные\n",
    "data_22 = data.copy()\n",
    "\n",
    "# Отбираем фильмы, которые вышли летом, считаем их количество\n",
    "display(data_22[(data_22.release_month >= 6) & (data_22.release_month <= 8)].imdb_id.count())\n",
    "\n",
    "# Записываем в словарь ответ на двадцать второй вопрос\n",
    "answers['22'] = '2. 450'"
   ]
  },
  {
   "cell_type": "markdown",
   "metadata": {
    "colab_type": "text",
    "id": "G94ppOY1VqAA"
   },
   "source": [
    "# 23. Для какого режиссера зима – самое продуктивное время года? "
   ]
  },
  {
   "cell_type": "code",
   "execution_count": 206,
   "metadata": {
    "colab": {},
    "colab_type": "code",
    "id": "RhNTsamuVqAB"
   },
   "outputs": [
    {
     "data": {
      "text/plain": [
       "'Peter Jackson'"
      ]
     },
     "metadata": {},
     "output_type": "display_data"
    }
   ],
   "source": [
    "# Копируем исходные данные\n",
    "data_23 = data.copy()\n",
    "\n",
    "# Отбираем фильмы, которые выпущены в зимние месяцы\n",
    "data_23 = data_23[(data_23.release_month == 12) | (data_23.release_month == 1) | (data_23.release_month == 2)]\n",
    "\n",
    "# Преобразовываем значения ячеек столбца 'director' в строки, далее в список, в качестве разделителя указываем '|'\n",
    "data_23.director = data_23.director.apply(lambda x: str(x).split('|'))\n",
    "\n",
    "# \"Распаковываем\" списки столбца 'director' в отдельные значения с сохранением индекса строк\n",
    "data_23 = data_23.explode('director')\n",
    "\n",
    "# Группируем фильмы по режиссерам, считаем их количество, сортируем по убыванию, выводим индекс первой строки\n",
    "display(data_23.groupby('director').imdb_id.count().sort_values(ascending=False).index[0])\n",
    "\n",
    "# Записываем в словарь ответ на двадцать третий вопрос\n",
    "answers['23'] = '5. Peter Jackson'"
   ]
  },
  {
   "cell_type": "markdown",
   "metadata": {
    "colab_type": "text",
    "id": "RBo0JVjVVqAF"
   },
   "source": [
    "# 24. Какая студия дает самые длинные названия своим фильмам по количеству символов?"
   ]
  },
  {
   "cell_type": "code",
   "execution_count": 207,
   "metadata": {
    "colab": {},
    "colab_type": "code",
    "id": "QRGS8L0iVqAG"
   },
   "outputs": [
    {
     "data": {
      "text/plain": [
       "'Four By Two Productions'"
      ]
     },
     "metadata": {},
     "output_type": "display_data"
    }
   ],
   "source": [
    "# Копируем исходные данные\n",
    "data_24 = data.copy()\n",
    "\n",
    "# Преобразовываем значения ячеек столбца 'production_companies' в строки, далее в список, в качестве разделителя указываем '|'\n",
    "data_24.production_companies = data_24.production_companies.apply(lambda x: str(x).split('|'))\n",
    "\n",
    "# \"Распаковываем\" списки столбца 'production_companies' в отдельные значения с сохранением индекса строк\n",
    "data_24 = data_24.explode('production_companies')\n",
    "\n",
    "# Создаем новый столбец, в который сохраняем длину названия фильма\n",
    "data_24['title_length'] = data_24.original_title.str.len()\n",
    "\n",
    "# Группируем по студиям, находим среднее значение длин фильмов, сортируем в порядке убывания, выводим индекс первой строки\n",
    "display(data_24.groupby('production_companies').title_length.mean().sort_values(ascending=False).index[0])\n",
    "\n",
    "# Записываем в словарь ответ на двадцать четвертый вопрос\n",
    "answers['24'] = '5. Four By Two Productions'"
   ]
  },
  {
   "cell_type": "markdown",
   "metadata": {
    "colab_type": "text",
    "id": "9G0hbvR7VqAK"
   },
   "source": [
    "# 25. Описание фильмов какой студии в среднем самые длинные по количеству слов?"
   ]
  },
  {
   "cell_type": "code",
   "execution_count": 208,
   "metadata": {
    "colab": {},
    "colab_type": "code",
    "id": "Ge2GsLNxVqAK"
   },
   "outputs": [
    {
     "data": {
      "text/plain": [
       "'Midnight Picture Show'"
      ]
     },
     "metadata": {},
     "output_type": "display_data"
    }
   ],
   "source": [
    "# Копируем исходные данные\n",
    "data_25 = data.copy()\n",
    "\n",
    "# Преобразовываем значения ячеек столбца 'production_companies' в строки, далее в список, в качестве разделителя указываем '|'\n",
    "data_25.production_companies = data_25.production_companies.apply(lambda x: str(x).split('|'))\n",
    "\n",
    "# \"Распаковываем\" списки столбца 'production_companies' в отдельные значения с сохранением индекса строк\n",
    "data_25 = data_25.explode('production_companies')\n",
    "\n",
    "# Создаем новый столбец, в который сохраняем длину описания фильма\n",
    "data_25['overview_length'] = data_25.overview.str.len()\n",
    "\n",
    "# Группируем по студиям, находим среднее значение длин фильмов, сортируем в порядке убывания, выводим индекс первой строки\n",
    "display(data_25.groupby('production_companies').overview_length.mean().sort_values(ascending=False).index[0])\n",
    "\n",
    "# Записываем в словарь ответ на двадцать пятый вопрос\n",
    "answers['25'] = '3. Midnight Picture Show'"
   ]
  },
  {
   "cell_type": "markdown",
   "metadata": {
    "colab_type": "text",
    "id": "FJ1AFt90VqAP"
   },
   "source": [
    "# 26. Какие фильмы входят в 1 процент лучших по рейтингу? \n",
    "по vote_average"
   ]
  },
  {
   "cell_type": "code",
   "execution_count": 209,
   "metadata": {
    "colab": {},
    "colab_type": "code",
    "id": "8qmJVq4CVqAQ"
   },
   "outputs": [
    {
     "data": {
      "text/html": [
       "<div>\n",
       "<style scoped>\n",
       "    .dataframe tbody tr th:only-of-type {\n",
       "        vertical-align: middle;\n",
       "    }\n",
       "\n",
       "    .dataframe tbody tr th {\n",
       "        vertical-align: top;\n",
       "    }\n",
       "\n",
       "    .dataframe thead th {\n",
       "        text-align: right;\n",
       "    }\n",
       "</style>\n",
       "<table border=\"1\" class=\"dataframe\">\n",
       "  <thead>\n",
       "    <tr style=\"text-align: right;\">\n",
       "      <th></th>\n",
       "      <th>original_title</th>\n",
       "      <th>vote_average</th>\n",
       "    </tr>\n",
       "  </thead>\n",
       "  <tbody>\n",
       "    <tr>\n",
       "      <th>9</th>\n",
       "      <td>Inside Out</td>\n",
       "      <td>8.0</td>\n",
       "    </tr>\n",
       "    <tr>\n",
       "      <th>34</th>\n",
       "      <td>Room</td>\n",
       "      <td>8.0</td>\n",
       "    </tr>\n",
       "    <tr>\n",
       "      <th>118</th>\n",
       "      <td>Interstellar</td>\n",
       "      <td>8.0</td>\n",
       "    </tr>\n",
       "    <tr>\n",
       "      <th>119</th>\n",
       "      <td>Guardians of the Galaxy</td>\n",
       "      <td>7.9</td>\n",
       "    </tr>\n",
       "    <tr>\n",
       "      <th>125</th>\n",
       "      <td>The Imitation Game</td>\n",
       "      <td>8.0</td>\n",
       "    </tr>\n",
       "    <tr>\n",
       "      <th>128</th>\n",
       "      <td>Gone Girl</td>\n",
       "      <td>7.9</td>\n",
       "    </tr>\n",
       "    <tr>\n",
       "      <th>138</th>\n",
       "      <td>The Grand Budapest Hotel</td>\n",
       "      <td>7.9</td>\n",
       "    </tr>\n",
       "    <tr>\n",
       "      <th>370</th>\n",
       "      <td>Inception</td>\n",
       "      <td>7.9</td>\n",
       "    </tr>\n",
       "    <tr>\n",
       "      <th>599</th>\n",
       "      <td>The Dark Knight</td>\n",
       "      <td>8.1</td>\n",
       "    </tr>\n",
       "    <tr>\n",
       "      <th>872</th>\n",
       "      <td>The Pianist</td>\n",
       "      <td>7.9</td>\n",
       "    </tr>\n",
       "    <tr>\n",
       "      <th>1081</th>\n",
       "      <td>The Lord of the Rings: The Return of the King</td>\n",
       "      <td>7.9</td>\n",
       "    </tr>\n",
       "    <tr>\n",
       "      <th>1183</th>\n",
       "      <td>The Wolf of Wall Street</td>\n",
       "      <td>7.9</td>\n",
       "    </tr>\n",
       "    <tr>\n",
       "      <th>1191</th>\n",
       "      <td>12 Years a Slave</td>\n",
       "      <td>7.9</td>\n",
       "    </tr>\n",
       "    <tr>\n",
       "      <th>1800</th>\n",
       "      <td>Memento</td>\n",
       "      <td>7.9</td>\n",
       "    </tr>\n",
       "  </tbody>\n",
       "</table>\n",
       "</div>"
      ],
      "text/plain": [
       "                                     original_title  vote_average\n",
       "9                                        Inside Out           8.0\n",
       "34                                             Room           8.0\n",
       "118                                    Interstellar           8.0\n",
       "119                         Guardians of the Galaxy           7.9\n",
       "125                              The Imitation Game           8.0\n",
       "128                                       Gone Girl           7.9\n",
       "138                        The Grand Budapest Hotel           7.9\n",
       "370                                       Inception           7.9\n",
       "599                                 The Dark Knight           8.1\n",
       "872                                     The Pianist           7.9\n",
       "1081  The Lord of the Rings: The Return of the King           7.9\n",
       "1183                        The Wolf of Wall Street           7.9\n",
       "1191                               12 Years a Slave           7.9\n",
       "1800                                        Memento           7.9"
      ]
     },
     "metadata": {},
     "output_type": "display_data"
    }
   ],
   "source": [
    "# Копируем исходные данные\n",
    "data_26 = data.copy()\n",
    "\n",
    "# Отсекаем от датасета фильмы, рейтинг которых менее 99%, выводим столбцы 'original_title', 'vote_average' датасета \n",
    "display(data_26[data_26.vote_average > data_26.vote_average.quantile(0.99)][['original_title', 'vote_average']])\n",
    "\n",
    "# Записываем в словарь ответ на двадцать шестой вопрос\n",
    "answers['26'] = '1. Inside Out, The Dark Knight, 12 Years a Slave'"
   ]
  },
  {
   "cell_type": "markdown",
   "metadata": {
    "colab_type": "text",
    "id": "MdXsUXbCVqAV"
   },
   "source": [
    "# 27. Какие актеры чаще всего снимаются в одном фильме вместе?\n"
   ]
  },
  {
   "cell_type": "code",
   "execution_count": 210,
   "metadata": {},
   "outputs": [
    {
     "data": {
      "text/plain": [
       "[(('Daniel Radcliffe', 'Rupert Grint'), 8),\n",
       " (('Daniel Radcliffe', 'Emma Watson'), 8),\n",
       " (('Rupert Grint', 'Emma Watson'), 7),\n",
       " (('Ben Stiller', 'Owen Wilson'), 6),\n",
       " (('Johnny Depp', 'Helena Bonham Carter'), 6)]"
      ]
     },
     "metadata": {},
     "output_type": "display_data"
    }
   ],
   "source": [
    "# Копируем исходные данные\n",
    "data_27 = data.copy()\n",
    "\n",
    "# Преобразовываем значения ячеек столбца 'cast' в строки, далее в список, в качестве разделителя указываем '|'\n",
    "data_27.cast = data_27.cast.apply(lambda x: str(x).split('|'))\n",
    "\n",
    "# Создаем новый столбец, в котором храним списки комбинаций актеров\n",
    "data_27['cast_pairs'] = data_27.cast.apply(lambda y: list(combinations(y, 2)))\n",
    "\n",
    "# Создаем счетчик пар актеров\n",
    "pairs = Counter()\n",
    "\n",
    "# Проходим циклом по массиву\n",
    "for i in range(0, len(data_27)):\n",
    "    \n",
    "    # Увеличиваем счетчик пар результатом обработки ячейки столбца 'cast_pairs' с индексом i\n",
    "    pairs.update(Counter(data_27.cast_pairs[i]))\n",
    "\n",
    "# Выводим 5 наиболее часто встречающихся пар актеров\n",
    "display(pairs.most_common(5))\n",
    "\n",
    "# Записываем в словарь ответ на двадцать седьмой вопрос\n",
    "answers['27'] = '5. Daniel Radcliffe & Rupert Grint'"
   ]
  },
  {
   "cell_type": "markdown",
   "metadata": {
    "colab_type": "text",
    "id": "U0nONFnGVqAX"
   },
   "source": [
    "# Submission"
   ]
  },
  {
   "cell_type": "code",
   "execution_count": 211,
   "metadata": {
    "colab": {},
    "colab_type": "code",
    "id": "IfcaRO9-VqAX",
    "outputId": "0f132912-32bb-4196-c98c-abfbc4ad5a5f"
   },
   "outputs": [
    {
     "data": {
      "text/plain": [
       "{'1': '5. Pirates of the Caribbean: On Stranger Tides (tt1298650)',\n",
       " '2': '2. Gods and Generals (tt0279111)',\n",
       " '3': '3. Winnie the Pooh (tt1449283)',\n",
       " '4': '2. 110',\n",
       " '5': '1. 107',\n",
       " '6': '5. Avatar (tt0499549)',\n",
       " '7': '5. The Lone Ranger (tt1210819)',\n",
       " '8': '1. 1478',\n",
       " '9': '4. The Dark Knight (tt0468569)',\n",
       " '10': '5. The Lone Ranger (tt1210819)',\n",
       " '11': '3. Drama',\n",
       " '12': '1. Drama',\n",
       " '13': '5. Peter Jackson',\n",
       " '14': '3. Robert Rodriguez',\n",
       " '15': '3. Chris Hemsworth',\n",
       " '16': '3. Matt Damon',\n",
       " '17': '2. Action',\n",
       " '18': '1. K-19: The Widowmaker (tt0267626)',\n",
       " '19': '5. 2015',\n",
       " '20': '1. 2014',\n",
       " '21': '4. Сентябрь',\n",
       " '22': '2. 450',\n",
       " '23': '5. Peter Jackson',\n",
       " '24': '5. Four By Two Productions',\n",
       " '25': '3. Midnight Picture Show',\n",
       " '26': '1. Inside Out, The Dark Knight, 12 Years a Slave',\n",
       " '27': '5. Daniel Radcliffe & Rupert Grint'}"
      ]
     },
     "execution_count": 211,
     "metadata": {},
     "output_type": "execute_result"
    }
   ],
   "source": [
    "# в конце можно посмотреть свои ответы к каждому вопросу\n",
    "answers"
   ]
  },
  {
   "cell_type": "code",
   "execution_count": 212,
   "metadata": {
    "colab": {},
    "colab_type": "code",
    "id": "SiRmHPl8VqAd"
   },
   "outputs": [
    {
     "data": {
      "text/plain": [
       "27"
      ]
     },
     "execution_count": 212,
     "metadata": {},
     "output_type": "execute_result"
    }
   ],
   "source": [
    "# и убедиться что ни чего не пропустил)\n",
    "len(answers)"
   ]
  },
  {
   "cell_type": "code",
   "execution_count": 0,
   "metadata": {
    "colab": {},
    "colab_type": "code",
    "id": "uCfuTkRbVqAg"
   },
   "outputs": [],
   "source": []
  },
  {
   "cell_type": "code",
   "execution_count": 0,
   "metadata": {
    "colab": {},
    "colab_type": "code",
    "id": "Vwx3NrkSVqAl"
   },
   "outputs": [],
   "source": []
  }
 ],
 "metadata": {
  "colab": {
   "name": "Copy of [SF-DST] Movies IMBD v4.1 TEMPLATE.ipynb",
   "provenance": []
  },
  "kernelspec": {
   "display_name": "Python 3",
   "language": "python",
   "name": "python3"
  },
  "language_info": {
   "codemirror_mode": {
    "name": "ipython",
    "version": 3
   },
   "file_extension": ".py",
   "mimetype": "text/x-python",
   "name": "python",
   "nbconvert_exporter": "python",
   "pygments_lexer": "ipython3",
   "version": "3.8.8"
  }
 },
 "nbformat": 4,
 "nbformat_minor": 1
}
