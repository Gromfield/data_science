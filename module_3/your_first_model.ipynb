{
 "cells": [
  {
   "cell_type": "markdown",
   "metadata": {},
   "source": [
    "# Загрузка Pandas и очистка данных"
   ]
  },
  {
   "cell_type": "code",
   "execution_count": 21,
   "metadata": {},
   "outputs": [],
   "source": [
    "import pandas as pd\n",
    "from ast import literal_eval\n",
    "import numpy as np\n",
    "import re"
   ]
  },
  {
   "cell_type": "code",
   "execution_count": 22,
   "metadata": {},
   "outputs": [],
   "source": [
    "df = pd.read_csv('main_task_new.csv')"
   ]
  },
  {
   "cell_type": "code",
   "execution_count": 23,
   "metadata": {},
   "outputs": [],
   "source": [
    "# Создаем функцию для заполнения dummie-атрибутов стилей кухни\n",
    "def fill_dummie_cuisine_style(row):\n",
    "    for cuisine in row['Cuisine Style']:\n",
    "        row[cuisine] = 1\n",
    "    return row\n",
    "\n",
    "\n",
    "# Функция разбиения дат на 2 столбца\n",
    "def date_split(row):\n",
    "    if len(row['Reviews_date']) == 2:\n",
    "        return row['Reviews_date'][0], row['Reviews_date'][1]\n",
    "    elif len(row['Reviews_date']) == 1:\n",
    "        return row['Reviews_date'][0], np.nan\n",
    "    else:\n",
    "        return np.nan,np.nan"
   ]
  },
  {
   "cell_type": "code",
   "execution_count": 24,
   "metadata": {},
   "outputs": [
    {
     "name": "stderr",
     "output_type": "stream",
     "text": [
      "C:\\Users\\gromf\\anaconda3\\lib\\site-packages\\pandas\\core\\frame.py:4462: SettingWithCopyWarning: \n",
      "A value is trying to be set on a copy of a slice from a DataFrame\n",
      "\n",
      "See the caveats in the documentation: https://pandas.pydata.org/pandas-docs/stable/user_guide/indexing.html#returning-a-view-versus-a-copy\n",
      "  return super().fillna(\n"
     ]
    }
   ],
   "source": [
    "# Заполняем пропуски 'Price Range' значением '$$ - $$$'. Создаем dummie-атрибуты из 'Price Range'\n",
    "df['Price Range'].fillna('$$ - $$$', inplace=True)\n",
    "df = pd.concat([df, pd.get_dummies(df['Price Range'])], axis=1)\n",
    "\n",
    "# Создаем dummie-атрибуты из 'City'\n",
    "df = pd.concat([df, pd.get_dummies(df.City, dummy_na=True)], axis=1)\n",
    "\n",
    "# Заполняем пропуски стилей кухонь 'Other' и преобразуем строки в списки \n",
    "df['Cuisine Style'].fillna(\"['Other']\", inplace=True)\n",
    "df['Cuisine Style'] = df['Cuisine Style'].apply(literal_eval)\n",
    "\n",
    "# Создаем новый атрибут \"количество стилей кухни\"\n",
    "df['Cuisine_Style_count'] = df['Cuisine Style'].apply(len)\n",
    "\n",
    "# Создаем новый признак, в котором отмечаем строки, в которых были пропуски в столбце 'Number of Reviews'\n",
    "df['Number_of_Reviews_isNAN'] = pd.isna(df['Number of Reviews']).astype('uint8')\n",
    "\n",
    "# Заполняем пропуски 'Number of Reviews' средним значением\n",
    "df['Number of Reviews'].fillna(np.mean(df['Number of Reviews']), inplace=True)\n",
    "\n",
    "# Заполняем dummie-атрибуты стилей кухни единицами\n",
    "df = df.apply(fill_dummie_cuisine_style, axis=1)\n",
    "\n",
    "# Создаем шаблон для поиска дат в тексте отзывов\n",
    "pattern = re.compile('\\'\\d+\\/\\d+\\/\\d+\\'?')  \n",
    "# выводим даты в отзывах в отдельный столбец\n",
    "df['Reviews_date'] = df['Reviews'].apply(pattern.findall)\n",
    "# трансформируем содержание столбца в формат datetime\n",
    "df['Reviews_date'] = df['Reviews_date'].apply(lambda x: sorted([pd.to_datetime(i).date() for i in x]))\n",
    "# Создаем новые признаки, которые заполняем значениями дат\n",
    "df[['date_1', 'date_2']] = df[['Reviews_date']].apply(date_split, axis=1, result_type='expand')\n",
    "# Заколняем пропуски в 'date_1', 'date_2' на '0'\n",
    "df[['date_1', 'date_2']].fillna(0,inplace=True)\n",
    "# Вычисляем разницу между датами\n",
    "df['date_dif'] = df['date_2'] - df['date_1']\n",
    "# Приводим разницу между датами в формат чисел\n",
    "df['date_dif'] = pd.to_numeric(df['date_dif'])\n",
    "\n",
    "# Удаляем лишние столбцы\n",
    "df = df.drop(['Restaurant_id', 'City', 'Cuisine Style', 'Price Range', 'Reviews', 'URL_TA', 'ID_TA', \n",
    "              'Reviews_date', 'date_1', 'date_2'], axis=1)\n",
    "\n",
    "# Заполняем пропуски нулями\n",
    "df = df.fillna(0)"
   ]
  },
  {
   "cell_type": "markdown",
   "metadata": {},
   "source": [
    "# Разбиваем датафрейм на части, необходимые для обучения и тестирования модели"
   ]
  },
  {
   "cell_type": "code",
   "execution_count": 25,
   "metadata": {},
   "outputs": [],
   "source": [
    "# Х - данные с информацией о ресторанах, у - целевая переменная (рейтинги ресторанов)\n",
    "X = df.drop(['Rating'], axis = 1)\n",
    "y = df['Rating']"
   ]
  },
  {
   "cell_type": "code",
   "execution_count": 11,
   "metadata": {},
   "outputs": [],
   "source": [
    "# Загружаем специальный инструмент для разбивки:\n",
    "from sklearn.model_selection import train_test_split"
   ]
  },
  {
   "cell_type": "code",
   "execution_count": 26,
   "metadata": {},
   "outputs": [],
   "source": [
    "# Наборы данных с меткой \"train\" будут использоваться для обучения модели, \"test\" - для тестирования.\n",
    "# Для тестирования мы будем использовать 25% от исходного датасета.\n",
    "X_train, X_test, y_train, y_test = train_test_split(X, y, test_size=0.25)"
   ]
  },
  {
   "cell_type": "markdown",
   "metadata": {},
   "source": [
    "# Создаём, обучаем и тестируем модель"
   ]
  },
  {
   "cell_type": "code",
   "execution_count": 13,
   "metadata": {},
   "outputs": [],
   "source": [
    "# Импортируем необходимые библиотеки:\n",
    "from sklearn.ensemble import RandomForestRegressor # инструмент для создания и обучения модели\n",
    "from sklearn import metrics # инструменты для оценки точности модели"
   ]
  },
  {
   "cell_type": "code",
   "execution_count": 27,
   "metadata": {},
   "outputs": [],
   "source": [
    "# Создаём модель\n",
    "regr = RandomForestRegressor(n_estimators=100)\n",
    "\n",
    "# Обучаем модель на тестовом наборе данных\n",
    "regr.fit(X_train, y_train)\n",
    "\n",
    "# Используем обученную модель для предсказания рейтинга ресторанов в тестовой выборке.\n",
    "# Предсказанные значения записываем в переменную y_pred\n",
    "y_pred = regr.predict(X_test)"
   ]
  },
  {
   "cell_type": "code",
   "execution_count": 28,
   "metadata": {},
   "outputs": [
    {
     "name": "stdout",
     "output_type": "stream",
     "text": [
      "MAE: 0.21524649999999998\n"
     ]
    }
   ],
   "source": [
    "# Сравниваем предсказанные значения (y_pred) с реальными (y_test), и смотрим насколько они в среднем отличаются\n",
    "# Метрика называется Mean Absolute Error (MAE) и показывает среднее отклонение предсказанных значений от фактических.\n",
    "print('MAE:', metrics.mean_absolute_error(y_test, y_pred))"
   ]
  },
  {
   "cell_type": "code",
   "execution_count": null,
   "metadata": {},
   "outputs": [],
   "source": []
  }
 ],
 "metadata": {
  "kernelspec": {
   "display_name": "Python 3",
   "language": "python",
   "name": "python3"
  },
  "language_info": {
   "codemirror_mode": {
    "name": "ipython",
    "version": 3
   },
   "file_extension": ".py",
   "mimetype": "text/x-python",
   "name": "python",
   "nbconvert_exporter": "python",
   "pygments_lexer": "ipython3",
   "version": "3.8.8"
  }
 },
 "nbformat": 4,
 "nbformat_minor": 2
}
