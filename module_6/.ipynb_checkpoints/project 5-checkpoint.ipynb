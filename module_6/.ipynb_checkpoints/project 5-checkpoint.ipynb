{
 "cells": [
  {
   "cell_type": "markdown",
   "id": "a087063b",
   "metadata": {},
   "source": [
    "# Прогнозирование стоимости автомобиля по характеристикам\n",
    "\n",
    "## Попытки парсинга\n",
    "После 3 дней неудачных попыток парсинга с auto.ru, на вебинаре сказали, что на эту часть работы сейчас лучше не тратить время, а взять готовый датасет."
   ]
  },
  {
   "cell_type": "code",
   "execution_count": 269,
   "id": "ebf60ac8",
   "metadata": {},
   "outputs": [],
   "source": [
    "import pandas as pd\n",
    "import numpy as np\n",
    "import json\n",
    "import statistics as st\n",
    "import math\n",
    "import pprint\n",
    "import matplotlib.pyplot as plt\n",
    "import seaborn as sns\n",
    "\n",
    "from sklearn.preprocessing import LabelEncoder, StandardScaler\n",
    "from sklearn.model_selection import train_test_split\n",
    "from sklearn.linear_model import LinearRegression\n",
    "from sklearn.metrics import mean_absolute_percentage_error as mape\n",
    "from catboost import CatBoostRegressor\n",
    "from sklearn.tree import DecisionTreeRegressor\n",
    "from sklearn.ensemble import RandomForestRegressor\n",
    "from sklearn.model_selection import RandomizedSearchCV\n",
    "from sklearn.ensemble import ExtraTreesRegressor\n",
    "from sklearn.ensemble import BaggingRegressor\n",
    "import xgboost as xgb\n",
    "from sklearn.ensemble import StackingRegressor\n",
    "\n",
    "import warnings\n",
    "warnings.filterwarnings(\"ignore\")"
   ]
  },
  {
   "cell_type": "markdown",
   "id": "a1c879d1",
   "metadata": {},
   "source": [
    "### Функции"
   ]
  },
  {
   "cell_type": "code",
   "execution_count": 2,
   "id": "2c8f77a2",
   "metadata": {},
   "outputs": [],
   "source": [
    "# Функция, которая ищет количество пересечений уникальных значений двух признаков\n",
    "def intersection_count(col1,col2):   \n",
    "    col1_set = set(col1.astype(str).unique())\n",
    "    col2_set = set(col2.astype(str).unique())\n",
    "    intersection = col1_set.intersection(col2_set)\n",
    "    print('Длина первого списка:', len(col1_set), \n",
    "          '\\nДлина второго списка:', len(col2_set), \n",
    "          '\\nКоличество пересечений:', len(intersection))\n",
    "    \n",
    "    \n",
    "# Функция извлекает список комплектации из тестовой выборки и заполняет пропуски пустыми списками []\n",
    "def get_options_dict(value):\n",
    "    s = str(value)\n",
    "    if s =='nan':\n",
    "        return [] # если значение пропущено, возвращаем пустой список\n",
    "    return json.loads(value)['available_options']\n",
    "\n",
    "\n",
    "# Функция заполняет пропуски пустыми списками [], или возвращяет значение ячейки\n",
    "def get_options_list(value):\n",
    "    s = str(value)\n",
    "    if s =='nan':\n",
    "        return []\n",
    "    return eval(value)\n",
    "\n",
    "\n",
    "# Функция для создания dummie-переменных для опций\n",
    "def dummie_options(df, option_list):\n",
    "    for option in option_list:\n",
    "        df['OPTION_' + option] = df.complectation_dict.map(lambda x: int(option in x))\n",
    "\n",
    "\n",
    "# Функция удаления единиц измерения объема двигателя и мощности и замены пропущенных значений на np.nan\n",
    "def measure_remove(value):\n",
    "    value = str(value).split(' ')[0]\n",
    "    if value == 'nan' or value =='' or value == 'undefined':\n",
    "        return np.nan\n",
    "    return float(value)\n",
    "\n",
    "\n",
    "# Функция заполнения пропущенных значений в df на наиболее часто встречающимся значением\n",
    "def fill_na_mode(df, column):\n",
    "    mode = st.mode(df[column])\n",
    "    df[column] = df[column].fillna(mode)\n",
    "    \n",
    "    \n",
    "# Функция замены длительности владения на количество месяцев\n",
    "def num_of_months(row):\n",
    "    if pd.notnull(row) and row != 'no_data':\n",
    "        list_ownership = row.split()  # разделяем строку на список из месяца и лет\n",
    "        if len(list_ownership) == 2:  # если содержится информация только про годы\n",
    "            if list_ownership[1] in ['год', 'года', 'лет']:\n",
    "                return int(list_ownership[0])*12\n",
    "            return int(list_ownership[0])  # переводим год в месяцы\n",
    "        return int(list_ownership[0])*12 + int(list_ownership[3])"
   ]
  },
  {
   "cell_type": "markdown",
   "id": "e5f9d8fa",
   "metadata": {},
   "source": [
    "## Данные"
   ]
  },
  {
   "cell_type": "code",
   "execution_count": 3,
   "id": "b64705ef",
   "metadata": {},
   "outputs": [],
   "source": [
    "train_df = pd.read_csv('train.csv')\n",
    "test_df = pd.read_csv('test.csv')"
   ]
  },
  {
   "cell_type": "code",
   "execution_count": 4,
   "id": "8ae7ae01",
   "metadata": {},
   "outputs": [
    {
     "name": "stdout",
     "output_type": "stream",
     "text": [
      "<class 'pandas.core.frame.DataFrame'>\n",
      "RangeIndex: 130201 entries, 0 to 130200\n",
      "Data columns (total 36 columns):\n",
      " #   Column                Non-Null Count   Dtype  \n",
      "---  ------                --------------   -----  \n",
      " 0   bodyType              129986 non-null  object \n",
      " 1   brand                 129988 non-null  object \n",
      " 2   car_url               129969 non-null  object \n",
      " 3   color                 129988 non-null  object \n",
      " 4   complectation_dict    105267 non-null  object \n",
      " 5   description           129988 non-null  object \n",
      " 6   engineDisplacement    129988 non-null  object \n",
      " 7   enginePower           129988 non-null  object \n",
      " 8   equipment_dict        129969 non-null  object \n",
      " 9   fuelType              129986 non-null  object \n",
      " 10  image                 130065 non-null  object \n",
      " 11  mileage               103034 non-null  float64\n",
      " 12  modelDate             129986 non-null  float64\n",
      " 13  model_info            0 non-null       float64\n",
      " 14  model_name            103034 non-null  object \n",
      " 15  name                  130153 non-null  object \n",
      " 16  numberOfDoors         129987 non-null  float64\n",
      " 17  parsing_unixtime      130154 non-null  float64\n",
      " 18  priceCurrency         130153 non-null  object \n",
      " 19  productionDate        129988 non-null  float64\n",
      " 20  sell_id               129969 non-null  float64\n",
      " 21  super_gen             130135 non-null  object \n",
      " 22  vehicleConfiguration  129987 non-null  object \n",
      " 23  vehicleTransmission   129986 non-null  object \n",
      " 24  vendor                0 non-null       float64\n",
      " 25  Владельцы             103034 non-null  object \n",
      " 26  Владение              14286 non-null   object \n",
      " 27  ПТС                   103034 non-null  object \n",
      " 28  Привод                103032 non-null  object \n",
      " 29  Руль                  103033 non-null  object \n",
      " 30  Состояние             103032 non-null  object \n",
      " 31  Таможня               103030 non-null  object \n",
      " 32  views                 101998 non-null  float64\n",
      " 33  date_added            103034 non-null  object \n",
      " 34  region                103034 non-null  object \n",
      " 35  price                 109765 non-null  float64\n",
      "dtypes: float64(10), object(26)\n",
      "memory usage: 35.8+ MB\n"
     ]
    }
   ],
   "source": [
    "train_df.info()"
   ]
  },
  {
   "cell_type": "code",
   "execution_count": 5,
   "id": "e138a623",
   "metadata": {},
   "outputs": [
    {
     "name": "stdout",
     "output_type": "stream",
     "text": [
      "<class 'pandas.core.frame.DataFrame'>\n",
      "RangeIndex: 34686 entries, 0 to 34685\n",
      "Data columns (total 32 columns):\n",
      " #   Column                Non-Null Count  Dtype \n",
      "---  ------                --------------  ----- \n",
      " 0   bodyType              34686 non-null  object\n",
      " 1   brand                 34686 non-null  object\n",
      " 2   car_url               34686 non-null  object\n",
      " 3   color                 34686 non-null  object\n",
      " 4   complectation_dict    6418 non-null   object\n",
      " 5   description           34686 non-null  object\n",
      " 6   engineDisplacement    34686 non-null  object\n",
      " 7   enginePower           34686 non-null  object\n",
      " 8   equipment_dict        24690 non-null  object\n",
      " 9   fuelType              34686 non-null  object\n",
      " 10  image                 34686 non-null  object\n",
      " 11  mileage               34686 non-null  int64 \n",
      " 12  modelDate             34686 non-null  int64 \n",
      " 13  model_info            34686 non-null  object\n",
      " 14  model_name            34686 non-null  object\n",
      " 15  name                  34686 non-null  object\n",
      " 16  numberOfDoors         34686 non-null  int64 \n",
      " 17  parsing_unixtime      34686 non-null  int64 \n",
      " 18  priceCurrency         34686 non-null  object\n",
      " 19  productionDate        34686 non-null  int64 \n",
      " 20  sell_id               34686 non-null  int64 \n",
      " 21  super_gen             34686 non-null  object\n",
      " 22  vehicleConfiguration  34686 non-null  object\n",
      " 23  vehicleTransmission   34686 non-null  object\n",
      " 24  vendor                34686 non-null  object\n",
      " 25  Владельцы             34686 non-null  object\n",
      " 26  Владение              11995 non-null  object\n",
      " 27  ПТС                   34685 non-null  object\n",
      " 28  Привод                34686 non-null  object\n",
      " 29  Руль                  34686 non-null  object\n",
      " 30  Состояние             34686 non-null  object\n",
      " 31  Таможня               34686 non-null  object\n",
      "dtypes: int64(6), object(26)\n",
      "memory usage: 8.5+ MB\n"
     ]
    }
   ],
   "source": [
    "test_df.info()"
   ]
  },
  {
   "cell_type": "code",
   "execution_count": 6,
   "id": "a2b6d760",
   "metadata": {},
   "outputs": [
    {
     "data": {
      "text/plain": [
       "['region', 'price', 'date_added', 'views']"
      ]
     },
     "execution_count": 6,
     "metadata": {},
     "output_type": "execute_result"
    }
   ],
   "source": [
    "# Выводим разницу в столбцах между тренировочной и тестовой выборками\n",
    "list(set(train_df.columns).difference(test_df.columns))"
   ]
  },
  {
   "cell_type": "code",
   "execution_count": 7,
   "id": "8a49f161",
   "metadata": {},
   "outputs": [
    {
     "name": "stdout",
     "output_type": "stream",
     "text": [
      "<class 'pandas.core.frame.DataFrame'>\n",
      "RangeIndex: 130201 entries, 0 to 130200\n",
      "Data columns (total 33 columns):\n",
      " #   Column                Non-Null Count   Dtype  \n",
      "---  ------                --------------   -----  \n",
      " 0   bodyType              129986 non-null  object \n",
      " 1   brand                 129988 non-null  object \n",
      " 2   car_url               129969 non-null  object \n",
      " 3   color                 129988 non-null  object \n",
      " 4   complectation_dict    105267 non-null  object \n",
      " 5   description           129988 non-null  object \n",
      " 6   engineDisplacement    129988 non-null  object \n",
      " 7   enginePower           129988 non-null  object \n",
      " 8   equipment_dict        129969 non-null  object \n",
      " 9   fuelType              129986 non-null  object \n",
      " 10  image                 130065 non-null  object \n",
      " 11  mileage               103034 non-null  float64\n",
      " 12  modelDate             129986 non-null  float64\n",
      " 13  model_info            0 non-null       float64\n",
      " 14  model_name            103034 non-null  object \n",
      " 15  name                  130153 non-null  object \n",
      " 16  numberOfDoors         129987 non-null  float64\n",
      " 17  parsing_unixtime      130154 non-null  float64\n",
      " 18  priceCurrency         130153 non-null  object \n",
      " 19  productionDate        129988 non-null  float64\n",
      " 20  sell_id               129969 non-null  float64\n",
      " 21  super_gen             130135 non-null  object \n",
      " 22  vehicleConfiguration  129987 non-null  object \n",
      " 23  vehicleTransmission   129986 non-null  object \n",
      " 24  vendor                0 non-null       float64\n",
      " 25  Владельцы             103034 non-null  object \n",
      " 26  Владение              14286 non-null   object \n",
      " 27  ПТС                   103034 non-null  object \n",
      " 28  Привод                103032 non-null  object \n",
      " 29  Руль                  103033 non-null  object \n",
      " 30  Состояние             103032 non-null  object \n",
      " 31  Таможня               103030 non-null  object \n",
      " 32  price                 109765 non-null  float64\n",
      "dtypes: float64(9), object(24)\n",
      "memory usage: 32.8+ MB\n"
     ]
    }
   ],
   "source": [
    "# Убираем колонки, которых нет в тестовой выборке и которые не являются целевой переменной\n",
    "train_df = train_df.drop(columns = ['views', 'region', 'date_added'])\n",
    "train_df.info()"
   ]
  },
  {
   "cell_type": "markdown",
   "id": "878791fd",
   "metadata": {},
   "source": [
    "## Пропуски в данных"
   ]
  },
  {
   "cell_type": "code",
   "execution_count": 8,
   "id": "3a42477f",
   "metadata": {},
   "outputs": [
    {
     "data": {
      "text/plain": [
       "bodyType                   215\n",
       "brand                      213\n",
       "car_url                    232\n",
       "color                      213\n",
       "complectation_dict       24934\n",
       "description                213\n",
       "engineDisplacement         213\n",
       "enginePower                213\n",
       "equipment_dict             232\n",
       "fuelType                   215\n",
       "image                      136\n",
       "mileage                  27167\n",
       "modelDate                  215\n",
       "model_info              130201\n",
       "model_name               27167\n",
       "name                        48\n",
       "numberOfDoors              214\n",
       "parsing_unixtime            47\n",
       "priceCurrency               48\n",
       "productionDate             213\n",
       "sell_id                    232\n",
       "super_gen                   66\n",
       "vehicleConfiguration       214\n",
       "vehicleTransmission        215\n",
       "vendor                  130201\n",
       "Владельцы                27167\n",
       "Владение                115915\n",
       "ПТС                      27167\n",
       "Привод                   27169\n",
       "Руль                     27168\n",
       "Состояние                27169\n",
       "Таможня                  27171\n",
       "price                    20436\n",
       "dtype: int64"
      ]
     },
     "execution_count": 8,
     "metadata": {},
     "output_type": "execute_result"
    }
   ],
   "source": [
    "# Выводим сумму пропущенных значений в каждом из столбцов массива train\n",
    "train_df.isnull().sum()"
   ]
  },
  {
   "cell_type": "code",
   "execution_count": 9,
   "id": "0f3d92c3",
   "metadata": {},
   "outputs": [
    {
     "data": {
      "text/plain": [
       "bodyType                    0\n",
       "brand                       0\n",
       "car_url                     0\n",
       "color                       0\n",
       "complectation_dict      28268\n",
       "description                 0\n",
       "engineDisplacement          0\n",
       "enginePower                 0\n",
       "equipment_dict           9996\n",
       "fuelType                    0\n",
       "image                       0\n",
       "mileage                     0\n",
       "modelDate                   0\n",
       "model_info                  0\n",
       "model_name                  0\n",
       "name                        0\n",
       "numberOfDoors               0\n",
       "parsing_unixtime            0\n",
       "priceCurrency               0\n",
       "productionDate              0\n",
       "sell_id                     0\n",
       "super_gen                   0\n",
       "vehicleConfiguration        0\n",
       "vehicleTransmission         0\n",
       "vendor                      0\n",
       "Владельцы                   0\n",
       "Владение                22691\n",
       "ПТС                         1\n",
       "Привод                      0\n",
       "Руль                        0\n",
       "Состояние                   0\n",
       "Таможня                     0\n",
       "dtype: int64"
      ]
     },
     "execution_count": 9,
     "metadata": {},
     "output_type": "execute_result"
    }
   ],
   "source": [
    "# Выводим сумму пропущенных значений в каждом из столбцов массива test\n",
    "test_df.isnull().sum()"
   ]
  },
  {
   "cell_type": "markdown",
   "id": "4e1e6d29",
   "metadata": {},
   "source": [
    "## bodyType"
   ]
  },
  {
   "cell_type": "code",
   "execution_count": 10,
   "id": "d5fb2fb8",
   "metadata": {},
   "outputs": [
    {
     "data": {
      "text/plain": [
       "внедорожник 5 дв.          75068\n",
       "седан                      31879\n",
       "лифтбек                     6396\n",
       "минивэн                     3820\n",
       "хэтчбек 5 дв.               3708\n",
       "купе                        2706\n",
       "универсал 5 дв.             1801\n",
       "пикап двойная кабина        1512\n",
       "компактвэн                  1476\n",
       "хэтчбек 3 дв.                704\n",
       "фургон                       565\n",
       "внедорожник 3 дв.             99\n",
       "кабриолет                     85\n",
       "купе-хардтоп                  64\n",
       "родстер                       49\n",
       "микровэн                      30\n",
       "пикап полуторная кабина        9\n",
       "пикап одинарная кабина         9\n",
       "седан-хардтоп                  3\n",
       "внедорожник открытый           2\n",
       "лимузин                        1\n",
       "Name: bodyType, dtype: int64"
      ]
     },
     "execution_count": 10,
     "metadata": {},
     "output_type": "execute_result"
    }
   ],
   "source": [
    "train_df['bodyType'].value_counts()"
   ]
  },
  {
   "cell_type": "code",
   "execution_count": 11,
   "id": "5f90d7b6",
   "metadata": {},
   "outputs": [
    {
     "data": {
      "text/plain": [
       "седан                      13147\n",
       "внедорожник 5 дв.          12228\n",
       "лифтбек                     2232\n",
       "хэтчбек 5 дв.               2124\n",
       "универсал 5 дв.             1276\n",
       "минивэн                      995\n",
       "купе                         824\n",
       "компактвэн                   489\n",
       "хэтчбек 3 дв.                485\n",
       "пикап двойная кабина         280\n",
       "купе-хардтоп                 158\n",
       "внедорожник 3 дв.            115\n",
       "родстер                       99\n",
       "фургон                        97\n",
       "кабриолет                     90\n",
       "седан-хардтоп                 12\n",
       "микровэн                       7\n",
       "седан 2 дв.                    6\n",
       "лимузин                        6\n",
       "пикап полуторная кабина        5\n",
       "пикап одинарная кабина         5\n",
       "внедорожник открытый           3\n",
       "тарга                          2\n",
       "фастбек                        1\n",
       "Name: bodyType, dtype: int64"
      ]
     },
     "execution_count": 11,
     "metadata": {},
     "output_type": "execute_result"
    }
   ],
   "source": [
    "test_df['bodyType'].value_counts()"
   ]
  },
  {
   "cell_type": "code",
   "execution_count": 12,
   "id": "2723783a",
   "metadata": {},
   "outputs": [
    {
     "data": {
      "text/plain": [
       "bodyType_не_заполнен    215\n",
       "Name: bodyType, dtype: int64"
      ]
     },
     "execution_count": 12,
     "metadata": {},
     "output_type": "execute_result"
    }
   ],
   "source": [
    "# Заполняем пропуски bodyType в обучающей выборке\n",
    "train_df['bodyType'] = train_df['bodyType'].fillna(value=('bodyType_не_заполнен'))\n",
    "train_df[train_df['bodyType'] == 'bodyType_не_заполнен']['bodyType'].value_counts()"
   ]
  },
  {
   "cell_type": "markdown",
   "id": "5d836d23",
   "metadata": {},
   "source": [
    "## brand"
   ]
  },
  {
   "cell_type": "code",
   "execution_count": 13,
   "id": "663f75c2",
   "metadata": {},
   "outputs": [
    {
     "data": {
      "text/plain": [
       "TOYOTA        20117\n",
       "VOLKSWAGEN    18005\n",
       "MERCEDES      17478\n",
       "NISSAN        16534\n",
       "BMW           15158\n",
       "MITSUBISHI    10355\n",
       "AUDI          10252\n",
       "SKODA          8545\n",
       "HONDA          4626\n",
       "LEXUS          3842\n",
       "VOLVO          3521\n",
       "INFINITI       1555\n",
       "Name: brand, dtype: int64"
      ]
     },
     "execution_count": 13,
     "metadata": {},
     "output_type": "execute_result"
    }
   ],
   "source": [
    "train_df['brand'].value_counts()"
   ]
  },
  {
   "cell_type": "code",
   "execution_count": 14,
   "id": "5e2f2238",
   "metadata": {},
   "outputs": [
    {
     "data": {
      "text/plain": [
       "BMW           4473\n",
       "VOLKSWAGEN    4404\n",
       "NISSAN        4393\n",
       "MERCEDES      4180\n",
       "TOYOTA        3913\n",
       "AUDI          3421\n",
       "MITSUBISHI    2843\n",
       "SKODA         2741\n",
       "VOLVO         1463\n",
       "HONDA         1150\n",
       "INFINITI       871\n",
       "LEXUS          834\n",
       "Name: brand, dtype: int64"
      ]
     },
     "execution_count": 14,
     "metadata": {},
     "output_type": "execute_result"
    }
   ],
   "source": [
    "test_df['brand'].value_counts()"
   ]
  },
  {
   "cell_type": "code",
   "execution_count": 15,
   "id": "b8478cbb",
   "metadata": {},
   "outputs": [
    {
     "data": {
      "text/plain": [
       "brand_не_заполнен    213\n",
       "Name: brand, dtype: int64"
      ]
     },
     "execution_count": 15,
     "metadata": {},
     "output_type": "execute_result"
    }
   ],
   "source": [
    "# Заполняем проски brand в обучающей выборке\n",
    "train_df['brand'] = train_df['brand'].fillna(value=('brand_не_заполнен'))\n",
    "train_df[train_df['brand'] == 'brand_не_заполнен']['brand'].value_counts()"
   ]
  },
  {
   "cell_type": "code",
   "execution_count": 16,
   "id": "c9893270",
   "metadata": {},
   "outputs": [
    {
     "data": {
      "text/plain": [
       "(130201, 33)"
      ]
     },
     "execution_count": 16,
     "metadata": {},
     "output_type": "execute_result"
    }
   ],
   "source": [
    "train_df.shape"
   ]
  },
  {
   "cell_type": "markdown",
   "id": "8ad9a4bb",
   "metadata": {},
   "source": [
    "## car_url"
   ]
  },
  {
   "cell_type": "code",
   "execution_count": 17,
   "id": "7ca915b8",
   "metadata": {},
   "outputs": [
    {
     "data": {
      "text/plain": [
       "https://auto.ru/cars/new/group/toyota/land_cruiser_prado/22495145/22496061/1104717062-6ae14d83/    428\n",
       "https://auto.ru/cars/new/group/toyota/rav_4/21678460/21678548/1105041061-9333c262/                 428\n",
       "https://auto.ru/cars/new/group/toyota/rav_4/21678504/22537343/1104963137-e0e9d5dc/                 428\n",
       "https://auto.ru/cars/used/sale/toyota/land_cruiser/1105222495-22d7ca53/                            427\n",
       "https://auto.ru/cars/new/group/toyota/camry/22813335/22813675/1103971886-d3b55172/                 427\n",
       "                                                                                                  ... \n",
       "https://auto.ru/cars/used/sale/volkswagen/polo/1104927262-fc8fcdd5/                                  1\n",
       "https://auto.ru/cars/used/sale/mercedes/e_klasse_amg/1105393104-b51e736e/                            1\n",
       "https://auto.ru/cars/new/group/audi/a3/22848424/22870114/1104183919-6316523c/                        1\n",
       "https://auto.ru/cars/used/sale/bmw/6er/1104768395-2913d448/                                          1\n",
       "https://auto.ru/cars/used/sale/bmw/3er/1105387505-505f2b4f/                                          1\n",
       "Name: car_url, Length: 40721, dtype: int64"
      ]
     },
     "execution_count": 17,
     "metadata": {},
     "output_type": "execute_result"
    }
   ],
   "source": [
    "train_df['car_url'].value_counts()"
   ]
  },
  {
   "cell_type": "code",
   "execution_count": 18,
   "id": "8cef1f51",
   "metadata": {},
   "outputs": [
    {
     "name": "stdout",
     "output_type": "stream",
     "text": [
      "(130201, 33)\n"
     ]
    }
   ],
   "source": [
    "# Выводим размерность обучающей выборки до удаления дублей\n",
    "print(train_df.shape)"
   ]
  },
  {
   "cell_type": "code",
   "execution_count": 19,
   "id": "942f1835",
   "metadata": {},
   "outputs": [
    {
     "name": "stdout",
     "output_type": "stream",
     "text": [
      "bodyType 1\n",
      "brand 1\n",
      "car_url 1\n",
      "color 1\n",
      "complectation_dict 1\n",
      "description 2\n",
      "engineDisplacement 1\n",
      "enginePower 1\n",
      "equipment_dict 4\n",
      "fuelType 1\n",
      "image 4\n",
      "mileage 0\n",
      "modelDate 1\n",
      "model_info 0\n",
      "model_name 0\n",
      "name 1\n",
      "numberOfDoors 1\n",
      "parsing_unixtime 428\n",
      "priceCurrency 1\n",
      "productionDate 1\n",
      "sell_id 1\n",
      "super_gen 6\n",
      "vehicleConfiguration 1\n",
      "vehicleTransmission 1\n",
      "vendor 0\n",
      "Владельцы 0\n",
      "Владение 0\n",
      "ПТС 0\n",
      "Привод 0\n",
      "Руль 0\n",
      "Состояние 0\n",
      "Таможня 0\n",
      "price 2\n"
     ]
    }
   ],
   "source": [
    "# Определяем параметр, благодаря которому в поле car_url присутствуют дубли\n",
    "car_url_row = train_df[train_df.car_url == 'https://auto.ru/cars/new/group/toyota/land_cruiser_prado/22495145/22496061/1104717062-6ae14d83/']\n",
    "for col in car_url_row.columns:\n",
    "    print(col,car_url_row[col].nunique())"
   ]
  },
  {
   "cell_type": "code",
   "execution_count": 20,
   "id": "2a3f10de",
   "metadata": {},
   "outputs": [
    {
     "data": {
      "text/html": [
       "<div>\n",
       "<style scoped>\n",
       "    .dataframe tbody tr th:only-of-type {\n",
       "        vertical-align: middle;\n",
       "    }\n",
       "\n",
       "    .dataframe tbody tr th {\n",
       "        vertical-align: top;\n",
       "    }\n",
       "\n",
       "    .dataframe thead th {\n",
       "        text-align: right;\n",
       "    }\n",
       "</style>\n",
       "<table border=\"1\" class=\"dataframe\">\n",
       "  <thead>\n",
       "    <tr style=\"text-align: right;\">\n",
       "      <th></th>\n",
       "      <th>bodyType</th>\n",
       "      <th>brand</th>\n",
       "      <th>car_url</th>\n",
       "      <th>color</th>\n",
       "      <th>complectation_dict</th>\n",
       "      <th>description</th>\n",
       "      <th>engineDisplacement</th>\n",
       "      <th>enginePower</th>\n",
       "      <th>equipment_dict</th>\n",
       "      <th>fuelType</th>\n",
       "      <th>...</th>\n",
       "      <th>vehicleTransmission</th>\n",
       "      <th>vendor</th>\n",
       "      <th>Владельцы</th>\n",
       "      <th>Владение</th>\n",
       "      <th>ПТС</th>\n",
       "      <th>Привод</th>\n",
       "      <th>Руль</th>\n",
       "      <th>Состояние</th>\n",
       "      <th>Таможня</th>\n",
       "      <th>price</th>\n",
       "    </tr>\n",
       "  </thead>\n",
       "  <tbody>\n",
       "    <tr>\n",
       "      <th>77739</th>\n",
       "      <td>внедорожник 5 дв.</td>\n",
       "      <td>TOYOTA</td>\n",
       "      <td>https://auto.ru/cars/new/group/toyota/land_cru...</td>\n",
       "      <td>чёрный</td>\n",
       "      <td>['cruise-control', 'eco-leather', 'e-adjustmen...</td>\n",
       "      <td>Тойота Центр Брянск заботится о вас В дилерско...</td>\n",
       "      <td>4.0 LTR</td>\n",
       "      <td>249 N12</td>\n",
       "      <td>{'cruise-control': True, 'asr': True, 'esp': T...</td>\n",
       "      <td>бензин</td>\n",
       "      <td>...</td>\n",
       "      <td>автоматическая</td>\n",
       "      <td>NaN</td>\n",
       "      <td>NaN</td>\n",
       "      <td>NaN</td>\n",
       "      <td>NaN</td>\n",
       "      <td>NaN</td>\n",
       "      <td>NaN</td>\n",
       "      <td>NaN</td>\n",
       "      <td>NaN</td>\n",
       "      <td>6003000.0</td>\n",
       "    </tr>\n",
       "    <tr>\n",
       "      <th>81447</th>\n",
       "      <td>внедорожник 5 дв.</td>\n",
       "      <td>TOYOTA</td>\n",
       "      <td>https://auto.ru/cars/new/group/toyota/land_cru...</td>\n",
       "      <td>чёрный</td>\n",
       "      <td>['cruise-control', 'eco-leather', 'e-adjustmen...</td>\n",
       "      <td>Тойота Центр Брянск заботится о вас В дилерско...</td>\n",
       "      <td>4.0 LTR</td>\n",
       "      <td>249 N12</td>\n",
       "      <td>{'cruise-control': True, 'asr': True, 'esp': T...</td>\n",
       "      <td>бензин</td>\n",
       "      <td>...</td>\n",
       "      <td>автоматическая</td>\n",
       "      <td>NaN</td>\n",
       "      <td>NaN</td>\n",
       "      <td>NaN</td>\n",
       "      <td>NaN</td>\n",
       "      <td>NaN</td>\n",
       "      <td>NaN</td>\n",
       "      <td>NaN</td>\n",
       "      <td>NaN</td>\n",
       "      <td>6003000.0</td>\n",
       "    </tr>\n",
       "    <tr>\n",
       "      <th>81485</th>\n",
       "      <td>внедорожник 5 дв.</td>\n",
       "      <td>TOYOTA</td>\n",
       "      <td>https://auto.ru/cars/new/group/toyota/land_cru...</td>\n",
       "      <td>чёрный</td>\n",
       "      <td>['cruise-control', 'eco-leather', 'e-adjustmen...</td>\n",
       "      <td>Тойота Центр Брянск заботится о вас В дилерско...</td>\n",
       "      <td>4.0 LTR</td>\n",
       "      <td>249 N12</td>\n",
       "      <td>{'cruise-control': True, 'asr': True, 'esp': T...</td>\n",
       "      <td>бензин</td>\n",
       "      <td>...</td>\n",
       "      <td>автоматическая</td>\n",
       "      <td>NaN</td>\n",
       "      <td>NaN</td>\n",
       "      <td>NaN</td>\n",
       "      <td>NaN</td>\n",
       "      <td>NaN</td>\n",
       "      <td>NaN</td>\n",
       "      <td>NaN</td>\n",
       "      <td>NaN</td>\n",
       "      <td>6003000.0</td>\n",
       "    </tr>\n",
       "    <tr>\n",
       "      <th>81523</th>\n",
       "      <td>внедорожник 5 дв.</td>\n",
       "      <td>TOYOTA</td>\n",
       "      <td>https://auto.ru/cars/new/group/toyota/land_cru...</td>\n",
       "      <td>чёрный</td>\n",
       "      <td>['cruise-control', 'eco-leather', 'e-adjustmen...</td>\n",
       "      <td>Тойота Центр Брянск заботится о вас В дилерско...</td>\n",
       "      <td>4.0 LTR</td>\n",
       "      <td>249 N12</td>\n",
       "      <td>{'cruise-control': True, 'asr': True, 'esp': T...</td>\n",
       "      <td>бензин</td>\n",
       "      <td>...</td>\n",
       "      <td>автоматическая</td>\n",
       "      <td>NaN</td>\n",
       "      <td>NaN</td>\n",
       "      <td>NaN</td>\n",
       "      <td>NaN</td>\n",
       "      <td>NaN</td>\n",
       "      <td>NaN</td>\n",
       "      <td>NaN</td>\n",
       "      <td>NaN</td>\n",
       "      <td>6003000.0</td>\n",
       "    </tr>\n",
       "    <tr>\n",
       "      <th>81561</th>\n",
       "      <td>внедорожник 5 дв.</td>\n",
       "      <td>TOYOTA</td>\n",
       "      <td>https://auto.ru/cars/new/group/toyota/land_cru...</td>\n",
       "      <td>чёрный</td>\n",
       "      <td>['cruise-control', 'eco-leather', 'e-adjustmen...</td>\n",
       "      <td>Тойота Центр Брянск заботится о вас В дилерско...</td>\n",
       "      <td>4.0 LTR</td>\n",
       "      <td>249 N12</td>\n",
       "      <td>{'cruise-control': True, 'asr': True, 'esp': T...</td>\n",
       "      <td>бензин</td>\n",
       "      <td>...</td>\n",
       "      <td>автоматическая</td>\n",
       "      <td>NaN</td>\n",
       "      <td>NaN</td>\n",
       "      <td>NaN</td>\n",
       "      <td>NaN</td>\n",
       "      <td>NaN</td>\n",
       "      <td>NaN</td>\n",
       "      <td>NaN</td>\n",
       "      <td>NaN</td>\n",
       "      <td>6003000.0</td>\n",
       "    </tr>\n",
       "    <tr>\n",
       "      <th>...</th>\n",
       "      <td>...</td>\n",
       "      <td>...</td>\n",
       "      <td>...</td>\n",
       "      <td>...</td>\n",
       "      <td>...</td>\n",
       "      <td>...</td>\n",
       "      <td>...</td>\n",
       "      <td>...</td>\n",
       "      <td>...</td>\n",
       "      <td>...</td>\n",
       "      <td>...</td>\n",
       "      <td>...</td>\n",
       "      <td>...</td>\n",
       "      <td>...</td>\n",
       "      <td>...</td>\n",
       "      <td>...</td>\n",
       "      <td>...</td>\n",
       "      <td>...</td>\n",
       "      <td>...</td>\n",
       "      <td>...</td>\n",
       "      <td>...</td>\n",
       "    </tr>\n",
       "    <tr>\n",
       "      <th>97787</th>\n",
       "      <td>внедорожник 5 дв.</td>\n",
       "      <td>TOYOTA</td>\n",
       "      <td>https://auto.ru/cars/new/group/toyota/land_cru...</td>\n",
       "      <td>чёрный</td>\n",
       "      <td>['cruise-control', 'eco-leather', 'e-adjustmen...</td>\n",
       "      <td>Тойота Центр Брянск заботится о вас В дилерско...</td>\n",
       "      <td>4.0 LTR</td>\n",
       "      <td>249 N12</td>\n",
       "      <td>{'cruise-control': True, 'asr': True, 'esp': T...</td>\n",
       "      <td>бензин</td>\n",
       "      <td>...</td>\n",
       "      <td>автоматическая</td>\n",
       "      <td>NaN</td>\n",
       "      <td>NaN</td>\n",
       "      <td>NaN</td>\n",
       "      <td>NaN</td>\n",
       "      <td>NaN</td>\n",
       "      <td>NaN</td>\n",
       "      <td>NaN</td>\n",
       "      <td>NaN</td>\n",
       "      <td>6003000.0</td>\n",
       "    </tr>\n",
       "    <tr>\n",
       "      <th>97825</th>\n",
       "      <td>внедорожник 5 дв.</td>\n",
       "      <td>TOYOTA</td>\n",
       "      <td>https://auto.ru/cars/new/group/toyota/land_cru...</td>\n",
       "      <td>чёрный</td>\n",
       "      <td>['cruise-control', 'eco-leather', 'e-adjustmen...</td>\n",
       "      <td>Тойота Центр Брянск заботится о вас В дилерско...</td>\n",
       "      <td>4.0 LTR</td>\n",
       "      <td>249 N12</td>\n",
       "      <td>{'cruise-control': True, 'asr': True, 'esp': T...</td>\n",
       "      <td>бензин</td>\n",
       "      <td>...</td>\n",
       "      <td>автоматическая</td>\n",
       "      <td>NaN</td>\n",
       "      <td>NaN</td>\n",
       "      <td>NaN</td>\n",
       "      <td>NaN</td>\n",
       "      <td>NaN</td>\n",
       "      <td>NaN</td>\n",
       "      <td>NaN</td>\n",
       "      <td>NaN</td>\n",
       "      <td>6003000.0</td>\n",
       "    </tr>\n",
       "    <tr>\n",
       "      <th>97863</th>\n",
       "      <td>внедорожник 5 дв.</td>\n",
       "      <td>TOYOTA</td>\n",
       "      <td>https://auto.ru/cars/new/group/toyota/land_cru...</td>\n",
       "      <td>чёрный</td>\n",
       "      <td>['cruise-control', 'eco-leather', 'e-adjustmen...</td>\n",
       "      <td>Тойота Центр Брянск заботится о вас В дилерско...</td>\n",
       "      <td>4.0 LTR</td>\n",
       "      <td>249 N12</td>\n",
       "      <td>{'cruise-control': True, 'asr': True, 'esp': T...</td>\n",
       "      <td>бензин</td>\n",
       "      <td>...</td>\n",
       "      <td>автоматическая</td>\n",
       "      <td>NaN</td>\n",
       "      <td>NaN</td>\n",
       "      <td>NaN</td>\n",
       "      <td>NaN</td>\n",
       "      <td>NaN</td>\n",
       "      <td>NaN</td>\n",
       "      <td>NaN</td>\n",
       "      <td>NaN</td>\n",
       "      <td>6003000.0</td>\n",
       "    </tr>\n",
       "    <tr>\n",
       "      <th>97901</th>\n",
       "      <td>внедорожник 5 дв.</td>\n",
       "      <td>TOYOTA</td>\n",
       "      <td>https://auto.ru/cars/new/group/toyota/land_cru...</td>\n",
       "      <td>чёрный</td>\n",
       "      <td>['cruise-control', 'eco-leather', 'e-adjustmen...</td>\n",
       "      <td>Тойота Центр Брянск заботится о вас В дилерско...</td>\n",
       "      <td>4.0 LTR</td>\n",
       "      <td>249 N12</td>\n",
       "      <td>{'cruise-control': True, 'asr': True, 'esp': T...</td>\n",
       "      <td>бензин</td>\n",
       "      <td>...</td>\n",
       "      <td>автоматическая</td>\n",
       "      <td>NaN</td>\n",
       "      <td>NaN</td>\n",
       "      <td>NaN</td>\n",
       "      <td>NaN</td>\n",
       "      <td>NaN</td>\n",
       "      <td>NaN</td>\n",
       "      <td>NaN</td>\n",
       "      <td>NaN</td>\n",
       "      <td>6003000.0</td>\n",
       "    </tr>\n",
       "    <tr>\n",
       "      <th>97939</th>\n",
       "      <td>внедорожник 5 дв.</td>\n",
       "      <td>TOYOTA</td>\n",
       "      <td>https://auto.ru/cars/new/group/toyota/land_cru...</td>\n",
       "      <td>чёрный</td>\n",
       "      <td>['cruise-control', 'eco-leather', 'e-adjustmen...</td>\n",
       "      <td>Тойота Центр Брянск заботится о вас В дилерско...</td>\n",
       "      <td>4.0 LTR</td>\n",
       "      <td>249 N12</td>\n",
       "      <td>{'cruise-control': True, 'asr': True, 'esp': T...</td>\n",
       "      <td>бензин</td>\n",
       "      <td>...</td>\n",
       "      <td>автоматическая</td>\n",
       "      <td>NaN</td>\n",
       "      <td>NaN</td>\n",
       "      <td>NaN</td>\n",
       "      <td>NaN</td>\n",
       "      <td>NaN</td>\n",
       "      <td>NaN</td>\n",
       "      <td>NaN</td>\n",
       "      <td>NaN</td>\n",
       "      <td>6003000.0</td>\n",
       "    </tr>\n",
       "  </tbody>\n",
       "</table>\n",
       "<p>428 rows × 33 columns</p>\n",
       "</div>"
      ],
      "text/plain": [
       "                bodyType   brand  \\\n",
       "77739  внедорожник 5 дв.  TOYOTA   \n",
       "81447  внедорожник 5 дв.  TOYOTA   \n",
       "81485  внедорожник 5 дв.  TOYOTA   \n",
       "81523  внедорожник 5 дв.  TOYOTA   \n",
       "81561  внедорожник 5 дв.  TOYOTA   \n",
       "...                  ...     ...   \n",
       "97787  внедорожник 5 дв.  TOYOTA   \n",
       "97825  внедорожник 5 дв.  TOYOTA   \n",
       "97863  внедорожник 5 дв.  TOYOTA   \n",
       "97901  внедорожник 5 дв.  TOYOTA   \n",
       "97939  внедорожник 5 дв.  TOYOTA   \n",
       "\n",
       "                                                 car_url   color  \\\n",
       "77739  https://auto.ru/cars/new/group/toyota/land_cru...  чёрный   \n",
       "81447  https://auto.ru/cars/new/group/toyota/land_cru...  чёрный   \n",
       "81485  https://auto.ru/cars/new/group/toyota/land_cru...  чёрный   \n",
       "81523  https://auto.ru/cars/new/group/toyota/land_cru...  чёрный   \n",
       "81561  https://auto.ru/cars/new/group/toyota/land_cru...  чёрный   \n",
       "...                                                  ...     ...   \n",
       "97787  https://auto.ru/cars/new/group/toyota/land_cru...  чёрный   \n",
       "97825  https://auto.ru/cars/new/group/toyota/land_cru...  чёрный   \n",
       "97863  https://auto.ru/cars/new/group/toyota/land_cru...  чёрный   \n",
       "97901  https://auto.ru/cars/new/group/toyota/land_cru...  чёрный   \n",
       "97939  https://auto.ru/cars/new/group/toyota/land_cru...  чёрный   \n",
       "\n",
       "                                      complectation_dict  \\\n",
       "77739  ['cruise-control', 'eco-leather', 'e-adjustmen...   \n",
       "81447  ['cruise-control', 'eco-leather', 'e-adjustmen...   \n",
       "81485  ['cruise-control', 'eco-leather', 'e-adjustmen...   \n",
       "81523  ['cruise-control', 'eco-leather', 'e-adjustmen...   \n",
       "81561  ['cruise-control', 'eco-leather', 'e-adjustmen...   \n",
       "...                                                  ...   \n",
       "97787  ['cruise-control', 'eco-leather', 'e-adjustmen...   \n",
       "97825  ['cruise-control', 'eco-leather', 'e-adjustmen...   \n",
       "97863  ['cruise-control', 'eco-leather', 'e-adjustmen...   \n",
       "97901  ['cruise-control', 'eco-leather', 'e-adjustmen...   \n",
       "97939  ['cruise-control', 'eco-leather', 'e-adjustmen...   \n",
       "\n",
       "                                             description engineDisplacement  \\\n",
       "77739  Тойота Центр Брянск заботится о вас В дилерско...            4.0 LTR   \n",
       "81447  Тойота Центр Брянск заботится о вас В дилерско...            4.0 LTR   \n",
       "81485  Тойота Центр Брянск заботится о вас В дилерско...            4.0 LTR   \n",
       "81523  Тойота Центр Брянск заботится о вас В дилерско...            4.0 LTR   \n",
       "81561  Тойота Центр Брянск заботится о вас В дилерско...            4.0 LTR   \n",
       "...                                                  ...                ...   \n",
       "97787  Тойота Центр Брянск заботится о вас В дилерско...            4.0 LTR   \n",
       "97825  Тойота Центр Брянск заботится о вас В дилерско...            4.0 LTR   \n",
       "97863  Тойота Центр Брянск заботится о вас В дилерско...            4.0 LTR   \n",
       "97901  Тойота Центр Брянск заботится о вас В дилерско...            4.0 LTR   \n",
       "97939  Тойота Центр Брянск заботится о вас В дилерско...            4.0 LTR   \n",
       "\n",
       "      enginePower                                     equipment_dict fuelType  \\\n",
       "77739     249 N12  {'cruise-control': True, 'asr': True, 'esp': T...   бензин   \n",
       "81447     249 N12  {'cruise-control': True, 'asr': True, 'esp': T...   бензин   \n",
       "81485     249 N12  {'cruise-control': True, 'asr': True, 'esp': T...   бензин   \n",
       "81523     249 N12  {'cruise-control': True, 'asr': True, 'esp': T...   бензин   \n",
       "81561     249 N12  {'cruise-control': True, 'asr': True, 'esp': T...   бензин   \n",
       "...           ...                                                ...      ...   \n",
       "97787     249 N12  {'cruise-control': True, 'asr': True, 'esp': T...   бензин   \n",
       "97825     249 N12  {'cruise-control': True, 'asr': True, 'esp': T...   бензин   \n",
       "97863     249 N12  {'cruise-control': True, 'asr': True, 'esp': T...   бензин   \n",
       "97901     249 N12  {'cruise-control': True, 'asr': True, 'esp': T...   бензин   \n",
       "97939     249 N12  {'cruise-control': True, 'asr': True, 'esp': T...   бензин   \n",
       "\n",
       "       ... vehicleTransmission  vendor  Владельцы  Владение  ПТС Привод  Руль  \\\n",
       "77739  ...      автоматическая     NaN        NaN       NaN  NaN    NaN   NaN   \n",
       "81447  ...      автоматическая     NaN        NaN       NaN  NaN    NaN   NaN   \n",
       "81485  ...      автоматическая     NaN        NaN       NaN  NaN    NaN   NaN   \n",
       "81523  ...      автоматическая     NaN        NaN       NaN  NaN    NaN   NaN   \n",
       "81561  ...      автоматическая     NaN        NaN       NaN  NaN    NaN   NaN   \n",
       "...    ...                 ...     ...        ...       ...  ...    ...   ...   \n",
       "97787  ...      автоматическая     NaN        NaN       NaN  NaN    NaN   NaN   \n",
       "97825  ...      автоматическая     NaN        NaN       NaN  NaN    NaN   NaN   \n",
       "97863  ...      автоматическая     NaN        NaN       NaN  NaN    NaN   NaN   \n",
       "97901  ...      автоматическая     NaN        NaN       NaN  NaN    NaN   NaN   \n",
       "97939  ...      автоматическая     NaN        NaN       NaN  NaN    NaN   NaN   \n",
       "\n",
       "       Состояние Таможня      price  \n",
       "77739        NaN     NaN  6003000.0  \n",
       "81447        NaN     NaN  6003000.0  \n",
       "81485        NaN     NaN  6003000.0  \n",
       "81523        NaN     NaN  6003000.0  \n",
       "81561        NaN     NaN  6003000.0  \n",
       "...          ...     ...        ...  \n",
       "97787        NaN     NaN  6003000.0  \n",
       "97825        NaN     NaN  6003000.0  \n",
       "97863        NaN     NaN  6003000.0  \n",
       "97901        NaN     NaN  6003000.0  \n",
       "97939        NaN     NaN  6003000.0  \n",
       "\n",
       "[428 rows x 33 columns]"
      ]
     },
     "execution_count": 20,
     "metadata": {},
     "output_type": "execute_result"
    }
   ],
   "source": [
    "# Смотрим на состав данных, которые доступны по дублирующейся ссылке\n",
    "train_df[train_df.car_url == 'https://auto.ru/cars/new/group/toyota/land_cruiser_prado/22495145/22496061/1104717062-6ae14d83/']"
   ]
  },
  {
   "cell_type": "code",
   "execution_count": 21,
   "id": "8d4a0d49",
   "metadata": {},
   "outputs": [
    {
     "data": {
      "text/html": [
       "<div>\n",
       "<style scoped>\n",
       "    .dataframe tbody tr th:only-of-type {\n",
       "        vertical-align: middle;\n",
       "    }\n",
       "\n",
       "    .dataframe tbody tr th {\n",
       "        vertical-align: top;\n",
       "    }\n",
       "\n",
       "    .dataframe thead th {\n",
       "        text-align: right;\n",
       "    }\n",
       "</style>\n",
       "<table border=\"1\" class=\"dataframe\">\n",
       "  <thead>\n",
       "    <tr style=\"text-align: right;\">\n",
       "      <th></th>\n",
       "      <th>bodyType</th>\n",
       "      <th>brand</th>\n",
       "      <th>car_url</th>\n",
       "      <th>color</th>\n",
       "      <th>complectation_dict</th>\n",
       "      <th>description</th>\n",
       "      <th>engineDisplacement</th>\n",
       "      <th>enginePower</th>\n",
       "      <th>equipment_dict</th>\n",
       "      <th>fuelType</th>\n",
       "      <th>...</th>\n",
       "      <th>vehicleTransmission</th>\n",
       "      <th>vendor</th>\n",
       "      <th>Владельцы</th>\n",
       "      <th>Владение</th>\n",
       "      <th>ПТС</th>\n",
       "      <th>Привод</th>\n",
       "      <th>Руль</th>\n",
       "      <th>Состояние</th>\n",
       "      <th>Таможня</th>\n",
       "      <th>price</th>\n",
       "    </tr>\n",
       "  </thead>\n",
       "  <tbody>\n",
       "    <tr>\n",
       "      <th>77727</th>\n",
       "      <td>внедорожник 5 дв.</td>\n",
       "      <td>TOYOTA</td>\n",
       "      <td>https://auto.ru/cars/new/group/toyota/rav_4/21...</td>\n",
       "      <td>белый</td>\n",
       "      <td>['cruise-control', 'multi-wheel', 'heated-wash...</td>\n",
       "      <td>ГК Автомир один из самых крупных автомобильных...</td>\n",
       "      <td>2.0 LTR</td>\n",
       "      <td>149 N12</td>\n",
       "      <td>{'audiosystem-cd': True, 'airbag-side': True, ...</td>\n",
       "      <td>бензин</td>\n",
       "      <td>...</td>\n",
       "      <td>вариатор</td>\n",
       "      <td>NaN</td>\n",
       "      <td>NaN</td>\n",
       "      <td>NaN</td>\n",
       "      <td>NaN</td>\n",
       "      <td>NaN</td>\n",
       "      <td>NaN</td>\n",
       "      <td>NaN</td>\n",
       "      <td>NaN</td>\n",
       "      <td>NaN</td>\n",
       "    </tr>\n",
       "    <tr>\n",
       "      <th>81437</th>\n",
       "      <td>внедорожник 5 дв.</td>\n",
       "      <td>TOYOTA</td>\n",
       "      <td>https://auto.ru/cars/new/group/toyota/rav_4/21...</td>\n",
       "      <td>белый</td>\n",
       "      <td>['cruise-control', 'multi-wheel', 'heated-wash...</td>\n",
       "      <td>ГК Автомир один из самых крупных автомобильных...</td>\n",
       "      <td>2.0 LTR</td>\n",
       "      <td>149 N12</td>\n",
       "      <td>{'audiosystem-cd': True, 'airbag-side': True, ...</td>\n",
       "      <td>бензин</td>\n",
       "      <td>...</td>\n",
       "      <td>вариатор</td>\n",
       "      <td>NaN</td>\n",
       "      <td>NaN</td>\n",
       "      <td>NaN</td>\n",
       "      <td>NaN</td>\n",
       "      <td>NaN</td>\n",
       "      <td>NaN</td>\n",
       "      <td>NaN</td>\n",
       "      <td>NaN</td>\n",
       "      <td>NaN</td>\n",
       "    </tr>\n",
       "    <tr>\n",
       "      <th>81475</th>\n",
       "      <td>внедорожник 5 дв.</td>\n",
       "      <td>TOYOTA</td>\n",
       "      <td>https://auto.ru/cars/new/group/toyota/rav_4/21...</td>\n",
       "      <td>белый</td>\n",
       "      <td>['cruise-control', 'multi-wheel', 'heated-wash...</td>\n",
       "      <td>ГК Автомир один из самых крупных автомобильных...</td>\n",
       "      <td>2.0 LTR</td>\n",
       "      <td>149 N12</td>\n",
       "      <td>{'audiosystem-cd': True, 'airbag-side': True, ...</td>\n",
       "      <td>бензин</td>\n",
       "      <td>...</td>\n",
       "      <td>вариатор</td>\n",
       "      <td>NaN</td>\n",
       "      <td>NaN</td>\n",
       "      <td>NaN</td>\n",
       "      <td>NaN</td>\n",
       "      <td>NaN</td>\n",
       "      <td>NaN</td>\n",
       "      <td>NaN</td>\n",
       "      <td>NaN</td>\n",
       "      <td>NaN</td>\n",
       "    </tr>\n",
       "    <tr>\n",
       "      <th>81513</th>\n",
       "      <td>внедорожник 5 дв.</td>\n",
       "      <td>TOYOTA</td>\n",
       "      <td>https://auto.ru/cars/new/group/toyota/rav_4/21...</td>\n",
       "      <td>белый</td>\n",
       "      <td>['cruise-control', 'multi-wheel', 'heated-wash...</td>\n",
       "      <td>ГК Автомир один из самых крупных автомобильных...</td>\n",
       "      <td>2.0 LTR</td>\n",
       "      <td>149 N12</td>\n",
       "      <td>{'audiosystem-cd': True, 'airbag-side': True, ...</td>\n",
       "      <td>бензин</td>\n",
       "      <td>...</td>\n",
       "      <td>вариатор</td>\n",
       "      <td>NaN</td>\n",
       "      <td>NaN</td>\n",
       "      <td>NaN</td>\n",
       "      <td>NaN</td>\n",
       "      <td>NaN</td>\n",
       "      <td>NaN</td>\n",
       "      <td>NaN</td>\n",
       "      <td>NaN</td>\n",
       "      <td>NaN</td>\n",
       "    </tr>\n",
       "    <tr>\n",
       "      <th>81551</th>\n",
       "      <td>внедорожник 5 дв.</td>\n",
       "      <td>TOYOTA</td>\n",
       "      <td>https://auto.ru/cars/new/group/toyota/rav_4/21...</td>\n",
       "      <td>белый</td>\n",
       "      <td>['cruise-control', 'multi-wheel', 'heated-wash...</td>\n",
       "      <td>ГК Автомир один из самых крупных автомобильных...</td>\n",
       "      <td>2.0 LTR</td>\n",
       "      <td>149 N12</td>\n",
       "      <td>{'audiosystem-cd': True, 'airbag-side': True, ...</td>\n",
       "      <td>бензин</td>\n",
       "      <td>...</td>\n",
       "      <td>вариатор</td>\n",
       "      <td>NaN</td>\n",
       "      <td>NaN</td>\n",
       "      <td>NaN</td>\n",
       "      <td>NaN</td>\n",
       "      <td>NaN</td>\n",
       "      <td>NaN</td>\n",
       "      <td>NaN</td>\n",
       "      <td>NaN</td>\n",
       "      <td>NaN</td>\n",
       "    </tr>\n",
       "    <tr>\n",
       "      <th>...</th>\n",
       "      <td>...</td>\n",
       "      <td>...</td>\n",
       "      <td>...</td>\n",
       "      <td>...</td>\n",
       "      <td>...</td>\n",
       "      <td>...</td>\n",
       "      <td>...</td>\n",
       "      <td>...</td>\n",
       "      <td>...</td>\n",
       "      <td>...</td>\n",
       "      <td>...</td>\n",
       "      <td>...</td>\n",
       "      <td>...</td>\n",
       "      <td>...</td>\n",
       "      <td>...</td>\n",
       "      <td>...</td>\n",
       "      <td>...</td>\n",
       "      <td>...</td>\n",
       "      <td>...</td>\n",
       "      <td>...</td>\n",
       "      <td>...</td>\n",
       "    </tr>\n",
       "    <tr>\n",
       "      <th>97778</th>\n",
       "      <td>внедорожник 5 дв.</td>\n",
       "      <td>TOYOTA</td>\n",
       "      <td>https://auto.ru/cars/new/group/toyota/rav_4/21...</td>\n",
       "      <td>белый</td>\n",
       "      <td>['cruise-control', 'multi-wheel', 'heated-wash...</td>\n",
       "      <td>ГК Автомир один из самых крупных автомобильных...</td>\n",
       "      <td>2.0 LTR</td>\n",
       "      <td>149 N12</td>\n",
       "      <td>{'audiosystem-cd': True, 'airbag-side': True, ...</td>\n",
       "      <td>бензин</td>\n",
       "      <td>...</td>\n",
       "      <td>вариатор</td>\n",
       "      <td>NaN</td>\n",
       "      <td>NaN</td>\n",
       "      <td>NaN</td>\n",
       "      <td>NaN</td>\n",
       "      <td>NaN</td>\n",
       "      <td>NaN</td>\n",
       "      <td>NaN</td>\n",
       "      <td>NaN</td>\n",
       "      <td>NaN</td>\n",
       "    </tr>\n",
       "    <tr>\n",
       "      <th>97816</th>\n",
       "      <td>внедорожник 5 дв.</td>\n",
       "      <td>TOYOTA</td>\n",
       "      <td>https://auto.ru/cars/new/group/toyota/rav_4/21...</td>\n",
       "      <td>белый</td>\n",
       "      <td>['cruise-control', 'multi-wheel', 'heated-wash...</td>\n",
       "      <td>ГК Автомир один из самых крупных автомобильных...</td>\n",
       "      <td>2.0 LTR</td>\n",
       "      <td>149 N12</td>\n",
       "      <td>{'audiosystem-cd': True, 'airbag-side': True, ...</td>\n",
       "      <td>бензин</td>\n",
       "      <td>...</td>\n",
       "      <td>вариатор</td>\n",
       "      <td>NaN</td>\n",
       "      <td>NaN</td>\n",
       "      <td>NaN</td>\n",
       "      <td>NaN</td>\n",
       "      <td>NaN</td>\n",
       "      <td>NaN</td>\n",
       "      <td>NaN</td>\n",
       "      <td>NaN</td>\n",
       "      <td>NaN</td>\n",
       "    </tr>\n",
       "    <tr>\n",
       "      <th>97853</th>\n",
       "      <td>внедорожник 5 дв.</td>\n",
       "      <td>TOYOTA</td>\n",
       "      <td>https://auto.ru/cars/new/group/toyota/rav_4/21...</td>\n",
       "      <td>белый</td>\n",
       "      <td>['cruise-control', 'multi-wheel', 'heated-wash...</td>\n",
       "      <td>ГК Автомир один из самых крупных автомобильных...</td>\n",
       "      <td>2.0 LTR</td>\n",
       "      <td>149 N12</td>\n",
       "      <td>{'audiosystem-cd': True, 'airbag-side': True, ...</td>\n",
       "      <td>бензин</td>\n",
       "      <td>...</td>\n",
       "      <td>вариатор</td>\n",
       "      <td>NaN</td>\n",
       "      <td>NaN</td>\n",
       "      <td>NaN</td>\n",
       "      <td>NaN</td>\n",
       "      <td>NaN</td>\n",
       "      <td>NaN</td>\n",
       "      <td>NaN</td>\n",
       "      <td>NaN</td>\n",
       "      <td>NaN</td>\n",
       "    </tr>\n",
       "    <tr>\n",
       "      <th>97892</th>\n",
       "      <td>внедорожник 5 дв.</td>\n",
       "      <td>TOYOTA</td>\n",
       "      <td>https://auto.ru/cars/new/group/toyota/rav_4/21...</td>\n",
       "      <td>белый</td>\n",
       "      <td>['cruise-control', 'multi-wheel', 'heated-wash...</td>\n",
       "      <td>ГК Автомир один из самых крупных автомобильных...</td>\n",
       "      <td>2.0 LTR</td>\n",
       "      <td>149 N12</td>\n",
       "      <td>{'audiosystem-cd': True, 'airbag-side': True, ...</td>\n",
       "      <td>бензин</td>\n",
       "      <td>...</td>\n",
       "      <td>вариатор</td>\n",
       "      <td>NaN</td>\n",
       "      <td>NaN</td>\n",
       "      <td>NaN</td>\n",
       "      <td>NaN</td>\n",
       "      <td>NaN</td>\n",
       "      <td>NaN</td>\n",
       "      <td>NaN</td>\n",
       "      <td>NaN</td>\n",
       "      <td>NaN</td>\n",
       "    </tr>\n",
       "    <tr>\n",
       "      <th>97930</th>\n",
       "      <td>внедорожник 5 дв.</td>\n",
       "      <td>TOYOTA</td>\n",
       "      <td>https://auto.ru/cars/new/group/toyota/rav_4/21...</td>\n",
       "      <td>белый</td>\n",
       "      <td>['cruise-control', 'multi-wheel', 'heated-wash...</td>\n",
       "      <td>ГК Автомир один из самых крупных автомобильных...</td>\n",
       "      <td>2.0 LTR</td>\n",
       "      <td>149 N12</td>\n",
       "      <td>{'audiosystem-cd': True, 'airbag-side': True, ...</td>\n",
       "      <td>бензин</td>\n",
       "      <td>...</td>\n",
       "      <td>вариатор</td>\n",
       "      <td>NaN</td>\n",
       "      <td>NaN</td>\n",
       "      <td>NaN</td>\n",
       "      <td>NaN</td>\n",
       "      <td>NaN</td>\n",
       "      <td>NaN</td>\n",
       "      <td>NaN</td>\n",
       "      <td>NaN</td>\n",
       "      <td>NaN</td>\n",
       "    </tr>\n",
       "  </tbody>\n",
       "</table>\n",
       "<p>428 rows × 33 columns</p>\n",
       "</div>"
      ],
      "text/plain": [
       "                bodyType   brand  \\\n",
       "77727  внедорожник 5 дв.  TOYOTA   \n",
       "81437  внедорожник 5 дв.  TOYOTA   \n",
       "81475  внедорожник 5 дв.  TOYOTA   \n",
       "81513  внедорожник 5 дв.  TOYOTA   \n",
       "81551  внедорожник 5 дв.  TOYOTA   \n",
       "...                  ...     ...   \n",
       "97778  внедорожник 5 дв.  TOYOTA   \n",
       "97816  внедорожник 5 дв.  TOYOTA   \n",
       "97853  внедорожник 5 дв.  TOYOTA   \n",
       "97892  внедорожник 5 дв.  TOYOTA   \n",
       "97930  внедорожник 5 дв.  TOYOTA   \n",
       "\n",
       "                                                 car_url  color  \\\n",
       "77727  https://auto.ru/cars/new/group/toyota/rav_4/21...  белый   \n",
       "81437  https://auto.ru/cars/new/group/toyota/rav_4/21...  белый   \n",
       "81475  https://auto.ru/cars/new/group/toyota/rav_4/21...  белый   \n",
       "81513  https://auto.ru/cars/new/group/toyota/rav_4/21...  белый   \n",
       "81551  https://auto.ru/cars/new/group/toyota/rav_4/21...  белый   \n",
       "...                                                  ...    ...   \n",
       "97778  https://auto.ru/cars/new/group/toyota/rav_4/21...  белый   \n",
       "97816  https://auto.ru/cars/new/group/toyota/rav_4/21...  белый   \n",
       "97853  https://auto.ru/cars/new/group/toyota/rav_4/21...  белый   \n",
       "97892  https://auto.ru/cars/new/group/toyota/rav_4/21...  белый   \n",
       "97930  https://auto.ru/cars/new/group/toyota/rav_4/21...  белый   \n",
       "\n",
       "                                      complectation_dict  \\\n",
       "77727  ['cruise-control', 'multi-wheel', 'heated-wash...   \n",
       "81437  ['cruise-control', 'multi-wheel', 'heated-wash...   \n",
       "81475  ['cruise-control', 'multi-wheel', 'heated-wash...   \n",
       "81513  ['cruise-control', 'multi-wheel', 'heated-wash...   \n",
       "81551  ['cruise-control', 'multi-wheel', 'heated-wash...   \n",
       "...                                                  ...   \n",
       "97778  ['cruise-control', 'multi-wheel', 'heated-wash...   \n",
       "97816  ['cruise-control', 'multi-wheel', 'heated-wash...   \n",
       "97853  ['cruise-control', 'multi-wheel', 'heated-wash...   \n",
       "97892  ['cruise-control', 'multi-wheel', 'heated-wash...   \n",
       "97930  ['cruise-control', 'multi-wheel', 'heated-wash...   \n",
       "\n",
       "                                             description engineDisplacement  \\\n",
       "77727  ГК Автомир один из самых крупных автомобильных...            2.0 LTR   \n",
       "81437  ГК Автомир один из самых крупных автомобильных...            2.0 LTR   \n",
       "81475  ГК Автомир один из самых крупных автомобильных...            2.0 LTR   \n",
       "81513  ГК Автомир один из самых крупных автомобильных...            2.0 LTR   \n",
       "81551  ГК Автомир один из самых крупных автомобильных...            2.0 LTR   \n",
       "...                                                  ...                ...   \n",
       "97778  ГК Автомир один из самых крупных автомобильных...            2.0 LTR   \n",
       "97816  ГК Автомир один из самых крупных автомобильных...            2.0 LTR   \n",
       "97853  ГК Автомир один из самых крупных автомобильных...            2.0 LTR   \n",
       "97892  ГК Автомир один из самых крупных автомобильных...            2.0 LTR   \n",
       "97930  ГК Автомир один из самых крупных автомобильных...            2.0 LTR   \n",
       "\n",
       "      enginePower                                     equipment_dict fuelType  \\\n",
       "77727     149 N12  {'audiosystem-cd': True, 'airbag-side': True, ...   бензин   \n",
       "81437     149 N12  {'audiosystem-cd': True, 'airbag-side': True, ...   бензин   \n",
       "81475     149 N12  {'audiosystem-cd': True, 'airbag-side': True, ...   бензин   \n",
       "81513     149 N12  {'audiosystem-cd': True, 'airbag-side': True, ...   бензин   \n",
       "81551     149 N12  {'audiosystem-cd': True, 'airbag-side': True, ...   бензин   \n",
       "...           ...                                                ...      ...   \n",
       "97778     149 N12  {'audiosystem-cd': True, 'airbag-side': True, ...   бензин   \n",
       "97816     149 N12  {'audiosystem-cd': True, 'airbag-side': True, ...   бензин   \n",
       "97853     149 N12  {'audiosystem-cd': True, 'airbag-side': True, ...   бензин   \n",
       "97892     149 N12  {'audiosystem-cd': True, 'airbag-side': True, ...   бензин   \n",
       "97930     149 N12  {'audiosystem-cd': True, 'airbag-side': True, ...   бензин   \n",
       "\n",
       "       ... vehicleTransmission  vendor  Владельцы  Владение  ПТС Привод  Руль  \\\n",
       "77727  ...            вариатор     NaN        NaN       NaN  NaN    NaN   NaN   \n",
       "81437  ...            вариатор     NaN        NaN       NaN  NaN    NaN   NaN   \n",
       "81475  ...            вариатор     NaN        NaN       NaN  NaN    NaN   NaN   \n",
       "81513  ...            вариатор     NaN        NaN       NaN  NaN    NaN   NaN   \n",
       "81551  ...            вариатор     NaN        NaN       NaN  NaN    NaN   NaN   \n",
       "...    ...                 ...     ...        ...       ...  ...    ...   ...   \n",
       "97778  ...            вариатор     NaN        NaN       NaN  NaN    NaN   NaN   \n",
       "97816  ...            вариатор     NaN        NaN       NaN  NaN    NaN   NaN   \n",
       "97853  ...            вариатор     NaN        NaN       NaN  NaN    NaN   NaN   \n",
       "97892  ...            вариатор     NaN        NaN       NaN  NaN    NaN   NaN   \n",
       "97930  ...            вариатор     NaN        NaN       NaN  NaN    NaN   NaN   \n",
       "\n",
       "       Состояние Таможня  price  \n",
       "77727        NaN     NaN    NaN  \n",
       "81437        NaN     NaN    NaN  \n",
       "81475        NaN     NaN    NaN  \n",
       "81513        NaN     NaN    NaN  \n",
       "81551        NaN     NaN    NaN  \n",
       "...          ...     ...    ...  \n",
       "97778        NaN     NaN    NaN  \n",
       "97816        NaN     NaN    NaN  \n",
       "97853        NaN     NaN    NaN  \n",
       "97892        NaN     NaN    NaN  \n",
       "97930        NaN     NaN    NaN  \n",
       "\n",
       "[428 rows x 33 columns]"
      ]
     },
     "execution_count": 21,
     "metadata": {},
     "output_type": "execute_result"
    }
   ],
   "source": [
    "train_df[train_df.car_url == 'https://auto.ru/cars/new/group/toyota/rav_4/21678460/21678548/1105041061-9333c262/']"
   ]
  },
  {
   "cell_type": "markdown",
   "id": "5b2fc2e7",
   "metadata": {},
   "source": [
    "Вывод: данные по одинаковым ссылка дублируются. Можно все дубли удалить, кроме последнего по времени парсинга."
   ]
  },
  {
   "cell_type": "code",
   "execution_count": 22,
   "id": "5c764923",
   "metadata": {},
   "outputs": [
    {
     "data": {
      "text/plain": [
       "https://auto.ru/cars/used/sale/nissan/note/1104874435-358e016d/                               1\n",
       "https://auto.ru/cars/used/sale/toyota/camry/1105402586-f9616a4c/                              1\n",
       "https://auto.ru/cars/new/group/volkswagen/caravelle/21793483/21794055/1104837939-a4713529/    1\n",
       "https://auto.ru/cars/used/sale/lexus/nx/1105099087-5af3acf8/                                  1\n",
       "https://auto.ru/cars/used/sale/skoda/octavia/1105010229-5b15cdca/                             1\n",
       "Name: car_url, dtype: int64"
      ]
     },
     "execution_count": 22,
     "metadata": {},
     "output_type": "execute_result"
    }
   ],
   "source": [
    "# Заменяем значения car_url на ссылку последнюю по времени парсинга\n",
    "train_df = train_df.sort_values('parsing_unixtime').groupby('car_url').tail(1).reset_index(drop=True)\n",
    "\n",
    "# Проверяем, что каждая ссылка теперь встречается только один раз в обучающей выборке\n",
    "train_df['car_url'].value_counts(ascending=False)[:5]"
   ]
  },
  {
   "cell_type": "code",
   "execution_count": 23,
   "id": "f9267542",
   "metadata": {},
   "outputs": [
    {
     "data": {
      "text/html": [
       "<div>\n",
       "<style scoped>\n",
       "    .dataframe tbody tr th:only-of-type {\n",
       "        vertical-align: middle;\n",
       "    }\n",
       "\n",
       "    .dataframe tbody tr th {\n",
       "        vertical-align: top;\n",
       "    }\n",
       "\n",
       "    .dataframe thead th {\n",
       "        text-align: right;\n",
       "    }\n",
       "</style>\n",
       "<table border=\"1\" class=\"dataframe\">\n",
       "  <thead>\n",
       "    <tr style=\"text-align: right;\">\n",
       "      <th></th>\n",
       "      <th>bodyType</th>\n",
       "      <th>brand</th>\n",
       "      <th>car_url</th>\n",
       "      <th>color</th>\n",
       "      <th>complectation_dict</th>\n",
       "      <th>description</th>\n",
       "      <th>engineDisplacement</th>\n",
       "      <th>enginePower</th>\n",
       "      <th>equipment_dict</th>\n",
       "      <th>fuelType</th>\n",
       "      <th>...</th>\n",
       "      <th>vehicleTransmission</th>\n",
       "      <th>vendor</th>\n",
       "      <th>Владельцы</th>\n",
       "      <th>Владение</th>\n",
       "      <th>ПТС</th>\n",
       "      <th>Привод</th>\n",
       "      <th>Руль</th>\n",
       "      <th>Состояние</th>\n",
       "      <th>Таможня</th>\n",
       "      <th>price</th>\n",
       "    </tr>\n",
       "  </thead>\n",
       "  <tbody>\n",
       "    <tr>\n",
       "      <th>40721</th>\n",
       "      <td>bodyType_не_заполнен</td>\n",
       "      <td>brand_не_заполнен</td>\n",
       "      <td>NaN</td>\n",
       "      <td>NaN</td>\n",
       "      <td>NaN</td>\n",
       "      <td>NaN</td>\n",
       "      <td>NaN</td>\n",
       "      <td>NaN</td>\n",
       "      <td>NaN</td>\n",
       "      <td>NaN</td>\n",
       "      <td>...</td>\n",
       "      <td>NaN</td>\n",
       "      <td>NaN</td>\n",
       "      <td>NaN</td>\n",
       "      <td>NaN</td>\n",
       "      <td>NaN</td>\n",
       "      <td>NaN</td>\n",
       "      <td>NaN</td>\n",
       "      <td>NaN</td>\n",
       "      <td>NaN</td>\n",
       "      <td>NaN</td>\n",
       "    </tr>\n",
       "  </tbody>\n",
       "</table>\n",
       "<p>1 rows × 33 columns</p>\n",
       "</div>"
      ],
      "text/plain": [
       "                   bodyType              brand car_url color  \\\n",
       "40721  bodyType_не_заполнен  brand_не_заполнен     NaN   NaN   \n",
       "\n",
       "      complectation_dict description engineDisplacement enginePower  \\\n",
       "40721                NaN         NaN                NaN         NaN   \n",
       "\n",
       "      equipment_dict fuelType  ... vehicleTransmission  vendor  Владельцы  \\\n",
       "40721            NaN      NaN  ...                 NaN     NaN        NaN   \n",
       "\n",
       "       Владение  ПТС Привод  Руль  Состояние Таможня  price  \n",
       "40721       NaN  NaN    NaN   NaN        NaN     NaN    NaN  \n",
       "\n",
       "[1 rows x 33 columns]"
      ]
     },
     "execution_count": 23,
     "metadata": {},
     "output_type": "execute_result"
    }
   ],
   "source": [
    "# Выявляем пропуски в оставшихся значениях\n",
    "train_df[train_df['car_url'].isnull()]"
   ]
  },
  {
   "cell_type": "code",
   "execution_count": 24,
   "id": "a08025c1",
   "metadata": {},
   "outputs": [
    {
     "name": "stdout",
     "output_type": "stream",
     "text": [
      "(40722, 33)\n",
      "(40721, 33)\n"
     ]
    }
   ],
   "source": [
    "# Удаляем сроку без информации\n",
    "print(train_df.shape)\n",
    "train_df = train_df.drop(labels=40721)\n",
    "print(train_df.shape)"
   ]
  },
  {
   "cell_type": "code",
   "execution_count": 25,
   "id": "8af09771",
   "metadata": {},
   "outputs": [
    {
     "data": {
      "text/html": [
       "<div>\n",
       "<style scoped>\n",
       "    .dataframe tbody tr th:only-of-type {\n",
       "        vertical-align: middle;\n",
       "    }\n",
       "\n",
       "    .dataframe tbody tr th {\n",
       "        vertical-align: top;\n",
       "    }\n",
       "\n",
       "    .dataframe thead th {\n",
       "        text-align: right;\n",
       "    }\n",
       "</style>\n",
       "<table border=\"1\" class=\"dataframe\">\n",
       "  <thead>\n",
       "    <tr style=\"text-align: right;\">\n",
       "      <th></th>\n",
       "      <th>bodyType</th>\n",
       "      <th>brand</th>\n",
       "      <th>car_url</th>\n",
       "      <th>color</th>\n",
       "      <th>complectation_dict</th>\n",
       "      <th>description</th>\n",
       "      <th>engineDisplacement</th>\n",
       "      <th>enginePower</th>\n",
       "      <th>equipment_dict</th>\n",
       "      <th>fuelType</th>\n",
       "      <th>...</th>\n",
       "      <th>vehicleTransmission</th>\n",
       "      <th>vendor</th>\n",
       "      <th>Владельцы</th>\n",
       "      <th>Владение</th>\n",
       "      <th>ПТС</th>\n",
       "      <th>Привод</th>\n",
       "      <th>Руль</th>\n",
       "      <th>Состояние</th>\n",
       "      <th>Таможня</th>\n",
       "      <th>price</th>\n",
       "    </tr>\n",
       "  </thead>\n",
       "  <tbody>\n",
       "  </tbody>\n",
       "</table>\n",
       "<p>0 rows × 33 columns</p>\n",
       "</div>"
      ],
      "text/plain": [
       "Empty DataFrame\n",
       "Columns: [bodyType, brand, car_url, color, complectation_dict, description, engineDisplacement, enginePower, equipment_dict, fuelType, image, mileage, modelDate, model_info, model_name, name, numberOfDoors, parsing_unixtime, priceCurrency, productionDate, sell_id, super_gen, vehicleConfiguration, vehicleTransmission, vendor, Владельцы, Владение, ПТС, Привод, Руль, Состояние, Таможня, price]\n",
       "Index: []\n",
       "\n",
       "[0 rows x 33 columns]"
      ]
     },
     "execution_count": 25,
     "metadata": {},
     "output_type": "execute_result"
    }
   ],
   "source": [
    "# Проверяем, что строк с пропущенной ссылкой не осталось\n",
    "train_df[train_df['car_url'].isnull()]"
   ]
  },
  {
   "cell_type": "markdown",
   "id": "eb234d92",
   "metadata": {},
   "source": [
    "## color"
   ]
  },
  {
   "cell_type": "code",
   "execution_count": 26,
   "id": "ba38c010",
   "metadata": {},
   "outputs": [
    {
     "data": {
      "text/plain": [
       "чёрный         11695\n",
       "белый           9604\n",
       "серый           5520\n",
       "серебристый     3728\n",
       "синий           3606\n",
       "коричневый      1861\n",
       "красный         1814\n",
       "зелёный          832\n",
       "бежевый          786\n",
       "голубой          398\n",
       "золотистый       194\n",
       "фиолетовый       190\n",
       "пурпурный        185\n",
       "оранжевый        159\n",
       "жёлтый           134\n",
       "розовый           15\n",
       "Name: color, dtype: int64"
      ]
     },
     "execution_count": 26,
     "metadata": {},
     "output_type": "execute_result"
    }
   ],
   "source": [
    "train_df['color'].value_counts()"
   ]
  },
  {
   "cell_type": "code",
   "execution_count": 27,
   "id": "c95ec537",
   "metadata": {},
   "outputs": [
    {
     "data": {
      "text/plain": [
       "чёрный         11010\n",
       "белый           6133\n",
       "серебристый     4113\n",
       "серый           3984\n",
       "синий           3289\n",
       "красный         1531\n",
       "коричневый      1501\n",
       "зелёный          952\n",
       "бежевый          639\n",
       "голубой          457\n",
       "золотистый       266\n",
       "пурпурный        254\n",
       "фиолетовый       219\n",
       "жёлтый           194\n",
       "оранжевый        131\n",
       "розовый           13\n",
       "Name: color, dtype: int64"
      ]
     },
     "execution_count": 27,
     "metadata": {},
     "output_type": "execute_result"
    }
   ],
   "source": [
    "test_df['color'].value_counts()"
   ]
  },
  {
   "cell_type": "code",
   "execution_count": 28,
   "id": "cfe96c15",
   "metadata": {},
   "outputs": [
    {
     "data": {
      "text/plain": [
       "bodyType                    0\n",
       "brand                       0\n",
       "car_url                     0\n",
       "color                       0\n",
       "complectation_dict      10890\n",
       "description                 0\n",
       "engineDisplacement          0\n",
       "enginePower                 0\n",
       "equipment_dict              0\n",
       "fuelType                    2\n",
       "image                      66\n",
       "mileage                  7564\n",
       "modelDate                   2\n",
       "model_info              40721\n",
       "model_name               7564\n",
       "name                        0\n",
       "numberOfDoors               1\n",
       "parsing_unixtime            0\n",
       "priceCurrency               0\n",
       "productionDate              0\n",
       "sell_id                     0\n",
       "super_gen                   0\n",
       "vehicleConfiguration        1\n",
       "vehicleTransmission         2\n",
       "vendor                  40721\n",
       "Владельцы                7564\n",
       "Владение                34065\n",
       "ПТС                      7564\n",
       "Привод                   7566\n",
       "Руль                     7564\n",
       "Состояние                7566\n",
       "Таможня                  7567\n",
       "price                    4204\n",
       "dtype: int64"
      ]
     },
     "execution_count": 28,
     "metadata": {},
     "output_type": "execute_result"
    }
   ],
   "source": [
    "# Смотрим на количество пропусков\n",
    "train_df.isnull().sum()"
   ]
  },
  {
   "cell_type": "markdown",
   "id": "ec714fe0",
   "metadata": {},
   "source": [
    "## complectation_dict"
   ]
  },
  {
   "cell_type": "code",
   "execution_count": 29,
   "id": "19993a78",
   "metadata": {},
   "outputs": [
    {
     "data": {
      "text/plain": [
       "['airbag-passenger', 'lock', 'glonass', 'computer', 'seat-transformation', 'fabric-seats', 'steel-wheels', 'abs', 'usb', 'audiopreparation', 'spare-wheel', 'ashtray-and-cigarette-lighter', 'servo', 'electro-window-back', 'driver-seat-updown', 'condition', 'airbag-driver', 'isofix', 'aux', 'electro-window-front', 'migration-flag', 'bluetooth', 'wheel-configuration2', 'wheel-configuration1', 'immo', 'third-rear-headrest']                                                                                                                                                                                                                                                                                                                                                                                                                                                                                                                                                                                                                                                                                                                                                                                                                                                                                     365\n",
       "['airbag-passenger', 'bas', 'lock', 'glonass', 'computer', 'wheel-power', 'fabric-seats', 'steel-wheels', 'abs', 'esp', 'usb', 'spare-wheel', 'drl', 'driver-seat-updown', 'condition', 'led-lights', '15-inch-wheels', 'airbag-driver', 'isofix', 'electro-window-front', 'tyre-pressure', 'audiosystem-cd', 'wheel-configuration2', 'wheel-configuration1', 'immo', '12v-socket', 'third-rear-headrest']                                                                                                                                                                                                                                                                                                                                                                                                                                                                                                                                                                                                                                                                                                                                                                                                                                                                                                                  230\n",
       "['cruise-control', 'multi-wheel', 'airbag-passenger', 'roof-rails', 'decorative-interior-lighting', 'bas', 'lock', 'door-sill-panel', 'electro-mirrors', 'easy-trunk-opening', 'mirrors-heat', 'volume-sensor', 'leather', 'driver-seat-memory', 'glonass', 'start-stop-function', 'automatic-lighting-control', 'passenger-seat-updown', 'collision-prevention-assist', 'computer', 'high-beam-assist', 'seat-transformation', 'light-cleaner', 'driver-seat-electric', 'dha', 'airbag-side', 'electronic-gage-panel', 'electro-trunk', 'abs', 'wheel-leather', 'climate-control-2', 'auto-mirrors', 'asr', 'esp', 'usb', 'audiopreparation', 'audiosystem-tv', 'lane-keeping-assist', 'front-centre-armrest', 'front-seat-support', 'rear-camera', 'servo', 'drl', 'electro-window-back', 'reduce-spare-wheel', 'body-mouldings', 'park-assist-f', '19-inch-wheels', 'led-lights', 'music-super', 'park-assist-r', 'airbag-driver', 'isofix', 'drive-mode-sys', 'electro-window-front', 'light-sensor', 'hcc', 'airbag-curtain', 'keyless-entry', 'alarm', 'leather-gear-stick', 'traffic-sign-recognition', 'start-button', 'ptf', 'rain-sensor', 'tyre-pressure', 'voice-recognition', 'front-seats-heat', 'bluetooth', 'wheel-configuration2', 'wheel-configuration1', 'immo', '12v-socket', 'third-rear-headrest']    228\n",
       "['cruise-control', 'multi-wheel', 'airbag-passenger', 'roof-rails', 'bas', 'lock', 'door-sill-panel', 'electro-mirrors', 'mirrors-heat', 'volume-sensor', 'driver-seat-memory', 'glonass', 'start-stop-function', 'automatic-lighting-control', 'passenger-seat-updown', 'collision-prevention-assist', 'computer', 'high-beam-assist', 'seat-transformation', 'light-cleaner', 'driver-seat-electric', 'dha', 'fabric-seats', 'airbag-side', 'electronic-gage-panel', 'abs', 'wheel-leather', 'climate-control-2', 'auto-mirrors', 'asr', 'esp', 'usb', 'audiopreparation', 'audiosystem-tv', 'lane-keeping-assist', 'front-centre-armrest', 'servo', 'drl', 'electro-window-back', '18-inch-wheels', 'reduce-spare-wheel', 'led-lights', 'music-super', 'park-assist-r', 'airbag-driver', 'isofix', 'drive-mode-sys', 'electro-window-front', 'light-sensor', 'hcc', 'airbag-curtain', 'alarm', 'leather-gear-stick', 'traffic-sign-recognition', 'rain-sensor', 'tyre-pressure', 'voice-recognition', 'front-seats-heat', 'bluetooth', 'wheel-configuration2', 'wheel-configuration1', 'immo', '12v-socket', 'third-rear-headrest']                                                                                                                                                                                      221\n",
       "['cruise-control', 'xenon', 'airbag-passenger', 'lock', 'electro-mirrors', 'mirrors-heat', 'leather', 'computer', 'seat-transformation', 'wheel-power', 'airbag-side', 'abs', 'climate-control-1', 'esp', 'audiopreparation', 'electro-window-back', 'hatch', 'condition', 'music-super', 'airbag-driver', 'electro-window-front', 'passenger-seat-electric', 'alarm', 'paint-metallic', 'ptf', 'migration-flag', 'front-seats-heat', 'wheel-configuration2', 'wheel-configuration1', 'immo']                                                                                                                                                                                                                                                                                                                                                                                                                                                                                                                                                                                                                                                                                                                                                                                                                               205\n",
       "['cruise-control', 'multi-wheel', 'airbag-passenger', 'navigation', 'lock', 'electro-mirrors', 'mirrors-heat', 'computer', 'seat-transformation', 'fabric-seats', 'airbag-side', 'abs', 'wheel-leather', 'climate-control-1', 'auto-mirrors', 'esp', 'usb', 'audiopreparation', 'front-centre-armrest', 'servo', 'electro-window-back', '17-inch-wheels', 'body-mouldings', 'airbag-driver', 'isofix', 'aux', 'electro-window-front', 'light-sensor', 'hcc', 'airbag-curtain', 'leather-gear-stick', 'ptf', 'rain-sensor', 'audiosystem-cd', 'migration-flag', 'front-seats-heat', 'power-child-locks-rear-doors', 'bluetooth', 'wheel-configuration2', 'wheel-configuration1', 'immo', 'windscreen-heat', '12v-socket', 'third-rear-headrest']                                                                                                                                                                                                                                                                                                                                                                                                                                                                                                                                                                             175\n",
       "Name: complectation_dict, dtype: int64"
      ]
     },
     "execution_count": 29,
     "metadata": {},
     "output_type": "execute_result"
    }
   ],
   "source": [
    "train_df['complectation_dict'].value_counts()[:6]"
   ]
  },
  {
   "cell_type": "code",
   "execution_count": 30,
   "id": "d9d2b617",
   "metadata": {},
   "outputs": [
    {
     "data": {
      "text/plain": [
       "{\"id\":\"4562904\",\"name\":\"Elegance\",\"available_options\":[\"cruise-control\",\"multi-wheel\",\"airbag-passenger\",\"lock\",\"electro-mirrors\",\"mirrors-heat\",\"cooling-box\",\"computer\",\"seat-transformation\",\"wheel-power\",\"fabric-seats\",\"airbag-side\",\"abs\",\"wheel-leather\",\"climate-control-1\",\"esp\",\"audiopreparation\",\"electro-window-back\",\"condition\",\"music-super\",\"park-assist-r\",\"airbag-driver\",\"isofix\",\"aux\",\"electro-window-front\",\"light-sensor\",\"hcc\",\"alarm\",\"ptf\",\"rain-sensor\",\"audiosystem-cd\",\"front-seats-heat\",\"wheel-configuration2\",\"wheel-configuration1\",\"immo\"]}                                                                                                                                                                                                                                                                                                                                                                                                                                                                                                                                                                                                                                                                                                                                                                                                                                                                                                                                                                                                                                                                                                                                                                                                                                                                                                                                                                                                                                                                                                                                                                                                                                                                                                                                                                                                                                                                                                                                                                                                                                                                                                                                                                                                                                                                                                                                                                                                                                                                                                                                                                                                                                                                                                                                                                                                                                                                                                                                                                                                                                                                                                                                                                                                                                                                                                                                                                                                                                                                                                                                                                                                                                                                                                                                                                                                                                                                                                                                                                                                                                                                                                                                                                                                                                                                                                                                                                                                                                                                                                                                                                                                                                                                                                                                                                                                                                                                                                                                                                                                                                                                                                                                                                                                                                                                                                                                                                                                                                                                                                                                                                                                                                                                                                                                                                                                                                                                                                                                                                                                                                                                                                                                                                                                                                                                                                                                                                                                                                                                                                                                                                                                                                                                                                                                                                                                                                                                                                                                                                                                                                                                                                                                                                                                                                                                                                                                                                                                                                                                                                                                                                                                                                                                                                                                                                                                                                                                                                                                                                                                                                                                                                                                                                                                                                                                                                                                                                                                                                                                                                                                                                                                                                                                                                                                                                                                                                                                                                                                                                                                                                                                                                                                                                                                                                                                                                                                                                                                                                                                                                                                                                                                                                                                                                     51\n",
       "{\"id\":\"20913628\",\"name\":\"Style\",\"available_options\":[\"cruise-control\",\"multi-wheel\",\"heated-wash-system\",\"airbag-passenger\",\"decorative-interior-lighting\",\"lock\",\"electro-mirrors\",\"mirrors-heat\",\"volume-sensor\",\"cooling-box\",\"glonass\",\"passenger-seat-updown\",\"computer\",\"seat-transformation\",\"fabric-seats\",\"airbag-side\",\"electronic-gage-panel\",\"abs\",\"wheel-leather\",\"climate-control-2\",\"esp\",\"usb\",\"audiopreparation\",\"ashtray-and-cigarette-lighter\",\"front-centre-armrest\",\"servo\",\"electro-window-back\",\"16-inch-wheels\",\"park-assist-r\",\"airbag-driver\",\"isofix\",\"aux\",\"electro-window-front\",\"light-sensor\",\"hcc\",\"airbag-curtain\",\"alarm\",\"leather-gear-stick\",\"ptf\",\"rain-sensor\",\"voice-recognition\",\"audiosystem-cd\",\"front-seats-heat\",\"bluetooth\",\"wheel-configuration2\",\"wheel-configuration1\",\"immo\",\"12v-socket\",\"third-rear-headrest\"],\"vendor_colors\":[{\"body_color_id\":21438108,\"mark_color_id\":21390875,\"name_ru\":\"Серый Platinum\",\"hex_codes\":[\"787672\"],\"color_type\":\"METALLIC\",\"stock_color\":{\"hex_code\":\"97948F\",\"name_ru\":\"серый\"},\"photos\":[{\"name\":\"34-front\",\"sizes\":{\"orig\":\"//avatars.mds.yandex.net/get-verba/1540742/2a0000016dcfe0e0ca95c1e01f535bff3a3c/orig\",\"wizardv3mr\":\"//avatars.mds.yandex.net/get-verba/1540742/2a0000016dcfe0e0ca95c1e01f535bff3a3c/wizardv3mr\",\"wizardv3\":\"//avatars.mds.yandex.net/get-verba/1540742/2a0000016dcfe0e0ca95c1e01f535bff3a3c/wizardv3\",\"cattouch\":\"//avatars.mds.yandex.net/get-verba/1540742/2a0000016dcfe0e0ca95c1e01f535bff3a3c/cattouch\",\"small\":\"//avatars.mds.yandex.net/get-verba/1540742/2a0000016dcfe0e0ca95c1e01f535bff3a3c/small\",\"320x240\":\"//avatars.mds.yandex.net/get-verba/1540742/2a0000016dcfe0e0ca95c1e01f535bff3a3c/320x240\",\"1200x900\":\"//avatars.mds.yandex.net/get-verba/1540742/2a0000016dcfe0e0ca95c1e01f535bff3a3c/1200x900\",\"1200x900n\":\"//avatars.mds.yandex.net/get-verba/1540742/2a0000016dcfe0e0ca95c1e01f535bff3a3c/1200x900n\",\"thumb_m\":\"//avatars.mds.yandex.net/get-verba/1540742/2a0000016dcfe0e0ca95c1e01f535bff3a3c/thumb_m\",\"full\":\"//avatars.mds.yandex.net/get-verba/1540742/2a0000016dcfe0e0ca95c1e01f535bff3a3c/full\",\"832x624\":\"//avatars.mds.yandex.net/get-verba/1540742/2a0000016dcfe0e0ca95c1e01f535bff3a3c/832x624\",\"456x342\":\"//avatars.mds.yandex.net/get-verba/1540742/2a0000016dcfe0e0ca95c1e01f535bff3a3c/456x342\",\"120x90\":\"//avatars.mds.yandex.net/get-verba/1540742/2a0000016dcfe0e0ca95c1e01f535bff3a3c/120x90\",\"92x69\":\"//avatars.mds.yandex.net/get-verba/1540742/2a0000016dcfe0e0ca95c1e01f535bff3a3c/92x69\",\"islandoff\":\"//avatars.mds.yandex.net/get-verba/1540742/2a0000016dcfe0e0ca95c1e01f535bff3a3c/islandoff\",\"thumb_s\":\"//avatars.mds.yandex.net/get-verba/1540742/2a0000016dcfe0e0ca95c1e01f535bff3a3c/thumb_s\",\"thumb_s_2x\":\"//avatars.mds.yandex.net/get-verba/1540742/2a0000016dcfe0e0ca95c1e01f535bff3a3c/thumb_s_2x\"}},{\"name\":\"34-back\",\"sizes\":{\"orig\":\"//avatars.mds.yandex.net/get-verba/937147/2a0000016dcfe0fc1be343934c10f4bd6712/orig\",\"wizardv3mr\":\"//avatars.mds.yandex.net/get-verba/937147/2a0000016dcfe0fc1be343934c10f4bd6712/wizardv3mr\",\"wizardv3\":\"//avatars.mds.yandex.net/get-verba/937147/2a0000016dcfe0fc1be343934c10f4bd6712/wizardv3\",\"cattouch\":\"//avatars.mds.yandex.net/get-verba/937147/2a0000016dcfe0fc1be343934c10f4bd6712/cattouch\",\"small\":\"//avatars.mds.yandex.net/get-verba/937147/2a0000016dcfe0fc1be343934c10f4bd6712/small\",\"320x240\":\"//avatars.mds.yandex.net/get-verba/937147/2a0000016dcfe0fc1be343934c10f4bd6712/320x240\",\"1200x900\":\"//avatars.mds.yandex.net/get-verba/937147/2a0000016dcfe0fc1be343934c10f4bd6712/1200x900\",\"1200x900n\":\"//avatars.mds.yandex.net/get-verba/937147/2a0000016dcfe0fc1be343934c10f4bd6712/1200x900n\",\"thumb_m\":\"//avatars.mds.yandex.net/get-verba/937147/2a0000016dcfe0fc1be343934c10f4bd6712/thumb_m\",\"full\":\"//avatars.mds.yandex.net/get-verba/937147/2a0000016dcfe0fc1be343934c10f4bd6712/full\",\"832x624\":\"//avatars.mds.yandex.net/get-verba/937147/2a0000016dcfe0fc1be343934c10f4bd6712/832x624\",\"456x342\":\"//avatars.mds.yandex.net/get-verba/937147/2a0000016dcfe0fc1be343934c10f4bd6712/456x342\",\"120x90\":\"//avatars.mds.yandex.net/get-verba/937147/2a0000016dcfe0fc1be343934c10f4bd6712/120x90\",\"92x69\":\"//avatars.mds.yandex.net/get-verba/937147/2a0000016dcfe0fc1be343934c10f4bd6712/92x69\",\"islandoff\":\"//avatars.mds.yandex.net/get-verba/937147/2a0000016dcfe0fc1be343934c10f4bd6712/islandoff\",\"thumb_s\":\"//avatars.mds.yandex.net/get-verba/937147/2a0000016dcfe0fc1be343934c10f4bd6712/thumb_s\",\"thumb_s_2x\":\"//avatars.mds.yandex.net/get-verba/937147/2a0000016dcfe0fc1be343934c10f4bd6712/thumb_s_2x\"}},{\"name\":\"side\",\"sizes\":{\"orig\":\"//avatars.mds.yandex.net/get-verba/997355/2a0000016dcfe11090fc6e82019c69278a4b/orig\",\"wizardv3mr\":\"//avatars.mds.yandex.net/get-verba/997355/2a0000016dcfe11090fc6e82019c69278a4b/wizardv3mr\",\"wizardv3\":\"//avatars.mds.yandex.net/get-verba/997355/2a0000016dcfe11090fc6e82019c69278a4b/wizardv3\",\"cattouch\":\"//avatars.mds.yandex.net/get-verba/997355/2a0000016dcfe11090fc6e82019c69278a4b/cattouch\",\"small\":\"//avatars.mds.yandex.net/get-verba/997355/2a0000016dcfe11090fc6e82019c69278a4b/small\",\"320x240\":\"//avatars.mds.yandex.net/get-verba/997355/2a0000016dcfe11090fc6e82019c69278a4b/320x240\",\"1200x900\":\"//avatars.mds.yandex.net/get-verba/997355/2a0000016dcfe11090fc6e82019c69278a4b/1200x900\",\"1200x900n\":\"//avatars.mds.yandex.net/get-verba/997355/2a0000016dcfe11090fc6e82019c69278a4b/1200x900n\",\"thumb_m\":\"//avatars.mds.yandex.net/get-verba/997355/2a0000016dcfe11090fc6e82019c69278a4b/thumb_m\",\"full\":\"//avatars.mds.yandex.net/get-verba/997355/2a0000016dcfe11090fc6e82019c69278a4b/full\",\"832x624\":\"//avatars.mds.yandex.net/get-verba/997355/2a0000016dcfe11090fc6e82019c69278a4b/832x624\",\"456x342\":\"//avatars.mds.yandex.net/get-verba/997355/2a0000016dcfe11090fc6e82019c69278a4b/456x342\",\"120x90\":\"//avatars.mds.yandex.net/get-verba/997355/2a0000016dcfe11090fc6e82019c69278a4b/120x90\",\"92x69\":\"//avatars.mds.yandex.net/get-verba/997355/2a0000016dcfe11090fc6e82019c69278a4b/92x69\",\"islandoff\":\"//avatars.mds.yandex.net/get-verba/997355/2a0000016dcfe11090fc6e82019c69278a4b/islandoff\",\"thumb_s\":\"//avatars.mds.yandex.net/get-verba/997355/2a0000016dcfe11090fc6e82019c69278a4b/thumb_s\",\"thumb_s_2x\":\"//avatars.mds.yandex.net/get-verba/997355/2a0000016dcfe11090fc6e82019c69278a4b/thumb_s_2x\"}},{\"name\":\"front\",\"sizes\":{\"orig\":\"//avatars.mds.yandex.net/get-verba/997355/2a0000016dcfe1479d0018532a6831caa889/orig\",\"wizardv3mr\":\"//avatars.mds.yandex.net/get-verba/997355/2a0000016dcfe1479d0018532a6831caa889/wizardv3mr\",\"wizardv3\":\"//avatars.mds.yandex.net/get-verba/997355/2a0000016dcfe1479d0018532a6831caa889/wizardv3\",\"cattouch\":\"//avatars.mds.yandex.net/get-verba/997355/2a0000016dcfe1479d0018532a6831caa889/cattouch\",\"small\":\"//avatars.mds.yandex.net/get-verba/997355/2a0000016dcfe1479d0018532a6831caa889/small\",\"320x240\":\"//avatars.mds.yandex.net/get-verba/997355/2a0000016dcfe1479d0018532a6831caa889/320x240\",\"1200x900\":\"//avatars.mds.yandex.net/get-verba/997355/2a0000016dcfe1479d0018532a6831caa889/1200x900\",\"1200x900n\":\"//avatars.mds.yandex.net/get-verba/997355/2a0000016dcfe1479d0018532a6831caa889/1200x900n\",\"thumb_m\":\"//avatars.mds.yandex.net/get-verba/997355/2a0000016dcfe1479d0018532a6831caa889/thumb_m\",\"full\":\"//avatars.mds.yandex.net/get-verba/997355/2a0000016dcfe1479d0018532a6831caa889/full\",\"832x624\":\"//avatars.mds.yandex.net/get-verba/997355/2a0000016dcfe1479d0018532a6831caa889/832x624\",\"456x342\":\"//avatars.mds.yandex.net/get-verba/997355/2a0000016dcfe1479d0018532a6831caa889/456x342\",\"120x90\":\"//avatars.mds.yandex.net/get-verba/997355/2a0000016dcfe1479d0018532a6831caa889/120x90\",\"92x69\":\"//avatars.mds.yandex.net/get-verba/997355/2a0000016dcfe1479d0018532a6831caa889/92x69\",\"islandoff\":\"//avatars.mds.yandex.net/get-verba/997355/2a0000016dcfe1479d0018532a6831caa889/islandoff\",\"thumb_s\":\"//avatars.mds.yandex.net/get-verba/997355/2a0000016dcfe1479d0018532a6831caa889/thumb_s\",\"thumb_s_2x\":\"//avatars.mds.yandex.net/get-verba/997355/2a0000016dcfe1479d0018532a6831caa889/thumb_s_2x\"}},{\"name\":\"back\",\"sizes\":{\"orig\":\"//avatars.mds.yandex.net/get-verba/997355/2a0000016dcfe170341bf5bda8080e27b18a/orig\",\"wizardv3mr\":\"//avatars.mds.yandex.net/get-verba/997355/2a0000016dcfe170341bf5bda8080e27b18a/wizardv3mr\",\"wizardv3\":\"//avatars.mds.yandex.net/get-verba/997355/2a0000016dcfe170341bf5bda8080e27b18a/wizardv3\",\"cattouch\":\"//avatars.mds.yandex.net/get-verba/997355/2a0000016dcfe170341bf5bda8080e27b18a/cattouch\",\"small\":\"//avatars.mds.yandex.net/get-verba/997355/2a0000016dcfe170341bf5bda8080e27b18a/small\",\"320x240\":\"//avatars.mds.yandex.net/get-verba/997355/2a0000016dcfe170341bf5bda8080e27b18a/320x240\",\"1200x900\":\"//avatars.mds.yandex.net/get-verba/997355/2a0000016dcfe170341bf5bda8080e27b18a/1200x900\",\"1200x900n\":\"//avatars.mds.yandex.net/get-verba/997355/2a0000016dcfe170341bf5bda8080e27b18a/1200x900n\",\"thumb_m\":\"//avatars.mds.yandex.net/get-verba/997355/2a0000016dcfe170341bf5bda8080e27b18a/thumb_m\",\"full\":\"//avatars.mds.yandex.net/get-verba/997355/2a0000016dcfe170341bf5bda8080e27b18a/full\",\"832x624\":\"//avatars.mds.yandex.net/get-verba/997355/2a0000016dcfe170341bf5bda8080e27b18a/832x624\",\"456x342\":\"//avatars.mds.yandex.net/get-verba/997355/2a0000016dcfe170341bf5bda8080e27b18a/456x342\",\"120x90\":\"//avatars.mds.yandex.net/get-verba/997355/2a0000016dcfe170341bf5bda8080e27b18a/120x90\",\"92x69\":\"//avatars.mds.yandex.net/get-verba/997355/2a0000016dcfe170341bf5bda8080e27b18a/92x69\",\"islandoff\":\"//avatars.mds.yandex.net/get-verba/997355/2a0000016dcfe170341bf5bda8080e27b18a/islandoff\",\"thumb_s\":\"//avatars.mds.yandex.net/get-verba/997355/2a0000016dcfe170341bf5bda8080e27b18a/thumb_s\",\"thumb_s_2x\":\"//avatars.mds.yandex.net/get-verba/997355/2a0000016dcfe170341bf5bda8080e27b18a/thumb_s_2x\"}}],\"main_color\":true}]}                                                                                                                                                                                                                                 26\n",
       "{\"id\":\"7768581\",\"name\":\"Ambition\",\"available_options\":[\"airbag-passenger\",\"lock\",\"electro-mirrors\",\"mirrors-heat\",\"computer\",\"seat-transformation\",\"wheel-power\",\"fabric-seats\",\"abs\",\"esp\",\"audiopreparation\",\"electro-window-back\",\"condition\",\"music-super\",\"airbag-driver\",\"isofix\",\"electro-window-front\",\"light-sensor\",\"hcc\",\"alarm\",\"rain-sensor\",\"audiosystem-cd\",\"front-seats-heat\",\"wheel-configuration2\",\"wheel-configuration1\",\"immo\"]}                                                                                                                                                                                                                                                                                                                                                                                                                                                                                                                                                                                                                                                                                                                                                                                                                                                                                                                                                                                                                                                                                                                                                                                                                                                                                                                                                                                                                                                                                                                                                                                                                                                                                                                                                                                                                                                                                                                                                                                                                                                                                                                                                                                                                                                                                                                                                                                                                                                                                                                                                                                                                                                                                                                                                                                                                                                                                                                                                                                                                                                                                                                                                                                                                                                                                                                                                                                                                                                                                                                                                                                                                                                                                                                                                                                                                                                                                                                                                                                                                                                                                                                                                                                                                                                                                                                                                                                                                                                                                                                                                                                                                                                                                                                                                                                                                                                                                                                                                                                                                                                                                                                                                                                                                                                                                                                                                                                                                                                                                                                                                                                                                                                                                                                                                                                                                                                                                                                                                                                                                                                                                                                                                                                                                                                                                                                                                                                                                                                                                                                                                                                                                                                                                                                                                                                                                                                                                                                                                                                                                                                                                                                                                                                                                                                                                                                                                                                                                                                                                                                                                                                                                                                                                                                                                                                                                                                                                                                                                                                                                                                                                                                                                                                                                                                                                                                                                                                                                                                                                                                                                                                                                                                                                                                                                                                                                                                                                                                                                                                                                                                                                                                                                                                                                                                                                                                                                                                                                                                                                                                                                                                                                                                                                                                                                                                                                                25\n",
       "{\"id\":\"7150237\",\"name\":\"Highline\",\"available_options\":[\"multi-wheel\",\"heated-wash-system\",\"airbag-passenger\",\"lock\",\"door-sill-panel\",\"electro-mirrors\",\"mirrors-heat\",\"volume-sensor\",\"cooling-box\",\"drowsy-driver-alert-system\",\"computer\",\"seat-transformation\",\"airbag-side\",\"abs\",\"wheel-leather\",\"climate-control-1\",\"auto-mirrors\",\"esp\",\"audiopreparation\",\"ashtray-and-cigarette-lighter\",\"front-centre-armrest\",\"servo\",\"electro-window-back\",\"17-inch-wheels\",\"body-mouldings\",\"airbag-driver\",\"isofix\",\"aux\",\"electro-window-front\",\"light-sensor\",\"hcc\",\"airbag-curtain\",\"alarm\",\"leather-gear-stick\",\"ptf\",\"rain-sensor\",\"tyre-pressure\",\"audiosystem-cd\",\"front-seats-heat\",\"wheel-configuration2\",\"wheel-configuration1\",\"immo\",\"windscreen-heat\",\"12v-socket\",\"third-rear-headrest\"]}                                                                                                                                                                                                                                                                                                                                                                                                                                                                                                                                                                                                                                                                                                                                                                                                                                                                                                                                                                                                                                                                                                                                                                                                                                                                                                                                                                                                                                                                                                                                                                                                                                                                                                                                                                                                                                                                                                                                                                                                                                                                                                                                                                                                                                                                                                                                                                                                                                                                                                                                                                                                                                                                                                                                                                                                                                                                                                                                                                                                                                                                                                                                                                                                                                                                                                                                                                                                                                                                                                                                                                                                                                                                                                                                                                                                                                                                                                                                                                                                                                                                                                                                                                                                                                                                                                                                                                                                                                                                                                                                                                                                                                                                                                                                                                                                                                                                                                                                                                                                                                                                                                                                                                                                                                                                                                                                                                                                                                                                                                                                                                                                                                                                                                                                                                                                                                                                                                                                                                                                                                                                                                                                                                                                                                                                                                                                                                                                                                                                                                                                                                                                                                                                                                                                                                                                                                                                                                                                                                                                                                                                                                                                                                                                                                                                                                                                                                                                                                                                                                                                                                                                                                                                                                                                                                                                                                                                                                                                                                                                                                                                                                                                                                                                                                                                                                                                                                                                                                                                                                                                                                                                                                                                                                                                                                                                                                                                                                                                                                                                                                                                                                                                                                                                                                                                                                                                                                                                                                                                              24\n",
       "{\"id\":\"7953884\",\"name\":\"Люкс 7 мест\",\"available_options\":[\"cruise-control\",\"multi-wheel\",\"xenon\",\"airbag-passenger\",\"navigation\",\"roof-rails\",\"lock\",\"electro-mirrors\",\"mirrors-heat\",\"cooling-box\",\"leather\",\"seat-memory\",\"front-seats-heat-vent\",\"automatic-lighting-control\",\"computer\",\"seat-transformation\",\"wheel-power\",\"light-cleaner\",\"airbag-rear-side\",\"airbag-side\",\"electro-trunk\",\"abs\",\"wheel-leather\",\"third-row-seats\",\"climate-control-1\",\"auto-mirrors\",\"esp\",\"usb\",\"audiopreparation\",\"front-centre-armrest\",\"rear-camera\",\"electro-window-back\",\"18-inch-wheels\",\"hatch\",\"body-mouldings\",\"park-assist-f\",\"rear-seats-heat\",\"wheel-heat\",\"condition\",\"music-super\",\"park-assist-r\",\"knee-airbag\",\"airbag-driver\",\"isofix\",\"aux\",\"electro-window-front\",\"light-sensor\",\"hcc\",\"airbag-curtain\",\"keyless-entry\",\"passenger-seat-electric\",\"alarm\",\"leather-gear-stick\",\"start-button\",\"ptf\",\"rain-sensor\",\"audiosystem-cd\",\"front-seats-heat\",\"bluetooth\",\"wheel-configuration2\",\"wheel-configuration1\",\"immo\",\"windscreen-heat\",\"12v-socket\",\"third-rear-headrest\",\"360-camera\"],\"vendor_colors\":[{\"body_color_id\":20619310,\"mark_color_id\":21391193,\"name_ru\":\"Черный\",\"hex_codes\":[\"030303\"],\"color_type\":\"METALLIC\",\"stock_color\":{\"hex_code\":\"040001\",\"name_ru\":\"черный\"},\"photos\":[{\"name\":\"34-front\",\"sizes\":{\"orig\":\"//avatars.mds.yandex.net/get-verba/787013/2a000001609d3cd5723005f6fde023051e1e/orig\",\"wizardv3mr\":\"//avatars.mds.yandex.net/get-verba/787013/2a000001609d3cd5723005f6fde023051e1e/wizardv3mr\",\"wizardv3\":\"//avatars.mds.yandex.net/get-verba/787013/2a000001609d3cd5723005f6fde023051e1e/wizardv3\",\"cattouch\":\"//avatars.mds.yandex.net/get-verba/787013/2a000001609d3cd5723005f6fde023051e1e/cattouch\",\"small\":\"//avatars.mds.yandex.net/get-verba/787013/2a000001609d3cd5723005f6fde023051e1e/small\",\"320x240\":\"//avatars.mds.yandex.net/get-verba/787013/2a000001609d3cd5723005f6fde023051e1e/320x240\",\"1200x900\":\"//avatars.mds.yandex.net/get-verba/787013/2a000001609d3cd5723005f6fde023051e1e/1200x900\",\"1200x900n\":\"//avatars.mds.yandex.net/get-verba/787013/2a000001609d3cd5723005f6fde023051e1e/1200x900n\",\"thumb_m\":\"//avatars.mds.yandex.net/get-verba/787013/2a000001609d3cd5723005f6fde023051e1e/thumb_m\",\"full\":\"//avatars.mds.yandex.net/get-verba/787013/2a000001609d3cd5723005f6fde023051e1e/full\",\"832x624\":\"//avatars.mds.yandex.net/get-verba/787013/2a000001609d3cd5723005f6fde023051e1e/832x624\",\"456x342\":\"//avatars.mds.yandex.net/get-verba/787013/2a000001609d3cd5723005f6fde023051e1e/456x342\",\"120x90\":\"//avatars.mds.yandex.net/get-verba/787013/2a000001609d3cd5723005f6fde023051e1e/120x90\",\"92x69\":\"//avatars.mds.yandex.net/get-verba/787013/2a000001609d3cd5723005f6fde023051e1e/92x69\",\"islandoff\":\"//avatars.mds.yandex.net/get-verba/787013/2a000001609d3cd5723005f6fde023051e1e/islandoff\",\"thumb_s\":\"//avatars.mds.yandex.net/get-verba/787013/2a000001609d3cd5723005f6fde023051e1e/thumb_s\",\"thumb_s_2x\":\"//avatars.mds.yandex.net/get-verba/787013/2a000001609d3cd5723005f6fde023051e1e/thumb_s_2x\"}},{\"name\":\"34-back\",\"sizes\":{\"orig\":\"//avatars.mds.yandex.net/get-verba/787013/2a000001609d5131dfea59ea0a5710238dd5/orig\",\"wizardv3mr\":\"//avatars.mds.yandex.net/get-verba/787013/2a000001609d5131dfea59ea0a5710238dd5/wizardv3mr\",\"wizardv3\":\"//avatars.mds.yandex.net/get-verba/787013/2a000001609d5131dfea59ea0a5710238dd5/wizardv3\",\"cattouch\":\"//avatars.mds.yandex.net/get-verba/787013/2a000001609d5131dfea59ea0a5710238dd5/cattouch\",\"small\":\"//avatars.mds.yandex.net/get-verba/787013/2a000001609d5131dfea59ea0a5710238dd5/small\",\"320x240\":\"//avatars.mds.yandex.net/get-verba/787013/2a000001609d5131dfea59ea0a5710238dd5/320x240\",\"1200x900\":\"//avatars.mds.yandex.net/get-verba/787013/2a000001609d5131dfea59ea0a5710238dd5/1200x900\",\"1200x900n\":\"//avatars.mds.yandex.net/get-verba/787013/2a000001609d5131dfea59ea0a5710238dd5/1200x900n\",\"thumb_m\":\"//avatars.mds.yandex.net/get-verba/787013/2a000001609d5131dfea59ea0a5710238dd5/thumb_m\",\"full\":\"//avatars.mds.yandex.net/get-verba/787013/2a000001609d5131dfea59ea0a5710238dd5/full\",\"832x624\":\"//avatars.mds.yandex.net/get-verba/787013/2a000001609d5131dfea59ea0a5710238dd5/832x624\",\"456x342\":\"//avatars.mds.yandex.net/get-verba/787013/2a000001609d5131dfea59ea0a5710238dd5/456x342\",\"120x90\":\"//avatars.mds.yandex.net/get-verba/787013/2a000001609d5131dfea59ea0a5710238dd5/120x90\",\"92x69\":\"//avatars.mds.yandex.net/get-verba/787013/2a000001609d5131dfea59ea0a5710238dd5/92x69\",\"islandoff\":\"//avatars.mds.yandex.net/get-verba/787013/2a000001609d5131dfea59ea0a5710238dd5/islandoff\",\"thumb_s\":\"//avatars.mds.yandex.net/get-verba/787013/2a000001609d5131dfea59ea0a5710238dd5/thumb_s\",\"thumb_s_2x\":\"//avatars.mds.yandex.net/get-verba/787013/2a000001609d5131dfea59ea0a5710238dd5/thumb_s_2x\"}},{\"name\":\"side\",\"sizes\":{\"orig\":\"//avatars.mds.yandex.net/get-verba/787013/2a000001609d08270baa392c030d44df3433/orig\",\"wizardv3mr\":\"//avatars.mds.yandex.net/get-verba/787013/2a000001609d08270baa392c030d44df3433/wizardv3mr\",\"wizardv3\":\"//avatars.mds.yandex.net/get-verba/787013/2a000001609d08270baa392c030d44df3433/wizardv3\",\"cattouch\":\"//avatars.mds.yandex.net/get-verba/787013/2a000001609d08270baa392c030d44df3433/cattouch\",\"small\":\"//avatars.mds.yandex.net/get-verba/787013/2a000001609d08270baa392c030d44df3433/small\",\"320x240\":\"//avatars.mds.yandex.net/get-verba/787013/2a000001609d08270baa392c030d44df3433/320x240\",\"1200x900\":\"//avatars.mds.yandex.net/get-verba/787013/2a000001609d08270baa392c030d44df3433/1200x900\",\"1200x900n\":\"//avatars.mds.yandex.net/get-verba/787013/2a000001609d08270baa392c030d44df3433/1200x900n\",\"thumb_m\":\"//avatars.mds.yandex.net/get-verba/787013/2a000001609d08270baa392c030d44df3433/thumb_m\",\"full\":\"//avatars.mds.yandex.net/get-verba/787013/2a000001609d08270baa392c030d44df3433/full\",\"832x624\":\"//avatars.mds.yandex.net/get-verba/787013/2a000001609d08270baa392c030d44df3433/832x624\",\"456x342\":\"//avatars.mds.yandex.net/get-verba/787013/2a000001609d08270baa392c030d44df3433/456x342\",\"120x90\":\"//avatars.mds.yandex.net/get-verba/787013/2a000001609d08270baa392c030d44df3433/120x90\",\"92x69\":\"//avatars.mds.yandex.net/get-verba/787013/2a000001609d08270baa392c030d44df3433/92x69\",\"islandoff\":\"//avatars.mds.yandex.net/get-verba/787013/2a000001609d08270baa392c030d44df3433/islandoff\",\"thumb_s\":\"//avatars.mds.yandex.net/get-verba/787013/2a000001609d08270baa392c030d44df3433/thumb_s\",\"thumb_s_2x\":\"//avatars.mds.yandex.net/get-verba/787013/2a000001609d08270baa392c030d44df3433/thumb_s_2x\"}},{\"name\":\"front\",\"sizes\":{\"orig\":\"//avatars.mds.yandex.net/get-verba/787013/2a000001609d50d9b5d7357352ab76444c92/orig\",\"wizardv3mr\":\"//avatars.mds.yandex.net/get-verba/787013/2a000001609d50d9b5d7357352ab76444c92/wizardv3mr\",\"wizardv3\":\"//avatars.mds.yandex.net/get-verba/787013/2a000001609d50d9b5d7357352ab76444c92/wizardv3\",\"cattouch\":\"//avatars.mds.yandex.net/get-verba/787013/2a000001609d50d9b5d7357352ab76444c92/cattouch\",\"small\":\"//avatars.mds.yandex.net/get-verba/787013/2a000001609d50d9b5d7357352ab76444c92/small\",\"320x240\":\"//avatars.mds.yandex.net/get-verba/787013/2a000001609d50d9b5d7357352ab76444c92/320x240\",\"1200x900\":\"//avatars.mds.yandex.net/get-verba/787013/2a000001609d50d9b5d7357352ab76444c92/1200x900\",\"1200x900n\":\"//avatars.mds.yandex.net/get-verba/787013/2a000001609d50d9b5d7357352ab76444c92/1200x900n\",\"thumb_m\":\"//avatars.mds.yandex.net/get-verba/787013/2a000001609d50d9b5d7357352ab76444c92/thumb_m\",\"full\":\"//avatars.mds.yandex.net/get-verba/787013/2a000001609d50d9b5d7357352ab76444c92/full\",\"832x624\":\"//avatars.mds.yandex.net/get-verba/787013/2a000001609d50d9b5d7357352ab76444c92/832x624\",\"456x342\":\"//avatars.mds.yandex.net/get-verba/787013/2a000001609d50d9b5d7357352ab76444c92/456x342\",\"120x90\":\"//avatars.mds.yandex.net/get-verba/787013/2a000001609d50d9b5d7357352ab76444c92/120x90\",\"92x69\":\"//avatars.mds.yandex.net/get-verba/787013/2a000001609d50d9b5d7357352ab76444c92/92x69\",\"islandoff\":\"//avatars.mds.yandex.net/get-verba/787013/2a000001609d50d9b5d7357352ab76444c92/islandoff\",\"thumb_s\":\"//avatars.mds.yandex.net/get-verba/787013/2a000001609d50d9b5d7357352ab76444c92/thumb_s\",\"thumb_s_2x\":\"//avatars.mds.yandex.net/get-verba/787013/2a000001609d50d9b5d7357352ab76444c92/thumb_s_2x\"}},{\"name\":\"back\",\"sizes\":{\"orig\":\"//avatars.mds.yandex.net/get-verba/1030388/2a000001609d056528710ee522e73860b898/orig\",\"wizardv3mr\":\"//avatars.mds.yandex.net/get-verba/1030388/2a000001609d056528710ee522e73860b898/wizardv3mr\",\"wizardv3\":\"//avatars.mds.yandex.net/get-verba/1030388/2a000001609d056528710ee522e73860b898/wizardv3\",\"cattouch\":\"//avatars.mds.yandex.net/get-verba/1030388/2a000001609d056528710ee522e73860b898/cattouch\",\"small\":\"//avatars.mds.yandex.net/get-verba/1030388/2a000001609d056528710ee522e73860b898/small\",\"320x240\":\"//avatars.mds.yandex.net/get-verba/1030388/2a000001609d056528710ee522e73860b898/320x240\",\"1200x900\":\"//avatars.mds.yandex.net/get-verba/1030388/2a000001609d056528710ee522e73860b898/1200x900\",\"1200x900n\":\"//avatars.mds.yandex.net/get-verba/1030388/2a000001609d056528710ee522e73860b898/1200x900n\",\"thumb_m\":\"//avatars.mds.yandex.net/get-verba/1030388/2a000001609d056528710ee522e73860b898/thumb_m\",\"full\":\"//avatars.mds.yandex.net/get-verba/1030388/2a000001609d056528710ee522e73860b898/full\",\"832x624\":\"//avatars.mds.yandex.net/get-verba/1030388/2a000001609d056528710ee522e73860b898/832x624\",\"456x342\":\"//avatars.mds.yandex.net/get-verba/1030388/2a000001609d056528710ee522e73860b898/456x342\",\"120x90\":\"//avatars.mds.yandex.net/get-verba/1030388/2a000001609d056528710ee522e73860b898/120x90\",\"92x69\":\"//avatars.mds.yandex.net/get-verba/1030388/2a000001609d056528710ee522e73860b898/92x69\",\"islandoff\":\"//avatars.mds.yandex.net/get-verba/1030388/2a000001609d056528710ee522e73860b898/islandoff\",\"thumb_s\":\"//avatars.mds.yandex.net/get-verba/1030388/2a000001609d056528710ee522e73860b898/thumb_s\",\"thumb_s_2x\":\"//avatars.mds.yandex.net/get-verba/1030388/2a000001609d056528710ee522e73860b898/thumb_s_2x\"}}],\"main_color\":false}]}    22\n",
       "{\"id\":\"6129708\",\"name\":\"SE\",\"available_options\":[\"cruise-control\",\"multi-wheel\",\"airbag-passenger\",\"lock\",\"electro-mirrors\",\"mirrors-heat\",\"cooling-box\",\"computer\",\"seat-transformation\",\"wheel-power\",\"light-cleaner\",\"fabric-seats\",\"airbag-side\",\"abs\",\"wheel-leather\",\"climate-control-1\",\"auto-mirrors\",\"esp\",\"usb\",\"audiopreparation\",\"front-centre-armrest\",\"electro-window-back\",\"16-inch-wheels\",\"body-mouldings\",\"condition\",\"airbag-driver\",\"isofix\",\"aux\",\"electro-window-front\",\"light-sensor\",\"airbag-curtain\",\"leather-gear-stick\",\"ptf\",\"rain-sensor\",\"audiosystem-cd\",\"front-seats-heat\",\"power-child-locks-rear-doors\",\"bluetooth\",\"wheel-configuration2\",\"wheel-configuration1\",\"immo\",\"third-rear-headrest\"]}                                                                                                                                                                                                                                                                                                                                                                                                                                                                                                                                                                                                                                                                                                                                                                                                                                                                                                                                                                                                                                                                                                                                                                                                                                                                                                                                                                                                                                                                                                                                                                                                                                                                                                                                                                                                                                                                                                                                                                                                                                                                                                                                                                                                                                                                                                                                                                                                                                                                                                                                                                                                                                                                                                                                                                                                                                                                                                                                                                                                                                                                                                                                                                                                                                                                                                                                                                                                                                                                                                                                                                                                                                                                                                                                                                                                                                                                                                                                                                                                                                                                                                                                                                                                                                                                                                                                                                                                                                                                                                                                                                                                                                                                                                                                                                                                                                                                                                                                                                                                                                                                                                                                                                                                                                                                                                                                                                                                                                                                                                                                                                                                                                                                                                                                                                                                                                                                                                                                                                                                                                                                                                                                                                                                                                                                                                                                                                                                                                                                                                                                                                                                                                                                                                                                                                                                                                                                                                                                                                                                                                                                                                                                                                                                                                                                                                                                                                                                                                                                                                                                                                                                                                                                                                                                                                                                                                                                                                                                                                                                                                                                                                                                                                                                                                                                                                                                                                                                                                                                                                                                                                                                                                                                                                                                                                                                                                                                                                                                                                                                                                                                                                                                                                                                                                                                                                                                                                                                                                                                                                                                                  22\n",
       "Name: complectation_dict, dtype: int64"
      ]
     },
     "execution_count": 30,
     "metadata": {},
     "output_type": "execute_result"
    }
   ],
   "source": [
    "test_df['complectation_dict'].value_counts()[:6]"
   ]
  },
  {
   "cell_type": "code",
   "execution_count": 31,
   "id": "c4bd6a2b",
   "metadata": {},
   "outputs": [],
   "source": [
    "# Заполняем столбец complectation_dict тестовой выборки с использованием функции get_options_dict\n",
    "test_df.complectation_dict = test_df.complectation_dict.map(get_options_dict)"
   ]
  },
  {
   "cell_type": "code",
   "execution_count": 32,
   "id": "9b6cdb46",
   "metadata": {},
   "outputs": [
    {
     "ename": "TypeError",
     "evalue": "unhashable type: 'list'",
     "output_type": "error",
     "traceback": [
      "\u001b[1;31m---------------------------------------------------------------------------\u001b[0m",
      "\u001b[1;31mTypeError\u001b[0m                                 Traceback (most recent call last)",
      "\u001b[1;32mpandas\\_libs\\hashtable_class_helper.pxi\u001b[0m in \u001b[0;36mpandas._libs.hashtable.PyObjectHashTable.map_locations\u001b[1;34m()\u001b[0m\n",
      "\u001b[1;31mTypeError\u001b[0m: unhashable type: 'list'"
     ]
    },
    {
     "name": "stderr",
     "output_type": "stream",
     "text": [
      "Exception ignored in: 'pandas._libs.index.IndexEngine._call_map_locations'\n",
      "Traceback (most recent call last):\n",
      "  File \"pandas\\_libs\\hashtable_class_helper.pxi\", line 4588, in pandas._libs.hashtable.PyObjectHashTable.map_locations\n",
      "TypeError: unhashable type: 'list'\n"
     ]
    },
    {
     "data": {
      "text/plain": [
       "[]                                                                                                                                                                                                                                                                                                                                                                                                                                                                                                                                                                                                                                                                                                                     28268\n",
       "[cruise-control, xenon, airbag-passenger, lock, electro-mirrors, mirrors-heat, leather, computer, seat-transformation, wheel-power, airbag-side, abs, climate-control-1, esp, audiopreparation, electro-window-back, hatch, condition, music-super, airbag-driver, electro-window-front, passenger-seat-electric, alarm, paint-metallic, ptf, front-seats-heat, wheel-configuration2, wheel-configuration1, immo]                                                                                                                                                                                                                                                                                                        103\n",
       "[cruise-control, xenon, airbag-passenger, lock, electro-mirrors, mirrors-heat, leather, computer, seat-transformation, wheel-power, airbag-side, abs, climate-control-1, esp, audiopreparation, electro-window-back, condition, airbag-driver, electro-window-front, passenger-seat-electric, alarm, paint-metallic, ptf, audiosystem-cd, front-seats-heat, wheel-configuration2, wheel-configuration1, immo]                                                                                                                                                                                                                                                                                                             58\n",
       "[cruise-control, multi-wheel, airbag-passenger, lock, electro-mirrors, mirrors-heat, cooling-box, computer, seat-transformation, wheel-power, fabric-seats, airbag-side, abs, wheel-leather, climate-control-1, esp, audiopreparation, electro-window-back, condition, music-super, park-assist-r, airbag-driver, isofix, aux, electro-window-front, light-sensor, hcc, alarm, ptf, rain-sensor, audiosystem-cd, front-seats-heat, wheel-configuration2, wheel-configuration1, immo]                                                                                                                                                                                                                                      55\n",
       "[cruise-control, multi-wheel, xenon, airbag-passenger, lock, door-sill-panel, electro-mirrors, mirrors-heat, start-stop-function, automatic-lighting-control, computer, light-cleaner, fabric-seats, airbag-side, abs, wheel-leather, climate-control-1, esp, usb, audiopreparation, ashtray-and-cigarette-lighter, front-centre-armrest, servo, electro-window-back, 17-inch-wheels, park-assist-f, wheel-heat, condition, park-assist-r, airbag-driver, isofix, electro-window-front, light-sensor, hcc, airbag-curtain, passenger-seat-electric, start-button, ptf, rain-sensor, audiosystem-cd, front-seats-heat, bluetooth, wheel-configuration2, wheel-configuration1, immo, 12v-socket, third-rear-headrest]       52\n",
       "[cruise-control, xenon, airbag-passenger, lock, electro-mirrors, mirrors-heat, leather, computer, seat-transformation, wheel-power, airbag-side, abs, climate-control-1, esp, audiopreparation, electro-window-back, condition, airbag-driver, electro-window-front, passenger-seat-electric, alarm, ptf, audiosystem-cd, front-seats-heat, wheel-configuration2, wheel-configuration1, immo]                                                                                                                                                                                                                                                                                                                             39\n",
       "Name: complectation_dict, dtype: int64"
      ]
     },
     "execution_count": 32,
     "metadata": {},
     "output_type": "execute_result"
    }
   ],
   "source": [
    "# Проверяем результаты работы функции\n",
    "test_df['complectation_dict'].value_counts()[:6]"
   ]
  },
  {
   "cell_type": "code",
   "execution_count": 33,
   "id": "4d56b67d",
   "metadata": {},
   "outputs": [],
   "source": [
    "# Заполняем столбец complectation_dict обучающей выборки с использованием функции get_options_dict\n",
    "train_df.complectation_dict = train_df.complectation_dict.map(get_options_list)"
   ]
  },
  {
   "cell_type": "code",
   "execution_count": 34,
   "id": "20960120",
   "metadata": {},
   "outputs": [
    {
     "ename": "TypeError",
     "evalue": "unhashable type: 'list'",
     "output_type": "error",
     "traceback": [
      "\u001b[1;31m---------------------------------------------------------------------------\u001b[0m",
      "\u001b[1;31mTypeError\u001b[0m                                 Traceback (most recent call last)",
      "\u001b[1;32mpandas\\_libs\\hashtable_class_helper.pxi\u001b[0m in \u001b[0;36mpandas._libs.hashtable.PyObjectHashTable.map_locations\u001b[1;34m()\u001b[0m\n",
      "\u001b[1;31mTypeError\u001b[0m: unhashable type: 'list'"
     ]
    },
    {
     "name": "stderr",
     "output_type": "stream",
     "text": [
      "Exception ignored in: 'pandas._libs.index.IndexEngine._call_map_locations'\n",
      "Traceback (most recent call last):\n",
      "  File \"pandas\\_libs\\hashtable_class_helper.pxi\", line 4588, in pandas._libs.hashtable.PyObjectHashTable.map_locations\n",
      "TypeError: unhashable type: 'list'\n"
     ]
    },
    {
     "data": {
      "text/plain": [
       "[]                                                                                                                                                                                                                                                                                                                                                                                                                                                                                                                                                                                                                                                                                                                                                                                                                                                                                                                                                                                                                                                                                                                                                                      10890\n",
       "[airbag-passenger, lock, glonass, computer, seat-transformation, fabric-seats, steel-wheels, abs, usb, audiopreparation, spare-wheel, ashtray-and-cigarette-lighter, servo, electro-window-back, driver-seat-updown, condition, airbag-driver, isofix, aux, electro-window-front, migration-flag, bluetooth, wheel-configuration2, wheel-configuration1, immo, third-rear-headrest]                                                                                                                                                                                                                                                                                                                                                                                                                                                                                                                                                                                                                                                                                                                                                                                       365\n",
       "[airbag-passenger, bas, lock, glonass, computer, wheel-power, fabric-seats, steel-wheels, abs, esp, usb, spare-wheel, drl, driver-seat-updown, condition, led-lights, 15-inch-wheels, airbag-driver, isofix, electro-window-front, tyre-pressure, audiosystem-cd, wheel-configuration2, wheel-configuration1, immo, 12v-socket, third-rear-headrest]                                                                                                                                                                                                                                                                                                                                                                                                                                                                                                                                                                                                                                                                                                                                                                                                                      230\n",
       "[cruise-control, multi-wheel, airbag-passenger, roof-rails, decorative-interior-lighting, bas, lock, door-sill-panel, electro-mirrors, easy-trunk-opening, mirrors-heat, volume-sensor, leather, driver-seat-memory, glonass, start-stop-function, automatic-lighting-control, passenger-seat-updown, collision-prevention-assist, computer, high-beam-assist, seat-transformation, light-cleaner, driver-seat-electric, dha, airbag-side, electronic-gage-panel, electro-trunk, abs, wheel-leather, climate-control-2, auto-mirrors, asr, esp, usb, audiopreparation, audiosystem-tv, lane-keeping-assist, front-centre-armrest, front-seat-support, rear-camera, servo, drl, electro-window-back, reduce-spare-wheel, body-mouldings, park-assist-f, 19-inch-wheels, led-lights, music-super, park-assist-r, airbag-driver, isofix, drive-mode-sys, electro-window-front, light-sensor, hcc, airbag-curtain, keyless-entry, alarm, leather-gear-stick, traffic-sign-recognition, start-button, ptf, rain-sensor, tyre-pressure, voice-recognition, front-seats-heat, bluetooth, wheel-configuration2, wheel-configuration1, immo, 12v-socket, third-rear-headrest]      228\n",
       "[cruise-control, multi-wheel, airbag-passenger, roof-rails, bas, lock, door-sill-panel, electro-mirrors, mirrors-heat, volume-sensor, driver-seat-memory, glonass, start-stop-function, automatic-lighting-control, passenger-seat-updown, collision-prevention-assist, computer, high-beam-assist, seat-transformation, light-cleaner, driver-seat-electric, dha, fabric-seats, airbag-side, electronic-gage-panel, abs, wheel-leather, climate-control-2, auto-mirrors, asr, esp, usb, audiopreparation, audiosystem-tv, lane-keeping-assist, front-centre-armrest, servo, drl, electro-window-back, 18-inch-wheels, reduce-spare-wheel, led-lights, music-super, park-assist-r, airbag-driver, isofix, drive-mode-sys, electro-window-front, light-sensor, hcc, airbag-curtain, alarm, leather-gear-stick, traffic-sign-recognition, rain-sensor, tyre-pressure, voice-recognition, front-seats-heat, bluetooth, wheel-configuration2, wheel-configuration1, immo, 12v-socket, third-rear-headrest]                                                                                                                                                                    221\n",
       "[cruise-control, xenon, airbag-passenger, lock, electro-mirrors, mirrors-heat, leather, computer, seat-transformation, wheel-power, airbag-side, abs, climate-control-1, esp, audiopreparation, electro-window-back, hatch, condition, music-super, airbag-driver, electro-window-front, passenger-seat-electric, alarm, paint-metallic, ptf, migration-flag, front-seats-heat, wheel-configuration2, wheel-configuration1, immo]                                                                                                                                                                                                                                                                                                                                                                                                                                                                                                                                                                                                                                                                                                                                         205\n",
       "Name: complectation_dict, dtype: int64"
      ]
     },
     "execution_count": 34,
     "metadata": {},
     "output_type": "execute_result"
    }
   ],
   "source": [
    "# Проверяем результаты работы функции\n",
    "train_df['complectation_dict'].value_counts()[:6]"
   ]
  },
  {
   "cell_type": "code",
   "execution_count": 35,
   "id": "3a5266e9",
   "metadata": {},
   "outputs": [
    {
     "name": "stdout",
     "output_type": "stream",
     "text": [
      "Длина первого списка: 2349 \n",
      "Длина второго списка: 1500 \n",
      "Количество пересечений: 228\n"
     ]
    }
   ],
   "source": [
    "# Считаем количество пересечений в обучающей и тестовой выборке по признаку complectation_dict\n",
    "intersection_count(train_df.complectation_dict, test_df.complectation_dict) "
   ]
  },
  {
   "cell_type": "code",
   "execution_count": 36,
   "id": "fe81271b",
   "metadata": {},
   "outputs": [
    {
     "data": {
      "text/plain": [
       "array(['airbag-driver', 'abs', 'lock', 'immo', 'electro-window-front',\n",
       "       'airbag-passenger', 'wheel-configuration1', 'computer',\n",
       "       'electro-mirrors', 'mirrors-heat', 'wheel-configuration2',\n",
       "       'electro-window-back', 'front-seats-heat', 'esp', 'airbag-side',\n",
       "       'isofix', 'seat-transformation', 'audiopreparation',\n",
       "       'audiosystem-cd', 'wheel-leather', 'multi-wheel', 'airbag-curtain',\n",
       "       'third-rear-headrest', 'usb', 'front-centre-armrest', 'ptf',\n",
       "       '12v-socket', 'cruise-control', 'rain-sensor', 'bluetooth'],\n",
       "      dtype=object)"
      ]
     },
     "execution_count": 36,
     "metadata": {},
     "output_type": "execute_result"
    }
   ],
   "source": [
    "# Создаем список опций для 30 наиболее часто встречающихся опций\n",
    "options_list_full = list(train_df.complectation_dict.values) + list(test_df.complectation_dict.values)\n",
    "options_list = []\n",
    "\n",
    "for option in options_list_full:\n",
    "    options_list += option\n",
    "\n",
    "options_array = pd.Series(options_list).value_counts().head(30).index.values\n",
    "options_array"
   ]
  },
  {
   "cell_type": "code",
   "execution_count": 37,
   "id": "f08ad817",
   "metadata": {},
   "outputs": [
    {
     "data": {
      "text/html": [
       "<div>\n",
       "<style scoped>\n",
       "    .dataframe tbody tr th:only-of-type {\n",
       "        vertical-align: middle;\n",
       "    }\n",
       "\n",
       "    .dataframe tbody tr th {\n",
       "        vertical-align: top;\n",
       "    }\n",
       "\n",
       "    .dataframe thead th {\n",
       "        text-align: right;\n",
       "    }\n",
       "</style>\n",
       "<table border=\"1\" class=\"dataframe\">\n",
       "  <thead>\n",
       "    <tr style=\"text-align: right;\">\n",
       "      <th></th>\n",
       "      <th>bodyType</th>\n",
       "      <th>brand</th>\n",
       "      <th>car_url</th>\n",
       "      <th>color</th>\n",
       "      <th>complectation_dict</th>\n",
       "      <th>description</th>\n",
       "      <th>engineDisplacement</th>\n",
       "      <th>enginePower</th>\n",
       "      <th>equipment_dict</th>\n",
       "      <th>fuelType</th>\n",
       "      <th>...</th>\n",
       "      <th>OPTION_multi-wheel</th>\n",
       "      <th>OPTION_airbag-curtain</th>\n",
       "      <th>OPTION_third-rear-headrest</th>\n",
       "      <th>OPTION_usb</th>\n",
       "      <th>OPTION_front-centre-armrest</th>\n",
       "      <th>OPTION_ptf</th>\n",
       "      <th>OPTION_12v-socket</th>\n",
       "      <th>OPTION_cruise-control</th>\n",
       "      <th>OPTION_rain-sensor</th>\n",
       "      <th>OPTION_bluetooth</th>\n",
       "    </tr>\n",
       "  </thead>\n",
       "  <tbody>\n",
       "    <tr>\n",
       "      <th>0</th>\n",
       "      <td>лифтбек</td>\n",
       "      <td>SKODA</td>\n",
       "      <td>https://auto.ru/cars/used/sale/skoda/octavia/1...</td>\n",
       "      <td>белый</td>\n",
       "      <td>[cruise-control, multi-wheel, xenon, heated-wa...</td>\n",
       "      <td>Автомобиль приобретался у официального дилера ...</td>\n",
       "      <td>1.8 LTR</td>\n",
       "      <td>180 N12</td>\n",
       "      <td>{'cruise-control': True, 'asr': True, 'tinted-...</td>\n",
       "      <td>бензин</td>\n",
       "      <td>...</td>\n",
       "      <td>1</td>\n",
       "      <td>1</td>\n",
       "      <td>0</td>\n",
       "      <td>1</td>\n",
       "      <td>1</td>\n",
       "      <td>1</td>\n",
       "      <td>1</td>\n",
       "      <td>1</td>\n",
       "      <td>1</td>\n",
       "      <td>1</td>\n",
       "    </tr>\n",
       "    <tr>\n",
       "      <th>1</th>\n",
       "      <td>лифтбек</td>\n",
       "      <td>SKODA</td>\n",
       "      <td>https://auto.ru/cars/used/sale/skoda/rapid/110...</td>\n",
       "      <td>белый</td>\n",
       "      <td>[cruise-control, multi-wheel, heated-wash-syst...</td>\n",
       "      <td>Группа компаний Элан Моторс официальный дилер ...</td>\n",
       "      <td>1.6 LTR</td>\n",
       "      <td>110 N12</td>\n",
       "      <td>{'cruise-control': True, 'glonass': True, 'asr...</td>\n",
       "      <td>бензин</td>\n",
       "      <td>...</td>\n",
       "      <td>1</td>\n",
       "      <td>1</td>\n",
       "      <td>1</td>\n",
       "      <td>1</td>\n",
       "      <td>1</td>\n",
       "      <td>1</td>\n",
       "      <td>1</td>\n",
       "      <td>1</td>\n",
       "      <td>1</td>\n",
       "      <td>1</td>\n",
       "    </tr>\n",
       "    <tr>\n",
       "      <th>2</th>\n",
       "      <td>внедорожник 5 дв.</td>\n",
       "      <td>SKODA</td>\n",
       "      <td>https://auto.ru/cars/used/sale/skoda/yeti/1105...</td>\n",
       "      <td>серый</td>\n",
       "      <td>[cruise-control, multi-wheel, heated-wash-syst...</td>\n",
       "      <td>Продаётся автомобиль в отличном состоянии Влож...</td>\n",
       "      <td>1.8 LTR</td>\n",
       "      <td>152 N12</td>\n",
       "      <td>{'cruise-control': True, 'asr': True, 'tinted-...</td>\n",
       "      <td>бензин</td>\n",
       "      <td>...</td>\n",
       "      <td>1</td>\n",
       "      <td>1</td>\n",
       "      <td>1</td>\n",
       "      <td>1</td>\n",
       "      <td>1</td>\n",
       "      <td>1</td>\n",
       "      <td>1</td>\n",
       "      <td>1</td>\n",
       "      <td>1</td>\n",
       "      <td>1</td>\n",
       "    </tr>\n",
       "    <tr>\n",
       "      <th>3</th>\n",
       "      <td>компактвэн</td>\n",
       "      <td>SKODA</td>\n",
       "      <td>https://auto.ru/cars/used/sale/skoda/roomster/...</td>\n",
       "      <td>белый</td>\n",
       "      <td>[heated-wash-system, airbag-passenger, lock, e...</td>\n",
       "      <td>Срочно Автомобиль в отличном техническом состо...</td>\n",
       "      <td>1.6 LTR</td>\n",
       "      <td>105 N12</td>\n",
       "      <td>{'cruise-control': True, 'tinted-glass': True,...</td>\n",
       "      <td>бензин</td>\n",
       "      <td>...</td>\n",
       "      <td>0</td>\n",
       "      <td>0</td>\n",
       "      <td>0</td>\n",
       "      <td>0</td>\n",
       "      <td>0</td>\n",
       "      <td>0</td>\n",
       "      <td>0</td>\n",
       "      <td>0</td>\n",
       "      <td>0</td>\n",
       "      <td>0</td>\n",
       "    </tr>\n",
       "    <tr>\n",
       "      <th>4</th>\n",
       "      <td>лифтбек</td>\n",
       "      <td>SKODA</td>\n",
       "      <td>https://auto.ru/cars/used/sale/skoda/rapid/110...</td>\n",
       "      <td>белый</td>\n",
       "      <td>[]</td>\n",
       "      <td>В продаже Skoda Rapid в идеальном состоянии ОД...</td>\n",
       "      <td>1.2 LTR</td>\n",
       "      <td>90 N12</td>\n",
       "      <td>{'computer': True, 'condition': True, 'front-s...</td>\n",
       "      <td>бензин</td>\n",
       "      <td>...</td>\n",
       "      <td>0</td>\n",
       "      <td>0</td>\n",
       "      <td>0</td>\n",
       "      <td>0</td>\n",
       "      <td>0</td>\n",
       "      <td>0</td>\n",
       "      <td>0</td>\n",
       "      <td>0</td>\n",
       "      <td>0</td>\n",
       "      <td>0</td>\n",
       "    </tr>\n",
       "    <tr>\n",
       "      <th>5</th>\n",
       "      <td>внедорожник 5 дв.</td>\n",
       "      <td>SKODA</td>\n",
       "      <td>https://auto.ru/cars/used/sale/skoda/yeti/1104...</td>\n",
       "      <td>чёрный</td>\n",
       "      <td>[heated-wash-system, airbag-passenger, roof-ra...</td>\n",
       "      <td>При покупке данного автомобиля в кредит вы пол...</td>\n",
       "      <td>1.2 LTR</td>\n",
       "      <td>105 N12</td>\n",
       "      <td>{'engine-proof': True, 'asr': True, 'airbag-dr...</td>\n",
       "      <td>бензин</td>\n",
       "      <td>...</td>\n",
       "      <td>0</td>\n",
       "      <td>0</td>\n",
       "      <td>0</td>\n",
       "      <td>0</td>\n",
       "      <td>0</td>\n",
       "      <td>0</td>\n",
       "      <td>1</td>\n",
       "      <td>0</td>\n",
       "      <td>0</td>\n",
       "      <td>0</td>\n",
       "    </tr>\n",
       "    <tr>\n",
       "      <th>6</th>\n",
       "      <td>универсал 5 дв.</td>\n",
       "      <td>SKODA</td>\n",
       "      <td>https://auto.ru/cars/used/sale/skoda/superb/11...</td>\n",
       "      <td>серый</td>\n",
       "      <td>[cruise-control, multi-wheel, xenon, heated-wa...</td>\n",
       "      <td>Только один день автомобили с пробегом с выгод...</td>\n",
       "      <td>1.8 LTR</td>\n",
       "      <td>180 N12</td>\n",
       "      <td>{'cruise-control': True, 'tinted-glass': True,...</td>\n",
       "      <td>бензин</td>\n",
       "      <td>...</td>\n",
       "      <td>1</td>\n",
       "      <td>1</td>\n",
       "      <td>1</td>\n",
       "      <td>1</td>\n",
       "      <td>1</td>\n",
       "      <td>1</td>\n",
       "      <td>1</td>\n",
       "      <td>1</td>\n",
       "      <td>1</td>\n",
       "      <td>1</td>\n",
       "    </tr>\n",
       "    <tr>\n",
       "      <th>7</th>\n",
       "      <td>лифтбек</td>\n",
       "      <td>SKODA</td>\n",
       "      <td>https://auto.ru/cars/used/sale/skoda/rapid/110...</td>\n",
       "      <td>белый</td>\n",
       "      <td>[cruise-control, multi-wheel, heated-wash-syst...</td>\n",
       "      <td>ВНИМАНИЕ ДИЛЕРСКИЙ ЦЕНТР НАХОДИТСЯ ПО АДРЕСУ п...</td>\n",
       "      <td>1.6 LTR</td>\n",
       "      <td>90 N12</td>\n",
       "      <td>{'cruise-control': True, 'esp': True, 'usb': T...</td>\n",
       "      <td>бензин</td>\n",
       "      <td>...</td>\n",
       "      <td>1</td>\n",
       "      <td>1</td>\n",
       "      <td>1</td>\n",
       "      <td>1</td>\n",
       "      <td>1</td>\n",
       "      <td>1</td>\n",
       "      <td>1</td>\n",
       "      <td>1</td>\n",
       "      <td>1</td>\n",
       "      <td>1</td>\n",
       "    </tr>\n",
       "    <tr>\n",
       "      <th>8</th>\n",
       "      <td>лифтбек</td>\n",
       "      <td>SKODA</td>\n",
       "      <td>https://auto.ru/cars/used/sale/skoda/octavia/1...</td>\n",
       "      <td>белый</td>\n",
       "      <td>[cruise-control, multi-wheel, heated-wash-syst...</td>\n",
       "      <td>ПОМОЩНИКИ И ПРОЧИЕ ЖЕЛАЮЩИЕ ЗАРАБОТАТЬ ЛУЧШЕ Н...</td>\n",
       "      <td>1.4 LTR</td>\n",
       "      <td>150 N12</td>\n",
       "      <td>{'cruise-control': True, 'asr': True, 'tinted-...</td>\n",
       "      <td>бензин</td>\n",
       "      <td>...</td>\n",
       "      <td>1</td>\n",
       "      <td>1</td>\n",
       "      <td>1</td>\n",
       "      <td>1</td>\n",
       "      <td>1</td>\n",
       "      <td>1</td>\n",
       "      <td>1</td>\n",
       "      <td>1</td>\n",
       "      <td>1</td>\n",
       "      <td>1</td>\n",
       "    </tr>\n",
       "    <tr>\n",
       "      <th>9</th>\n",
       "      <td>лифтбек</td>\n",
       "      <td>SKODA</td>\n",
       "      <td>https://auto.ru/cars/used/sale/skoda/rapid/110...</td>\n",
       "      <td>красный</td>\n",
       "      <td>[cruise-control, multi-wheel, heated-wash-syst...</td>\n",
       "      <td>Ищете надежный автомобиль с пробегом Тогда Вам...</td>\n",
       "      <td>1.6 LTR</td>\n",
       "      <td>110 N12</td>\n",
       "      <td>{'cruise-control': True, 'glonass': True, 'asr...</td>\n",
       "      <td>бензин</td>\n",
       "      <td>...</td>\n",
       "      <td>1</td>\n",
       "      <td>1</td>\n",
       "      <td>1</td>\n",
       "      <td>1</td>\n",
       "      <td>1</td>\n",
       "      <td>1</td>\n",
       "      <td>1</td>\n",
       "      <td>1</td>\n",
       "      <td>1</td>\n",
       "      <td>1</td>\n",
       "    </tr>\n",
       "  </tbody>\n",
       "</table>\n",
       "<p>10 rows × 63 columns</p>\n",
       "</div>"
      ],
      "text/plain": [
       "            bodyType  brand  \\\n",
       "0            лифтбек  SKODA   \n",
       "1            лифтбек  SKODA   \n",
       "2  внедорожник 5 дв.  SKODA   \n",
       "3         компактвэн  SKODA   \n",
       "4            лифтбек  SKODA   \n",
       "5  внедорожник 5 дв.  SKODA   \n",
       "6    универсал 5 дв.  SKODA   \n",
       "7            лифтбек  SKODA   \n",
       "8            лифтбек  SKODA   \n",
       "9            лифтбек  SKODA   \n",
       "\n",
       "                                             car_url    color  \\\n",
       "0  https://auto.ru/cars/used/sale/skoda/octavia/1...    белый   \n",
       "1  https://auto.ru/cars/used/sale/skoda/rapid/110...    белый   \n",
       "2  https://auto.ru/cars/used/sale/skoda/yeti/1105...    серый   \n",
       "3  https://auto.ru/cars/used/sale/skoda/roomster/...    белый   \n",
       "4  https://auto.ru/cars/used/sale/skoda/rapid/110...    белый   \n",
       "5  https://auto.ru/cars/used/sale/skoda/yeti/1104...   чёрный   \n",
       "6  https://auto.ru/cars/used/sale/skoda/superb/11...    серый   \n",
       "7  https://auto.ru/cars/used/sale/skoda/rapid/110...    белый   \n",
       "8  https://auto.ru/cars/used/sale/skoda/octavia/1...    белый   \n",
       "9  https://auto.ru/cars/used/sale/skoda/rapid/110...  красный   \n",
       "\n",
       "                                  complectation_dict  \\\n",
       "0  [cruise-control, multi-wheel, xenon, heated-wa...   \n",
       "1  [cruise-control, multi-wheel, heated-wash-syst...   \n",
       "2  [cruise-control, multi-wheel, heated-wash-syst...   \n",
       "3  [heated-wash-system, airbag-passenger, lock, e...   \n",
       "4                                                 []   \n",
       "5  [heated-wash-system, airbag-passenger, roof-ra...   \n",
       "6  [cruise-control, multi-wheel, xenon, heated-wa...   \n",
       "7  [cruise-control, multi-wheel, heated-wash-syst...   \n",
       "8  [cruise-control, multi-wheel, heated-wash-syst...   \n",
       "9  [cruise-control, multi-wheel, heated-wash-syst...   \n",
       "\n",
       "                                         description engineDisplacement  \\\n",
       "0  Автомобиль приобретался у официального дилера ...            1.8 LTR   \n",
       "1  Группа компаний Элан Моторс официальный дилер ...            1.6 LTR   \n",
       "2  Продаётся автомобиль в отличном состоянии Влож...            1.8 LTR   \n",
       "3  Срочно Автомобиль в отличном техническом состо...            1.6 LTR   \n",
       "4  В продаже Skoda Rapid в идеальном состоянии ОД...            1.2 LTR   \n",
       "5  При покупке данного автомобиля в кредит вы пол...            1.2 LTR   \n",
       "6  Только один день автомобили с пробегом с выгод...            1.8 LTR   \n",
       "7  ВНИМАНИЕ ДИЛЕРСКИЙ ЦЕНТР НАХОДИТСЯ ПО АДРЕСУ п...            1.6 LTR   \n",
       "8  ПОМОЩНИКИ И ПРОЧИЕ ЖЕЛАЮЩИЕ ЗАРАБОТАТЬ ЛУЧШЕ Н...            1.4 LTR   \n",
       "9  Ищете надежный автомобиль с пробегом Тогда Вам...            1.6 LTR   \n",
       "\n",
       "  enginePower                                     equipment_dict fuelType  \\\n",
       "0     180 N12  {'cruise-control': True, 'asr': True, 'tinted-...   бензин   \n",
       "1     110 N12  {'cruise-control': True, 'glonass': True, 'asr...   бензин   \n",
       "2     152 N12  {'cruise-control': True, 'asr': True, 'tinted-...   бензин   \n",
       "3     105 N12  {'cruise-control': True, 'tinted-glass': True,...   бензин   \n",
       "4      90 N12  {'computer': True, 'condition': True, 'front-s...   бензин   \n",
       "5     105 N12  {'engine-proof': True, 'asr': True, 'airbag-dr...   бензин   \n",
       "6     180 N12  {'cruise-control': True, 'tinted-glass': True,...   бензин   \n",
       "7      90 N12  {'cruise-control': True, 'esp': True, 'usb': T...   бензин   \n",
       "8     150 N12  {'cruise-control': True, 'asr': True, 'tinted-...   бензин   \n",
       "9     110 N12  {'cruise-control': True, 'glonass': True, 'asr...   бензин   \n",
       "\n",
       "   ... OPTION_multi-wheel  OPTION_airbag-curtain  OPTION_third-rear-headrest  \\\n",
       "0  ...                  1                      1                           0   \n",
       "1  ...                  1                      1                           1   \n",
       "2  ...                  1                      1                           1   \n",
       "3  ...                  0                      0                           0   \n",
       "4  ...                  0                      0                           0   \n",
       "5  ...                  0                      0                           0   \n",
       "6  ...                  1                      1                           1   \n",
       "7  ...                  1                      1                           1   \n",
       "8  ...                  1                      1                           1   \n",
       "9  ...                  1                      1                           1   \n",
       "\n",
       "   OPTION_usb OPTION_front-centre-armrest OPTION_ptf  OPTION_12v-socket  \\\n",
       "0           1                           1          1                  1   \n",
       "1           1                           1          1                  1   \n",
       "2           1                           1          1                  1   \n",
       "3           0                           0          0                  0   \n",
       "4           0                           0          0                  0   \n",
       "5           0                           0          0                  1   \n",
       "6           1                           1          1                  1   \n",
       "7           1                           1          1                  1   \n",
       "8           1                           1          1                  1   \n",
       "9           1                           1          1                  1   \n",
       "\n",
       "   OPTION_cruise-control OPTION_rain-sensor  OPTION_bluetooth  \n",
       "0                      1                  1                 1  \n",
       "1                      1                  1                 1  \n",
       "2                      1                  1                 1  \n",
       "3                      0                  0                 0  \n",
       "4                      0                  0                 0  \n",
       "5                      0                  0                 0  \n",
       "6                      1                  1                 1  \n",
       "7                      1                  1                 1  \n",
       "8                      1                  1                 1  \n",
       "9                      1                  1                 1  \n",
       "\n",
       "[10 rows x 63 columns]"
      ]
     },
     "execution_count": 37,
     "metadata": {},
     "output_type": "execute_result"
    }
   ],
   "source": [
    "# Создаем dummie-признаки для опций комплектации\n",
    "dummie_options(train_df, options_array)\n",
    "dummie_options(test_df, options_array)\n",
    "train_df.head(10)"
   ]
  },
  {
   "cell_type": "markdown",
   "id": "51d43071",
   "metadata": {},
   "source": [
    "## engineDisplacement"
   ]
  },
  {
   "cell_type": "code",
   "execution_count": 38,
   "id": "7d805553",
   "metadata": {},
   "outputs": [
    {
     "data": {
      "text/plain": [
       "2.0 LTR    12344\n",
       "1.6 LTR     5317\n",
       "3.0 LTR     3759\n",
       "2.5 LTR     2530\n",
       "1.4 LTR     2378\n",
       "2.4 LTR     2201\n",
       "3.5 LTR     2054\n",
       "1.8 LTR     2021\n",
       "1.5 LTR     1203\n",
       "1.3 LTR      536\n",
       "1.2 LTR      489\n",
       "4.0 LTR      484\n",
       "2.9 LTR      410\n",
       "5.7 LTR      401\n",
       "4.5 LTR      398\n",
       "2.8 LTR      362\n",
       "2.7 LTR      308\n",
       "5.6 LTR      292\n",
       "3.7 LTR      288\n",
       "4.7 LTR      281\n",
       "4.6 LTR      280\n",
       "4.4 LTR      258\n",
       "2.1 LTR      248\n",
       "2.3 LTR      211\n",
       "3.2 LTR      206\n",
       "5.5 LTR      194\n",
       "2.2 LTR      153\n",
       "0.7 LTR      138\n",
       "3.6 LTR      137\n",
       "5.0 LTR      100\n",
       "1.9 LTR       96\n",
       "1.7 LTR       91\n",
       "4.2 LTR       90\n",
       "3.3 LTR       87\n",
       " LTR          80\n",
       "4.3 LTR       42\n",
       "1.0 LTR       39\n",
       "3.4 LTR       37\n",
       "3.8 LTR       36\n",
       "3.1 LTR       33\n",
       "2.6 LTR       20\n",
       "6.0 LTR       18\n",
       "4.8 LTR       12\n",
       "5.4 LTR       12\n",
       "6.2 LTR       11\n",
       "4.1 LTR        9\n",
       "6.6 LTR        9\n",
       "5.2 LTR        7\n",
       "5.9 LTR        6\n",
       "4.9 LTR        2\n",
       "1.1 LTR        2\n",
       "5.8 LTR        1\n",
       "Name: engineDisplacement, dtype: int64"
      ]
     },
     "execution_count": 38,
     "metadata": {},
     "output_type": "execute_result"
    }
   ],
   "source": [
    "train_df.engineDisplacement.value_counts()"
   ]
  },
  {
   "cell_type": "code",
   "execution_count": 39,
   "id": "f345634f",
   "metadata": {},
   "outputs": [
    {
     "data": {
      "text/plain": [
       "2.0 LTR    7391\n",
       "1.6 LTR    4973\n",
       "3.0 LTR    3915\n",
       "1.8 LTR    3349\n",
       "2.5 LTR    2477\n",
       "2.4 LTR    1745\n",
       "3.5 LTR    1710\n",
       "1.4 LTR    1635\n",
       "1.5 LTR     725\n",
       "1.2 LTR     485\n",
       "4.4 LTR     447\n",
       "2.8 LTR     384\n",
       "4.7 LTR     377\n",
       "1.3 LTR     365\n",
       "5.5 LTR     361\n",
       "4.0 LTR     356\n",
       "3.2 LTR     348\n",
       "4.5 LTR     346\n",
       "2.1 LTR     271\n",
       "3.7 LTR     242\n",
       "2.2 LTR     236\n",
       "4.2 LTR     228\n",
       "1.9 LTR     221\n",
       "2.3 LTR     203\n",
       "2.7 LTR     189\n",
       "3.6 LTR     183\n",
       "5.6 LTR     170\n",
       "5.0 LTR     158\n",
       "5.7 LTR     135\n",
       "2.9 LTR     131\n",
       "4.6 LTR     108\n",
       "3.1 LTR      88\n",
       "4.8 LTR      84\n",
       "1.7 LTR      59\n",
       "3.8 LTR      57\n",
       "1.0 LTR      57\n",
       " LTR         55\n",
       "2.6 LTR      55\n",
       "0.7 LTR      53\n",
       "6.0 LTR      53\n",
       "3.3 LTR      44\n",
       "3.4 LTR      36\n",
       "4.1 LTR      35\n",
       "4.3 LTR      32\n",
       "5.4 LTR      31\n",
       "6.2 LTR      28\n",
       "5.9 LTR      12\n",
       "5.2 LTR      12\n",
       "6.3 LTR       8\n",
       "5.8 LTR       7\n",
       "6.6 LTR       6\n",
       "4.9 LTR       4\n",
       "1.1 LTR       4\n",
       "3.9 LTR       1\n",
       "5.3 LTR       1\n",
       "Name: engineDisplacement, dtype: int64"
      ]
     },
     "execution_count": 39,
     "metadata": {},
     "output_type": "execute_result"
    }
   ],
   "source": [
    "test_df.engineDisplacement.value_counts()"
   ]
  },
  {
   "cell_type": "code",
   "execution_count": 40,
   "id": "cdf2e082",
   "metadata": {},
   "outputs": [],
   "source": [
    "# Обрабатываем поле в обучающей и тестовой выборке при помощи фукции measure_remove\n",
    "test_df.engineDisplacement = test_df.engineDisplacement.map(measure_remove)\n",
    "train_df.engineDisplacement = train_df.engineDisplacement.map(measure_remove)"
   ]
  },
  {
   "cell_type": "code",
   "execution_count": 41,
   "id": "e7d32ad9",
   "metadata": {},
   "outputs": [
    {
     "data": {
      "text/plain": [
       "array([1.8, 1.6, 1.2, 1.4, 2. , 3.6, 1.5, 1.9, 1.3, 2.8, 3. , 2.7, 4. ,\n",
       "       2.4, 2.9, 4.2, 2.5, 3.2, 4.1, 3.1, 3.7, 2.3, 2.2, 2.6, nan, 5.9,\n",
       "       5.2, 5. , 2.1, 6. , 3.5, 0.7, 1.7, 4.4, 5.6, 4.8, 6.6, 4.6, 4.9,\n",
       "       3.4, 5.4, 1. , 3.3, 3.8, 4.5, 5.5, 4.7, 6.2, 5.8, 4.3, 5.7, 1.1])"
      ]
     },
     "execution_count": 41,
     "metadata": {},
     "output_type": "execute_result"
    }
   ],
   "source": [
    "# Проверяем результаты работы функции\n",
    "train_df.engineDisplacement.unique()"
   ]
  },
  {
   "cell_type": "code",
   "execution_count": 42,
   "id": "af51d385",
   "metadata": {},
   "outputs": [
    {
     "data": {
      "text/plain": [
       "array([1.2, 1.6, 1.8, 2. , 1.4, 1.3, 1. , 3.6, 1.5, 1.9, 2.8, 1.1, 2.5,\n",
       "       4.2, 3. , 4. , 5.9, 2.7, 3.1, 2.4, 5.2, 3.2, 4.1, 6.3, 2.3, 6. ,\n",
       "       2.2, 3.7, 2.9, 5. , 3.3, 2.1, 2.6, nan, 3.5, 1.7, 0.7, 4.4, 4.8,\n",
       "       5.4, 6.6, 4.9, 3.8, 3.4, 3.9, 4.6, 5.6, 4.5, 5.5, 6.2, 4.7, 4.3,\n",
       "       5.8, 5.3, 5.7])"
      ]
     },
     "execution_count": 42,
     "metadata": {},
     "output_type": "execute_result"
    }
   ],
   "source": [
    "test_df.engineDisplacement.unique()"
   ]
  },
  {
   "cell_type": "code",
   "execution_count": 43,
   "id": "30dab402",
   "metadata": {},
   "outputs": [
    {
     "name": "stdout",
     "output_type": "stream",
     "text": [
      "[1.8 1.6 1.2 1.4 2.  3.6 1.5 1.9 1.3 2.8 3.  2.7 4.  2.4 2.9 4.2 2.5 3.2\n",
      " 4.1 3.1 3.7 2.3 2.2 2.6 5.9 5.2 5.  2.1 6.  3.5 0.7 1.7 4.4 5.6 4.8 6.6\n",
      " 4.6 4.9 3.4 5.4 1.  3.3 3.8 4.5 5.5 4.7 6.2 5.8 4.3 5.7 1.1]\n",
      "Пропуски engineDisplacement обучающей выборки: 0\n",
      "[1.2 1.6 1.8 2.  1.4 1.3 1.  3.6 1.5 1.9 2.8 1.1 2.5 4.2 3.  4.  5.9 2.7\n",
      " 3.1 2.4 5.2 3.2 4.1 6.3 2.3 6.  2.2 3.7 2.9 5.  3.3 2.1 2.6 3.5 1.7 0.7\n",
      " 4.4 4.8 5.4 6.6 4.9 3.8 3.4 3.9 4.6 5.6 4.5 5.5 6.2 4.7 4.3 5.8 5.3 5.7]\n",
      "Пропуски engineDisplacement тестовой выборки: 0\n"
     ]
    }
   ],
   "source": [
    "# Заменяем пропуски на наиболее часто встречающиеся значения\n",
    "fill_na_mode(train_df, 'engineDisplacement')\n",
    "fill_na_mode(test_df, 'engineDisplacement')\n",
    "\n",
    "# Проверяем результаты замены пропусков\n",
    "print(train_df.engineDisplacement.unique())\n",
    "print('Пропуски engineDisplacement обучающей выборки:', train_df.engineDisplacement.isnull().sum())\n",
    "print(test_df.engineDisplacement.unique())\n",
    "print('Пропуски engineDisplacement тестовой выборки:', test_df.engineDisplacement.isnull().sum())"
   ]
  },
  {
   "cell_type": "markdown",
   "id": "12fec690",
   "metadata": {},
   "source": [
    "## enginePower"
   ]
  },
  {
   "cell_type": "code",
   "execution_count": 44,
   "id": "99c3bc44",
   "metadata": {},
   "outputs": [
    {
     "data": {
      "text/plain": [
       "array(['180 N12', '110 N12', '152 N12', '105 N12', '90 N12', '150 N12',\n",
       "       '70 N12', '80 N12', '102 N12', '122 N12', '140 N12', '125 N12',\n",
       "       '86 N12', '75 N12', '68 N12', '115 N12', '260 N12', '280 N12',\n",
       "       '64 N12', '220 N12', '143 N12', '100 N12', '58 N12', '200 N12',\n",
       "       '60 N12', '160 N12', '170 N12', '120 N12', '54 N12', '190 N12',\n",
       "       '69 N12', '79 N12', '101 N12', '193 N12', '184 N12', '53 N12',\n",
       "       '249 N12', '225 N12', '245 N12', '204 N12', '340 N12', '333 N12',\n",
       "       '211 N12', '300 N12', '460 N12', '239 N12', '310 N12', '520 N12',\n",
       "       '165 N12', '272 N12', '422 N12', '130 N12', '450 N12', '350 N12',\n",
       "       '230 N12', '163 N12', '233 N12', '177 N12', '238 N12', '265 N12',\n",
       "       '290 N12', '435 N12', '344 N12', '255 N12', '372 N12', '133 N12',\n",
       "       '136 N12', '250 N12', '270 N12', '252 N12', '600 N12', '605 N12',\n",
       "       '367 N12', '420 N12', '354 N12', '408 N12', '88 N12', '71 N12',\n",
       "       '500 N12', '271 N12', '400 N12', '218 N12', '210 N12', '335 N12',\n",
       "       '571 N12', '560 N12', '174 N12', '112 N12', '144 N12', '137 N12',\n",
       "       '646 N12', '113 N12', '610 N12', '580 N12', '525 N12', '550 N12',\n",
       "       '231 N12', '380 N12', '320 N12', '313 N12', '360 N12', '256 N12',\n",
       "       '93 N12', '145 N12', '201 N12', '186 N12', '166 N12', '156 N12',\n",
       "       '147 N12', '118 N12', '155 N12', '83 N12', '205 N12', '132 N12',\n",
       "       '154 N12', '98 N12', '158 N12', '128 N12', '257 N12', '243 N12',\n",
       "       '162 N12', '192 N12', '91 N12', '295 N12', '103 N12', '142 N12',\n",
       "       '95 N12', '194 N12', '275 N12', '116 N12', '173 N12', '281 N12',\n",
       "       '66 N12', '135 N12', '94 N12', '188 N12', '185 N12', '109 N12',\n",
       "       '131 N12', '99 N12', '52 N12', '182 N12', '85 N12', '141 N12',\n",
       "       '212 N12', '42 N12', '124 N12', '248 N12', '240 N12', '247 N12',\n",
       "       '50 N12', '215 N12', '46 N12', '175 N12', '314 N12', '76 N12',\n",
       "       '237 N12', '197 N12', '67 N12', '44 N12', '114 N12', '82 N12',\n",
       "       '176 N12', '148 N12', 'undefined N12', '106 N12', '92 N12',\n",
       "       '78 N12', '181 N12', '235 N12', '286 N12', '203 N12', '254 N12',\n",
       "       '315 N12', '304 N12', '126 N12', '117 N12', '407 N12', '87 N12',\n",
       "       '306 N12', '213 N12', '285 N12', '72 N12', '111 N12', '258 N12',\n",
       "       '575 N12', '326 N12', '530 N12', '381 N12', '370 N12', '555 N12',\n",
       "       '355 N12', '462 N12', '625 N12', '431 N12', '609 N12', '129 N12',\n",
       "       '387 N12', '347 N12', '264 N12', '510 N12', '410 N12', '507 N12',\n",
       "       '445 N12', '329 N12', '635 N12', '269 N12', '167 N12', '49 N12',\n",
       "       '171 N12', '107 N12', '169 N12', '405 N12', '234 N12', '65 N12',\n",
       "       '127 N12', '309 N12', '48 N12', '157 N12', '331 N12', '390 N12',\n",
       "       '97 N12', '540 N12', '221 N12', '262 N12', '222 N12', '283 N12',\n",
       "       '307 N12', '328 N12', '302 N12', '325 N12', '330 N12', '149 N12',\n",
       "       '284 N12', '278 N12', '168 N12', '558 N12', '544 N12', '585 N12',\n",
       "       '612 N12', '388 N12', '296 N12', '224 N12', '517 N12', '639 N12',\n",
       "       '421 N12', '557 N12', '469 N12', '299 N12', '394 N12', '455 N12',\n",
       "       '537 N12', '476 N12', '591 N12', '55 N12', '401 N12', '242 N12',\n",
       "       '481 N12', '503 N12', '522 N12', '279 N12', '183 N12', '199 N12',\n",
       "       '415 N12', '151 N12', '146 N12', '179 N12', '273 N12', '277 N12',\n",
       "       '178 N12', '282 N12', '187 N12', '288 N12', '236 N12', '223 N12',\n",
       "       '74 N12', '301 N12', '73 N12', '318 N12', '266 N12', '121 N12',\n",
       "       '276 N12', '228 N12', '189 N12', '263 N12', '208 N12', '294 N12',\n",
       "       '317 N12', '383 N12', '417 N12', '477 N12', '161 N12', '214 N12',\n",
       "       '292 N12', '423 N12', '226 N12', '219 N12', '311 N12', '303 N12',\n",
       "       '305 N12', '84 N12', '241 N12', '209 N12', '227 N12', '202 N12',\n",
       "       '139 N12', '41 N12'], dtype=object)"
      ]
     },
     "execution_count": 44,
     "metadata": {},
     "output_type": "execute_result"
    }
   ],
   "source": [
    "# Смотрим на перечень значений поля в обучающей выборке\n",
    "train_df.enginePower.unique()"
   ]
  },
  {
   "cell_type": "code",
   "execution_count": 45,
   "id": "6e0969db",
   "metadata": {},
   "outputs": [
    {
     "data": {
      "text/plain": [
       "array(['105 N12', '110 N12', '152 N12', '200 N12', '102 N12', '150 N12',\n",
       "       '90 N12', '180 N12', '220 N12', '122 N12', '70 N12', '140 N12',\n",
       "       '125 N12', '54 N12', '86 N12', '75 N12', '64 N12', '95 N12',\n",
       "       '260 N12', '170 N12', '80 N12', '68 N12', '160 N12', '115 N12',\n",
       "       '280 N12', '53 N12', '60 N12', '143 N12', '42 N12', '101 N12',\n",
       "       '58 N12', '193 N12', '79 N12', '30 N12', '100 N12', '50 N12',\n",
       "       '163 N12', '225 N12', '420 N12', '211 N12', '245 N12', '560 N12',\n",
       "       '500 N12', '249 N12', '450 N12', '605 N12', '250 N12', '354 N12',\n",
       "       '120 N12', '290 N12', '230 N12', '350 N12', '204 N12', '255 N12',\n",
       "       '340 N12', '177 N12', '272 N12', '372 N12', '210 N12', '130 N12',\n",
       "       '300 N12', '190 N12', '239 N12', '435 N12', '333 N12', '271 N12',\n",
       "       '326 N12', '238 N12', '310 N12', '233 N12', '252 N12', '133 N12',\n",
       "       '460 N12', '520 N12', '400 N12', '525 N12', '367 N12', '265 N12',\n",
       "       '550 N12', '580 N12', '88 N12', '165 N12', '430 N12', '335 N12',\n",
       "       '174 N12', '224 N12', '136 N12', '256 N12', '338 N12', '112 N12',\n",
       "       '218 N12', '360 N12', '93 N12', '182 N12', '113 N12', '240 N12',\n",
       "       '270 N12', '137 N12', '155 N12', '61 N12', '254 N12', '116 N12',\n",
       "       '71 N12', '285 N12', '408 N12', '166 N12', '156 N12', '257 N12',\n",
       "       '201 N12', '162 N12', '194 N12', '142 N12', '154 N12', '147 N12',\n",
       "       '281 N12', '243 N12', '118 N12', '128 N12', '91 N12', '83 N12',\n",
       "       '205 N12', '247 N12', '188 N12', '295 N12', '275 N12', '78 N12',\n",
       "       '109 N12', '94 N12', '185 N12', '258 N12', '145 N12', '132 N12',\n",
       "       '135 N12', '52 N12', '66 N12', '124 N12', '98 N12', '215 N12',\n",
       "       '158 N12', '99 N12', '103 N12', '131 N12', '126 N12', '235 N12',\n",
       "       '181 N12', '315 N12', '203 N12', '231 N12', '82 N12', '304 N12',\n",
       "       '175 N12', '320 N12', '213 N12', '144 N12', '146 N12', '151 N12',\n",
       "       '111 N12', '286 N12', '306 N12', '107 N12', '184 N12', '313 N12',\n",
       "       '264 N12', '575 N12', '407 N12', '192 N12', '129 N12', '555 N12',\n",
       "       '625 N12', '329 N12', '370 N12', '381 N12', '269 N12', '600 N12',\n",
       "       '510 N12', '544 N12', '462 N12', '355 N12', '507 N12', '609 N12',\n",
       "       '431 N12', '530 N12', '387 N12', '610 N12', '197 N12', '343 N12',\n",
       "       '445 N12', '171 N12', '51 N12', '46 N12', '347 N12', '321 N12',\n",
       "       '167 N12', '141 N12', '169 N12', '405 N12', '117 N12', '114 N12',\n",
       "       '173 N12', '234 N12', '540 N12', '106 N12', '49 N12', '248 N12',\n",
       "       '317 N12', '309 N12', '97 N12', '121 N12', '268 N12', '149 N12',\n",
       "       '87 N12', '85 N12', '65 N12', '67 N12', '127 N12', '485 N12',\n",
       "       '186 N12', '222 N12', '307 N12', '262 N12', '302 N12', '284 N12',\n",
       "       '325 N12', '168 N12', '221 N12', '330 N12', '283 N12', '328 N12',\n",
       "       '303 N12', '278 N12', '388 N12', '571 N12', '585 N12', '612 N12',\n",
       "       '401 N12', '279 N12', '455 N12', '382 N12', '557 N12', '517 N12',\n",
       "       '394 N12', '422 N12', '292 N12', '469 N12', '522 N12', '296 N12',\n",
       "       '639 N12', '390 N12', '476 N12', '630 N12', '402 N12', '487 N12',\n",
       "       '558 N12', '421 N12', '316 N12', '514 N12', '457 N12', '626 N12',\n",
       "       '242 N12', '38 N12', '32 N12', '223 N12', '72 N12', '305 N12',\n",
       "       '183 N12', '273 N12', '159 N12', '76 N12', '148 N12', '179 N12',\n",
       "       '73 N12', '277 N12', '282 N12', '178 N12', '288 N12', '199 N12',\n",
       "       '266 N12', '92 N12', '74 N12', '324 N12', '232 N12', '157 N12',\n",
       "       '69 N12', '212 N12', '276 N12', '202 N12', '77 N12', '164 N12',\n",
       "       '96 N12', '84 N12', '228 N12', '108 N12', '208 N12', '263 N12',\n",
       "       '294 N12', '318 N12', '380 N12', '219 N12', '214 N12', '383 N12',\n",
       "       '241 N12', '57 N12', '55 N12', '104 N12', '48 N12', '40 N12',\n",
       "       '44 N12', '227 N12', '139 N12', '209 N12', '195 N12', '189 N12',\n",
       "       '480 N12', '591 N12', '301 N12'], dtype=object)"
      ]
     },
     "execution_count": 45,
     "metadata": {},
     "output_type": "execute_result"
    }
   ],
   "source": [
    "# Смотрим на перечень значений поля в тестовой выборке\n",
    "test_df.enginePower.unique()"
   ]
  },
  {
   "cell_type": "code",
   "execution_count": 46,
   "id": "a9b8c1fb",
   "metadata": {},
   "outputs": [],
   "source": [
    "# Убираем единицы измерения в обучающей и тестовой выборке\n",
    "test_df.enginePower = test_df.enginePower.map(measure_remove)\n",
    "train_df.enginePower = train_df.enginePower.map(measure_remove)"
   ]
  },
  {
   "cell_type": "code",
   "execution_count": 47,
   "id": "0a7bf476",
   "metadata": {},
   "outputs": [
    {
     "name": "stdout",
     "output_type": "stream",
     "text": [
      "[180. 110. 152. 105.  90. 150.  70.  80. 102. 122. 140. 125.  86.  75.\n",
      "  68. 115. 260. 280.  64. 220. 143. 100.  58. 200.  60. 160. 170. 120.\n",
      "  54. 190.  69.  79. 101. 193. 184.  53. 249. 225. 245. 204. 340. 333.\n",
      " 211. 300. 460. 239. 310. 520. 165. 272. 422. 130. 450. 350. 230. 163.\n",
      " 233. 177. 238. 265. 290. 435. 344. 255. 372. 133. 136. 250. 270. 252.\n",
      " 600. 605. 367. 420. 354. 408.  88.  71. 500. 271. 400. 218. 210. 335.\n",
      " 571. 560. 174. 112. 144. 137. 646. 113. 610. 580. 525. 550. 231. 380.\n",
      " 320. 313. 360. 256.  93. 145. 201. 186. 166. 156. 147. 118. 155.  83.\n",
      " 205. 132. 154.  98. 158. 128. 257. 243. 162. 192.  91. 295. 103. 142.\n",
      "  95. 194. 275. 116. 173. 281.  66. 135.  94. 188. 185. 109. 131.  99.\n",
      "  52. 182.  85. 141. 212.  42. 124. 248. 240. 247.  50. 215.  46. 175.\n",
      " 314.  76. 237. 197.  67.  44. 114.  82. 176. 148.  nan 106.  92.  78.\n",
      " 181. 235. 286. 203. 254. 315. 304. 126. 117. 407.  87. 306. 213. 285.\n",
      "  72. 111. 258. 575. 326. 530. 381. 370. 555. 355. 462. 625. 431. 609.\n",
      " 129. 387. 347. 264. 510. 410. 507. 445. 329. 635. 269. 167.  49. 171.\n",
      " 107. 169. 405. 234.  65. 127. 309.  48. 157. 331. 390.  97. 540. 221.\n",
      " 262. 222. 283. 307. 328. 302. 325. 330. 149. 284. 278. 168. 558. 544.\n",
      " 585. 612. 388. 296. 224. 517. 639. 421. 557. 469. 299. 394. 455. 537.\n",
      " 476. 591.  55. 401. 242. 481. 503. 522. 279. 183. 199. 415. 151. 146.\n",
      " 179. 273. 277. 178. 282. 187. 288. 236. 223.  74. 301.  73. 318. 266.\n",
      " 121. 276. 228. 189. 263. 208. 294. 317. 383. 417. 477. 161. 214. 292.\n",
      " 423. 226. 219. 311. 303. 305.  84. 241. 209. 227. 202. 139.  41.]\n",
      "[105. 110. 152. 200. 102. 150.  90. 180. 220. 122.  70. 140. 125.  54.\n",
      "  86.  75.  64.  95. 260. 170.  80.  68. 160. 115. 280.  53.  60. 143.\n",
      "  42. 101.  58. 193.  79.  30. 100.  50. 163. 225. 420. 211. 245. 560.\n",
      " 500. 249. 450. 605. 250. 354. 120. 290. 230. 350. 204. 255. 340. 177.\n",
      " 272. 372. 210. 130. 300. 190. 239. 435. 333. 271. 326. 238. 310. 233.\n",
      " 252. 133. 460. 520. 400. 525. 367. 265. 550. 580.  88. 165. 430. 335.\n",
      " 174. 224. 136. 256. 338. 112. 218. 360.  93. 182. 113. 240. 270. 137.\n",
      " 155.  61. 254. 116.  71. 285. 408. 166. 156. 257. 201. 162. 194. 142.\n",
      " 154. 147. 281. 243. 118. 128.  91.  83. 205. 247. 188. 295. 275.  78.\n",
      " 109.  94. 185. 258. 145. 132. 135.  52.  66. 124.  98. 215. 158.  99.\n",
      " 103. 131. 126. 235. 181. 315. 203. 231.  82. 304. 175. 320. 213. 144.\n",
      " 146. 151. 111. 286. 306. 107. 184. 313. 264. 575. 407. 192. 129. 555.\n",
      " 625. 329. 370. 381. 269. 600. 510. 544. 462. 355. 507. 609. 431. 530.\n",
      " 387. 610. 197. 343. 445. 171.  51.  46. 347. 321. 167. 141. 169. 405.\n",
      " 117. 114. 173. 234. 540. 106.  49. 248. 317. 309.  97. 121. 268. 149.\n",
      "  87.  85.  65.  67. 127. 485. 186. 222. 307. 262. 302. 284. 325. 168.\n",
      " 221. 330. 283. 328. 303. 278. 388. 571. 585. 612. 401. 279. 455. 382.\n",
      " 557. 517. 394. 422. 292. 469. 522. 296. 639. 390. 476. 630. 402. 487.\n",
      " 558. 421. 316. 514. 457. 626. 242.  38.  32. 223.  72. 305. 183. 273.\n",
      " 159.  76. 148. 179.  73. 277. 282. 178. 288. 199. 266.  92.  74. 324.\n",
      " 232. 157.  69. 212. 276. 202.  77. 164.  96.  84. 228. 108. 208. 263.\n",
      " 294. 318. 380. 219. 214. 383. 241.  57.  55. 104.  48.  40.  44. 227.\n",
      " 139. 209. 195. 189. 480. 591. 301.]\n"
     ]
    }
   ],
   "source": [
    "# Проверяем результаты работы функции\n",
    "print(train_df.enginePower.unique())\n",
    "print(test_df.enginePower.unique())"
   ]
  },
  {
   "cell_type": "code",
   "execution_count": 48,
   "id": "3314328b",
   "metadata": {},
   "outputs": [
    {
     "name": "stdout",
     "output_type": "stream",
     "text": [
      "2\n",
      "0\n"
     ]
    }
   ],
   "source": [
    "# Смотрим на количество пропусков\n",
    "print(train_df.enginePower.isnull().sum())\n",
    "print(test_df.enginePower.isnull().sum())"
   ]
  },
  {
   "cell_type": "code",
   "execution_count": 49,
   "id": "6cf47bfa",
   "metadata": {},
   "outputs": [
    {
     "name": "stdout",
     "output_type": "stream",
     "text": [
      "0\n"
     ]
    }
   ],
   "source": [
    "# Заменяем пропуски на наиболее часто встречающиеся значения\n",
    "fill_na_mode(train_df, 'enginePower')\n",
    "\n",
    "# Проверяем наличие пропусков\n",
    "print(train_df.enginePower.isnull().sum())"
   ]
  },
  {
   "cell_type": "markdown",
   "id": "5aa1bec8",
   "metadata": {},
   "source": [
    "## equipment_dict"
   ]
  },
  {
   "cell_type": "code",
   "execution_count": 50,
   "id": "cc98f7a2",
   "metadata": {},
   "outputs": [
    {
     "data": {
      "text/plain": [
       "array([\"{'cruise-control': True, 'asr': True, 'tinted-glass': True, 'esp': True, 'adaptive-light': True, 'usb': True, 'multi-wheel': True, 'xenon': True, 'audiosystem-tv': True, 'heated-wash-system': True, 'ashtray-and-cigarette-lighter': True, 'airbag-passenger': True, 'front-centre-armrest': True, 'lock': True, 'door-sill-panel': True, 'servo': True, 'electro-mirrors': True, 'drl': True, 'electro-window-back': True, 'feedback-alarm': True, 'mirrors-heat': True, 'volume-sensor': True, '17-inch-wheels': True, 'dark-interior': True, 'park-assist-f': True, 'combo-interior': True, 'rear-seats-heat': True, 'cooling-box': True, 'seat-memory': True, 'music-super': True, 'park-assist-r': True, 'engine-proof': True, 'start-stop-function': True, 'airbag-driver': True, 'isofix': True, 'aux': True, 'drive-mode-sys': True, 'electro-window-front': True, 'light-sensor': True, 'hcc': True, 'automatic-lighting-control': True, 'airbag-curtain': True, 'passenger-seat-updown': True, 'computer': True, 'seat-transformation': True, 'passenger-seat-electric': True, 'alarm': True, 'light-cleaner': True, 'alloy-wheel-disks': True, 'leather-gear-stick': True, 'ptf': True, 'rain-sensor': True, 'airbag-side': True, 'tyre-pressure': True, 'voice-recognition': True, 'remote-engine-start': True, 'migration-flag': True, 'abs': True, 'front-seats-heat': True, 'bluetooth': True, 'wheel-configuration2': True, 'wheel-leather': True, 'wheel-configuration1': True, 'immo': True, 'light-interior': True, 'climate-control-2': True, 'auto-mirrors': True, '12v-socket': True}\",\n",
       "       \"{'cruise-control': True, 'glonass': True, 'asr': True, 'esp': True, 'airbag-driver': True, 'isofix': True, 'usb': True, 'electro-window-front': True, 'light-sensor': True, 'automatic-lighting-control': True, 'heated-wash-system': True, 'airbag-passenger': True, 'computer': True, 'seat-transformation': True, 'bas': True, 'wheel-power': True, 'lock': True, 'fabric-seats': True, 'electro-mirrors': True, 'drl': True, 'electro-window-back': True, 'alloy-wheel-disks': True, 'leather-gear-stick': True, 'ptf': True, 'tyre-pressure': True, 'mirrors-heat': True, 'audiosystem-cd': True, 'dark-interior': True, 'driver-seat-updown': True, 'abs': True, 'led-lights': True, 'front-seats-heat': True, 'bluetooth': True, 'wheel-configuration2': True, 'wheel-leather': True, 'wheel-configuration1': True, 'immo': True, 'climate-control-1': True, 'park-assist-r': True, '12v-socket': True, 'third-rear-headrest': True, '15-inch-wheels': True}\",\n",
       "       \"{'cruise-control': True, 'asr': True, 'tinted-glass': True, 'esp': True, 'usb': True, 'multi-wheel': True, 'xenon': True, 'heated-wash-system': True, 'ashtray-and-cigarette-lighter': True, 'airbag-passenger': True, 'front-centre-armrest': True, 'apple-carplay': True, 'roof-rails': True, 'rear-camera': True, 'lock': True, 'door-sill-panel': True, 'servo': True, 'electro-mirrors': True, 'electro-window-back': True, 'mirrors-heat': True, '17-inch-wheels': True, 'body-mouldings': True, 'park-assist-f': True, 'cooling-box': True, 'driver-seat-updown': True, 'park-assist-r': True, 'airbag-driver': True, 'aux': True, 'isofix': True, 'electro-window-front': True, 'light-sensor': True, 'airbag-curtain': True, 'computer': True, 'seat-transformation': True, 'android-auto': True, 'alarm': True, 'light-cleaner': True, 'fabric-seats': True, 'alloy-wheel-disks': True, 'ptf': True, 'rain-sensor': True, 'airbag-side': True, 'tyre-pressure': True, 'audiosystem-cd': True, 'folding-tables-rear': True, 'abs': True, 'bluetooth': True, 'front-seats-heat': True, 'wheel-leather': True, 'wheel-configuration2': True, 'wheel-configuration1': True, 'immo': True, 'climate-control-2': True, 'windscreen-heat': True, 'auto-mirrors': True, '12v-socket': True, 'third-rear-headrest': True}\",\n",
       "       ...,\n",
       "       \"{'asr': True, 'tinted-glass': True, 'esp': True, 'airbag-driver': True, 'electro-window-front': True, 'multi-wheel': True, 'ashtray-and-cigarette-lighter': True, 'airbag-passenger': True, 'front-centre-armrest': True, 'computer': True, 'roof-rails': True, 'seat-transformation': True, 'wheel-power': True, 'passenger-seat-electric': True, 'alarm': True, 'lock': True, 'electro-mirrors': True, 'airbag-rear-side': True, 'electro-window-back': True, 'leather-gear-stick': True, 'ptf': True, 'airbag-side': True, 'mirrors-heat': True, 'audiosystem-cd': True, 'dark-interior': True, 'migration-flag': True, 'leather': True, 'abs': True, 'front-seats-heat': True, 'power-child-locks-rear-doors': True, 'wheel-leather': True, 'wheel-configuration1': True, 'immo': True, 'climate-control-1': True, '12v-socket': True}\",\n",
       "       \"{'audiosystem-cd': True, 'tinted-glass': True, 'front-seats-heat': True, 'dark-interior': True, 'wheel-power': True, 'lock': True, 'electro-mirrors': True, 'seats-5': True, 'condition': True, 'electro-window-front': True, 'spare-wheel': True, 'airbag-passenger': True, 'ptf': True, 'fabric-seats': True, 'alloy-wheel-disks': True, 'abs': True, 'airbag-driver': True, 'feedback-alarm': True, 'alarm': True, 'electro-window-back': True}\",\n",
       "       \"{'audiosystem-cd': True, 'front-seats-heat': True, 'multizone-climate-control': True, 'hcc': True, 'third-rear-headrest': True, 'ashtray-and-cigarette-lighter': True, 'front-centre-armrest': True, 'wheel-configuration2': True, 'power-child-locks-rear-doors': True, 'wheel-power': True, 'seat-transformation': True, 'lock': True, 'computer': True, 'electro-mirrors': True, 'steel-wheels': True, 'isofix': True, 'usb': True, 'wheel-configuration1': True, 'audiopreparation': True, 'keyless-entry': True, 'condition': True, 'climate-control-1': True, 'electro-window-front': True, 'mirrors-heat': True, 'migration-flag': True, 'airbag-passenger': True, 'fabric-seats': True, 'abs': True, 'immo': True, 'airbag-driver': True, 'esp': True, '12v-socket': True, 'rain-sensor': True, 'electro-window-back': True}\"],\n",
       "      dtype=object)"
      ]
     },
     "execution_count": 50,
     "metadata": {},
     "output_type": "execute_result"
    }
   ],
   "source": [
    "train_df.equipment_dict.unique()"
   ]
  },
  {
   "cell_type": "code",
   "execution_count": 51,
   "id": "cd7b1f72",
   "metadata": {},
   "outputs": [
    {
     "data": {
      "text/plain": [
       "array(['{\"engine-proof\":true,\"tinted-glass\":true,\"airbag-driver\":true,\"aux\":true,\"isofix\":true,\"electro-window-front\":true,\"ashtray-and-cigarette-lighter\":true,\"airbag-passenger\":true,\"computer\":true,\"high-beam-assist\":true,\"seat-transformation\":true,\"isofix-front\":true,\"wheel-power\":true,\"alarm\":true,\"lock\":true,\"door-sill-panel\":true,\"fabric-seats\":true,\"electro-mirrors\":true,\"airbag-rear-side\":true,\"electro-window-back\":true,\"steel-wheels\":true,\"ptf\":true,\"16-inch-wheels\":true,\"rain-sensor\":true,\"airbag-side\":true,\"audiosystem-cd\":true,\"dark-interior\":true,\"cooling-box\":true,\"condition\":true,\"abs\":true,\"power-child-locks-rear-doors\":true,\"front-seats-heat\":true,\"wheel-configuration2\":true,\"wheel-configuration1\":true,\"12v-socket\":true,\"park-assist-r\":true}',\n",
       "       '{\"cruise-control\":true,\"asr\":true,\"esp\":true,\"airbag-driver\":true,\"isofix\":true,\"usb\":true,\"light-sensor\":true,\"airbag-passenger\":true,\"computer\":true,\"wheel-power\":true,\"alarm\":true,\"lock\":true,\"fabric-seats\":true,\"electro-mirrors\":true,\"drl\":true,\"electro-window-back\":true,\"alloy-wheel-disks\":true,\"16-inch-wheels\":true,\"ptf\":true,\"rain-sensor\":true,\"airbag-side\":true,\"tyre-pressure\":true,\"mirrors-heat\":true,\"dark-interior\":true,\"driver-seat-updown\":true,\"wheel-heat\":true,\"abs\":true,\"front-seats-heat\":true,\"bluetooth\":true,\"wheel-configuration2\":true,\"immo\":true,\"windscreen-heat\":true,\"climate-control-2\":true,\"park-assist-r\":true}',\n",
       "       '{\"cruise-control\":true,\"tinted-glass\":true,\"esp\":true,\"adaptive-light\":true,\"multi-wheel\":true,\"xenon\":true,\"heated-wash-system\":true,\"ashtray-and-cigarette-lighter\":true,\"airbag-passenger\":true,\"front-centre-armrest\":true,\"lock\":true,\"door-sill-panel\":true,\"electro-mirrors\":true,\"electro-window-back\":true,\"16-inch-wheels\":true,\"mirrors-heat\":true,\"body-mouldings\":true,\"dark-interior\":true,\"combo-interior\":true,\"rear-seats-heat\":true,\"cooling-box\":true,\"park-assist-r\":true,\"knee-airbag\":true,\"engine-proof\":true,\"airbag-driver\":true,\"aux\":true,\"isofix\":true,\"electro-window-front\":true,\"light-sensor\":true,\"hcc\":true,\"airbag-curtain\":true,\"computer\":true,\"seat-transformation\":true,\"wheel-power\":true,\"alarm\":true,\"light-cleaner\":true,\"alloy-wheel-disks\":true,\"ptf\":true,\"leather-gear-stick\":true,\"rain-sensor\":true,\"airbag-side\":true,\"tyre-pressure\":true,\"audiosystem-cd\":true,\"abs\":true,\"power-child-locks-rear-doors\":true,\"front-seats-heat\":true,\"wheel-leather\":true,\"wheel-configuration2\":true,\"wheel-configuration1\":true,\"immo\":true,\"climate-control-2\":true,\"windscreen-heat\":true,\"auto-mirrors\":true,\"12v-socket\":true,\"third-rear-headrest\":true}',\n",
       "       ...,\n",
       "       '{\"cruise-control\":true,\"asr\":true,\"tinted-glass\":true,\"esp\":true,\"start-stop-function\":true,\"airbag-driver\":true,\"aux\":true,\"isofix\":true,\"electro-window-front\":true,\"light-sensor\":true,\"multi-wheel\":true,\"hcc\":true,\"xenon\":true,\"automatic-lighting-control\":true,\"ashtray-and-cigarette-lighter\":true,\"airbag-curtain\":true,\"airbag-passenger\":true,\"front-centre-armrest\":true,\"computer\":true,\"lock\":true,\"light-cleaner\":true,\"electro-mirrors\":true,\"electro-window-back\":true,\"alloy-wheel-disks\":true,\"ptf\":true,\"leather-gear-stick\":true,\"start-button\":true,\"16-inch-wheels\":true,\"rain-sensor\":true,\"airbag-side\":true,\"mirrors-heat\":true,\"volume-sensor\":true,\"dark-interior\":true,\"driver-seat-updown\":true,\"wheel-heat\":true,\"abs\":true,\"front-seats-heat\":true,\"wheel-leather\":true,\"wheel-configuration2\":true,\"immo\":true,\"12v-socket\":true,\"park-assist-r\":true}',\n",
       "       '{\"engine-proof\":true,\"esp\":true,\"start-stop-function\":true,\"airbag-driver\":true,\"aux\":true,\"isofix\":true,\"electro-window-front\":true,\"light-sensor\":true,\"multi-wheel\":true,\"xenon\":true,\"audiosystem-tv\":true,\"airbag-curtain\":true,\"airbag-passenger\":true,\"front-centre-armrest\":true,\"navigation\":true,\"computer\":true,\"roof-rails\":true,\"seat-transformation\":true,\"alarm\":true,\"lock\":true,\"servo\":true,\"fabric-seats\":true,\"drl\":true,\"electro-mirrors\":true,\"electro-window-back\":true,\"alloy-wheel-disks\":true,\"ptf\":true,\"start-button\":true,\"rain-sensor\":true,\"airbag-side\":true,\"mirrors-heat\":true,\"volume-sensor\":true,\"17-inch-wheels\":true,\"park-assist-f\":true,\"audiosystem-cd\":true,\"wheel-heat\":true,\"abs\":true,\"front-seats-heat\":true,\"wheel-leather\":true,\"wheel-configuration2\":true,\"wheel-configuration1\":true,\"immo\":true,\"climate-control-1\":true,\"park-assist-r\":true,\"third-rear-headrest\":true}',\n",
       "       '{\"alloy-wheel-disks\":true,\"navigation\":true,\"ptf\":true,\"airbrush\":true,\"aux\":true,\"20-inch-wheels\":true,\"dark-interior\":true,\"xenon\":true,\"leather\":true,\"seat-memory\":true}'],\n",
       "      dtype=object)"
      ]
     },
     "execution_count": 51,
     "metadata": {},
     "output_type": "execute_result"
    }
   ],
   "source": [
    "test_df.equipment_dict.unique()"
   ]
  },
  {
   "cell_type": "markdown",
   "id": "7f03d015",
   "metadata": {},
   "source": [
    "Данные в поле дублируют информацию из **complectation_dict**, не будем его учитывать в дальнейшем."
   ]
  },
  {
   "cell_type": "markdown",
   "id": "5435fed8",
   "metadata": {},
   "source": [
    "## fuelType"
   ]
  },
  {
   "cell_type": "code",
   "execution_count": 52,
   "id": "e528ff1e",
   "metadata": {},
   "outputs": [
    {
     "data": {
      "text/plain": [
       "array(['бензин', 'дизель', 'электро', 'гибрид', nan, 'газ'], dtype=object)"
      ]
     },
     "execution_count": 52,
     "metadata": {},
     "output_type": "execute_result"
    }
   ],
   "source": [
    "train_df.fuelType.unique()"
   ]
  },
  {
   "cell_type": "code",
   "execution_count": 53,
   "id": "305e2e1d",
   "metadata": {},
   "outputs": [
    {
     "data": {
      "text/plain": [
       "array(['бензин', 'дизель', 'гибрид', 'электро', 'газ'], dtype=object)"
      ]
     },
     "execution_count": 53,
     "metadata": {},
     "output_type": "execute_result"
    }
   ],
   "source": [
    "test_df.fuelType.unique()"
   ]
  },
  {
   "cell_type": "code",
   "execution_count": 54,
   "id": "8fed7d35",
   "metadata": {},
   "outputs": [
    {
     "name": "stdout",
     "output_type": "stream",
     "text": [
      "6\n",
      "5\n",
      "5\n"
     ]
    }
   ],
   "source": [
    "# Сравниваем значения показателя в обучающей и тестовой выборках\n",
    "a = set(train_df.fuelType.unique())\n",
    "b = set(test_df.fuelType.unique())\n",
    "\n",
    "print(len(a))\n",
    "print(len(b))\n",
    "print(len(a.intersection(b)))"
   ]
  },
  {
   "cell_type": "code",
   "execution_count": 55,
   "id": "680d5915",
   "metadata": {},
   "outputs": [
    {
     "data": {
      "text/plain": [
       "2"
      ]
     },
     "execution_count": 55,
     "metadata": {},
     "output_type": "execute_result"
    }
   ],
   "source": [
    "# Смотрим на количество пропущенных значений\n",
    "train_df.fuelType.isnull().sum()"
   ]
  },
  {
   "cell_type": "code",
   "execution_count": 56,
   "id": "fedb4632",
   "metadata": {},
   "outputs": [
    {
     "name": "stdout",
     "output_type": "stream",
     "text": [
      "0\n"
     ]
    },
    {
     "data": {
      "text/plain": [
       "array(['бензин', 'дизель', 'электро', 'гибрид', 'газ'], dtype=object)"
      ]
     },
     "execution_count": 56,
     "metadata": {},
     "output_type": "execute_result"
    }
   ],
   "source": [
    "# Заменяем пропуски на наиболее часто встречающиеся значения\n",
    "fill_na_mode(train_df, 'fuelType')\n",
    "\n",
    "# Проверяем наличие пропусков\n",
    "print(train_df.fuelType.isnull().sum())\n",
    "train_df.fuelType.unique()"
   ]
  },
  {
   "cell_type": "markdown",
   "id": "41444d28",
   "metadata": {},
   "source": [
    "## mileage"
   ]
  },
  {
   "cell_type": "code",
   "execution_count": 57,
   "id": "0699ee4e",
   "metadata": {},
   "outputs": [
    {
     "name": "stdout",
     "output_type": "stream",
     "text": [
      "float64\n"
     ]
    },
    {
     "data": {
      "text/plain": [
       "200000.0    319\n",
       "250000.0    282\n",
       "300000.0    275\n",
       "150000.0    238\n",
       "180000.0    220\n",
       "           ... \n",
       "520000.0      1\n",
       "211504.0      1\n",
       "94844.0       1\n",
       "58309.0       1\n",
       "154255.0      1\n",
       "Name: mileage, Length: 15181, dtype: int64"
      ]
     },
     "execution_count": 57,
     "metadata": {},
     "output_type": "execute_result"
    }
   ],
   "source": [
    "print(train_df.mileage.dtype)\n",
    "train_df.mileage.value_counts()"
   ]
  },
  {
   "cell_type": "code",
   "execution_count": 58,
   "id": "388e9311",
   "metadata": {},
   "outputs": [
    {
     "name": "stdout",
     "output_type": "stream",
     "text": [
      "int64\n"
     ]
    },
    {
     "data": {
      "text/plain": [
       "200000    436\n",
       "150000    382\n",
       "300000    381\n",
       "180000    347\n",
       "250000    346\n",
       "         ... \n",
       "152129      1\n",
       "4681        1\n",
       "461386      1\n",
       "121424      1\n",
       "69630       1\n",
       "Name: mileage, Length: 11268, dtype: int64"
      ]
     },
     "execution_count": 58,
     "metadata": {},
     "output_type": "execute_result"
    }
   ],
   "source": [
    "print(test_df.mileage.dtype)\n",
    "test_df.mileage.value_counts()"
   ]
  },
  {
   "cell_type": "code",
   "execution_count": 59,
   "id": "68e6a22e",
   "metadata": {},
   "outputs": [
    {
     "name": "stdout",
     "output_type": "stream",
     "text": [
      "float64\n"
     ]
    }
   ],
   "source": [
    "# Приводим данные столбца mileage в тестовой выборке к формату float64\n",
    "test_df.mileage = test_df.mileage.astype('float64')\n",
    "print(test_df.mileage.dtype)"
   ]
  },
  {
   "cell_type": "code",
   "execution_count": 60,
   "id": "c61d5630",
   "metadata": {},
   "outputs": [
    {
     "name": "stdout",
     "output_type": "stream",
     "text": [
      "7564\n",
      "0\n"
     ]
    }
   ],
   "source": [
    "# Считаем количество пропущенных значений\n",
    "print(train_df.mileage.isnull().sum())\n",
    "print(test_df.mileage.isnull().sum())"
   ]
  },
  {
   "cell_type": "code",
   "execution_count": 61,
   "id": "10e10ad1",
   "metadata": {},
   "outputs": [
    {
     "data": {
      "text/plain": [
       "14      NaN\n",
       "18      NaN\n",
       "34      NaN\n",
       "44      NaN\n",
       "47      NaN\n",
       "         ..\n",
       "40696   NaN\n",
       "40700   NaN\n",
       "40708   NaN\n",
       "40712   NaN\n",
       "40716   NaN\n",
       "Name: mileage, Length: 7564, dtype: float64"
      ]
     },
     "execution_count": 61,
     "metadata": {},
     "output_type": "execute_result"
    }
   ],
   "source": [
    "# Смотрим на формат пропусков\n",
    "train_df[train_df.mileage.isnull() == True].mileage"
   ]
  },
  {
   "cell_type": "code",
   "execution_count": 62,
   "id": "a3854ffb",
   "metadata": {},
   "outputs": [
    {
     "data": {
      "text/plain": [
       "0.0         7564\n",
       "200000.0     319\n",
       "250000.0     282\n",
       "300000.0     275\n",
       "150000.0     238\n",
       "            ... \n",
       "76089.0        1\n",
       "520000.0       1\n",
       "211504.0       1\n",
       "94844.0        1\n",
       "154255.0       1\n",
       "Name: mileage, Length: 15182, dtype: int64"
      ]
     },
     "execution_count": 62,
     "metadata": {},
     "output_type": "execute_result"
    }
   ],
   "source": [
    "# Заменяем пропущенные значения у новых автомобилей на 0\n",
    "train_df.mileage.loc[(train_df.mileage.isna() == True) & (train_df.car_url.str.contains('new') == True)] = 0\n",
    "train_df.mileage.value_counts()"
   ]
  },
  {
   "cell_type": "code",
   "execution_count": 63,
   "id": "bbb321ea",
   "metadata": {},
   "outputs": [
    {
     "name": "stdout",
     "output_type": "stream",
     "text": [
      "0\n"
     ]
    }
   ],
   "source": [
    "# Считаем количество пропущенных значений\n",
    "print(train_df.mileage.isnull().sum())"
   ]
  },
  {
   "cell_type": "markdown",
   "id": "9ed7dfa4",
   "metadata": {},
   "source": [
    "## modelDate"
   ]
  },
  {
   "cell_type": "code",
   "execution_count": 64,
   "id": "f3bdeb32",
   "metadata": {},
   "outputs": [
    {
     "name": "stdout",
     "output_type": "stream",
     "text": [
      "float64\n"
     ]
    },
    {
     "data": {
      "text/plain": [
       "array([2013., 2020., 2010., 2012., 2009., 2015., 2019., 2007., 2016.,\n",
       "       2017., 2008., 2000., 2004., 1999., 2014., 1996., 2006., 1994.,\n",
       "       1998., 2001., 1989., 1976., 2011., 2018., 1997., 1986., 2005.,\n",
       "       1990., 1988., 1991., 1982., 1978., 2003., 2002., 1983., 1987.,\n",
       "       1979., 1984., 1995., 1993., 1985., 1992., 1981.,   nan, 1974.,\n",
       "       1975., 2021., 1980., 1959., 1958., 1968., 1951., 1938., 1953.])"
      ]
     },
     "execution_count": 64,
     "metadata": {},
     "output_type": "execute_result"
    }
   ],
   "source": [
    "print(train_df.modelDate.dtype)\n",
    "train_df.modelDate.unique()"
   ]
  },
  {
   "cell_type": "code",
   "execution_count": 65,
   "id": "da97a9df",
   "metadata": {},
   "outputs": [
    {
     "name": "stdout",
     "output_type": "stream",
     "text": [
      "int64\n"
     ]
    },
    {
     "data": {
      "text/plain": [
       "array([2013, 2017, 2008, 2009, 2016, 2012, 2015, 2010, 2006, 2000, 2007,\n",
       "       1994, 2004, 1999, 2005, 1976, 2001, 1969, 1996, 1998, 1989, 1934,\n",
       "       2014, 2011, 2018, 1986, 1997, 1990, 2019, 2002, 1991, 1987, 1980,\n",
       "       1982, 1938, 1988, 2003, 1983, 1978, 1979, 1984, 1992, 1995, 1993,\n",
       "       1985, 1974, 1966, 1977, 1981, 1972, 1968, 1975, 1949, 1937, 1936,\n",
       "       1973, 1959, 1958, 2020, 1965, 1971, 1904, 1963, 1955, 1951, 1960],\n",
       "      dtype=int64)"
      ]
     },
     "execution_count": 65,
     "metadata": {},
     "output_type": "execute_result"
    }
   ],
   "source": [
    "print(test_df.modelDate.dtype)\n",
    "test_df.modelDate.unique()"
   ]
  },
  {
   "cell_type": "code",
   "execution_count": 66,
   "id": "235313d4",
   "metadata": {},
   "outputs": [
    {
     "name": "stdout",
     "output_type": "stream",
     "text": [
      "2\n",
      "0\n"
     ]
    }
   ],
   "source": [
    "# Считаем количество пропущенных значений\n",
    "print(train_df.modelDate.isnull().sum())\n",
    "print(test_df.modelDate.isnull().sum())"
   ]
  },
  {
   "cell_type": "code",
   "execution_count": 67,
   "id": "bd55ad78",
   "metadata": {},
   "outputs": [
    {
     "name": "stdout",
     "output_type": "stream",
     "text": [
      "0\n"
     ]
    },
    {
     "data": {
      "text/plain": [
       "array([2013., 2020., 2010., 2012., 2009., 2015., 2019., 2007., 2016.,\n",
       "       2017., 2008., 2000., 2004., 1999., 2014., 1996., 2006., 1994.,\n",
       "       1998., 2001., 1989., 1976., 2011., 2018., 1997., 1986., 2005.,\n",
       "       1990., 1988., 1991., 1982., 1978., 2003., 2002., 1983., 1987.,\n",
       "       1979., 1984., 1995., 1993., 1985., 1992., 1981., 1974., 1975.,\n",
       "       2021., 1980., 1959., 1958., 1968., 1951., 1938., 1953.])"
      ]
     },
     "execution_count": 67,
     "metadata": {},
     "output_type": "execute_result"
    }
   ],
   "source": [
    "# Заполняем пропуски в обучающей выборке наиболее часто встречающемися значениями\n",
    "fill_na_mode(train_df, 'modelDate')\n",
    "\n",
    "# Проверяем наличие пропусков\n",
    "print(train_df.modelDate.isnull().sum())\n",
    "train_df.modelDate.unique()"
   ]
  },
  {
   "cell_type": "code",
   "execution_count": 68,
   "id": "7b9a9e88",
   "metadata": {},
   "outputs": [
    {
     "name": "stdout",
     "output_type": "stream",
     "text": [
      "int64\n"
     ]
    }
   ],
   "source": [
    "# Типы данных отличаются. Переводим данные в обучающей выборке к int64\n",
    "train_df.modelDate = train_df.modelDate.astype('int64')\n",
    "print(train_df.modelDate.dtype)"
   ]
  },
  {
   "cell_type": "markdown",
   "id": "b794f636",
   "metadata": {},
   "source": [
    "## model_info"
   ]
  },
  {
   "cell_type": "code",
   "execution_count": 69,
   "id": "24727ded",
   "metadata": {},
   "outputs": [
    {
     "data": {
      "text/plain": [
       "0        {\"code\":\"OCTAVIA\",\"name\":\"Octavia\",\"ru_name\":\"...\n",
       "1        {\"code\":\"OCTAVIA\",\"name\":\"Octavia\",\"ru_name\":\"...\n",
       "2        {\"code\":\"SUPERB\",\"name\":\"Superb\",\"ru_name\":\"Су...\n",
       "3        {\"code\":\"OCTAVIA\",\"name\":\"Octavia\",\"ru_name\":\"...\n",
       "4        {\"code\":\"OCTAVIA\",\"name\":\"Octavia\",\"ru_name\":\"...\n",
       "                               ...                        \n",
       "34681    {\"code\":\"3ER\",\"name\":\"3 серии\",\"ru_name\":\"3 се...\n",
       "34682    {\"code\":\"5ER\",\"name\":\"5 серии\",\"ru_name\":\"5 се...\n",
       "34683    {\"code\":\"5ER\",\"name\":\"5 серии\",\"ru_name\":\"5 се...\n",
       "34684    {\"code\":\"X1\",\"name\":\"X1\",\"ru_name\":\"Х1\",\"morph...\n",
       "34685    {\"code\":\"X5\",\"name\":\"X5\",\"ru_name\":\"Х5\",\"morph...\n",
       "Name: model_info, Length: 34686, dtype: object"
      ]
     },
     "execution_count": 69,
     "metadata": {},
     "output_type": "execute_result"
    }
   ],
   "source": [
    "test_df.model_info"
   ]
  },
  {
   "cell_type": "markdown",
   "id": "71dacdc4",
   "metadata": {},
   "source": [
    "Информация в поле дублирует другие столбцы и не заполнена в обучающей выборке. В дальнейшем не использовать ее."
   ]
  },
  {
   "cell_type": "markdown",
   "id": "14b8073e",
   "metadata": {},
   "source": [
    "## model_name"
   ]
  },
  {
   "cell_type": "code",
   "execution_count": 70,
   "id": "f541b65c",
   "metadata": {},
   "outputs": [
    {
     "name": "stdout",
     "output_type": "stream",
     "text": [
      "515\n"
     ]
    },
    {
     "data": {
      "text/plain": [
       "array(['Octavia', 'Rapid', 'Yeti', 'Roomster', 'Superb', 'Fabia',\n",
       "       'Kodiaq', nan, 'Karoq', 'Felicia', 'Octavia RS', 'Fabia RS',\n",
       "       'Favorit', '105, 120', 'A7', 'A6', 'A5', 'Q7', 'TT', 'A4', 'Q5',\n",
       "       'A3', 'Q3', 'A8', 'S8', 'TTS', 'SQ7', 'RS 5', '80', 'Q8',\n",
       "       'A6 allroad', 'A1', 'A4 allroad', 'S4', '100', '200', 'RS Q3',\n",
       "       'A2', 'RS 6', 'RS 3', 'SQ5', 'Q3 Sportback', 'TT RS', 'RS 7', 'S6',\n",
       "       'S5', 'SQ8', 'e-tron', 'R8', 'e-tron Sportback', 'V8',\n",
       "       'RS e-tron GT', 'Q5 Sportback', '90', 'RS 4', 'S1', 'S7', 'Coupe',\n",
       "       'S3', 'Orthia', 'Accord', 'Civic', 'CR-V', 'Pilot', 'Freed',\n",
       "       'Jazz', 'HR-V', 'N-WGN', 'Stepwgn', 'Stream', 'Legend', 'Vezel',\n",
       "       'Odyssey', 'Capa', 'Integra', 'Fit', 'Shuttle', 'Fit Aria',\n",
       "       'Insight', 'Saber', 'Prelude', 'Element', 'Airwave', 'Partner',\n",
       "       'Crosstour', 'Civic Ferio', 'Torneo', 'N-BOX', 'Logo', 'Mobilio',\n",
       "       'Mobilio Spike', 'Fit Shuttle', 'Crossroad', 'FR-V', 'S660',\n",
       "       'Domani', 'Ascot', 'Inspire', 'City', 'Jade', 'Grace', 'Life',\n",
       "       'Civic Type R', 'Elysion', 'Edix', 'Avancier',\n",
       "       'Odyssey (North America)', 'Integra SJ', 'Clarity', 'Today',\n",
       "       'N-One', 'S2000', 'CR-Z', 'Ridgeline', 'Zest', 'CR-X', 'Z',\n",
       "       'Vamos', 'Acty', 'Ascot Innova', 'Vigor', 'S-MX', 'Concerto',\n",
       "       'Rafaga', 'XC70', 'V40 Cross Country', 'S60', 'S80', 'S40', 'XC90',\n",
       "       'XC60', 'S90', 'XC40', 'C30', 'V90 Cross Country', 'V50', '940',\n",
       "       'V60', 'V60 Cross Country', 'V40', 'S60 Cross Country', '850',\n",
       "       '460', '760', '740', 'C70', '960', 'S70', 'V70', '240 Series',\n",
       "       'V90', '440', '300 Series', 'X6', '5 серии', '8 серии', 'X3', 'X5',\n",
       "       'X4', '3 серии', 'X1', '7 серии', '4 серии', '1 серии', 'M4',\n",
       "       'X6 M', '6 серии', 'M5', 'X7', 'X2', 'i3', '2 серии', 'M2', 'X5 M',\n",
       "       'M3', 'M6', '2 серии Gran Tourer', '2 серии Active Tourer', 'Z4',\n",
       "       'M8', 'X4 M', 'i8', 'Z3', 'X-Trail', 'Qashqai',\n",
       "       'Navara (Frontier)', 'Tiida', 'Juke', 'Murano', 'Almera',\n",
       "       'Pathfinder', 'Patrol', 'Teana', 'Qashqai+2', 'Terrano', 'Note',\n",
       "       'Dayz', 'Micra', 'Almera Classic', 'Wingroad', 'NP300', 'Caravan',\n",
       "       'Sentra', 'Leaf', 'Maxima', 'Primera', 'Rogue', 'March', 'Serena',\n",
       "       'Juke Nismo', 'Laurel', 'Cube', 'Bluebird', 'Sunny', 'Pulsar',\n",
       "       'AD', 'Bluebird Sylphy', 'Tino', 'Presea', 'Cefiro', 'Expert',\n",
       "       'Stanza', 'Elgrand', 'Presage', 'NV200', 'Vanette', 'Skyline',\n",
       "       'Cedric', 'Dualis', 'Armada', \"R'nessa\", 'Liberty', 'Avenir',\n",
       "       'NV350 Caravan', 'Bassara', 'Rasheen', 'NV100 Clipper', 'Altima',\n",
       "       'Kix', '370Z', 'Titan', 'Dayz Roox', 'GT-R', 'Prairie', 'Gloria',\n",
       "       'Largo', 'FX', 'QX80', 'Q70', 'QX60', 'M', 'Q50', 'QX50', 'EX',\n",
       "       'QX70', 'G', 'QX30', 'JX', 'QX56', 'QX4', 'Q30', 'Q60', 'Q', 'I',\n",
       "       'GLS', 'GLE', 'E-Класс', 'GLC', 'W124', 'C-Класс', 'M-Класс',\n",
       "       'S-Класс', 'Maybach GLS', 'GLA', 'CLS', 'V-Класс', 'A-Класс',\n",
       "       'G-Класс AMG', 'E-Класс AMG', 'A-Класс AMG', 'S-Класс AMG', 'CLA',\n",
       "       'GLK-Класс', 'GLE AMG', 'B-Класс', 'GL-Класс', 'GLE Coupe AMG',\n",
       "       'G-Класс', 'AMG GT', 'CLC-Класс', 'Viano', 'GLE Coupe', 'GLS AMG',\n",
       "       'SLK-Класс', 'Citan', 'Vito', 'GLB', 'M-Класс AMG', 'CLA AMG',\n",
       "       'GLC Coupe', 'W123', 'CLS AMG', 'GLC AMG', 'CL-Класс',\n",
       "       'Maybach S-Класс', 'R-Класс', 'Vaneo', 'SL-Класс AMG', 'GLA AMG',\n",
       "       'GLC Coupe AMG', 'C-Класс AMG', 'W111', 'SL-Класс', '190 (W201)',\n",
       "       'X-Класс', 'SLS AMG', 'CL-Класс AMG', 'W128', 'GL-Класс AMG',\n",
       "       'EQV', 'SLK-Класс AMG', 'SLC', 'EQC', 'W114', 'CLK-Класс', 'W188',\n",
       "       'CLK-Класс AMG', 'Land Cruiser', 'Camry', 'Wish', 'Auris',\n",
       "       'Land Cruiser Prado', 'Hilux', 'Corolla', 'RAV4', 'HiAce',\n",
       "       'Fortuner', 'Highlander', 'Avensis', 'Mark II', 'Alphard', 'Ipsum',\n",
       "       'Vista', 'Noah', '4Runner', 'ISis', 'Corolla Spacio', 'Yaris',\n",
       "       'Venza', 'bB', 'C-HR', 'Sienna', 'Tacoma', 'Verso', 'Vitz',\n",
       "       'Prius', 'Sequoia', 'FJ Cruiser', 'Regius', 'Tundra', 'Crown',\n",
       "       'Sprinter', 'Corona', 'Corolla Verso', 'Allion', 'Celica',\n",
       "       'Ractis', 'Cami', 'Matrix', 'Town Ace', 'Caldina', 'Esquire',\n",
       "       'Progres', 'Carina', 'Aqua', 'Gaia', 'FunCargo', 'Voxy', 'Probox',\n",
       "       'Carina E', 'iQ', 'Windom', 'Vellfire', 'Sienta', 'Harrier',\n",
       "       'Chaser', 'Corolla Levin', 'Passo', 'Sprinter Marino',\n",
       "       'Camry Solara', 'Altezza', 'Spade', 'Belta', 'Raum', 'Platz',\n",
       "       'Estima', 'Porte', 'Opa', 'Lite Ace', 'Avalon', 'Rush',\n",
       "       'Hilux Surf', 'Cavalier', 'Premio', 'Picnic', 'Prius Alpha',\n",
       "       'Starlet', 'Carina ED', 'Cresta', 'Allex', 'Sprinter Carib',\n",
       "       'Succeed', 'Verossa', 'Sprinter Trueno', 'Soarer', 'LX', 'RX',\n",
       "       'CT', 'ES', 'GS', 'NX', 'LS', 'IS', 'GX', 'UX', 'LC', 'IS F', 'SC',\n",
       "       'RC F', 'RC', 'GS F', 'HS', 'Passat CC', 'Tiguan', 'Passat',\n",
       "       'Polo', 'Amarok', 'Jetta', 'Touareg', 'Teramont', 'Transporter',\n",
       "       'Multivan', 'Golf R', 'Bora', 'Caravelle', 'Golf', 'Caddy',\n",
       "       'Scirocco', 'Touran', 'Beetle', 'Sharan', 'Golf Plus',\n",
       "       'Passat (North America)', 'Golf GTI', 'California', 'Phaeton',\n",
       "       'Eos', 'Pointer', 'Type 1', 'Arteon', 'Taos', 'L200', 'Outlander',\n",
       "       'Galant', 'Pajero', 'ASX', 'Lancer', 'Pajero Sport', 'Eclipse',\n",
       "       'Montero', 'Eclipse Cross', 'Space Wagon', 'Grandis', 'Airtrek',\n",
       "       'eK Wagon', 'Colt', 'Delica', 'Carisma', 'Pajero iO', 'RVR',\n",
       "       'Space Star', 'Pajero Mini', 'Montero Sport', 'Diamante',\n",
       "       'eK Custom', 'Mirage', 'Dion', 'Lancer Evolution', 'Pajero Pinin',\n",
       "       'Chariot', 'Space Runner', 'Dingo', 'Delica D:5', 'Aspire',\n",
       "       'Minicab', 'Legnum', 'Libero', 'Minica', 'Challenger', 'Town Box',\n",
       "       'Lancer Ralliart', 'L300', 'FTO', 'Space Gear', 'Galant Fortis',\n",
       "       'Pajero Junior', 'Toppo', 'Delica D:2', 'GTO', '3000 GT', 'i',\n",
       "       'Debonair', 'Jeep J', 'Eterna', 'L400'], dtype=object)"
      ]
     },
     "execution_count": 70,
     "metadata": {},
     "output_type": "execute_result"
    }
   ],
   "source": [
    "print(len(train_df.model_name.unique()))\n",
    "train_df.model_name.unique()"
   ]
  },
  {
   "cell_type": "code",
   "execution_count": 71,
   "id": "dfabf462",
   "metadata": {},
   "outputs": [
    {
     "name": "stdout",
     "output_type": "stream",
     "text": [
      "544\n"
     ]
    },
    {
     "data": {
      "text/plain": [
       "array(['OCTAVIA', 'SUPERB', 'OCTAVIA_RS', 'YETI', 'KODIAQ', 'RAPID',\n",
       "       'FABIA', 'ROOMSTER', 'FELICIA', 'KAROQ', 'FABIA_RS', '120',\n",
       "       '100_SERIES', 'FAVORIT', 'POPULAR', 'Q5', 'R8', 'Q7', 'Q3', 'A4',\n",
       "       'A3', 'A5', 'A6', 'RS7', 'S6', 'RS6', 'ALLROAD', 'TT', 'S5', 'S8',\n",
       "       'A1', 'A8', '80', 'A7', 'RSQ3', 'RS3', 'A4_ALLROAD', 'Q8', '100',\n",
       "       'SQ5', 'S4', 'TT_RS', 'RS4', 'S7', 'RS5', '90', 'COUPE', 'A2',\n",
       "       'TTS', '920', 'S3', '200', 'V8', 'E_TRON', 'CR_V', 'ACCORD',\n",
       "       'PILOT', 'CIVIC', 'ODYSSEY', 'STREAM', 'CROSSTOUR', 'ELYSION',\n",
       "       'ELEMENT', 'RIDGELINE', 'FIT', 'HR_V', 'SHUTTLE', 'FREED',\n",
       "       'ODYSSEY_NA', 'JAZZ', 'Z', 'CIVIC_FERIO', 'S2000', 'CR_Z',\n",
       "       'LEGEND', 'STEPWAGON', 'CIVIC_TYPE_R', 'FR_V', 'CR_X', 'PRELUDE',\n",
       "       'MOBILIO_SPIKE', 'N_BOX', 'ZEST', 'INTEGRA', 'INSPIRE', 'VEZEL',\n",
       "       'N_WGN', 'ASCOT', 'LOGO', 'ACTY', 'CONCERTO', 'AVANCIER', 'SABER',\n",
       "       'MOBILIO', 'CROSSROAD', 'INSIGHT', 'TORNEO', 'AIRWAVE', 'DOMANI',\n",
       "       'RAFAGA', 'CITY', 'VIGOR', 'ORTHIA', 'PARTNER',\n",
       "       'V60_CROSS_COUNTRY', 'XC40', 'XC60', 'C30', 'V50', 'XC90',\n",
       "       'V90_CROSS_COUNTRY', 'S60', 'XC70', 'V40_CC', 'S40', 'S90', 'V40',\n",
       "       '240_SERIES', 'S80', 'V70', 'S60_CROSS_COUNTRY', '940', '740',\n",
       "       '850', 'V60', 'S70', 'C70', '760', '960', '460', '440', '140',\n",
       "       'X5', 'X6', 'X7', 'X3', '5ER', 'X2', 'Z4', 'X1', '6ER', '7ER',\n",
       "       'X5_M', 'M5', '1ER', '3ER', 'X6_M', '4', 'X4', 'M2', 'M6', 'X4_M',\n",
       "       '8ER', 'I8', 'I3', '2ER', 'M3', 'M1', 'M4', 'X3_M', '2GRANDTOURER',\n",
       "       'Z1', '2ACTIVETOURER', '02', 'Z3', 'E3', '340', '321', 'Z3M',\n",
       "       '326', 'PATROL', 'TEANA', 'QASHQAI', 'AVENIR', 'X_TRAIL', 'MURANO',\n",
       "       'MAXIMA', 'NAVARA', 'PATHFINDER', 'NOTE', 'TIIDA', 'JUKE',\n",
       "       'TERRANO', 'ALMERA_CLASSIC', 'PRIMERA', 'SKYLINE', 'ALMERA',\n",
       "       'QASHQAI_PLUS_2', 'SERENA', 'AD', 'MICRA', 'LEAF', 'GT_R', 'MARCH',\n",
       "       'SENTRA', 'BLUEBIRD_SYLPHY', 'PRESAGE', 'ALTIMA', 'NP300',\n",
       "       'CLIPPER', 'PRAIRIE', 'ALMERA_TINO', 'DAYZ', 'FAIRLADY_Z', 'QUEST',\n",
       "       'SILVIA', 'ARMADA', '350Z', 'NV200', 'JUKE_NISMO', 'STAGEA',\n",
       "       '280ZX', 'ELGRAND', '300ZX', 'CEFIRO', 'PRESIDENT', 'CUBE',\n",
       "       'PULSAR', 'BLUEBIRD', 'FUGA', 'LAUREL', 'WINGROAD',\n",
       "       'CARAVAN_COACH', 'DATSUN', 'GLORIA', 'EXPERT', '100NX', 'SAFARI',\n",
       "       'LIBERTY', 'CEDRIC', 'VANETTE', 'SUNNY', 'OTTI', 'DAYZ_ROOX',\n",
       "       'PRESEA', 'BASSARA', 'TERRANO_REGULUS', 'RNESSA', 'TINO', '200SX',\n",
       "       'LAFESTA', 'KIX', 'LARGO', 'URVAN', 'JX', 'FX', 'G35', 'Q50',\n",
       "       'QX56', 'QX50', 'QX80', 'EX', 'Q70', 'QX70', 'QX60', 'M', 'QX4',\n",
       "       'Q30', 'QX30', 'Q60', 'Q', 'I', 'V_KLASSE', 'C_KLASSE',\n",
       "       'GLE_KLASSE', 'E_KLASSE', 'S_KLASSE', 'GLA_CLASS', 'SLK_KLASSE',\n",
       "       'SLS_AMG', 'G_KLASSE_AMG', 'GLE_KLASSE_COUPE', 'M_KLASSE_AMG',\n",
       "       'E_KLASSE_AMG', 'GLC_KLASSE', 'CLA_KLASSE', 'GL_KLASSE',\n",
       "       'B_KLASSE', 'A_KLASSE', 'GLS_KLASSE', 'GLK_KLASSE', 'M_KLASSE',\n",
       "       'W124', 'VIANO', 'VITO', 'G_KLASSE', 'S_CLASS_MAYBACH',\n",
       "       'C_KLASSE_AMG', 'CLC_KLASSE', 'CLK_KLASSE', 'GL_KLASSE_AMG',\n",
       "       'GLC_COUPE', 'CLS_KLASSE', 'S_KLASSE_AMG', 'GLE_KLASSE_COUPE_AMG',\n",
       "       'AMG_GT', 'W201', 'CLA_KLASSE_AMG', 'SL_KLASSE', 'GLS_KLASSE_AMG',\n",
       "       'CL_KLASSE', 'R_KLASSE', 'GLE_KLASSE_AMG', 'CLS_KLASSE_AMG',\n",
       "       'SL_KLASSE_AMG', 'A_KLASSE_AMG', 'W111', 'W128', 'GLC_KLASSE_AMG',\n",
       "       'SLC_KLASSE', 'GLB_KLASSE', 'GLA_CLASS_AMG', 'AMG_GLC_COUPE',\n",
       "       'X_KLASSE', 'CL_KLASSE_AMG', 'MAYBACH_GLS', 'SLR_KLASSE', 'VANEO',\n",
       "       'W123', 'CITAN', 'W136', 'SIMPLEX', 'W114', '190_SL', 'W186',\n",
       "       'W188', 'CAMRY', 'RAV_4', 'AVENSIS', 'GT86', 'LAND_CRUISER',\n",
       "       'COROLLA', 'LAND_CRUISER_PRADO', 'MATRIX', '4RUNNER', 'SEQUOIA',\n",
       "       'HIGHLANDER', 'CROWN', 'HILUX', 'HILUX_SURF', 'ISIS', 'AURIS',\n",
       "       'VITZ', 'PRIUS', 'YARIS', 'CARINA', 'CHASER', 'ESTIMA', 'ESQUIRE',\n",
       "       'VERSO', 'ECHO', 'TOWN_ACE', 'FJ_CRUISER', 'VENZA', 'TUNDRA',\n",
       "       'SIENNA', 'BB', 'AQUA', 'IQ', 'CALDINA', 'FORTUNER', 'ALPHARD',\n",
       "       'SUPRA', 'C_HR', 'MARK_II', 'CELICA', 'SOARER', 'SERA', 'MARK_X',\n",
       "       'SPRINTER_TRUENO', 'CAMRY_SOLARA', 'VOXY', 'CROWN_MAJESTA',\n",
       "       'ALTEZZA', 'MR2', 'AVENSIS_VERSO', 'ARISTO', 'HARRIER', 'HIACE',\n",
       "       'VERSO_S', 'VELLFIRE', 'COROLLA_VERSO', 'REGIUS', 'IPSUM',\n",
       "       'CRESTA', 'MR_S', 'YARIS_VERSO', 'NOAH', 'LITE_ACE', 'BLADE',\n",
       "       'PICNIC', 'COROLLA_SPACIO', 'CARINA_ED', 'COROLLA_LEVIN',\n",
       "       'COROLLA_RUMION', 'GRAND_HIACE', 'CARINA_E', 'ORIGIN', 'AYGO',\n",
       "       'STARLET', 'VANGUARD', 'WISH', 'PROBOX', 'CURREN', 'VEROSSA',\n",
       "       'SIENTA', 'SCEPTER_SEDAN', 'FUNCARGO', 'PROGRES', 'PASSO', 'OPA',\n",
       "       'SPARKY', 'SUCCEED', 'PREMIO', 'PREVIA', 'WINDOM', 'ALLEX',\n",
       "       'CORONA', 'SPRINTER_CARIB', 'SPADE', 'AVALON', 'TERCEL', 'CYNOS',\n",
       "       'PRIUS_ALPHA', 'SPRINTER', 'MASTER_ACE_SURF', 'SPRINTER_MARINO',\n",
       "       'CAMI', 'COROLLA_II', 'CORSA', 'RAUM', 'VISTA', 'CORONA_EXIV',\n",
       "       'MEGA_CRUISER', 'MARK_X_ZIO', 'PRIUSPLUS', 'IST', 'GRANVIA',\n",
       "       'GAIA', 'CAVALIER', 'DUET', 'RACTIS', 'NADIA', 'PORTE', 'LS', 'GS',\n",
       "       'ES', 'IS', 'LX', 'RX', 'NX', 'GX', 'UX', 'CT', 'LM', 'RC', 'HS',\n",
       "       'SC', 'TOUAREG', 'TIGUAN', 'PASSAT', 'AMAROK', 'POLO', 'CADDY',\n",
       "       'PASSAT_CC', 'JETTA', 'TRANSPORTER', 'SCIROCCO', 'GOLF', 'TOURAN',\n",
       "       'CARAVELLE', 'MULTIVAN', 'SHARAN', 'GOLF_PLUS', 'TERAMONT',\n",
       "       'VENTO', 'ARTEON', 'PHAETON', 'GOLF_GTI', 'BEETLE', 'EUROVAN',\n",
       "       'CALIFORNIA', 'GOLF_R', 'CORRADO', 'GOLF_R32', 'EOS', 'BORA',\n",
       "       'POLO_GTI', 'LUPO', 'TYPE_1', 'POINTER', 'FOX', 'TARO',\n",
       "       'PAJERO_SPORT', 'OUTLANDER', 'L200', 'MONTERO', 'LANCER', 'PAJERO',\n",
       "       'MONTERO_SPORT', 'GALANT', 'PAJERO_MINI', 'PAJERO_IO', 'ASX',\n",
       "       'COLT', 'CARISMA', 'SPACE_STAR', 'PAJERO_PININ', 'FTO',\n",
       "       'LANCER_EVOLUTION', 'GRANDIS', 'ECLIPSE_CROSS', 'ECLIPSE',\n",
       "       'MINICAB', 'DELICA_D_5', 'ENDEAVOR', 'DELICA', 'I_MIEV',\n",
       "       'SPACE_WAGON', 'LANCER_RALLIART', 'LEGNUM', 'AIRTREK',\n",
       "       'SPACE_GEAR', 'DELICA_D2', 'L300', 'SIGMA', 'DIAMANTE', 'L400',\n",
       "       'MIRAGE', 'DINGO', 'SPACE_RUNNER', 'CHARIOT', 'EK_WAGON', 'RVR',\n",
       "       'LIBERO', 'DION', 'EMERAUDE', 'ASPIRE', 'MINICA', 'ATLAS',\n",
       "       'WILL_CYPHA', 'PASEO', 'WILL', 'PLATZ'], dtype=object)"
      ]
     },
     "execution_count": 71,
     "metadata": {},
     "output_type": "execute_result"
    }
   ],
   "source": [
    "print(len(test_df.model_name.unique()))\n",
    "test_df.model_name.unique()"
   ]
  },
  {
   "cell_type": "code",
   "execution_count": 72,
   "id": "bc60bf11",
   "metadata": {},
   "outputs": [
    {
     "data": {
      "text/plain": [
       "0     OCTAVIA\n",
       "1       RAPID\n",
       "2        YETI\n",
       "3    ROOMSTER\n",
       "4       RAPID\n",
       "Name: model_name, dtype: object"
      ]
     },
     "execution_count": 72,
     "metadata": {},
     "output_type": "execute_result"
    }
   ],
   "source": [
    "# Приводим значения в обучающей выборке к формату значений в тестовой выборке\n",
    "train_df.model_name = train_df.model_name.str.upper()\n",
    "train_df.model_name[:5]"
   ]
  },
  {
   "cell_type": "code",
   "execution_count": 73,
   "id": "3968ae82",
   "metadata": {},
   "outputs": [
    {
     "name": "stdout",
     "output_type": "stream",
     "text": [
      "7564\n",
      "0\n"
     ]
    }
   ],
   "source": [
    "# Считаем количество пропущенных значений\n",
    "print(train_df.model_name.isnull().sum())\n",
    "print(test_df.model_name.isnull().sum())"
   ]
  },
  {
   "cell_type": "code",
   "execution_count": 74,
   "id": "e80576bd",
   "metadata": {},
   "outputs": [
    {
     "data": {
      "text/plain": [
       "14       NaN\n",
       "18       NaN\n",
       "34       NaN\n",
       "44       NaN\n",
       "47       NaN\n",
       "        ... \n",
       "40696    NaN\n",
       "40700    NaN\n",
       "40708    NaN\n",
       "40712    NaN\n",
       "40716    NaN\n",
       "Name: model_name, Length: 7564, dtype: object"
      ]
     },
     "execution_count": 74,
     "metadata": {},
     "output_type": "execute_result"
    }
   ],
   "source": [
    "# Определяем вид значений-пропусков\n",
    "train_df[train_df.model_name.isnull()].model_name"
   ]
  },
  {
   "cell_type": "code",
   "execution_count": 75,
   "id": "81fa6210",
   "metadata": {},
   "outputs": [
    {
     "data": {
      "text/plain": [
       "0"
      ]
     },
     "execution_count": 75,
     "metadata": {},
     "output_type": "execute_result"
    }
   ],
   "source": [
    "# Заменяем пропущенные значения на выдержку из столбца super_gen\n",
    "for row in train_df.iterrows():\n",
    "    \n",
    "    # Если в ячейке пропуск\n",
    "    if row[1].model_name != row[1].model_name: \n",
    "        \n",
    "        # Находим значение парсингом в super_gen\n",
    "        s = row[1]['super_gen'].replace('\\'', '\\\"').replace('None', '\\\"\\\"')\n",
    "        d = json.loads(s)['sale-data-attributes']\n",
    "        \n",
    "        # Присваиваем ячейке исходного датасета найденное значение\n",
    "        train_df.loc[row[0], ['model_name']] = d.get('model')\n",
    "        \n",
    "        \n",
    "# Проверяем количество пропусков\n",
    "train_df.model_name.isnull().sum()"
   ]
  },
  {
   "cell_type": "code",
   "execution_count": 76,
   "id": "0174271f",
   "metadata": {},
   "outputs": [
    {
     "name": "stdout",
     "output_type": "stream",
     "text": [
      "Длина первого списка: 565 \n",
      "Длина второго списка: 544 \n",
      "Количество пересечений: 360\n"
     ]
    }
   ],
   "source": [
    "# Смотрим на количество пересечений \n",
    "intersection_count(train_df.model_name,test_df.model_name)"
   ]
  },
  {
   "cell_type": "markdown",
   "id": "711b7a18",
   "metadata": {},
   "source": [
    "## name"
   ]
  },
  {
   "cell_type": "code",
   "execution_count": 77,
   "id": "6c0472e6",
   "metadata": {},
   "outputs": [
    {
     "name": "stdout",
     "output_type": "stream",
     "text": [
      "2253\n"
     ]
    },
    {
     "data": {
      "text/plain": [
       "array(['Skoda Octavia III (A7)', 'Skoda Rapid II',\n",
       "       'Skoda Yeti I Рестайлинг', ..., 'Mitsubishi Lancer Evolution X',\n",
       "       'Mitsubishi Outlander PHEV III Рестайлинг 3',\n",
       "       'Mitsubishi Eclipse Cross I Рестайлинг'], dtype=object)"
      ]
     },
     "execution_count": 77,
     "metadata": {},
     "output_type": "execute_result"
    }
   ],
   "source": [
    "print(len(train_df.name.unique()))\n",
    "train_df.name.unique()"
   ]
  },
  {
   "cell_type": "code",
   "execution_count": 78,
   "id": "21cab04c",
   "metadata": {},
   "outputs": [
    {
     "name": "stdout",
     "output_type": "stream",
     "text": [
      "2780\n"
     ]
    },
    {
     "data": {
      "text/plain": [
       "array(['1.2 AMT (105 л.с.)', '1.6 MT (110 л.с.)',\n",
       "       'DSG 1.8 AMT (152 л.с.)', ...,\n",
       "       'Arctic Trucks AT38 2.8d AT (177 л.с.) 4WD',\n",
       "       '2.0 MT (151 л.с.) 4WD', '300 3.0 AT (218 л.с.)'], dtype=object)"
      ]
     },
     "execution_count": 78,
     "metadata": {},
     "output_type": "execute_result"
    }
   ],
   "source": [
    "print(len(test_df.name.unique()))\n",
    "test_df.name.unique()"
   ]
  },
  {
   "cell_type": "markdown",
   "id": "4ae2fd17",
   "metadata": {},
   "source": [
    "Данные имеют разную суть. В дальнейшем не использовать."
   ]
  },
  {
   "cell_type": "markdown",
   "id": "3443697c",
   "metadata": {},
   "source": [
    "## numberOfDoors"
   ]
  },
  {
   "cell_type": "code",
   "execution_count": 79,
   "id": "152c4013",
   "metadata": {},
   "outputs": [
    {
     "name": "stdout",
     "output_type": "stream",
     "text": [
      "5\n",
      "float64\n"
     ]
    },
    {
     "data": {
      "text/plain": [
       "array([ 5.,  4.,  2.,  3., nan])"
      ]
     },
     "execution_count": 79,
     "metadata": {},
     "output_type": "execute_result"
    }
   ],
   "source": [
    "print(len(train_df.numberOfDoors.unique()))\n",
    "print(train_df.numberOfDoors.dtype)\n",
    "train_df.numberOfDoors.unique()"
   ]
  },
  {
   "cell_type": "code",
   "execution_count": 80,
   "id": "24f87ce3",
   "metadata": {},
   "outputs": [
    {
     "name": "stdout",
     "output_type": "stream",
     "text": [
      "5\n",
      "int64\n"
     ]
    },
    {
     "data": {
      "text/plain": [
       "array([5, 4, 2, 3, 0], dtype=int64)"
      ]
     },
     "execution_count": 80,
     "metadata": {},
     "output_type": "execute_result"
    }
   ],
   "source": [
    "print(len(test_df.numberOfDoors.unique()))\n",
    "print(test_df.numberOfDoors.dtype)\n",
    "test_df.numberOfDoors.unique()"
   ]
  },
  {
   "cell_type": "code",
   "execution_count": 81,
   "id": "b71bb792",
   "metadata": {},
   "outputs": [
    {
     "data": {
      "text/plain": [
       "1"
      ]
     },
     "execution_count": 81,
     "metadata": {},
     "output_type": "execute_result"
    }
   ],
   "source": [
    "# В обучающей выборке есть пропуски, посчитаем их количество\n",
    "train_df.numberOfDoors.isnull().sum()"
   ]
  },
  {
   "cell_type": "code",
   "execution_count": 82,
   "id": "e260d88f",
   "metadata": {},
   "outputs": [
    {
     "data": {
      "text/plain": [
       "0"
      ]
     },
     "execution_count": 82,
     "metadata": {},
     "output_type": "execute_result"
    }
   ],
   "source": [
    "test_df.numberOfDoors.isnull().sum()"
   ]
  },
  {
   "cell_type": "code",
   "execution_count": 83,
   "id": "d8e2f752",
   "metadata": {},
   "outputs": [
    {
     "data": {
      "text/plain": [
       "0"
      ]
     },
     "execution_count": 83,
     "metadata": {},
     "output_type": "execute_result"
    }
   ],
   "source": [
    "# Заполним пропуск наиболее часто встречающимся значением\n",
    "fill_na_mode(train_df, 'numberOfDoors')\n",
    "train_df.numberOfDoors.isnull().sum()"
   ]
  },
  {
   "cell_type": "code",
   "execution_count": 84,
   "id": "a8b7e5de",
   "metadata": {},
   "outputs": [
    {
     "name": "stdout",
     "output_type": "stream",
     "text": [
      "int64\n"
     ]
    }
   ],
   "source": [
    "# Приводим данные в обучающей выборке к формату int64\n",
    "train_df.numberOfDoors = train_df.numberOfDoors.astype('int64')\n",
    "print(train_df.numberOfDoors.dtype)"
   ]
  },
  {
   "cell_type": "markdown",
   "id": "ed0466c8",
   "metadata": {},
   "source": [
    "## parsing_unixtime"
   ]
  },
  {
   "cell_type": "code",
   "execution_count": 85,
   "id": "48f1b34b",
   "metadata": {},
   "outputs": [
    {
     "name": "stdout",
     "output_type": "stream",
     "text": [
      "40721\n",
      "float64\n"
     ]
    },
    {
     "data": {
      "text/plain": [
       "array([1.63261348e+09, 1.63261348e+09, 1.63261352e+09, ...,\n",
       "       1.63304905e+09, 1.63304905e+09, 1.63304906e+09])"
      ]
     },
     "execution_count": 85,
     "metadata": {},
     "output_type": "execute_result"
    }
   ],
   "source": [
    "print(len(train_df.parsing_unixtime.unique()))\n",
    "print(train_df.parsing_unixtime.dtype)\n",
    "train_df.parsing_unixtime.unique()"
   ]
  },
  {
   "cell_type": "code",
   "execution_count": 86,
   "id": "ee5885ab",
   "metadata": {},
   "outputs": [
    {
     "name": "stdout",
     "output_type": "stream",
     "text": [
      "34686\n",
      "int64\n"
     ]
    },
    {
     "data": {
      "text/plain": [
       "array([1603226273, 1603226277, 1603226280, ..., 1603707843, 1603707909,\n",
       "       1603710264], dtype=int64)"
      ]
     },
     "execution_count": 86,
     "metadata": {},
     "output_type": "execute_result"
    }
   ],
   "source": [
    "print(len(test_df.parsing_unixtime.unique()))\n",
    "print(test_df.parsing_unixtime.dtype)\n",
    "test_df.parsing_unixtime.unique()"
   ]
  },
  {
   "cell_type": "markdown",
   "id": "6b6f2007",
   "metadata": {},
   "source": [
    "Не несет важной информации для предсказаний, не использовать."
   ]
  },
  {
   "cell_type": "markdown",
   "id": "5ea673aa",
   "metadata": {},
   "source": [
    "## priceCurrency"
   ]
  },
  {
   "cell_type": "code",
   "execution_count": 87,
   "id": "351adca0",
   "metadata": {},
   "outputs": [
    {
     "name": "stdout",
     "output_type": "stream",
     "text": [
      "1\n",
      "object\n"
     ]
    },
    {
     "data": {
      "text/plain": [
       "array(['RUB'], dtype=object)"
      ]
     },
     "execution_count": 87,
     "metadata": {},
     "output_type": "execute_result"
    }
   ],
   "source": [
    "print(len(train_df.priceCurrency.unique()))\n",
    "print(train_df.priceCurrency.dtype)\n",
    "train_df.priceCurrency.unique()"
   ]
  },
  {
   "cell_type": "code",
   "execution_count": 88,
   "id": "b363131a",
   "metadata": {},
   "outputs": [
    {
     "name": "stdout",
     "output_type": "stream",
     "text": [
      "1\n",
      "object\n"
     ]
    },
    {
     "data": {
      "text/plain": [
       "array(['RUB'], dtype=object)"
      ]
     },
     "execution_count": 88,
     "metadata": {},
     "output_type": "execute_result"
    }
   ],
   "source": [
    "print(len(test_df.priceCurrency.unique()))\n",
    "print(test_df.priceCurrency.dtype)\n",
    "test_df.priceCurrency.unique()"
   ]
  },
  {
   "cell_type": "markdown",
   "id": "86f937fc",
   "metadata": {},
   "source": [
    "В атрибуте только одно значение, не использовать."
   ]
  },
  {
   "cell_type": "markdown",
   "id": "c34bb0a7",
   "metadata": {},
   "source": [
    "## productionDate"
   ]
  },
  {
   "cell_type": "code",
   "execution_count": 89,
   "id": "2dcafd60",
   "metadata": {},
   "outputs": [
    {
     "name": "stdout",
     "output_type": "stream",
     "text": [
      "50\n",
      "float64\n"
     ]
    },
    {
     "data": {
      "text/plain": [
       "array([2015., 2020., 2017., 2012., 2016., 2011., 2021., 2007., 2019.,\n",
       "       2018., 2009., 2010., 2013., 2014., 2008., 2003., 2000., 2001.,\n",
       "       2006., 2004., 1999., 1998., 1997., 2005., 2002., 1996., 1992.,\n",
       "       1984., 1987., 1995., 1990., 1991., 1989., 1994., 1988., 1986.,\n",
       "       1983., 1993., 1985., 1980., 1982., 1978., 1974., 1979., 1969.,\n",
       "       1959., 1975., 1976., 1952., 1973.])"
      ]
     },
     "execution_count": 89,
     "metadata": {},
     "output_type": "execute_result"
    }
   ],
   "source": [
    "print(len(train_df.productionDate.unique()))\n",
    "print(train_df.productionDate.dtype)\n",
    "train_df.productionDate.unique()"
   ]
  },
  {
   "cell_type": "code",
   "execution_count": 90,
   "id": "28c21995",
   "metadata": {},
   "outputs": [
    {
     "name": "stdout",
     "output_type": "stream",
     "text": [
      "69\n",
      "int64\n"
     ]
    },
    {
     "data": {
      "text/plain": [
       "array([2014, 2017, 2012, 2011, 2019, 2018, 2010, 2020, 2016, 2013, 2006,\n",
       "       2007, 2015, 2005, 2008, 2009, 1997, 2004, 2002, 1987, 2003, 2001,\n",
       "       1976, 2000, 1998, 1995, 1999, 1993, 1939, 1996, 1984, 1990, 1991,\n",
       "       1992, 1989, 1982, 1985, 1994, 1938, 1981, 1988, 1983, 1980, 1986,\n",
       "       1978, 1970, 1979, 1977, 1972, 1975, 1969, 1950, 1953, 1949, 1937,\n",
       "       1959, 1968, 1936, 1904, 1974, 1967, 1961, 1960, 1965, 1963, 1957,\n",
       "       1952, 1973, 1948], dtype=int64)"
      ]
     },
     "execution_count": 90,
     "metadata": {},
     "output_type": "execute_result"
    }
   ],
   "source": [
    "print(len(test_df.productionDate.unique()))\n",
    "print(test_df.productionDate.dtype)\n",
    "test_df.productionDate.unique()"
   ]
  },
  {
   "cell_type": "code",
   "execution_count": 91,
   "id": "81ccff9a",
   "metadata": {},
   "outputs": [
    {
     "name": "stdout",
     "output_type": "stream",
     "text": [
      "0\n",
      "0\n"
     ]
    }
   ],
   "source": [
    "# Проверим наличие пропусков\n",
    "print(train_df.productionDate.isnull().sum())\n",
    "print(test_df.productionDate.isnull().sum())"
   ]
  },
  {
   "cell_type": "code",
   "execution_count": 92,
   "id": "223d503d",
   "metadata": {},
   "outputs": [
    {
     "name": "stdout",
     "output_type": "stream",
     "text": [
      "int64\n"
     ]
    }
   ],
   "source": [
    "# Приводим данные в обучающей выборке к формату int64\n",
    "train_df.productionDate = train_df.productionDate.astype('int64')\n",
    "print(train_df.productionDate.dtype)"
   ]
  },
  {
   "cell_type": "markdown",
   "id": "d2d29fec",
   "metadata": {},
   "source": [
    "## sell_id"
   ]
  },
  {
   "cell_type": "code",
   "execution_count": 93,
   "id": "9b2b68f2",
   "metadata": {},
   "outputs": [
    {
     "name": "stdout",
     "output_type": "stream",
     "text": [
      "40721\n",
      "float64\n"
     ]
    },
    {
     "data": {
      "text/plain": [
       "array([1.10511072e+09, 1.10481920e+09, 1.10540246e+09, ...,\n",
       "       1.10539870e+09, 1.10473817e+09, 1.10534366e+09])"
      ]
     },
     "execution_count": 93,
     "metadata": {},
     "output_type": "execute_result"
    }
   ],
   "source": [
    "print(len(train_df.sell_id.unique()))\n",
    "print(train_df.sell_id.dtype)\n",
    "train_df.sell_id.unique()"
   ]
  },
  {
   "cell_type": "code",
   "execution_count": 94,
   "id": "7ce20e05",
   "metadata": {},
   "outputs": [
    {
     "name": "stdout",
     "output_type": "stream",
     "text": [
      "34686\n",
      "int64\n"
     ]
    },
    {
     "data": {
      "text/plain": [
       "array([1100575026, 1100549428, 1100658222, ..., 1101364889, 1101362518,\n",
       "       1101256068], dtype=int64)"
      ]
     },
     "execution_count": 94,
     "metadata": {},
     "output_type": "execute_result"
    }
   ],
   "source": [
    "print(len(test_df.sell_id.unique()))\n",
    "print(test_df.sell_id.dtype)\n",
    "test_df.sell_id.unique()"
   ]
  },
  {
   "cell_type": "markdown",
   "id": "605d3bbd",
   "metadata": {},
   "source": [
    "Технический параметр, не использовать."
   ]
  },
  {
   "cell_type": "markdown",
   "id": "7c711553",
   "metadata": {},
   "source": [
    "## vehicleConfiguration"
   ]
  },
  {
   "cell_type": "code",
   "execution_count": 95,
   "id": "7a271b3c",
   "metadata": {},
   "outputs": [
    {
     "name": "stdout",
     "output_type": "stream",
     "text": [
      "565\n",
      "object\n"
     ]
    },
    {
     "data": {
      "text/plain": [
       "array(['LIFTBACK ROBOT 1.8', 'LIFTBACK AUTOMATIC 1.6',\n",
       "       'ALLROAD_5_DOORS ROBOT 1.8', 'COMPACTVAN MECHANICAL 1.6',\n",
       "       'LIFTBACK MECHANICAL 1.2', 'ALLROAD_5_DOORS MECHANICAL 1.2',\n",
       "       'WAGON_5_DOORS ROBOT 1.8', 'LIFTBACK MECHANICAL 1.6',\n",
       "       'LIFTBACK AUTOMATIC 1.4', 'HATCHBACK_5_DOORS MECHANICAL 1.2',\n",
       "       'ALLROAD_5_DOORS ROBOT 2.0', 'ALLROAD_5_DOORS AUTOMATIC 1.4',\n",
       "       'ALLROAD_5_DOORS ROBOT 1.4', 'WAGON_5_DOORS MECHANICAL 1.4',\n",
       "       'LIFTBACK MECHANICAL 1.4', 'ALLROAD_5_DOORS MECHANICAL 1.6',\n",
       "       'ALLROAD_5_DOORS ROBOT 1.2', 'LIFTBACK ROBOT 1.4',\n",
       "       'LIFTBACK ROBOT 2.0', 'LIFTBACK MECHANICAL 1.8',\n",
       "       'LIFTBACK AUTOMATIC 1.8', 'ALLROAD_5_DOORS MECHANICAL 1.8',\n",
       "       'WAGON_5_DOORS MECHANICAL 1.6', 'ALLROAD_5_DOORS AUTOMATIC 1.6',\n",
       "       'HATCHBACK_5_DOORS MECHANICAL 1.4', 'WAGON_5_DOORS MECHANICAL 1.8',\n",
       "       'ALLROAD_5_DOORS MECHANICAL 1.4', 'WAGON_5_DOORS ROBOT 2.0',\n",
       "       'COMPACTVAN MECHANICAL 1.4', 'WAGON_5_DOORS ROBOT 1.4',\n",
       "       'HATCHBACK_5_DOORS AUTOMATIC 1.6', 'LIFTBACK ROBOT 1.2',\n",
       "       'WAGON_5_DOORS ROBOT 3.6', 'HATCHBACK_5_DOORS MECHANICAL 1.6',\n",
       "       'ALLROAD_5_DOORS ROBOT 1.5', 'WAGON_5_DOORS AUTOMATIC 1.8',\n",
       "       'SEDAN MECHANICAL 1.2', 'WAGON_5_DOORS AUTOMATIC 1.6',\n",
       "       'LIFTBACK ROBOT 1.9', 'COMPACTVAN MECHANICAL 1.2',\n",
       "       'WAGON_5_DOORS MECHANICAL 1.3', 'SEDAN MECHANICAL 1.4',\n",
       "       'HATCHBACK_5_DOORS MECHANICAL 1.3', 'WAGON_5_DOORS MECHANICAL 1.2',\n",
       "       'SEDAN AUTOMATIC 1.8', 'LIFTBACK MECHANICAL 2.0',\n",
       "       'SEDAN MECHANICAL 1.8', 'LIFTBACK MECHANICAL 1.9',\n",
       "       'WAGON_5_DOORS ROBOT 1.6', 'ALLROAD_5_DOORS MECHANICAL 2.0',\n",
       "       'COMPACTVAN AUTOMATIC 1.6', 'HATCHBACK_5_DOORS ROBOT 1.2',\n",
       "       'LIFTBACK AUTOMATIC 2.0', 'HATCHBACK_5_DOORS ROBOT 1.4',\n",
       "       'SEDAN AUTOMATIC 2.8', 'WAGON_5_DOORS MECHANICAL 1.9',\n",
       "       'WAGON_5_DOORS MECHANICAL 2.0', 'LIFTBACK ROBOT 1.5',\n",
       "       'HATCHBACK_5_DOORS AUTOMATIC 1.4', 'SEDAN AUTOMATIC 1.4',\n",
       "       'SEDAN VARIATOR 2.0', 'COUPE ROBOT 2.0',\n",
       "       'ALLROAD_5_DOORS AUTOMATIC 3.0', 'SEDAN ROBOT 2.0',\n",
       "       'SEDAN ROBOT 2.8', 'COUPE MECHANICAL 1.8', 'SEDAN VARIATOR 1.8',\n",
       "       'SEDAN ROBOT 1.4', 'SEDAN ROBOT 1.8', 'SEDAN ROBOT 3.0',\n",
       "       'ALLROAD_5_DOORS AUTOMATIC 2.0', 'LIFTBACK ROBOT 3.0',\n",
       "       'WAGON_5_DOORS AUTOMATIC 2.7', 'SEDAN AUTOMATIC 4.0',\n",
       "       'COUPE VARIATOR 1.8', 'ALLROAD_5_DOORS ROBOT 3.0',\n",
       "       'SEDAN AUTOMATIC 3.0', 'SEDAN MECHANICAL 2.4',\n",
       "       'HATCHBACK_5_DOORS MECHANICAL 1.8',\n",
       "       'ALLROAD_5_DOORS AUTOMATIC 4.0', 'HATCHBACK_5_DOORS ROBOT 1.8',\n",
       "       'COUPE AUTOMATIC 2.9', 'HATCHBACK_5_DOORS AUTOMATIC 1.8',\n",
       "       'HATCHBACK_3_DOORS ROBOT 1.8', 'SEDAN VARIATOR 2.8',\n",
       "       'SEDAN MECHANICAL 2.0', 'ALLROAD_5_DOORS AUTOMATIC 4.2',\n",
       "       'WAGON_5_DOORS VARIATOR 1.8', 'SEDAN AUTOMATIC 2.0',\n",
       "       'WAGON_5_DOORS VARIATOR 2.5', 'WAGON_5_DOORS ROBOT 3.0',\n",
       "       'COUPE AUTOMATIC 3.2', 'WAGON_5_DOORS AUTOMATIC 2.5',\n",
       "       'LIFTBACK VARIATOR 1.8', 'LIFTBACK ROBOT 2.8',\n",
       "       'ALLROAD_5_DOORS AUTOMATIC 4.1', 'HATCHBACK_5_DOORS ROBOT 2.0',\n",
       "       'HATCHBACK_3_DOORS ROBOT 1.6', 'SEDAN AUTOMATIC 3.1',\n",
       "       'COUPE VARIATOR 2.0', 'CABRIO AUTOMATIC 4.2',\n",
       "       'SEDAN AUTOMATIC 3.7', 'HATCHBACK_3_DOORS ROBOT 1.4',\n",
       "       'SEDAN AUTOMATIC 2.4', 'WAGON_5_DOORS AUTOMATIC 3.1',\n",
       "       'COUPE ROBOT 4.2', 'SEDAN AUTOMATIC 4.2', 'SEDAN AUTOMATIC 2.3',\n",
       "       'SEDAN MECHANICAL 2.2', 'SEDAN MECHANICAL 2.3',\n",
       "       'ALLROAD_5_DOORS ROBOT 3.2', 'SEDAN AUTOMATIC 2.5',\n",
       "       'ALLROAD_5_DOORS ROBOT 2.5', 'SEDAN VARIATOR 3.1',\n",
       "       'SEDAN MECHANICAL 1.6', 'WAGON_5_DOORS AUTOMATIC 2.0',\n",
       "       'SEDAN AUTOMATIC 2.6', 'HATCHBACK_5_DOORS AUTOMATIC 2.0',\n",
       "       'WAGON_5_DOORS AUTOMATIC 4.0', 'WAGON_5_DOORS AUTOMATIC 3.0',\n",
       "       'HATCHBACK_5_DOORS ROBOT 2.5', 'ALLROAD_5_DOORS AUTOMATIC',\n",
       "       'ALLROAD_5_DOORS AUTOMATIC 3.6', 'LIFTBACK VARIATOR 2.0',\n",
       "       'SEDAN MECHANICAL 2.8', 'ALLROAD_5_DOORS AUTOMATIC 5.9',\n",
       "       'WAGON_5_DOORS VARIATOR 2.0', 'ALLROAD_5_DOORS AUTOMATIC 3.2',\n",
       "       'SEDAN MECHANICAL 1.9', 'HATCHBACK_5_DOORS ROBOT 1.6',\n",
       "       'WAGON_5_DOORS MECHANICAL 2.5', 'COUPE ROBOT 2.5',\n",
       "       'SEDAN VARIATOR 2.4', 'ROADSTER ROBOT 3.2',\n",
       "       'HATCHBACK_3_DOORS AUTOMATIC 1.6',\n",
       "       'HATCHBACK_3_DOORS MECHANICAL 1.8', 'LIFTBACK AUTOMATIC 4.0',\n",
       "       'SEDAN ROBOT 4.0', 'COUPE AUTOMATIC 4.2',\n",
       "       'HATCHBACK_3_DOORS AUTOMATIC 1.8', 'LIFTBACK AUTOMATIC 3.0',\n",
       "       'COUPE ROBOT 3.0', 'SEDAN AUTOMATIC 2.7',\n",
       "       'HATCHBACK_3_DOORS AUTOMATIC 2.0', 'COUPE VARIATOR 3.2',\n",
       "       'WAGON_5_DOORS AUTOMATIC 2.4', 'HATCHBACK_3_DOORS ROBOT 1.2',\n",
       "       'SEDAN AUTOMATIC 5.2', 'HATCHBACK_3_DOORS MECHANICAL 1.6',\n",
       "       'SEDAN MECHANICAL 2.5', 'SEDAN MECHANICAL 3.6',\n",
       "       'WAGON_5_DOORS MECHANICAL 2.7', 'SEDAN AUTOMATIC',\n",
       "       'CABRIO VARIATOR 3.2', 'WAGON_5_DOORS MECHANICAL 2.2',\n",
       "       'CABRIO AUTOMATIC 2.0', 'SEDAN MECHANICAL 2.6',\n",
       "       'WAGON_5_DOORS ROBOT 2.8', 'SEDAN AUTOMATIC 1.6',\n",
       "       'WAGON_5_DOORS AUTOMATIC 2.8', 'WAGON_5_DOORS VARIATOR 2.4',\n",
       "       'HATCHBACK_5_DOORS ROBOT 1.5', 'WAGON_5_DOORS AUTOMATIC 2.6',\n",
       "       'COUPE AUTOMATIC 3.0', 'SEDAN AUTOMATIC 4.1',\n",
       "       'CABRIO VARIATOR 2.0', 'COUPE ROBOT 5.2',\n",
       "       'WAGON_5_DOORS AUTOMATIC 5.0', 'COUPE MECHANICAL 2.0',\n",
       "       'SEDAN AUTOMATIC 5.0', 'SEDAN MECHANICAL 3.1',\n",
       "       'SEDAN AUTOMATIC 2.1', 'SEDAN AUTOMATIC 1.9',\n",
       "       'CABRIO VARIATOR 2.4', 'SEDAN MECHANICAL 4.2',\n",
       "       'WAGON_5_DOORS MECHANICAL 2.6', 'COUPE MECHANICAL 2.5',\n",
       "       'WAGON_5_DOORS ROBOT 4.2', 'HATCHBACK_3_DOORS MECHANICAL 2.0',\n",
       "       'LIFTBACK ROBOT 4.0', 'COUPE AUTOMATIC 1.8', 'ROADSTER ROBOT 1.8',\n",
       "       'SEDAN AUTOMATIC 6.0', 'ALLROAD_5_DOORS MECHANICAL 3.6',\n",
       "       'COUPE MECHANICAL 2.6', 'WAGON_5_DOORS AUTOMATIC 4.2',\n",
       "       'WAGON_5_DOORS MECHANICAL 2.4', 'SEDAN MECHANICAL 2.1',\n",
       "       'ROADSTER MECHANICAL 2.5', 'CABRIO MECHANICAL 1.8',\n",
       "       'SEDAN MECHANICAL 2.7', 'ALLROAD_5_DOORS VARIATOR 2.4',\n",
       "       'ALLROAD_5_DOORS AUTOMATIC 2.4', 'ALLROAD_5_DOORS AUTOMATIC 3.5',\n",
       "       'COMPACTVAN VARIATOR 1.5', 'HATCHBACK_3_DOORS AUTOMATIC 1.4',\n",
       "       'HATCHBACK_3_DOORS MECHANICAL 1.3', 'ALLROAD_5_DOORS VARIATOR 2.0',\n",
       "       'HATCHBACK_5_DOORS VARIATOR 1.3', 'ALLROAD_5_DOORS VARIATOR 1.6',\n",
       "       'HATCHBACK_5_DOORS VARIATOR 0.7', 'MINIVAN AUTOMATIC 2.0',\n",
       "       'MINIVAN VARIATOR 2.0', 'MINIVAN VARIATOR 1.5',\n",
       "       'COMPACTVAN AUTOMATIC 1.7', 'SEDAN AUTOMATIC 3.5',\n",
       "       'COMPACTVAN AUTOMATIC 2.2', 'COMPACTVAN AUTOMATIC 2.0',\n",
       "       'MICROVAN AUTOMATIC 1.5', 'HATCHBACK_3_DOORS MECHANICAL 1.4',\n",
       "       'SEDAN VARIATOR 1.5', 'SEDAN MECHANICAL 1.5',\n",
       "       'WAGON_5_DOORS VARIATOR 1.5', 'SEDAN VARIATOR 1.3',\n",
       "       'COUPE AUTOMATIC 1.5', 'HATCHBACK_5_DOORS VARIATOR 1.5',\n",
       "       'MINIVAN AUTOMATIC 2.4', 'ALLROAD_5_DOORS AUTOMATIC 2.2',\n",
       "       'HATCHBACK_3_DOORS AUTOMATIC 1.3', 'COUPE AUTOMATIC 2.2',\n",
       "       'HATCHBACK_5_DOORS ROBOT 1.3', 'COMPACTVAN AUTOMATIC 2.3',\n",
       "       'WAGON_5_DOORS AUTOMATIC 1.5', 'COMPACTVAN AUTOMATIC 1.5',\n",
       "       'SEDAN AUTOMATIC 1.5', 'COUPE MECHANICAL 1.5',\n",
       "       'COMPACTVAN VARIATOR 2.4', 'COUPE VARIATOR 1.5',\n",
       "       'WAGON_5_DOORS VARIATOR 1.3', 'ALLROAD_5_DOORS MECHANICAL 2.4',\n",
       "       'COMPACTVAN AUTOMATIC 1.8', 'ALLROAD_5_DOORS VARIATOR 1.5',\n",
       "       'ALLROAD_5_DOORS MECHANICAL 2.2', 'ALLROAD_5_DOORS AUTOMATIC 1.8',\n",
       "       'HATCHBACK_5_DOORS AUTOMATIC 1.3', 'COMPACTVAN MECHANICAL 2.0',\n",
       "       'ROADSTER VARIATOR 0.7', 'HATCHBACK_3_DOORS MECHANICAL 1.5',\n",
       "       'HATCHBACK_3_DOORS AUTOMATIC 1.5', 'COUPE MECHANICAL 2.2',\n",
       "       'MINIVAN AUTOMATIC 1.5', 'WAGON_5_DOORS ROBOT 1.5',\n",
       "       'SEDAN ROBOT 1.5', 'WAGON_5_DOORS AUTOMATIC 2.3',\n",
       "       'COMPACTVAN AUTOMATIC 2.4', 'HATCHBACK_5_DOORS AUTOMATIC 0.7',\n",
       "       'HATCHBACK_5_DOORS AUTOMATIC 1.5', 'ALLROAD_3_DOORS VARIATOR 1.6',\n",
       "       'MINIVAN AUTOMATIC 3.0', 'SEDAN AUTOMATIC 2.2',\n",
       "       'HATCHBACK_5_DOORS MECHANICAL 2.0', 'COUPE MECHANICAL 1.6',\n",
       "       'HATCHBACK_5_DOORS MECHANICAL 1.5', 'MINIVAN AUTOMATIC 3.5',\n",
       "       'COUPE AUTOMATIC 1.7', 'MINIVAN VARIATOR 2.4',\n",
       "       'WAGON_5_DOORS AUTOMATIC 1.3', 'COUPE MECHANICAL 1.7',\n",
       "       'SEDAN AUTOMATIC 1.3', 'ALLROAD_3_DOORS MECHANICAL 1.6',\n",
       "       'HATCHBACK_3_DOORS MECHANICAL 0.7', 'SEDAN AUTOMATIC 1.7',\n",
       "       'COMPACTVAN ROBOT 1.5', 'CABRIO MECHANICAL 2.0',\n",
       "       'SEDAN MECHANICAL 1.7', 'HATCHBACK_3_DOORS VARIATOR 1.5',\n",
       "       'PICKUP_TWO AUTOMATIC 3.5', 'MICROVAN VARIATOR 1.5',\n",
       "       'COMPACTVAN VARIATOR 2.0', 'SEDAN AUTOMATIC 3.2',\n",
       "       'WAGON_5_DOORS AUTOMATIC 1.4', 'SEDAN MECHANICAL 1.3',\n",
       "       'COMPACTVAN MECHANICAL 1.7', 'HATCHBACK_3_DOORS AUTOMATIC 0.7',\n",
       "       'MICROVAN AUTOMATIC 0.7', 'SEDAN ROBOT 3.5',\n",
       "       'ROADSTER MECHANICAL 0.7', 'SEDAN VARIATOR 1.7',\n",
       "       'ALLROAD_5_DOORS VARIATOR 1.8', 'COUPE AUTOMATIC 3.5',\n",
       "       'COUPE AUTOMATIC 2.0', 'HATCHBACK_5_DOORS MECHANICAL 1.7',\n",
       "       'CABRIO MECHANICAL 2.2', 'HATCHBACK_3_DOORS VARIATOR 1.3',\n",
       "       'HATCHBACK_3_DOORS AUTOMATIC 1.2',\n",
       "       'HATCHBACK_5_DOORS VARIATOR 1.7', 'WAGON_5_DOORS AUTOMATIC 2.2',\n",
       "       'HATCHBACK_3_DOORS MECHANICAL 1.2', 'SEDAN VARIATOR 1.6',\n",
       "       'COUPE AUTOMATIC 2.4', 'HATCHBACK_5_DOORS MECHANICAL 1.9',\n",
       "       'SEDAN MECHANICAL 3.2', 'HATCHBACK_5_DOORS AUTOMATIC 1.7',\n",
       "       'WAGON_5_DOORS MECHANICAL 1.5', 'COUPE AUTOMATIC 1.6',\n",
       "       'COUPE MECHANICAL 2.7', nan, 'HATCHBACK_5_DOORS AUTOMATIC 1.9',\n",
       "       'COUPE MECHANICAL 2.3', 'SEDAN ROBOT 1.6',\n",
       "       'ALLROAD_5_DOORS AUTOMATIC 2.5', 'WAGON_5_DOORS AUTOMATIC 3.2',\n",
       "       'HATCHBACK_3_DOORS ROBOT 2.0', 'SEDAN AUTOMATIC 2.9',\n",
       "       'HATCHBACK_3_DOORS AUTOMATIC 2.4', 'CABRIO AUTOMATIC 2.5',\n",
       "       'ALLROAD_5_DOORS AUTOMATIC 2.9', 'ALLROAD_5_DOORS AUTOMATIC 4.4',\n",
       "       'ALLROAD_5_DOORS MECHANICAL 2.5', 'SEDAN AUTOMATIC 4.4',\n",
       "       'WAGON_5_DOORS MECHANICAL 2.1', 'SEDAN MECHANICAL 2.9',\n",
       "       'HATCHBACK_5_DOORS AUTOMATIC 2.5', 'WAGON_5_DOORS MECHANICAL 2.3',\n",
       "       'CABRIO AUTOMATIC 2.4', 'ALLROAD_5_DOORS AUTOMATIC 1.5',\n",
       "       'WAGON_5_DOORS MECHANICAL 1.7', 'COUPE AUTOMATIC 2.3',\n",
       "       'HATCHBACK_3_DOORS MECHANICAL 2.5', 'CABRIO AUTOMATIC 2.3',\n",
       "       'COUPE_HARDTOP MECHANICAL 5.6', 'SEDAN ROBOT 4.4',\n",
       "       'SEDAN MECHANICAL 4.0', 'ALLROAD_5_DOORS AUTOMATIC 4.8',\n",
       "       'CABRIO AUTOMATIC 4.4', 'COUPE AUTOMATIC 4.4', 'COUPE ROBOT 4.4',\n",
       "       'HATCHBACK_5_DOORS AUTOMATIC', 'SEDAN AUTOMATIC 6.6',\n",
       "       'COUPE AUTOMATIC 2.5', 'HATCHBACK_5_DOORS MECHANICAL 3.0',\n",
       "       'ALLROAD_5_DOORS AUTOMATIC 4.6', 'SEDAN MECHANICAL 3.0',\n",
       "       'ROADSTER AUTOMATIC 2.5', 'COMPACTVAN MECHANICAL 1.5',\n",
       "       'COUPE ROBOT 5.0', 'ROADSTER AUTOMATIC 2.0',\n",
       "       'SEDAN MECHANICAL 4.9', 'LIFTBACK AUTOMATIC 4.4',\n",
       "       'ALLROAD_5_DOORS MECHANICAL 3.0', 'CABRIO AUTOMATIC 4.8',\n",
       "       'COUPE MECHANICAL 3.4', 'COUPE MECHANICAL 3.0', 'COUPE ROBOT 4.0',\n",
       "       'CABRIO AUTOMATIC 2.8', 'ROADSTER AUTOMATIC 3.0',\n",
       "       'CABRIO AUTOMATIC 3.0', 'SEDAN ROBOT 5.0', 'ROADSTER ROBOT 3.0',\n",
       "       'WAGON_5_DOORS AUTOMATIC 2.9', 'SEDAN AUTOMATIC 3.4',\n",
       "       'CABRIO ROBOT 5.0', 'ROADSTER MECHANICAL 1.9',\n",
       "       'SEDAN AUTOMATIC 3.6', 'SEDAN AUTOMATIC 5.4',\n",
       "       'PICKUP_TWO AUTOMATIC 2.5', 'ALLROAD_5_DOORS VARIATOR 3.5',\n",
       "       'ALLROAD_5_DOORS VARIATOR 1.2', 'SEDAN VARIATOR 2.5',\n",
       "       'ALLROAD_5_DOORS VARIATOR 2.5', 'ALLROAD_5_DOORS MECHANICAL 1.5',\n",
       "       'PICKUP_TWO MECHANICAL 2.5', 'HATCHBACK_5_DOORS AUTOMATIC 1.2',\n",
       "       'HATCHBACK_5_DOORS VARIATOR 1.2', 'SEDAN VARIATOR 3.5',\n",
       "       'ALLROAD_5_DOORS AUTOMATIC 5.6', 'ALLROAD_5_DOORS MECHANICAL 2.8',\n",
       "       'COMPACTVAN AUTOMATIC 1.3', 'WAGON_5_DOORS AUTOMATIC 1.2',\n",
       "       'COMPACTVAN AUTOMATIC 1.4', 'HATCHBACK_5_DOORS MECHANICAL 1.0',\n",
       "       'HATCHBACK_5_DOORS AUTOMATIC 1.0', 'COMPACTVAN VARIATOR 1.3',\n",
       "       'MINIVAN VARIATOR 3.5', 'MINIVAN AUTOMATIC 1.6',\n",
       "       'HATCHBACK_3_DOORS VARIATOR 1.4', 'MINIVAN MECHANICAL 2.2',\n",
       "       'ALLROAD_3_DOORS MECHANICAL 2.4', 'ALLROAD_5_DOORS MECHANICAL 3.3',\n",
       "       'HATCHBACK_3_DOORS MECHANICAL 1.0',\n",
       "       'HATCHBACK_5_DOORS VARIATOR 1.6', 'ALLROAD_3_DOORS AUTOMATIC 0.7',\n",
       "       'COUPE AUTOMATIC 3.7', 'PICKUP_TWO AUTOMATIC 5.6',\n",
       "       'ALLROAD_5_DOORS AUTOMATIC 3.3', 'MINIVAN MECHANICAL 1.5',\n",
       "       'COUPE ROBOT 3.8', 'MICROVAN ROBOT 0.7', 'MINIVAN AUTOMATIC 1.8',\n",
       "       'COMPACTVAN MECHANICAL 2.3', 'VAN MECHANICAL 2.3',\n",
       "       'PICKUP_ONE_HALF MECHANICAL 2.5', 'ALLROAD_5_DOORS AUTOMATIC 3.7',\n",
       "       'ALLROAD_5_DOORS AUTOMATIC 4.5', 'ALLROAD_5_DOORS AUTOMATIC 5.0',\n",
       "       'COUPE MECHANICAL 3.7', 'SEDAN AUTOMATIC 4.5',\n",
       "       'CABRIO AUTOMATIC 3.7', 'SEDAN AUTOMATIC 5.6',\n",
       "       'COUPE MECHANICAL 3.5', 'ALLROAD_5_DOORS AUTOMATIC 2.1',\n",
       "       'MINIVAN AUTOMATIC 2.1', 'ALLROAD_5_DOORS AUTOMATIC 5.5',\n",
       "       'COUPE AUTOMATIC 4.0', 'ALLROAD_5_DOORS AUTOMATIC 6.0',\n",
       "       'SEDAN AUTOMATIC 5.5', 'COUPE_HARDTOP AUTOMATIC 2.0',\n",
       "       'COUPE_HARDTOP AUTOMATIC 1.8', 'ALLROAD_5_DOORS ROBOT 1.6',\n",
       "       'SEDAN AUTOMATIC 4.7', 'ALLROAD_5_DOORS AUTOMATIC 4.7',\n",
       "       'ALLROAD_5_DOORS ROBOT 1.3', 'ROADSTER AUTOMATIC 1.8',\n",
       "       'ALLROAD_5_DOORS AUTOMATIC 5.4', 'MINIVAN AUTOMATIC 3.2',\n",
       "       'SEDAN ROBOT 1.3', 'WAGON_5_DOORS ROBOT 1.3',\n",
       "       'WAGON_5_DOORS MECHANICAL 2.8', 'COUPE AUTOMATIC 6.0',\n",
       "       'MINIVAN AUTOMATIC 5.0', 'COUPE AUTOMATIC 4.7',\n",
       "       'ALLROAD_5_DOORS AUTOMATIC 6.2', 'MINIVAN AUTOMATIC 2.2',\n",
       "       'COUPE AUTOMATIC 5.5', 'ROADSTER AUTOMATIC 5.5',\n",
       "       'COUPE_HARDTOP AUTOMATIC 3.5', 'MINIVAN MECHANICAL 2.1',\n",
       "       'HATCHBACK_5_DOORS VARIATOR 2.0', 'COUPE AUTOMATIC 2.8',\n",
       "       'COUPE_HARDTOP AUTOMATIC 5.0', 'PICKUP_TWO AUTOMATIC 3.0',\n",
       "       'ROADSTER ROBOT 6.2', 'COUPE_HARDTOP AUTOMATIC 6.2',\n",
       "       'ROADSTER AUTOMATIC 3.5', 'VAN MECHANICAL 1.6',\n",
       "       'SEDAN AUTOMATIC 6.2', 'MINIVAN MECHANICAL 1.6',\n",
       "       'VAN MECHANICAL 2.2', 'MINIVAN AUTOMATIC 2.3',\n",
       "       'ROADSTER AUTOMATIC 5.0', 'MINIVAN AUTOMATIC',\n",
       "       'PICKUP_TWO AUTOMATIC 2.3', 'COUPE_HARDTOP AUTOMATIC 5.5',\n",
       "       'WAGON_5_DOORS AUTOMATIC 2.1', 'COUPE AUTOMATIC 5.6',\n",
       "       'ROADSTER AUTOMATIC 5.4', 'CABRIO MECHANICAL 3.0',\n",
       "       'COUPE AUTOMATIC 6.2', 'ROADSTER AUTOMATIC 3.7',\n",
       "       'MINIVAN MECHANICAL 2.3', 'ALLROAD_5_DOORS MECHANICAL 2.3',\n",
       "       'COUPE_HARDTOP AUTOMATIC 5.8', 'ROADSTER ROBOT 4.0',\n",
       "       'HATCHBACK_3_DOORS VARIATOR 1.7', 'LIMOUSINE MECHANICAL 3.0',\n",
       "       'ALLROAD_OPEN MECHANICAL 3.0', 'COUPE_HARDTOP MECHANICAL 1.8',\n",
       "       'COUPE AUTOMATIC 4.3', 'COUPE_HARDTOP AUTOMATIC 4.7',\n",
       "       'ROADSTER AUTOMATIC 2.3', 'MINIVAN VARIATOR 1.8',\n",
       "       'ALLROAD_5_DOORS AUTOMATIC 2.8', 'PICKUP_TWO AUTOMATIC 2.8',\n",
       "       'MINIVAN MECHANICAL 2.7', 'ALLROAD_5_DOORS AUTOMATIC 2.7',\n",
       "       'ALLROAD_3_DOORS AUTOMATIC 2.0', 'ALLROAD_5_DOORS MECHANICAL 4.2',\n",
       "       'ALLROAD_5_DOORS MECHANICAL 2.7', 'ALLROAD_5_DOORS AUTOMATIC 3.4',\n",
       "       'PICKUP_ONE AUTOMATIC 2.8', 'COMPACTVAN VARIATOR 1.8',\n",
       "       'HATCHBACK_3_DOORS ROBOT 1.3', 'MINIVAN AUTOMATIC 2.7',\n",
       "       'PICKUP_TWO AUTOMATIC 4.0', 'COMPACTVAN MECHANICAL 1.8',\n",
       "       'ALLROAD_5_DOORS AUTOMATIC 5.7', 'PICKUP_TWO AUTOMATIC 5.7',\n",
       "       'PICKUP_TWO MECHANICAL 2.4', 'ALLROAD_3_DOORS MECHANICAL 2.0',\n",
       "       'ALLROAD_5_DOORS MECHANICAL 4.0', 'COMPACTVAN ROBOT 1.8',\n",
       "       'ALLROAD_5_DOORS MECHANICAL 3.4', 'ALLROAD_5_DOORS AUTOMATIC 1.3',\n",
       "       'PICKUP_TWO MECHANICAL 2.7', 'PICKUP_TWO AUTOMATIC 2.4',\n",
       "       'HATCHBACK_5_DOORS VARIATOR 1.0', 'MINIVAN AUTOMATIC 2.8',\n",
       "       'ALLROAD_5_DOORS VARIATOR 3.3', 'HATCHBACK_5_DOORS VARIATOR 1.8',\n",
       "       'MINIVAN AUTOMATIC 3.3', 'HATCHBACK_3_DOORS VARIATOR 1.0',\n",
       "       'ALLROAD_3_DOORS AUTOMATIC 3.0', '5.7',\n",
       "       'ALLROAD_3_DOORS AUTOMATIC 4.0', 'HATCHBACK_3_DOORS AUTOMATIC 1.0',\n",
       "       'SEDAN_HARDTOP AUTOMATIC 2.0', 'ALLROAD_3_DOORS AUTOMATIC 2.7',\n",
       "       'SEDAN AUTOMATIC 1.0', 'MINIVAN VARIATOR 2.5',\n",
       "       'MINIVAN MECHANICAL 1.8', 'ALLROAD_5_DOORS MECHANICAL 4.5',\n",
       "       'PICKUP_TWO AUTOMATIC 2.7', 'PICKUP_TWO AUTOMATIC 4.7',\n",
       "       'MINIVAN AUTOMATIC 2.5', 'PICKUP_ONE_HALF AUTOMATIC 5.7',\n",
       "       'WAGON_5_DOORS VARIATOR 1.6', 'SEDAN AUTOMATIC 4.6',\n",
       "       'SEDAN AUTOMATIC 4.3', 'COUPE AUTOMATIC 5.0', 'SEDAN VARIATOR 5.0',\n",
       "       'CABRIO AUTOMATIC 4.3', 'COUPE VARIATOR 2.5',\n",
       "       'SEDAN AUTOMATIC 3.3', 'PICKUP_TWO MECHANICAL 2.0',\n",
       "       'VAN MECHANICAL 2.5', 'MINIVAN ROBOT 2.0',\n",
       "       'MINIVAN MECHANICAL 2.0', 'VAN MECHANICAL 2.0',\n",
       "       'VAN MECHANICAL 1.9', 'COMPACTVAN ROBOT 1.4', 'VAN MECHANICAL 1.4',\n",
       "       'VAN AUTOMATIC 2.5', 'COMPACTVAN ROBOT 2.0',\n",
       "       'PICKUP_TWO AUTOMATIC 2.0', 'COMPACTVAN ROBOT 1.6',\n",
       "       'MINIVAN MECHANICAL 2.5', 'MINIVAN MECHANICAL 1.9',\n",
       "       'MINIVAN AUTOMATIC 1.9', 'CABRIO AUTOMATIC 1.8', 'SEDAN ROBOT 3.2',\n",
       "       'VAN MECHANICAL 1.2', 'COMPACTVAN MECHANICAL 1.9',\n",
       "       'MINIVAN MECHANICAL 3.2', 'MINIVAN MECHANICAL 2.4',\n",
       "       'CABRIO ROBOT 2.0', 'HATCHBACK_3_DOORS MECHANICAL 1.9',\n",
       "       'PICKUP_ONE AUTOMATIC 2.0', 'COMPACTVAN ROBOT 1.9',\n",
       "       'PICKUP_ONE MECHANICAL 2.0', 'ALLROAD_5_DOORS MECHANICAL 3.2',\n",
       "       'ALLROAD_5_DOORS AUTOMATIC 4.9', 'ALLROAD_5_DOORS AUTOMATIC 3.8',\n",
       "       'PICKUP_ONE_HALF AUTOMATIC 2.5', 'COMPACTVAN MECHANICAL 2.4',\n",
       "       'ALLROAD_5_DOORS MECHANICAL 3.5', 'ALLROAD_3_DOORS AUTOMATIC 3.2',\n",
       "       'COMPACTVAN MECHANICAL 1.3', 'COUPE AUTOMATIC 1.3',\n",
       "       'COMPACTVAN AUTOMATIC 3.0', 'ALLROAD_3_DOORS MECHANICAL 3.2',\n",
       "       'ALLROAD_3_DOORS AUTOMATIC 3.5', 'VAN AUTOMATIC',\n",
       "       'ALLROAD_3_DOORS MECHANICAL 3.0', 'ALLROAD_3_DOORS AUTOMATIC 3.8',\n",
       "       'ALLROAD_OPEN MECHANICAL 2.6', 'ALLROAD_3_DOORS MECHANICAL 1.8',\n",
       "       'ALLROAD_3_DOORS MECHANICAL 2.5', 'ALLROAD_3_DOORS MECHANICAL 0.7',\n",
       "       'MINIVAN MECHANICAL 2.8', 'MICROVAN MECHANICAL 0.7',\n",
       "       'HATCHBACK_5_DOORS MECHANICAL 1.1',\n",
       "       'ALLROAD_3_DOORS AUTOMATIC 1.1', 'ALLROAD_3_DOORS AUTOMATIC 2.5',\n",
       "       'MICROVAN VARIATOR 1.2', 'SEDAN_HARDTOP AUTOMATIC 1.8'],\n",
       "      dtype=object)"
      ]
     },
     "execution_count": 95,
     "metadata": {},
     "output_type": "execute_result"
    }
   ],
   "source": [
    "print(len(train_df.vehicleConfiguration.unique()))\n",
    "print(train_df.vehicleConfiguration.dtype)\n",
    "train_df.vehicleConfiguration.unique()"
   ]
  },
  {
   "cell_type": "code",
   "execution_count": 96,
   "id": "32a57ad1",
   "metadata": {},
   "outputs": [
    {
     "name": "stdout",
     "output_type": "stream",
     "text": [
      "634\n",
      "object\n"
     ]
    },
    {
     "data": {
      "text/plain": [
       "array(['LIFTBACK ROBOT 1.2', 'LIFTBACK MECHANICAL 1.6',\n",
       "       'LIFTBACK ROBOT 1.8', 'LIFTBACK AUTOMATIC 1.6',\n",
       "       'LIFTBACK AUTOMATIC 1.8', 'LIFTBACK ROBOT 2.0',\n",
       "       'ALLROAD_5_DOORS ROBOT 1.8', 'ALLROAD_5_DOORS MECHANICAL 1.4',\n",
       "       'ALLROAD_5_DOORS MECHANICAL 1.8', 'LIFTBACK ROBOT 1.4',\n",
       "       'ALLROAD_5_DOORS ROBOT 1.4', 'ALLROAD_5_DOORS ROBOT 2.0',\n",
       "       'ALLROAD_5_DOORS MECHANICAL 1.2', 'LIFTBACK MECHANICAL 1.4',\n",
       "       'HATCHBACK_5_DOORS AUTOMATIC 1.6',\n",
       "       'HATCHBACK_5_DOORS MECHANICAL 1.2', 'ALLROAD_5_DOORS ROBOT 1.2',\n",
       "       'SEDAN AUTOMATIC 1.8', 'COMPACTVAN AUTOMATIC 1.6',\n",
       "       'WAGON_5_DOORS ROBOT 2.0', 'LIFTBACK MECHANICAL 1.8',\n",
       "       'ALLROAD_5_DOORS AUTOMATIC 1.6', 'HATCHBACK_5_DOORS ROBOT 1.2',\n",
       "       'WAGON_5_DOORS ROBOT 1.8', 'WAGON_5_DOORS AUTOMATIC 1.6',\n",
       "       'HATCHBACK_5_DOORS MECHANICAL 1.3',\n",
       "       'HATCHBACK_5_DOORS MECHANICAL 1.4', 'LIFTBACK MECHANICAL 1.2',\n",
       "       'COMPACTVAN MECHANICAL 1.2', 'WAGON_5_DOORS MECHANICAL 1.2',\n",
       "       'HATCHBACK_5_DOORS MECHANICAL 1.6', 'WAGON_5_DOORS MECHANICAL 1.4',\n",
       "       'WAGON_5_DOORS ROBOT 1.0', 'LIFTBACK ROBOT 3.6',\n",
       "       'COMPACTVAN MECHANICAL 1.4', 'WAGON_5_DOORS ROBOT 1.4',\n",
       "       'WAGON_5_DOORS MECHANICAL 1.6', 'WAGON_5_DOORS MECHANICAL 1.8',\n",
       "       'ALLROAD_5_DOORS ROBOT 1.5', 'WAGON_5_DOORS AUTOMATIC 1.8',\n",
       "       'HATCHBACK_5_DOORS AUTOMATIC 1.4',\n",
       "       'ALLROAD_5_DOORS MECHANICAL 1.6', 'LIFTBACK MECHANICAL 2.0',\n",
       "       'WAGON_5_DOORS ROBOT 3.6', 'WAGON_5_DOORS MECHANICAL 2.0',\n",
       "       'LIFTBACK AUTOMATIC 2.0', 'HATCHBACK_5_DOORS ROBOT 1.4',\n",
       "       'SEDAN MECHANICAL 1.2', 'LIFTBACK ROBOT 1.9',\n",
       "       'COMPACTVAN MECHANICAL 1.6', 'SEDAN MECHANICAL 1.8',\n",
       "       'SEDAN MECHANICAL 1.0', 'PICKUP_ONE MECHANICAL 1.3',\n",
       "       'WAGON_5_DOORS MECHANICAL 1.3', 'WAGON_5_DOORS ROBOT 1.2',\n",
       "       'SEDAN AUTOMATIC 2.8', 'LIFTBACK MECHANICAL 1.9',\n",
       "       'WAGON_5_DOORS AUTOMATIC 1.4', 'SEDAN MECHANICAL 1.4',\n",
       "       'ALLROAD_5_DOORS AUTOMATIC 1.4', 'COMPACTVAN ROBOT 1.2',\n",
       "       'HATCHBACK_3_DOORS MECHANICAL 1.1', 'WAGON_5_DOORS MECHANICAL 1.9',\n",
       "       'HATCHBACK_5_DOORS MECHANICAL 1.0', 'SEDAN AUTOMATIC 2.5',\n",
       "       'ALLROAD_5_DOORS AUTOMATIC 2.0', 'COUPE ROBOT 4.2',\n",
       "       'ALLROAD_5_DOORS AUTOMATIC 3.0', 'SEDAN ROBOT 2.0',\n",
       "       'SEDAN ROBOT 1.4', 'COUPE VARIATOR 1.8', 'SEDAN AUTOMATIC 2.0',\n",
       "       'LIFTBACK AUTOMATIC 4.0', 'ALLROAD_5_DOORS AUTOMATIC 5.9',\n",
       "       'WAGON_5_DOORS AUTOMATIC 2.7', 'SEDAN ROBOT 4.0',\n",
       "       'WAGON_5_DOORS AUTOMATIC 4.0', 'COUPE ROBOT 2.0',\n",
       "       'HATCHBACK_5_DOORS AUTOMATIC 1.8', 'COUPE VARIATOR 2.0',\n",
       "       'SEDAN VARIATOR 2.0', 'COUPE AUTOMATIC 4.2', 'SEDAN VARIATOR 1.8',\n",
       "       'SEDAN AUTOMATIC 4.0', 'SEDAN AUTOMATIC 3.0',\n",
       "       'ALLROAD_5_DOORS AUTOMATIC 3.6', 'ALLROAD_5_DOORS ROBOT 3.0',\n",
       "       'COUPE MECHANICAL 4.2', 'ALLROAD_5_DOORS AUTOMATIC 4.2',\n",
       "       'HATCHBACK_5_DOORS ROBOT 1.8', 'SEDAN ROBOT 2.8',\n",
       "       'WAGON_5_DOORS AUTOMATIC 3.1', 'SEDAN VARIATOR 2.4',\n",
       "       'SEDAN VARIATOR 3.1', 'LIFTBACK ROBOT 3.0', 'SEDAN AUTOMATIC 4.2',\n",
       "       'SEDAN VARIATOR 2.8', 'SEDAN ROBOT 3.0',\n",
       "       'WAGON_5_DOORS VARIATOR 2.0', 'ALLROAD_5_DOORS ROBOT 2.5',\n",
       "       'HATCHBACK_3_DOORS AUTOMATIC 1.6', 'SEDAN AUTOMATIC 5.2',\n",
       "       'SEDAN AUTOMATIC 3.1', 'SEDAN ROBOT 1.8', 'SEDAN AUTOMATIC 2.4',\n",
       "       'ALLROAD_5_DOORS AUTOMATIC 3.2', 'HATCHBACK_5_DOORS ROBOT 2.5',\n",
       "       'ALLROAD_5_DOORS AUTOMATIC 4.1', 'WAGON_5_DOORS AUTOMATIC 2.0',\n",
       "       'HATCHBACK_3_DOORS ROBOT 1.8', 'COUPE MECHANICAL 1.8',\n",
       "       'SEDAN MECHANICAL 2.0', 'SEDAN MECHANICAL 2.8',\n",
       "       'WAGON_5_DOORS ROBOT 3.0', 'LIFTBACK ROBOT 2.8',\n",
       "       'HATCHBACK_3_DOORS ROBOT 1.4', 'WAGON_5_DOORS AUTOMATIC 3.0',\n",
       "       'HATCHBACK_5_DOORS ROBOT 1.6', 'WAGON_5_DOORS MECHANICAL 2.5',\n",
       "       'HATCHBACK_5_DOORS AUTOMATIC 2.0', 'HATCHBACK_3_DOORS ROBOT 1.2',\n",
       "       'LIFTBACK AUTOMATIC 3.0', 'SEDAN AUTOMATIC 6.3', 'COUPE ROBOT 3.0',\n",
       "       'SEDAN MECHANICAL 2.3', 'HATCHBACK_3_DOORS MECHANICAL 1.8',\n",
       "       'SEDAN AUTOMATIC 6.0', 'WAGON_5_DOORS VARIATOR 1.8',\n",
       "       'LIFTBACK VARIATOR 1.8', 'SEDAN MECHANICAL 2.2',\n",
       "       'SEDAN MECHANICAL 2.4', 'SEDAN AUTOMATIC 3.7', 'COUPE ROBOT 2.5',\n",
       "       'WAGON_5_DOORS ROBOT 4.2', 'COUPE ROBOT 5.2', 'LIFTBACK ROBOT 4.0',\n",
       "       'COUPE AUTOMATIC 3.2', 'COUPE AUTOMATIC 2.9',\n",
       "       'SEDAN AUTOMATIC 5.0', 'WAGON_5_DOORS AUTOMATIC 4.2',\n",
       "       'LIFTBACK VARIATOR 2.0', 'SEDAN AUTOMATIC 2.3',\n",
       "       'COUPE MECHANICAL 2.2', 'WAGON_5_DOORS AUTOMATIC 2.4',\n",
       "       'COUPE ROBOT 3.2', 'ALLROAD_5_DOORS MECHANICAL 2.0',\n",
       "       'SEDAN AUTOMATIC 4.1', 'CABRIO MECHANICAL 4.2',\n",
       "       'COUPE AUTOMATIC 3.0', 'WAGON_5_DOORS VARIATOR 2.7',\n",
       "       'SEDAN MECHANICAL 1.6', 'SEDAN MECHANICAL 3.0',\n",
       "       'COUPE MECHANICAL 3.0', 'COUPE VARIATOR 3.2',\n",
       "       'SEDAN MECHANICAL 3.3', 'WAGON_5_DOORS ROBOT 4.0',\n",
       "       'COUPE MECHANICAL 2.3', 'SEDAN MECHANICAL 2.7',\n",
       "       'HATCHBACK_3_DOORS ROBOT 2.0', 'SEDAN AUTOMATIC 2.7',\n",
       "       'WAGON_5_DOORS MECHANICAL 2.4', 'HATCHBACK_5_DOORS ROBOT 2.0',\n",
       "       'HATCHBACK_5_DOORS MECHANICAL 2.0', 'SEDAN AUTOMATIC 1.9',\n",
       "       'SEDAN VARIATOR 3.0', 'WAGON_5_DOORS AUTOMATIC 2.5',\n",
       "       'HATCHBACK_3_DOORS AUTOMATIC 2.0',\n",
       "       'HATCHBACK_3_DOORS MECHANICAL 1.6', 'SEDAN AUTOMATIC 2.1',\n",
       "       'WAGON_5_DOORS AUTOMATIC 2.6', 'CABRIO VARIATOR 1.8',\n",
       "       'WAGON_5_DOORS VARIATOR 2.4', 'SEDAN MECHANICAL 2.6',\n",
       "       'SEDAN ROBOT 1.5', 'CABRIO ROBOT 2.0',\n",
       "       'WAGON_5_DOORS MECHANICAL 2.7', 'SEDAN MECHANICAL 2.1',\n",
       "       'CABRIO MECHANICAL 1.8', 'SEDAN MECHANICAL 2.5',\n",
       "       'SEDAN MECHANICAL 1.9', 'WAGON_5_DOORS MECHANICAL 2.1',\n",
       "       'SEDAN MECHANICAL 3.2', 'WAGON_5_DOORS AUTOMATIC 2.3',\n",
       "       'ALLROAD_5_DOORS ROBOT 3.2', 'HATCHBACK_3_DOORS AUTOMATIC 1.8',\n",
       "       'SEDAN AUTOMATIC 2.6', 'CABRIO AUTOMATIC 2.0',\n",
       "       'SEDAN VARIATOR 2.5', 'HATCHBACK_5_DOORS MECHANICAL 1.8',\n",
       "       'COUPE AUTOMATIC 1.8', 'SEDAN AUTOMATIC 3.6',\n",
       "       'HATCHBACK_3_DOORS ROBOT 1.6', 'HATCHBACK_5_DOORS ROBOT 1.9',\n",
       "       'WAGON_5_DOORS MECHANICAL 2.3', 'WAGON_5_DOORS MECHANICAL 2.6',\n",
       "       'SEDAN VARIATOR 1.9', 'ALLROAD_5_DOORS AUTOMATIC',\n",
       "       'ALLROAD_5_DOORS AUTOMATIC 2.4', 'ALLROAD_5_DOORS AUTOMATIC 3.5',\n",
       "       'COMPACTVAN AUTOMATIC 2.3', 'COMPACTVAN AUTOMATIC 1.7',\n",
       "       'MINIVAN AUTOMATIC 2.4', 'HATCHBACK_3_DOORS AUTOMATIC 1.4',\n",
       "       'PICKUP_TWO AUTOMATIC 3.5', 'COMPACTVAN MECHANICAL 1.7',\n",
       "       'HATCHBACK_5_DOORS AUTOMATIC 1.5', 'ALLROAD_3_DOORS VARIATOR 1.6',\n",
       "       'SEDAN MECHANICAL 1.7', 'COMPACTVAN AUTOMATIC 2.2',\n",
       "       'SEDAN AUTOMATIC 1.6', 'COMPACTVAN VARIATOR 1.5',\n",
       "       'MINIVAN AUTOMATIC 3.5', 'HATCHBACK_3_DOORS MECHANICAL 1.4',\n",
       "       'HATCHBACK_3_DOORS AUTOMATIC 1.3', 'SEDAN AUTOMATIC 3.5',\n",
       "       'HATCHBACK_5_DOORS VARIATOR 1.3', 'SEDAN VARIATOR 1.5',\n",
       "       'HATCHBACK_3_DOORS AUTOMATIC 0.7', 'SEDAN AUTOMATIC 1.5',\n",
       "       'CABRIO MECHANICAL 2.0', 'ALLROAD_3_DOORS MECHANICAL 1.6',\n",
       "       'HATCHBACK_5_DOORS ROBOT 1.3', 'HATCHBACK_3_DOORS MECHANICAL 1.5',\n",
       "       'ALLROAD_5_DOORS MECHANICAL 2.4', 'MINIVAN VARIATOR 2.0',\n",
       "       'COUPE VARIATOR 1.5', 'HATCHBACK_3_DOORS MECHANICAL 1.3',\n",
       "       'SEDAN MECHANICAL 1.5', 'MINIVAN AUTOMATIC 2.0',\n",
       "       'HATCHBACK_3_DOORS MECHANICAL 2.0', 'ALLROAD_5_DOORS VARIATOR 2.4',\n",
       "       'COMPACTVAN MECHANICAL 2.0', 'COUPE AUTOMATIC 2.4',\n",
       "       'ROADSTER MECHANICAL 1.6', 'SEDAN AUTOMATIC 3.2',\n",
       "       'HATCHBACK_5_DOORS VARIATOR 1.5', 'WAGON_5_DOORS ROBOT 1.5',\n",
       "       'SEDAN VARIATOR 1.3', 'COUPE AUTOMATIC 2.3',\n",
       "       'COMPACTVAN VARIATOR 2.0', 'ALLROAD_5_DOORS VARIATOR 1.6',\n",
       "       'HATCHBACK_5_DOORS VARIATOR 0.7', 'ROADSTER AUTOMATIC 1.6',\n",
       "       'COUPE MECHANICAL 1.6', 'HATCHBACK_5_DOORS AUTOMATIC 0.7',\n",
       "       'WAGON_5_DOORS MECHANICAL 2.2', 'COUPE MECHANICAL 2.0',\n",
       "       'HATCHBACK_5_DOORS MECHANICAL 1.5', 'COUPE AUTOMATIC 1.7',\n",
       "       'COUPE AUTOMATIC 2.2', 'SEDAN AUTOMATIC 1.3',\n",
       "       'COMPACTVAN AUTOMATIC 3.0', 'HATCHBACK_3_DOORS AUTOMATIC 1.5',\n",
       "       'HATCHBACK_5_DOORS AUTOMATIC 1.3', 'COUPE MECHANICAL 2.4',\n",
       "       'SEDAN AUTOMATIC 1.7', 'MICROVAN AUTOMATIC 0.7',\n",
       "       'COMPACTVAN AUTOMATIC 2.0', 'COUPE AUTOMATIC 2.0',\n",
       "       'COUPE AUTOMATIC 1.5', 'WAGON_5_DOORS AUTOMATIC 2.2',\n",
       "       'MINIVAN AUTOMATIC 3.0', 'HATCHBACK_3_DOORS VARIATOR 1.5',\n",
       "       'ALLROAD_5_DOORS VARIATOR 2.0', 'ALLROAD_5_DOORS AUTOMATIC 1.8',\n",
       "       'COUPE MECHANICAL 1.5', 'HATCHBACK_5_DOORS ROBOT 1.5',\n",
       "       'ALLROAD_5_DOORS MECHANICAL 2.2', 'COUPE AUTOMATIC 1.6',\n",
       "       'WAGON_5_DOORS VARIATOR 1.5', 'COMPACTVAN AUTOMATIC 1.5',\n",
       "       'COMPACTVAN AUTOMATIC 1.8', 'COUPE MECHANICAL 1.7',\n",
       "       'HATCHBACK_5_DOORS MECHANICAL 1.9', 'WAGON_5_DOORS AUTOMATIC 1.5',\n",
       "       'SEDAN AUTOMATIC 2.2', 'HATCHBACK_3_DOORS VARIATOR 1.3',\n",
       "       'HATCHBACK_3_DOORS AUTOMATIC 2.4', 'ALLROAD_5_DOORS AUTOMATIC 2.5',\n",
       "       'SEDAN ROBOT 1.6', 'ALLROAD_5_DOORS AUTOMATIC 4.4',\n",
       "       'WAGON_5_DOORS AUTOMATIC 3.2', 'SEDAN AUTOMATIC 2.9',\n",
       "       'ALLROAD_5_DOORS AUTOMATIC 2.9', 'CABRIO AUTOMATIC 2.5',\n",
       "       'CABRIO AUTOMATIC 2.4', 'SEDAN AUTOMATIC 4.4',\n",
       "       'WAGON_5_DOORS AUTOMATIC 2.9', 'HATCHBACK_3_DOORS MECHANICAL 2.5',\n",
       "       'SEDAN MECHANICAL 2.9', 'HATCHBACK_3_DOORS AUTOMATIC 2.5',\n",
       "       'SEDAN_2_DOORS MECHANICAL 2.0', 'WAGON_5_DOORS AUTOMATIC 1.7',\n",
       "       'WAGON_5_DOORS MECHANICAL 1.7', 'ROADSTER AUTOMATIC 2.5',\n",
       "       'ALLROAD_5_DOORS AUTOMATIC 4.8', 'SEDAN ROBOT 4.4',\n",
       "       'COUPE AUTOMATIC 2.5', 'COUPE ROBOT 4.4', 'SEDAN MECHANICAL 3.5',\n",
       "       'ROADSTER AUTOMATIC 1.5', 'CABRIO AUTOMATIC 4.8',\n",
       "       'SEDAN AUTOMATIC 4.8', 'SEDAN AUTOMATIC 5.4', 'COUPE ROBOT 5.0',\n",
       "       'ALLROAD_5_DOORS AUTOMATIC 1.5', 'COUPE ROBOT 4.0',\n",
       "       'SEDAN AUTOMATIC 6.6', 'HATCHBACK_5_DOORS AUTOMATIC',\n",
       "       'HATCHBACK_5_DOORS AUTOMATIC 3.0', 'COUPE AUTOMATIC 4.4',\n",
       "       'SEDAN ROBOT 5.0', 'COUPE MECHANICAL 4.0',\n",
       "       'HATCHBACK_3_DOORS AUTOMATIC 3.0', 'ROADSTER AUTOMATIC 3.0',\n",
       "       'SEDAN MECHANICAL 4.9', 'CABRIO AUTOMATIC 4.4',\n",
       "       'SEDAN MECHANICAL 3.8', 'COUPE_HARDTOP AUTOMATIC 5.0',\n",
       "       'ROADSTER MECHANICAL 2.5', 'COMPACTVAN ROBOT 1.5',\n",
       "       'CABRIO ROBOT 4.0', 'COUPE MECHANICAL 3.5', 'CABRIO AUTOMATIC 3.0',\n",
       "       'COUPE MECHANICAL 3.4', 'COUPE AUTOMATIC 4.8',\n",
       "       'ROADSTER AUTOMATIC 2.0', 'COUPE MECHANICAL 2.5',\n",
       "       'SEDAN AUTOMATIC 3.9', 'ROADSTER ROBOT 3.0',\n",
       "       'LIFTBACK AUTOMATIC 4.4', 'ROADSTER AUTOMATIC 2.8',\n",
       "       'ALLROAD_5_DOORS MECHANICAL 3.0', 'CABRIO ROBOT 3.3',\n",
       "       'COUPE MECHANICAL 2.8', 'WAGON_5_DOORS MECHANICAL 3.0',\n",
       "       'SEDAN_2_DOORS MECHANICAL 1.6', 'SEDAN MECHANICAL 3.4',\n",
       "       'ROADSTER MECHANICAL 1.9', 'SEDAN AUTOMATIC 3.4',\n",
       "       'ROADSTER MECHANICAL 3.0', 'ROADSTER MECHANICAL 1.8',\n",
       "       'ALLROAD_5_DOORS AUTOMATIC 4.6', 'ROADSTER MECHANICAL 3.2',\n",
       "       'CABRIO AUTOMATIC 2.8', 'COUPE MECHANICAL 4.4',\n",
       "       'HATCHBACK_3_DOORS MECHANICAL 1.9', 'COUPE ROBOT 3.3',\n",
       "       'COUPE AUTOMATIC 2.8', 'SEDAN MECHANICAL 4.4',\n",
       "       'ALLROAD_5_DOORS VARIATOR 2.5', 'ALLROAD_5_DOORS AUTOMATIC 5.6',\n",
       "       'ALLROAD_5_DOORS VARIATOR 3.5', 'PICKUP_TWO AUTOMATIC 2.5',\n",
       "       'ALLROAD_5_DOORS VARIATOR 1.2', 'ALLROAD_5_DOORS MECHANICAL 4.2',\n",
       "       'SEDAN VARIATOR 3.5', 'HATCHBACK_3_DOORS MECHANICAL 1.2',\n",
       "       'COUPE ROBOT 3.8', 'ALLROAD_5_DOORS MECHANICAL 1.5',\n",
       "       'HATCHBACK_5_DOORS AUTOMATIC 1.2', 'PICKUP_TWO MECHANICAL 2.5',\n",
       "       'SEDAN VARIATOR 1.6', 'ALLROAD_5_DOORS MECHANICAL 2.7',\n",
       "       'ALLROAD_5_DOORS VARIATOR 1.5', 'ALLROAD_5_DOORS MECHANICAL 2.5',\n",
       "       'COUPE VARIATOR 2.5', 'COMPACTVAN MECHANICAL 1.8',\n",
       "       'COUPE AUTOMATIC 3.5', 'ALLROAD_5_DOORS MECHANICAL 2.8',\n",
       "       'MINIVAN MECHANICAL 1.5', 'MINIVAN AUTOMATIC 1.6',\n",
       "       'ALLROAD_5_DOORS AUTOMATIC 4.0', 'FASTBACK MECHANICAL 2.8',\n",
       "       'MINIVAN VARIATOR 3.5', 'HATCHBACK_5_DOORS VARIATOR 1.6',\n",
       "       'COMPACTVAN AUTOMATIC 1.4', 'HATCHBACK_3_DOORS MECHANICAL 1.0',\n",
       "       'COMPACTVAN VARIATOR 1.6', 'HATCHBACK_5_DOORS VARIATOR 2.0',\n",
       "       'PICKUP_ONE MECHANICAL 2.3', 'ALLROAD_3_DOORS MECHANICAL 2.8',\n",
       "       'TARGA MECHANICAL 1.6', 'ALLROAD_3_DOORS MECHANICAL 2.4',\n",
       "       'ALLROAD_5_DOORS AUTOMATIC 3.3', 'HATCHBACK_5_DOORS VARIATOR 1.2',\n",
       "       'HATCHBACK_5_DOORS VARIATOR 1.0', 'MINIVAN AUTOMATIC 2.2',\n",
       "       'MINIVAN MECHANICAL 2.3', 'MINIVAN MECHANICAL 2.2',\n",
       "       'MINIVAN AUTOMATIC 2.5', 'COMPACTVAN AUTOMATIC 1.3',\n",
       "       'ALLROAD_3_DOORS MECHANICAL 3.0', 'PICKUP_TWO MECHANICAL 2.7',\n",
       "       'MINIVAN MECHANICAL 2.0', 'WAGON_5_DOORS MECHANICAL 1.5',\n",
       "       'SEDAN MECHANICAL 1.3', 'MINIVAN AUTOMATIC 3.2',\n",
       "       'ALLROAD_3_DOORS AUTOMATIC 0.7', 'ALLROAD_5_DOORS AUTOMATIC 4.5',\n",
       "       'MINIVAN MECHANICAL 1.8', 'MINIVAN MECHANICAL 3.0',\n",
       "       'HATCHBACK_3_DOORS AUTOMATIC 1.2',\n",
       "       'HATCHBACK_3_DOORS VARIATOR 1.0', 'PICKUP_TWO AUTOMATIC 2.7',\n",
       "       'COMPACTVAN MECHANICAL 2.2', 'ALLROAD_5_DOORS AUTOMATIC 2.7',\n",
       "       'PICKUP_TWO MECHANICAL 2.3', 'PICKUP_TWO AUTOMATIC 3.2',\n",
       "       'WAGON_5_DOORS AUTOMATIC 1.3', 'MINIVAN MECHANICAL 2.7',\n",
       "       'ALLROAD_5_DOORS AUTOMATIC 3.7', 'ALLROAD_5_DOORS AUTOMATIC 5.0',\n",
       "       'SEDAN AUTOMATIC 4.5', 'COUPE AUTOMATIC 3.7',\n",
       "       'SEDAN AUTOMATIC 5.6', 'CABRIO AUTOMATIC 3.7',\n",
       "       'MINIVAN AUTOMATIC 2.1', 'SEDAN AUTOMATIC 5.5',\n",
       "       'ALLROAD_5_DOORS ROBOT 1.6', 'ROADSTER AUTOMATIC 1.8',\n",
       "       'COUPE ROBOT 6.2', 'COUPE_HARDTOP AUTOMATIC 1.8',\n",
       "       'ALLROAD_5_DOORS AUTOMATIC 5.5', 'SEDAN AUTOMATIC 4.7',\n",
       "       'ALLROAD_5_DOORS AUTOMATIC 2.1', 'ALLROAD_3_DOORS AUTOMATIC 3.0',\n",
       "       'ALLROAD_5_DOORS AUTOMATIC 4.7', 'COUPE_HARDTOP AUTOMATIC 2.0',\n",
       "       'HATCHBACK_5_DOORS VARIATOR 1.7', 'COUPE AUTOMATIC 4.0',\n",
       "       'CABRIO AUTOMATIC 1.8', 'COUPE AUTOMATIC 6.2',\n",
       "       'SEDAN AUTOMATIC 4.3', 'SEDAN ROBOT 1.3',\n",
       "       'WAGON_5_DOORS AUTOMATIC 2.1', 'ROADSTER AUTOMATIC 5.0',\n",
       "       'COUPE_HARDTOP AUTOMATIC 5.5', 'COUPE AUTOMATIC 5.5',\n",
       "       'ROADSTER AUTOMATIC 5.4', 'ALLROAD_OPEN AUTOMATIC 5.5',\n",
       "       'CABRIO MECHANICAL 2.2', 'COUPE AUTOMATIC 4.7',\n",
       "       'ROADSTER AUTOMATIC 3.5', 'LIMOUSINE AUTOMATIC 6.2',\n",
       "       'HATCHBACK_3_DOORS VARIATOR 1.7', 'ALLROAD_5_DOORS AUTOMATIC 6.0',\n",
       "       'ROADSTER AUTOMATIC 2.3', 'SEDAN AUTOMATIC 6.2',\n",
       "       'ALLROAD_5_DOORS AUTOMATIC 5.4', 'MINIVAN AUTOMATIC 3.7',\n",
       "       'ALLROAD_5_DOORS AUTOMATIC 6.2', 'COUPE_HARDTOP AUTOMATIC 4.7',\n",
       "       'PICKUP_TWO AUTOMATIC 2.3', 'COUPE AUTOMATIC 5.0',\n",
       "       'COUPE_HARDTOP AUTOMATIC 6.0', 'COUPE_HARDTOP AUTOMATIC 3.5',\n",
       "       'WAGON_5_DOORS AUTOMATIC 4.7', 'COUPE AUTOMATIC 5.4',\n",
       "       'WAGON_5_DOORS AUTOMATIC 5.5', 'MINIVAN AUTOMATIC 2.8',\n",
       "       'ALLROAD_3_DOORS AUTOMATIC 3.2', 'COUPE_HARDTOP AUTOMATIC 3.2',\n",
       "       'COUPE AUTOMATIC 5.6', 'WAGON_5_DOORS AUTOMATIC 5.4',\n",
       "       'WAGON_5_DOORS AUTOMATIC 3.5', 'COUPE_HARDTOP MECHANICAL 2.3',\n",
       "       'ROADSTER AUTOMATIC 5.5', 'COUPE_HARDTOP AUTOMATIC 2.3',\n",
       "       'COUPE AUTOMATIC 4.3', 'COUPE_HARDTOP AUTOMATIC 5.8',\n",
       "       'ROADSTER AUTOMATIC 4.7', 'COMPACTVAN MECHANICAL 1.5',\n",
       "       'LIMOUSINE AUTOMATIC 5.5', 'MINIVAN AUTOMATIC 5.0',\n",
       "       'COUPE_HARDTOP AUTOMATIC 2.6', 'CABRIO MECHANICAL 5.3',\n",
       "       'HATCHBACK_3_DOORS AUTOMATIC 2.3', 'ROADSTER ROBOT 6.2',\n",
       "       'CABRIO AUTOMATIC 5.5', 'MINIVAN MECHANICAL 2.1',\n",
       "       'COUPE AUTOMATIC 6.0', 'ROADSTER AUTOMATIC 3.8',\n",
       "       'SEDAN AUTOMATIC 3.8', 'ALLROAD_5_DOORS ROBOT 2.1',\n",
       "       'HATCHBACK_5_DOORS ROBOT 2.1', 'ALLROAD_5_DOORS MECHANICAL 2.3',\n",
       "       'LIMOUSINE AUTOMATIC 5.8', 'ALLROAD_OPEN AUTOMATIC 5.0',\n",
       "       'SEDAN AUTOMATIC 5.8', 'ROADSTER AUTOMATIC 3.7',\n",
       "       'HATCHBACK_5_DOORS AUTOMATIC 1.7', 'ROADSTER AUTOMATIC 6.0',\n",
       "       'ALLROAD_5_DOORS AUTOMATIC 4.3', 'COUPE_HARDTOP MECHANICAL 1.8',\n",
       "       'ROADSTER AUTOMATIC 3.2', 'MINIVAN MECHANICAL 1.6',\n",
       "       'CABRIO AUTOMATIC 3.5', 'CABRIO AUTOMATIC 2.3',\n",
       "       'WAGON_5_DOORS AUTOMATIC 2.8', 'ALLROAD_5_DOORS AUTOMATIC 2.8',\n",
       "       'ALLROAD_5_DOORS AUTOMATIC 5.7', 'ALLROAD_3_DOORS AUTOMATIC 4.0',\n",
       "       'COMPACTVAN VARIATOR 1.8', 'ALLROAD_3_DOORS AUTOMATIC 2.0',\n",
       "       'MINIVAN VARIATOR 1.8', 'PICKUP_TWO MECHANICAL 2.4',\n",
       "       'PICKUP_TWO AUTOMATIC 2.8', 'ALLROAD_5_DOORS AUTOMATIC 2.2',\n",
       "       'ALLROAD_5_DOORS AUTOMATIC 3.4', 'PICKUP_TWO AUTOMATIC 5.7',\n",
       "       'COUPE AUTOMATIC 3.3', 'MINIVAN AUTOMATIC 3.3',\n",
       "       'ALLROAD_5_DOORS MECHANICAL 4.0', 'PICKUP_TWO AUTOMATIC 3.0',\n",
       "       'ALLROAD_5_DOORS VARIATOR 3.3', 'PICKUP_TWO AUTOMATIC 4.7',\n",
       "       'ALLROAD_3_DOORS MECHANICAL 2.5', 'MINIVAN VARIATOR 2.4',\n",
       "       'ALLROAD_5_DOORS MECHANICAL 3.4', 'ALLROAD_3_DOORS MECHANICAL 4.5',\n",
       "       'ALLROAD_5_DOORS MECHANICAL 4.5',\n",
       "       'HATCHBACK_5_DOORS AUTOMATIC 2.4', 'MINIVAN VARIATOR 2.5',\n",
       "       'COMPACTVAN ROBOT 1.8', 'COMPACTVAN AUTOMATIC 2.4',\n",
       "       'COMPACTVAN MECHANICAL 1.3', 'PICKUP_ONE_HALF AUTOMATIC 2.5',\n",
       "       'HATCHBACK_5_DOORS VARIATOR 2.4', 'ALLROAD_3_DOORS MECHANICAL 4.2',\n",
       "       'PICKUP_ONE_HALF AUTOMATIC 5.7', 'SEDAN_HARDTOP MECHANICAL 2.0',\n",
       "       'MINIVAN AUTOMATIC 3.4', 'MINIVAN MECHANICAL 2.4',\n",
       "       'HATCHBACK_3_DOORS AUTOMATIC 1.0',\n",
       "       'ALLROAD_3_DOORS MECHANICAL 3.4', 'PICKUP_ONE MECHANICAL 2.7',\n",
       "       'HATCHBACK_3_DOORS ROBOT 1.3', 'MINIVAN MECHANICAL 2.5',\n",
       "       'MINIVAN AUTOMATIC 2.7', 'ALLROAD_5_DOORS MECHANICAL 3.5',\n",
       "       'LIFTBACK MECHANICAL 1.3', 'MICROVAN AUTOMATIC 1.3',\n",
       "       'PICKUP_ONE MECHANICAL 4.0', 'COUPE MECHANICAL 1.3',\n",
       "       'ALLROAD_5_DOORS AUTOMATIC 1.3', 'SEDAN_HARDTOP AUTOMATIC 1.6',\n",
       "       'SEDAN_HARDTOP AUTOMATIC 1.8', 'COMPACTVAN VARIATOR 2.4',\n",
       "       'ALLROAD_3_DOORS MECHANICAL 2.0', 'CABRIO AUTOMATIC 4.3',\n",
       "       'PICKUP_TWO MECHANICAL 2.8', 'TARGA MECHANICAL 2.0',\n",
       "       'PICKUP_TWO AUTOMATIC 4.6', 'ALLROAD_3_DOORS AUTOMATIC 2.7',\n",
       "       'HATCHBACK_5_DOORS AUTOMATIC 1.0', 'SEDAN_HARDTOP AUTOMATIC 2.0',\n",
       "       'MINIVAN AUTOMATIC 1.5', 'HATCHBACK_5_DOORS VARIATOR 1.8',\n",
       "       'SEDAN AUTOMATIC 4.6', 'SEDAN VARIATOR 5.0', 'SEDAN AUTOMATIC 3.3',\n",
       "       'PICKUP_TWO AUTOMATIC 2.0', 'SEDAN ROBOT 3.6',\n",
       "       'MINIVAN MECHANICAL 1.9', 'COMPACTVAN ROBOT 1.4',\n",
       "       'MINIVAN ROBOT 2.0', 'VAN MECHANICAL 1.9',\n",
       "       'PICKUP_TWO MECHANICAL 2.0', 'VAN MECHANICAL 2.1',\n",
       "       'COMPACTVAN ROBOT 2.0', 'PICKUP_ONE MECHANICAL 2.0',\n",
       "       'COMPACTVAN ROBOT 1.6', 'MINIVAN AUTOMATIC 1.8',\n",
       "       'COMPACTVAN ROBOT 1.9', 'VAN MECHANICAL 2.0', 'VAN MECHANICAL 2.4',\n",
       "       'HATCHBACK_3_DOORS MECHANICAL 3.2', 'MINIVAN MECHANICAL 1.7',\n",
       "       'HATCHBACK_5_DOORS AUTOMATIC 2.3',\n",
       "       'HATCHBACK_5_DOORS MECHANICAL 2.3', 'WAGON_5_DOORS MECHANICAL 4.0',\n",
       "       'VAN MECHANICAL 2.5', 'VAN MECHANICAL 1.6', 'CABRIO ROBOT 3.2',\n",
       "       'MINIVAN AUTOMATIC 1.9', 'VAN MECHANICAL 1.7',\n",
       "       'WAGON_5_DOORS ROBOT 1.6', 'HATCHBACK_3_DOORS MECHANICAL 2.8',\n",
       "       'COMPACTVAN MECHANICAL 1.9', 'WAGON_5_DOORS AUTOMATIC 1.9',\n",
       "       'MINIVAN MECHANICAL 2.8', 'MINIVAN MECHANICAL 3.2',\n",
       "       'VAN ROBOT 2.0', 'CABRIO MECHANICAL 1.3', 'VAN AUTOMATIC 2.5',\n",
       "       'ALLROAD_5_DOORS AUTOMATIC 4.9', 'SEDAN ROBOT 1.9',\n",
       "       'WAGON_5_DOORS ROBOT 1.9', 'HATCHBACK_3_DOORS MECHANICAL 2.9',\n",
       "       'HATCHBACK_3_DOORS AUTOMATIC 1.9',\n",
       "       'HATCHBACK_3_DOORS MECHANICAL 1.7',\n",
       "       'PICKUP_ONE_HALF MECHANICAL 2.4', 'ALLROAD_3_DOORS AUTOMATIC 1.8',\n",
       "       'ALLROAD_5_DOORS VARIATOR 1.8', 'ALLROAD_5_DOORS AUTOMATIC 3.8',\n",
       "       'MICROVAN MECHANICAL 0.7', 'PICKUP_TWO AUTOMATIC 2.4',\n",
       "       'MINIVAN AUTOMATIC 2.3', 'ALLROAD_3_DOORS AUTOMATIC 3.8',\n",
       "       'ALLROAD_3_DOORS MECHANICAL 3.5', 'ALLROAD_3_DOORS MECHANICAL 3.2',\n",
       "       'ALLROAD_3_DOORS AUTOMATIC 2.5', 'COMPACTVAN MECHANICAL 2.4',\n",
       "       'ALLROAD_5_DOORS MECHANICAL 3.2', 'ALLROAD_3_DOORS AUTOMATIC 3.5',\n",
       "       'MICROVAN VARIATOR 1.2', 'ALLROAD_3_DOORS MECHANICAL 1.8',\n",
       "       'ALLROAD_3_DOORS AUTOMATIC 2.8', 'COMPACTVAN VARIATOR 1.2',\n",
       "       'HATCHBACK_5_DOORS MECHANICAL 0.7', 'COUPE MECHANICAL 5.0',\n",
       "       'WAGON_5_DOORS AUTOMATIC 4.4', 'WAGON_5_DOORS VARIATOR 2.5',\n",
       "       'COUPE MECHANICAL 3.2', 'SEDAN ROBOT 3.2',\n",
       "       'WAGON_5_DOORS MECHANICAL 2.8', 'COUPE_HARDTOP AUTOMATIC 6.2',\n",
       "       'LIMOUSINE AUTOMATIC 6.0', 'MINIVAN VARIATOR 1.5',\n",
       "       'ALLROAD_3_DOORS AUTOMATIC 1.6', 'COMPACTVAN VARIATOR 1.3',\n",
       "       'SEDAN_HARDTOP MECHANICAL 1.8', 'ALLROAD_OPEN AUTOMATIC 2.0'],\n",
       "      dtype=object)"
      ]
     },
     "execution_count": 96,
     "metadata": {},
     "output_type": "execute_result"
    }
   ],
   "source": [
    "print(len(test_df.vehicleConfiguration.unique()))\n",
    "print(test_df.vehicleConfiguration.dtype)\n",
    "test_df.vehicleConfiguration.unique()"
   ]
  },
  {
   "cell_type": "code",
   "execution_count": 97,
   "id": "af6f8e58",
   "metadata": {},
   "outputs": [
    {
     "name": "stdout",
     "output_type": "stream",
     "text": [
      "1\n",
      "0\n"
     ]
    }
   ],
   "source": [
    "# Проверим наличие пропусков\n",
    "print(train_df.vehicleConfiguration.isnull().sum())\n",
    "print(test_df.vehicleConfiguration.isnull().sum())"
   ]
  },
  {
   "cell_type": "code",
   "execution_count": 98,
   "id": "9342a144",
   "metadata": {},
   "outputs": [
    {
     "name": "stdout",
     "output_type": "stream",
     "text": [
      "Длина первого списка: 565 \n",
      "Длина второго списка: 634 \n",
      "Количество пересечений: 500\n"
     ]
    }
   ],
   "source": [
    "# Смотрим на количество пересечений \n",
    "intersection_count(train_df.vehicleConfiguration,test_df.vehicleConfiguration)"
   ]
  },
  {
   "cell_type": "code",
   "execution_count": 99,
   "id": "80be1370",
   "metadata": {},
   "outputs": [
    {
     "data": {
      "text/html": [
       "<div>\n",
       "<style scoped>\n",
       "    .dataframe tbody tr th:only-of-type {\n",
       "        vertical-align: middle;\n",
       "    }\n",
       "\n",
       "    .dataframe tbody tr th {\n",
       "        vertical-align: top;\n",
       "    }\n",
       "\n",
       "    .dataframe thead th {\n",
       "        text-align: right;\n",
       "    }\n",
       "</style>\n",
       "<table border=\"1\" class=\"dataframe\">\n",
       "  <thead>\n",
       "    <tr style=\"text-align: right;\">\n",
       "      <th></th>\n",
       "      <th>bodyType</th>\n",
       "      <th>brand</th>\n",
       "      <th>car_url</th>\n",
       "      <th>color</th>\n",
       "      <th>complectation_dict</th>\n",
       "      <th>description</th>\n",
       "      <th>engineDisplacement</th>\n",
       "      <th>enginePower</th>\n",
       "      <th>equipment_dict</th>\n",
       "      <th>fuelType</th>\n",
       "      <th>...</th>\n",
       "      <th>OPTION_multi-wheel</th>\n",
       "      <th>OPTION_airbag-curtain</th>\n",
       "      <th>OPTION_third-rear-headrest</th>\n",
       "      <th>OPTION_usb</th>\n",
       "      <th>OPTION_front-centre-armrest</th>\n",
       "      <th>OPTION_ptf</th>\n",
       "      <th>OPTION_12v-socket</th>\n",
       "      <th>OPTION_cruise-control</th>\n",
       "      <th>OPTION_rain-sensor</th>\n",
       "      <th>OPTION_bluetooth</th>\n",
       "    </tr>\n",
       "  </thead>\n",
       "  <tbody>\n",
       "    <tr>\n",
       "      <th>9991</th>\n",
       "      <td>bodyType_не_заполнен</td>\n",
       "      <td>HONDA</td>\n",
       "      <td>https://auto.ru/cars/used/sale/honda/civic/109...</td>\n",
       "      <td>пурпурный</td>\n",
       "      <td>[]</td>\n",
       "      <td>В хорошем состоянии на ходу</td>\n",
       "      <td>2.0</td>\n",
       "      <td>249.0</td>\n",
       "      <td>{}</td>\n",
       "      <td>бензин</td>\n",
       "      <td>...</td>\n",
       "      <td>0</td>\n",
       "      <td>0</td>\n",
       "      <td>0</td>\n",
       "      <td>0</td>\n",
       "      <td>0</td>\n",
       "      <td>0</td>\n",
       "      <td>0</td>\n",
       "      <td>0</td>\n",
       "      <td>0</td>\n",
       "      <td>0</td>\n",
       "    </tr>\n",
       "  </tbody>\n",
       "</table>\n",
       "<p>1 rows × 63 columns</p>\n",
       "</div>"
      ],
      "text/plain": [
       "                  bodyType  brand  \\\n",
       "9991  bodyType_не_заполнен  HONDA   \n",
       "\n",
       "                                                car_url      color  \\\n",
       "9991  https://auto.ru/cars/used/sale/honda/civic/109...  пурпурный   \n",
       "\n",
       "     complectation_dict                  description  engineDisplacement  \\\n",
       "9991                 []  В хорошем состоянии на ходу                 2.0   \n",
       "\n",
       "      enginePower equipment_dict fuelType  ... OPTION_multi-wheel  \\\n",
       "9991        249.0             {}   бензин  ...                  0   \n",
       "\n",
       "      OPTION_airbag-curtain  OPTION_third-rear-headrest  OPTION_usb  \\\n",
       "9991                      0                           0           0   \n",
       "\n",
       "     OPTION_front-centre-armrest OPTION_ptf  OPTION_12v-socket  \\\n",
       "9991                           0          0                  0   \n",
       "\n",
       "      OPTION_cruise-control OPTION_rain-sensor  OPTION_bluetooth  \n",
       "9991                      0                  0                 0  \n",
       "\n",
       "[1 rows x 63 columns]"
      ]
     },
     "execution_count": 99,
     "metadata": {},
     "output_type": "execute_result"
    }
   ],
   "source": [
    "train_df[train_df.vehicleConfiguration.isnull()]"
   ]
  },
  {
   "cell_type": "code",
   "execution_count": 100,
   "id": "1bebf4b0",
   "metadata": {},
   "outputs": [
    {
     "data": {
      "text/html": [
       "<div>\n",
       "<style scoped>\n",
       "    .dataframe tbody tr th:only-of-type {\n",
       "        vertical-align: middle;\n",
       "    }\n",
       "\n",
       "    .dataframe tbody tr th {\n",
       "        vertical-align: top;\n",
       "    }\n",
       "\n",
       "    .dataframe thead th {\n",
       "        text-align: right;\n",
       "    }\n",
       "</style>\n",
       "<table border=\"1\" class=\"dataframe\">\n",
       "  <thead>\n",
       "    <tr style=\"text-align: right;\">\n",
       "      <th></th>\n",
       "      <th>bodyType</th>\n",
       "      <th>brand</th>\n",
       "      <th>car_url</th>\n",
       "      <th>color</th>\n",
       "      <th>complectation_dict</th>\n",
       "      <th>description</th>\n",
       "      <th>engineDisplacement</th>\n",
       "      <th>enginePower</th>\n",
       "      <th>equipment_dict</th>\n",
       "      <th>fuelType</th>\n",
       "      <th>...</th>\n",
       "      <th>OPTION_multi-wheel</th>\n",
       "      <th>OPTION_airbag-curtain</th>\n",
       "      <th>OPTION_third-rear-headrest</th>\n",
       "      <th>OPTION_usb</th>\n",
       "      <th>OPTION_front-centre-armrest</th>\n",
       "      <th>OPTION_ptf</th>\n",
       "      <th>OPTION_12v-socket</th>\n",
       "      <th>OPTION_cruise-control</th>\n",
       "      <th>OPTION_rain-sensor</th>\n",
       "      <th>OPTION_bluetooth</th>\n",
       "    </tr>\n",
       "  </thead>\n",
       "  <tbody>\n",
       "  </tbody>\n",
       "</table>\n",
       "<p>0 rows × 63 columns</p>\n",
       "</div>"
      ],
      "text/plain": [
       "Empty DataFrame\n",
       "Columns: [bodyType, brand, car_url, color, complectation_dict, description, engineDisplacement, enginePower, equipment_dict, fuelType, image, mileage, modelDate, model_info, model_name, name, numberOfDoors, parsing_unixtime, priceCurrency, productionDate, sell_id, super_gen, vehicleConfiguration, vehicleTransmission, vendor, Владельцы, Владение, ПТС, Привод, Руль, Состояние, Таможня, price, OPTION_airbag-driver, OPTION_abs, OPTION_lock, OPTION_immo, OPTION_electro-window-front, OPTION_airbag-passenger, OPTION_wheel-configuration1, OPTION_computer, OPTION_electro-mirrors, OPTION_mirrors-heat, OPTION_wheel-configuration2, OPTION_electro-window-back, OPTION_front-seats-heat, OPTION_esp, OPTION_airbag-side, OPTION_isofix, OPTION_seat-transformation, OPTION_audiopreparation, OPTION_audiosystem-cd, OPTION_wheel-leather, OPTION_multi-wheel, OPTION_airbag-curtain, OPTION_third-rear-headrest, OPTION_usb, OPTION_front-centre-armrest, OPTION_ptf, OPTION_12v-socket, OPTION_cruise-control, OPTION_rain-sensor, OPTION_bluetooth]\n",
       "Index: []\n",
       "\n",
       "[0 rows x 63 columns]"
      ]
     },
     "execution_count": 100,
     "metadata": {},
     "output_type": "execute_result"
    }
   ],
   "source": [
    "# Данные почти не заполнены, удалим эту строку\n",
    "train_df = train_df.drop(labels=9991)\n",
    "train_df[train_df.vehicleConfiguration.isnull()]"
   ]
  },
  {
   "cell_type": "markdown",
   "id": "a7c4cc56",
   "metadata": {},
   "source": [
    "## vehicleTransmission"
   ]
  },
  {
   "cell_type": "code",
   "execution_count": 101,
   "id": "82841457",
   "metadata": {},
   "outputs": [
    {
     "name": "stdout",
     "output_type": "stream",
     "text": [
      "5\n",
      "object\n"
     ]
    },
    {
     "data": {
      "text/plain": [
       "array(['роботизированная', 'автоматическая', 'механическая', 'вариатор',\n",
       "       nan], dtype=object)"
      ]
     },
     "execution_count": 101,
     "metadata": {},
     "output_type": "execute_result"
    }
   ],
   "source": [
    "print(len(train_df.vehicleTransmission.unique()))\n",
    "print(train_df.vehicleTransmission.dtype)\n",
    "train_df.vehicleTransmission.unique()"
   ]
  },
  {
   "cell_type": "code",
   "execution_count": 102,
   "id": "85f16190",
   "metadata": {},
   "outputs": [
    {
     "name": "stdout",
     "output_type": "stream",
     "text": [
      "4\n",
      "object\n"
     ]
    },
    {
     "data": {
      "text/plain": [
       "array(['роботизированная', 'механическая', 'автоматическая', 'вариатор'],\n",
       "      dtype=object)"
      ]
     },
     "execution_count": 102,
     "metadata": {},
     "output_type": "execute_result"
    }
   ],
   "source": [
    "print(len(test_df.vehicleTransmission.unique()))\n",
    "print(test_df.vehicleTransmission.dtype)\n",
    "test_df.vehicleTransmission.unique()"
   ]
  },
  {
   "cell_type": "code",
   "execution_count": 103,
   "id": "378ada3c",
   "metadata": {},
   "outputs": [
    {
     "name": "stdout",
     "output_type": "stream",
     "text": [
      "1\n",
      "0\n"
     ]
    }
   ],
   "source": [
    "# Проверим наличие пропусков\n",
    "print(train_df.vehicleTransmission.isnull().sum())\n",
    "print(test_df.vehicleTransmission.isnull().sum())"
   ]
  },
  {
   "cell_type": "code",
   "execution_count": 104,
   "id": "428c8901",
   "metadata": {},
   "outputs": [
    {
     "name": "stdout",
     "output_type": "stream",
     "text": [
      "Длина первого списка: 5 \n",
      "Длина второго списка: 4 \n",
      "Количество пересечений: 4\n"
     ]
    }
   ],
   "source": [
    "# Смотрим на количество пересечений \n",
    "intersection_count(train_df.vehicleTransmission,test_df.vehicleTransmission)"
   ]
  },
  {
   "cell_type": "code",
   "execution_count": 105,
   "id": "0bfb6dbf",
   "metadata": {},
   "outputs": [
    {
     "data": {
      "text/plain": [
       "0"
      ]
     },
     "execution_count": 105,
     "metadata": {},
     "output_type": "execute_result"
    }
   ],
   "source": [
    "# Заполним пропуск наиболее часто встречающимся значением\n",
    "fill_na_mode(train_df, 'vehicleTransmission')\n",
    "train_df.vehicleTransmission.isnull().sum()"
   ]
  },
  {
   "cell_type": "markdown",
   "id": "60d4977f",
   "metadata": {},
   "source": [
    "## vendor"
   ]
  },
  {
   "cell_type": "code",
   "execution_count": 106,
   "id": "1068db33",
   "metadata": {},
   "outputs": [],
   "source": [
    "# Готовим данные для сопоставления и заполнения параметра в обучающей выборке\n",
    "vendors = test_df.groupby('vendor')['brand'].unique().index.values\n",
    "brands = test_df.groupby('vendor')['brand'].unique().values"
   ]
  },
  {
   "cell_type": "code",
   "execution_count": 107,
   "id": "e9da5750",
   "metadata": {},
   "outputs": [],
   "source": [
    "# Создаем словарь для сопоставления\n",
    "mapper = {}\n",
    "for vendor, brands_list in zip(vendors, brands):\n",
    "    for brand in brands_list:\n",
    "        mapper[brand] = vendor"
   ]
  },
  {
   "cell_type": "code",
   "execution_count": 108,
   "id": "5eeaaa18",
   "metadata": {},
   "outputs": [],
   "source": [
    "# Заполняем параметр на основании данных из словаря для сопоставления\n",
    "train_df.vendor = train_df.brand.map(mapper)"
   ]
  },
  {
   "cell_type": "code",
   "execution_count": 109,
   "id": "4148ab0e",
   "metadata": {},
   "outputs": [
    {
     "data": {
      "text/plain": [
       "EUROPEAN    21440\n",
       "JAPANESE    19280\n",
       "Name: vendor, dtype: int64"
      ]
     },
     "execution_count": 109,
     "metadata": {},
     "output_type": "execute_result"
    }
   ],
   "source": [
    "# Проверяем результаты заполнения\n",
    "train_df.vendor.value_counts()"
   ]
  },
  {
   "cell_type": "code",
   "execution_count": 110,
   "id": "692ae43c",
   "metadata": {},
   "outputs": [
    {
     "name": "stdout",
     "output_type": "stream",
     "text": [
      "0\n",
      "0\n"
     ]
    }
   ],
   "source": [
    "# Проверим наличие пропусков\n",
    "print(train_df.vendor.isnull().sum())\n",
    "print(test_df.vendor.isnull().sum())"
   ]
  },
  {
   "cell_type": "markdown",
   "id": "216826cf",
   "metadata": {},
   "source": [
    "## Владельцы"
   ]
  },
  {
   "cell_type": "code",
   "execution_count": 111,
   "id": "7782e15e",
   "metadata": {},
   "outputs": [
    {
     "name": "stdout",
     "output_type": "stream",
     "text": [
      "4\n",
      "object\n"
     ]
    },
    {
     "data": {
      "text/plain": [
       "array(['3 или более', '1 владелец', '2 владельца', nan], dtype=object)"
      ]
     },
     "execution_count": 111,
     "metadata": {},
     "output_type": "execute_result"
    }
   ],
   "source": [
    "print(len(train_df.Владельцы.unique()))\n",
    "print(train_df.Владельцы.dtype)\n",
    "train_df.Владельцы.unique()"
   ]
  },
  {
   "cell_type": "code",
   "execution_count": 112,
   "id": "22fd6666",
   "metadata": {},
   "outputs": [
    {
     "name": "stdout",
     "output_type": "stream",
     "text": [
      "3\n",
      "object\n"
     ]
    },
    {
     "data": {
      "text/plain": [
       "array(['3 или более', '1\\xa0владелец', '2\\xa0владельца'], dtype=object)"
      ]
     },
     "execution_count": 112,
     "metadata": {},
     "output_type": "execute_result"
    }
   ],
   "source": [
    "print(len(test_df.Владельцы.unique()))\n",
    "print(test_df.Владельцы.dtype)\n",
    "test_df.Владельцы.unique()"
   ]
  },
  {
   "cell_type": "code",
   "execution_count": 113,
   "id": "e1658d72",
   "metadata": {},
   "outputs": [
    {
     "name": "stdout",
     "output_type": "stream",
     "text": [
      "7564\n",
      "0\n"
     ]
    }
   ],
   "source": [
    "# Проверим наличие пропусков\n",
    "print(train_df.Владельцы.isnull().sum())\n",
    "print(test_df.Владельцы.isnull().sum())"
   ]
  },
  {
   "cell_type": "code",
   "execution_count": 114,
   "id": "fa35e348",
   "metadata": {},
   "outputs": [],
   "source": [
    "# Создаем словать с кодировкой значений в числовые\n",
    "ownersCount_dict = {\"3 или более\": 3.,\n",
    "                    \"1\\xa0владелец\": 1.,\n",
    "                    \"2\\xa0владельца\": 2.}\n",
    "\n",
    "# Заменяем значения в тестовой выборке в соостветствии со словарем\n",
    "test_df['Владельцы'].replace(to_replace=ownersCount_dict, inplace=True)"
   ]
  },
  {
   "cell_type": "code",
   "execution_count": 115,
   "id": "e06634f3",
   "metadata": {},
   "outputs": [],
   "source": [
    "ownersCount_dict = {\"1 владелец\": 1.,\n",
    "                    \"2 владельца\": 2.,\n",
    "                    \"3 или более\": 3.}\n",
    "\n",
    "# Заменяем значения в обучающей выборке в соостветствии со словарем\n",
    "train_df['Владельцы'].replace(to_replace=ownersCount_dict, inplace=True)"
   ]
  },
  {
   "cell_type": "code",
   "execution_count": 116,
   "id": "2dfda005",
   "metadata": {},
   "outputs": [],
   "source": [
    "# Заменяем пропуски по строкам, которые имеют пометку о новой машине в поле car_url на 0\n",
    "train_df['Владельцы'].loc[(train_df['Владельцы'].isna() == True) & (train_df.car_url.str.contains('new') == True)] = 0"
   ]
  },
  {
   "cell_type": "code",
   "execution_count": 117,
   "id": "c2de0014",
   "metadata": {},
   "outputs": [
    {
     "name": "stdout",
     "output_type": "stream",
     "text": [
      "0\n"
     ]
    }
   ],
   "source": [
    "# Проверим наличие пропусков\n",
    "print(train_df.Владельцы.isnull().sum())"
   ]
  },
  {
   "cell_type": "markdown",
   "id": "af3f853d",
   "metadata": {},
   "source": [
    "## Владение"
   ]
  },
  {
   "cell_type": "code",
   "execution_count": 118,
   "id": "19b6ca25",
   "metadata": {},
   "outputs": [
    {
     "name": "stdout",
     "output_type": "stream",
     "text": [
      "262\n",
      "object\n"
     ]
    },
    {
     "data": {
      "text/plain": [
       "array([nan, '2 года и 5 месяцев', '5 лет и 4 месяца', '7 месяцев',\n",
       "       '7 лет и 10 месяцев', '6 месяцев', '6 лет и 5 месяцев',\n",
       "       '2 года и 9 месяцев', '1 год и 6 месяцев', '5 лет и 1 месяц'],\n",
       "      dtype=object)"
      ]
     },
     "execution_count": 118,
     "metadata": {},
     "output_type": "execute_result"
    }
   ],
   "source": [
    "print(len(train_df.Владение.unique()))\n",
    "print(train_df.Владение.dtype)\n",
    "train_df.Владение.unique()[:10]"
   ]
  },
  {
   "cell_type": "code",
   "execution_count": 119,
   "id": "d1f8cc06",
   "metadata": {},
   "outputs": [
    {
     "name": "stdout",
     "output_type": "stream",
     "text": [
      "276\n",
      "object\n"
     ]
    },
    {
     "data": {
      "text/plain": [
       "array([nan, '3 года и 2 месяца', '11 месяцев', '4 года и 1 месяц',\n",
       "       '2 года и 4 месяца', '1 месяц', '3 года и 10 месяцев',\n",
       "       '2 года и 6 месяцев', '6 лет и 4 месяца', '2 месяца'], dtype=object)"
      ]
     },
     "execution_count": 119,
     "metadata": {},
     "output_type": "execute_result"
    }
   ],
   "source": [
    "print(len(test_df.Владение.unique()))\n",
    "print(test_df.Владение.dtype)\n",
    "test_df.Владение.unique()[:10]"
   ]
  },
  {
   "cell_type": "code",
   "execution_count": 120,
   "id": "4c45aad4",
   "metadata": {},
   "outputs": [],
   "source": [
    "# Переводим значения в количество месяцев\n",
    "train_df['Owning_months'] = train_df['Владение'].apply(num_of_months)\n",
    "test_df['Owning_months'] = test_df['Владение'].apply(num_of_months)"
   ]
  },
  {
   "cell_type": "code",
   "execution_count": 121,
   "id": "8e1ed269",
   "metadata": {},
   "outputs": [
    {
     "name": "stdout",
     "output_type": "stream",
     "text": [
      "[nan 29. 64.  7. 94.  6. 77. 33. 18. 61.]\n",
      "[nan 38. 11. 49. 28.  1. 46. 30. 76.  2.]\n"
     ]
    }
   ],
   "source": [
    "# Проверим результаты работы функции\n",
    "print(train_df.Owning_months.unique()[:10])\n",
    "print(test_df.Owning_months.unique()[:10])"
   ]
  },
  {
   "cell_type": "code",
   "execution_count": 122,
   "id": "fd5423f5",
   "metadata": {},
   "outputs": [
    {
     "name": "stdout",
     "output_type": "stream",
     "text": [
      "34064\n",
      "22691\n"
     ]
    }
   ],
   "source": [
    "# Проверим наличие пропусков\n",
    "print(train_df.Owning_months.isnull().sum())\n",
    "print(test_df.Owning_months.isnull().sum())"
   ]
  },
  {
   "cell_type": "code",
   "execution_count": 123,
   "id": "7f500676",
   "metadata": {},
   "outputs": [],
   "source": [
    "# Заменяем время владения на 0 для новых автомобилей\n",
    "train_df['Owning_months'].loc[(train_df['Owning_months'].isna() == True) & (train_df.car_url.str.contains('new') == True)] = 0\n",
    "test_df['Owning_months'].loc[(test_df['Owning_months'].isna() == True) & (test_df.car_url.str.contains('new') == True)] = 0"
   ]
  },
  {
   "cell_type": "code",
   "execution_count": 124,
   "id": "b1a9c773",
   "metadata": {},
   "outputs": [
    {
     "name": "stdout",
     "output_type": "stream",
     "text": [
      "True     26500\n",
      "False    14220\n",
      "Name: Owning_months, dtype: int64\n",
      "True     22691\n",
      "False    11995\n",
      "Name: Owning_months, dtype: int64\n"
     ]
    }
   ],
   "source": [
    "# Проверим наличие пропусков\n",
    "print(train_df.Owning_months.isnull().value_counts())\n",
    "print(test_df.Owning_months.isnull().value_counts())"
   ]
  },
  {
   "cell_type": "code",
   "execution_count": 125,
   "id": "4c599687",
   "metadata": {},
   "outputs": [
    {
     "name": "stdout",
     "output_type": "stream",
     "text": [
      "0\n",
      "0\n"
     ]
    }
   ],
   "source": [
    "# Заполним пропуски наиболее часто встречающимся значением\n",
    "fill_na_mode(train_df, 'Owning_months')\n",
    "print(train_df.Owning_months.isnull().sum())\n",
    "fill_na_mode(test_df, 'Owning_months')\n",
    "print(test_df.Owning_months.isnull().sum())"
   ]
  },
  {
   "cell_type": "code",
   "execution_count": 126,
   "id": "47115b25",
   "metadata": {},
   "outputs": [
    {
     "data": {
      "text/plain": [
       "0.0      34064\n",
       "12.0       264\n",
       "7.0        155\n",
       "24.0       147\n",
       "2.0        145\n",
       "         ...  \n",
       "334.0        1\n",
       "278.0        1\n",
       "207.0        1\n",
       "209.0        1\n",
       "280.0        1\n",
       "Name: Owning_months, Length: 246, dtype: int64"
      ]
     },
     "execution_count": 126,
     "metadata": {},
     "output_type": "execute_result"
    }
   ],
   "source": [
    "train_df.Owning_months.value_counts()"
   ]
  },
  {
   "cell_type": "markdown",
   "id": "d97ac72f",
   "metadata": {},
   "source": [
    "## ПТС"
   ]
  },
  {
   "cell_type": "code",
   "execution_count": 127,
   "id": "7a3594c6",
   "metadata": {},
   "outputs": [
    {
     "name": "stdout",
     "output_type": "stream",
     "text": [
      "3\n",
      "object\n"
     ]
    },
    {
     "data": {
      "text/plain": [
       "array(['Оригинал', nan, 'Дубликат'], dtype=object)"
      ]
     },
     "execution_count": 127,
     "metadata": {},
     "output_type": "execute_result"
    }
   ],
   "source": [
    "print(len(train_df.ПТС.unique()))\n",
    "print(train_df.ПТС.dtype)\n",
    "train_df.ПТС.unique()"
   ]
  },
  {
   "cell_type": "code",
   "execution_count": 128,
   "id": "2cac4faf",
   "metadata": {},
   "outputs": [
    {
     "name": "stdout",
     "output_type": "stream",
     "text": [
      "3\n",
      "object\n"
     ]
    },
    {
     "data": {
      "text/plain": [
       "array(['Оригинал', 'Дубликат', nan], dtype=object)"
      ]
     },
     "execution_count": 128,
     "metadata": {},
     "output_type": "execute_result"
    }
   ],
   "source": [
    "print(len(test_df.ПТС.unique()))\n",
    "print(test_df.ПТС.dtype)\n",
    "test_df.ПТС.unique()"
   ]
  },
  {
   "cell_type": "code",
   "execution_count": 129,
   "id": "9cd84349",
   "metadata": {},
   "outputs": [
    {
     "name": "stdout",
     "output_type": "stream",
     "text": [
      "False    33156\n",
      "True      7564\n",
      "Name: ПТС, dtype: int64\n",
      "False    34685\n",
      "True         1\n",
      "Name: ПТС, dtype: int64\n"
     ]
    }
   ],
   "source": [
    "# Проверим наличие пропусков\n",
    "print(train_df.ПТС.isnull().value_counts())\n",
    "print(test_df.ПТС.isnull().value_counts())"
   ]
  },
  {
   "cell_type": "code",
   "execution_count": 130,
   "id": "9b49d8ae",
   "metadata": {},
   "outputs": [
    {
     "data": {
      "text/plain": [
       "Оригинал    36200\n",
       "Дубликат     4520\n",
       "Name: ПТС, dtype: int64"
      ]
     },
     "execution_count": 130,
     "metadata": {},
     "output_type": "execute_result"
    }
   ],
   "source": [
    "# Заменяем пропущенные значения для новых автомобилей на 'Оригинал'\n",
    "train_df['ПТС'].loc[(train_df['ПТС'].isna() == True) & (train_df.car_url.str.contains('new') == True)] = 'Оригинал'\n",
    "\n",
    "# Проверяем количество пропусков\n",
    "train_df.ПТС.value_counts()"
   ]
  },
  {
   "cell_type": "code",
   "execution_count": 131,
   "id": "e8c56992",
   "metadata": {},
   "outputs": [
    {
     "data": {
      "text/plain": [
       "Оригинал    30098\n",
       "Дубликат     4587\n",
       "Name: ПТС, dtype: int64"
      ]
     },
     "execution_count": 131,
     "metadata": {},
     "output_type": "execute_result"
    }
   ],
   "source": [
    "# Заменяем пропущенные значения для новых автомобилей на 'Оригинал'\n",
    "test_df['ПТС'].loc[(test_df['ПТС'].isna() == True) & (test_df.car_url.str.contains('new') == True)] = 'Оригинал'\n",
    "\n",
    "# Проверяем количество пропусков\n",
    "test_df.ПТС.value_counts()"
   ]
  },
  {
   "cell_type": "code",
   "execution_count": 132,
   "id": "e832942f",
   "metadata": {},
   "outputs": [
    {
     "name": "stdout",
     "output_type": "stream",
     "text": [
      "False    40720\n",
      "Name: ПТС, dtype: int64\n",
      "False    34685\n",
      "True         1\n",
      "Name: ПТС, dtype: int64\n"
     ]
    }
   ],
   "source": [
    "# Проверим наличие пропусков\n",
    "print(train_df.ПТС.isnull().value_counts())\n",
    "print(test_df.ПТС.isnull().value_counts())"
   ]
  },
  {
   "cell_type": "code",
   "execution_count": 133,
   "id": "5b4d6932",
   "metadata": {},
   "outputs": [],
   "source": [
    "# Заполняем пропуск в тестовой выборке на 'оригинал'\n",
    "test_df['ПТС'].fillna('Оригинал', inplace=True)"
   ]
  },
  {
   "cell_type": "markdown",
   "id": "9a608903",
   "metadata": {},
   "source": [
    "## Привод"
   ]
  },
  {
   "cell_type": "code",
   "execution_count": 134,
   "id": "3913ff06",
   "metadata": {},
   "outputs": [
    {
     "name": "stdout",
     "output_type": "stream",
     "text": [
      "4\n",
      "object\n"
     ]
    },
    {
     "data": {
      "text/plain": [
       "array(['передний', 'полный', nan, 'задний'], dtype=object)"
      ]
     },
     "execution_count": 134,
     "metadata": {},
     "output_type": "execute_result"
    }
   ],
   "source": [
    "print(len(train_df.Привод.unique()))\n",
    "print(train_df.Привод.dtype)\n",
    "train_df.Привод.unique()"
   ]
  },
  {
   "cell_type": "code",
   "execution_count": 135,
   "id": "d4d184a8",
   "metadata": {},
   "outputs": [
    {
     "name": "stdout",
     "output_type": "stream",
     "text": [
      "3\n",
      "object\n"
     ]
    },
    {
     "data": {
      "text/plain": [
       "array(['передний', 'полный', 'задний'], dtype=object)"
      ]
     },
     "execution_count": 135,
     "metadata": {},
     "output_type": "execute_result"
    }
   ],
   "source": [
    "print(len(test_df.Привод.unique()))\n",
    "print(test_df.Привод.dtype)\n",
    "test_df.Привод.unique()"
   ]
  },
  {
   "cell_type": "code",
   "execution_count": 136,
   "id": "99a6ad83",
   "metadata": {},
   "outputs": [
    {
     "name": "stdout",
     "output_type": "stream",
     "text": [
      "False    33155\n",
      "True      7565\n",
      "Name: Привод, dtype: int64\n",
      "False    34686\n",
      "Name: Привод, dtype: int64\n"
     ]
    }
   ],
   "source": [
    "# Проверим наличие пропусков\n",
    "print(train_df.Привод.isnull().value_counts())\n",
    "print(test_df.Привод.isnull().value_counts())"
   ]
  },
  {
   "cell_type": "code",
   "execution_count": 137,
   "id": "1ff31be1",
   "metadata": {},
   "outputs": [
    {
     "data": {
      "text/plain": [
       "array(['ALLROAD_5_DOORS AUTOMATIC 1.4', 'LIFTBACK MECHANICAL 1.6',\n",
       "       'LIFTBACK AUTOMATIC 1.6', 'LIFTBACK ROBOT 1.4',\n",
       "       'ALLROAD_5_DOORS ROBOT 2.0', 'ALLROAD_5_DOORS ROBOT 1.4',\n",
       "       'ALLROAD_5_DOORS MECHANICAL 1.4', 'LIFTBACK AUTOMATIC 1.4',\n",
       "       'ALLROAD_5_DOORS MECHANICAL 1.6', 'ALLROAD_5_DOORS AUTOMATIC 1.6',\n",
       "       'LIFTBACK ROBOT 2.0', 'LIFTBACK MECHANICAL 1.4',\n",
       "       'SEDAN AUTOMATIC 1.4', 'SEDAN ROBOT 2.0',\n",
       "       'WAGON_5_DOORS ROBOT 2.0', 'HATCHBACK_5_DOORS AUTOMATIC 1.4',\n",
       "       'ALLROAD_5_DOORS AUTOMATIC 3.0', 'SEDAN AUTOMATIC 4.0',\n",
       "       'ALLROAD_5_DOORS AUTOMATIC 4.0', 'SEDAN AUTOMATIC 3.0',\n",
       "       'ALLROAD_5_DOORS AUTOMATIC', 'WAGON_5_DOORS ROBOT 3.0',\n",
       "       'LIFTBACK ROBOT 3.0', 'COUPE AUTOMATIC 2.9',\n",
       "       'WAGON_5_DOORS AUTOMATIC 4.0', 'ALLROAD_5_DOORS VARIATOR 2.4',\n",
       "       'ALLROAD_5_DOORS AUTOMATIC 2.0', 'SEDAN AUTOMATIC 2.0',\n",
       "       'ALLROAD_5_DOORS AUTOMATIC 1.5', 'ALLROAD_5_DOORS AUTOMATIC 4.4',\n",
       "       'LIFTBACK AUTOMATIC 2.0', 'LIFTBACK AUTOMATIC 3.0',\n",
       "       'COUPE MECHANICAL 3.0', 'SEDAN ROBOT 1.5', 'COUPE AUTOMATIC 3.0',\n",
       "       'SEDAN AUTOMATIC 4.4', 'ROADSTER AUTOMATIC 3.0',\n",
       "       'ALLROAD_5_DOORS ROBOT 1.5', 'SEDAN AUTOMATIC 6.6',\n",
       "       'ALLROAD_5_DOORS VARIATOR 2.0', 'ALLROAD_5_DOORS MECHANICAL 1.2',\n",
       "       'ALLROAD_5_DOORS MECHANICAL 2.0', 'ALLROAD_5_DOORS VARIATOR 2.5',\n",
       "       'ALLROAD_5_DOORS VARIATOR 3.5', 'ALLROAD_5_DOORS VARIATOR 1.2',\n",
       "       'ALLROAD_5_DOORS AUTOMATIC 5.6', 'SEDAN AUTOMATIC 2.9',\n",
       "       'ALLROAD_5_DOORS AUTOMATIC 2.9', 'COUPE AUTOMATIC 2.0',\n",
       "       'HATCHBACK_5_DOORS ROBOT 1.3', 'SEDAN ROBOT 1.3',\n",
       "       'SEDAN AUTOMATIC 6.0', 'MINIVAN AUTOMATIC 2.1',\n",
       "       'LIFTBACK ROBOT 4.0', 'ALLROAD_5_DOORS ROBOT 1.3',\n",
       "       'WAGON_5_DOORS AUTOMATIC 2.0', 'ALLROAD_5_DOORS AUTOMATIC 2.5',\n",
       "       'ALLROAD_5_DOORS AUTOMATIC 3.5', 'SEDAN AUTOMATIC 2.5',\n",
       "       'SEDAN AUTOMATIC 3.5', 'ALLROAD_5_DOORS AUTOMATIC 2.8',\n",
       "       'MINIVAN AUTOMATIC 3.5', 'PICKUP_TWO AUTOMATIC 2.8',\n",
       "       'ALLROAD_5_DOORS AUTOMATIC 2.7', 'SEDAN VARIATOR 2.0',\n",
       "       'ALLROAD_5_DOORS MECHANICAL 2.7', 'SEDAN VARIATOR 1.6',\n",
       "       'ALLROAD_5_DOORS AUTOMATIC 3.4', 'MINIVAN AUTOMATIC 2.8', '5.7',\n",
       "       'PICKUP_TWO MECHANICAL 2.7', 'SEDAN MECHANICAL 1.6',\n",
       "       'PICKUP_TWO AUTOMATIC 2.7', 'PICKUP_TWO MECHANICAL 2.4',\n",
       "       'ALLROAD_5_DOORS AUTOMATIC 4.5', 'ALLROAD_5_DOORS AUTOMATIC 5.7',\n",
       "       'ALLROAD_5_DOORS AUTOMATIC 4.6', 'SEDAN AUTOMATIC 3.4',\n",
       "       'MINIVAN MECHANICAL 2.0', 'MINIVAN ROBOT 2.0', 'SEDAN ROBOT 1.4',\n",
       "       'VAN MECHANICAL 2.0', 'PICKUP_ONE MECHANICAL 2.0'], dtype=object)"
      ]
     },
     "execution_count": 137,
     "metadata": {},
     "output_type": "execute_result"
    }
   ],
   "source": [
    "# Проверим, дублируются ли пропуски в поле информацией в других атрибутах\n",
    "train_df[train_df.Привод.isnull()].vehicleConfiguration.unique()"
   ]
  },
  {
   "cell_type": "markdown",
   "id": "e18df543",
   "metadata": {},
   "source": [
    "Вывод: информация дублирует признак vehicleConfiguration. В дальнейшем не использовать."
   ]
  },
  {
   "cell_type": "markdown",
   "id": "56e1cebf",
   "metadata": {},
   "source": [
    "## Руль"
   ]
  },
  {
   "cell_type": "code",
   "execution_count": 138,
   "id": "2a40a289",
   "metadata": {},
   "outputs": [
    {
     "name": "stdout",
     "output_type": "stream",
     "text": [
      "3\n",
      "object\n"
     ]
    },
    {
     "data": {
      "text/plain": [
       "array(['Левый', nan, 'Правый'], dtype=object)"
      ]
     },
     "execution_count": 138,
     "metadata": {},
     "output_type": "execute_result"
    }
   ],
   "source": [
    "print(len(train_df.Руль.unique()))\n",
    "print(train_df.Руль.dtype)\n",
    "train_df.Руль.unique()"
   ]
  },
  {
   "cell_type": "code",
   "execution_count": 139,
   "id": "9c9b803d",
   "metadata": {},
   "outputs": [
    {
     "name": "stdout",
     "output_type": "stream",
     "text": [
      "2\n",
      "object\n"
     ]
    },
    {
     "data": {
      "text/plain": [
       "array(['Левый', 'Правый'], dtype=object)"
      ]
     },
     "execution_count": 139,
     "metadata": {},
     "output_type": "execute_result"
    }
   ],
   "source": [
    "print(len(test_df.Руль.unique()))\n",
    "print(test_df.Руль.dtype)\n",
    "test_df.Руль.unique()"
   ]
  },
  {
   "cell_type": "code",
   "execution_count": 140,
   "id": "eaba1cf8",
   "metadata": {},
   "outputs": [
    {
     "name": "stdout",
     "output_type": "stream",
     "text": [
      "False    33156\n",
      "True      7564\n",
      "Name: Руль, dtype: int64\n"
     ]
    }
   ],
   "source": [
    "# Проверим наличие пропусков\n",
    "print(train_df.Руль.isnull().value_counts())"
   ]
  },
  {
   "cell_type": "code",
   "execution_count": 141,
   "id": "d6757fa8",
   "metadata": {},
   "outputs": [
    {
     "data": {
      "text/plain": [
       "Руль_не_указан    7564\n",
       "Name: Руль, dtype: int64"
      ]
     },
     "execution_count": 141,
     "metadata": {},
     "output_type": "execute_result"
    }
   ],
   "source": [
    "# Заполним пропуски в обучаюей выборке значением 'Руль_не_указан'\n",
    "train_df['Руль'] = train_df['Руль'].fillna(value=('Руль_не_указан'))\n",
    "train_df[train_df['Руль'] == 'Руль_не_указан']['Руль'].value_counts()"
   ]
  },
  {
   "cell_type": "markdown",
   "id": "12594a59",
   "metadata": {},
   "source": [
    "## Состояние"
   ]
  },
  {
   "cell_type": "code",
   "execution_count": 142,
   "id": "9be12de2",
   "metadata": {},
   "outputs": [
    {
     "name": "stdout",
     "output_type": "stream",
     "text": [
      "2\n",
      "object\n"
     ]
    },
    {
     "data": {
      "text/plain": [
       "array(['Не требует ремонта', nan], dtype=object)"
      ]
     },
     "execution_count": 142,
     "metadata": {},
     "output_type": "execute_result"
    }
   ],
   "source": [
    "print(len(train_df.Состояние.unique()))\n",
    "print(train_df.Состояние.dtype)\n",
    "train_df.Состояние.unique()"
   ]
  },
  {
   "cell_type": "code",
   "execution_count": 143,
   "id": "19b11a26",
   "metadata": {},
   "outputs": [
    {
     "name": "stdout",
     "output_type": "stream",
     "text": [
      "1\n",
      "object\n"
     ]
    },
    {
     "data": {
      "text/plain": [
       "array(['Не требует ремонта'], dtype=object)"
      ]
     },
     "execution_count": 143,
     "metadata": {},
     "output_type": "execute_result"
    }
   ],
   "source": [
    "print(len(test_df.Состояние.unique()))\n",
    "print(test_df.Состояние.dtype)\n",
    "test_df.Состояние.unique()"
   ]
  },
  {
   "cell_type": "code",
   "execution_count": 144,
   "id": "492197d5",
   "metadata": {},
   "outputs": [
    {
     "name": "stdout",
     "output_type": "stream",
     "text": [
      "False    33154\n",
      "True      7566\n",
      "Name: Состояние, dtype: int64\n"
     ]
    }
   ],
   "source": [
    "# Проверим наличие пропусков\n",
    "print(train_df.Состояние.isnull().value_counts())"
   ]
  },
  {
   "cell_type": "code",
   "execution_count": 145,
   "id": "5c1eea94",
   "metadata": {},
   "outputs": [],
   "source": [
    "# Заполняем пропуски значениями 'Не требует ремонта' для новых автомобилей\n",
    "train_df['Состояние'].loc[(train_df['Состояние'].isna() == True) & (train_df.car_url.str.contains('new') == True)] = 'Не требует ремонта'"
   ]
  },
  {
   "cell_type": "code",
   "execution_count": 146,
   "id": "528020ed",
   "metadata": {},
   "outputs": [
    {
     "name": "stdout",
     "output_type": "stream",
     "text": [
      "False    40718\n",
      "True         2\n",
      "Name: Состояние, dtype: int64\n"
     ]
    }
   ],
   "source": [
    "# Проверим наличие пропусков\n",
    "print(train_df.Состояние.isnull().value_counts())"
   ]
  },
  {
   "cell_type": "code",
   "execution_count": 147,
   "id": "282ffef9",
   "metadata": {},
   "outputs": [
    {
     "data": {
      "text/html": [
       "<div>\n",
       "<style scoped>\n",
       "    .dataframe tbody tr th:only-of-type {\n",
       "        vertical-align: middle;\n",
       "    }\n",
       "\n",
       "    .dataframe tbody tr th {\n",
       "        vertical-align: top;\n",
       "    }\n",
       "\n",
       "    .dataframe thead th {\n",
       "        text-align: right;\n",
       "    }\n",
       "</style>\n",
       "<table border=\"1\" class=\"dataframe\">\n",
       "  <thead>\n",
       "    <tr style=\"text-align: right;\">\n",
       "      <th></th>\n",
       "      <th>bodyType</th>\n",
       "      <th>brand</th>\n",
       "      <th>car_url</th>\n",
       "      <th>color</th>\n",
       "      <th>complectation_dict</th>\n",
       "      <th>description</th>\n",
       "      <th>engineDisplacement</th>\n",
       "      <th>enginePower</th>\n",
       "      <th>equipment_dict</th>\n",
       "      <th>fuelType</th>\n",
       "      <th>...</th>\n",
       "      <th>OPTION_airbag-curtain</th>\n",
       "      <th>OPTION_third-rear-headrest</th>\n",
       "      <th>OPTION_usb</th>\n",
       "      <th>OPTION_front-centre-armrest</th>\n",
       "      <th>OPTION_ptf</th>\n",
       "      <th>OPTION_12v-socket</th>\n",
       "      <th>OPTION_cruise-control</th>\n",
       "      <th>OPTION_rain-sensor</th>\n",
       "      <th>OPTION_bluetooth</th>\n",
       "      <th>Owning_months</th>\n",
       "    </tr>\n",
       "  </thead>\n",
       "  <tbody>\n",
       "    <tr>\n",
       "      <th>7164</th>\n",
       "      <td>седан</td>\n",
       "      <td>AUDI</td>\n",
       "      <td>https://auto.ru/cars/used/sale/audi/a4/1105401...</td>\n",
       "      <td>зелёный</td>\n",
       "      <td>[]</td>\n",
       "      <td>НА МАШИНУ НАЛОЖЕНЫ ОГРАНИЧЕНИЯ СУММА БОЛЬШАЯ М...</td>\n",
       "      <td>1.6</td>\n",
       "      <td>101.0</td>\n",
       "      <td>{}</td>\n",
       "      <td>бензин</td>\n",
       "      <td>...</td>\n",
       "      <td>0</td>\n",
       "      <td>0</td>\n",
       "      <td>0</td>\n",
       "      <td>0</td>\n",
       "      <td>0</td>\n",
       "      <td>0</td>\n",
       "      <td>0</td>\n",
       "      <td>0</td>\n",
       "      <td>0</td>\n",
       "      <td>0.0</td>\n",
       "    </tr>\n",
       "    <tr>\n",
       "      <th>18476</th>\n",
       "      <td>внедорожник 5 дв.</td>\n",
       "      <td>NISSAN</td>\n",
       "      <td>https://auto.ru/cars/used/sale/nissan/qashqai/...</td>\n",
       "      <td>серебристый</td>\n",
       "      <td>[airbag-passenger, lock, electro-mirrors, mirr...</td>\n",
       "      <td>Продаю автомобиль собственник я Все внешние по...</td>\n",
       "      <td>2.0</td>\n",
       "      <td>141.0</td>\n",
       "      <td>{'cruise-control': True, 'engine-proof': True,...</td>\n",
       "      <td>бензин</td>\n",
       "      <td>...</td>\n",
       "      <td>1</td>\n",
       "      <td>1</td>\n",
       "      <td>0</td>\n",
       "      <td>1</td>\n",
       "      <td>0</td>\n",
       "      <td>0</td>\n",
       "      <td>0</td>\n",
       "      <td>0</td>\n",
       "      <td>1</td>\n",
       "      <td>84.0</td>\n",
       "    </tr>\n",
       "  </tbody>\n",
       "</table>\n",
       "<p>2 rows × 64 columns</p>\n",
       "</div>"
      ],
      "text/plain": [
       "                bodyType   brand  \\\n",
       "7164               седан    AUDI   \n",
       "18476  внедорожник 5 дв.  NISSAN   \n",
       "\n",
       "                                                 car_url        color  \\\n",
       "7164   https://auto.ru/cars/used/sale/audi/a4/1105401...      зелёный   \n",
       "18476  https://auto.ru/cars/used/sale/nissan/qashqai/...  серебристый   \n",
       "\n",
       "                                      complectation_dict  \\\n",
       "7164                                                  []   \n",
       "18476  [airbag-passenger, lock, electro-mirrors, mirr...   \n",
       "\n",
       "                                             description  engineDisplacement  \\\n",
       "7164   НА МАШИНУ НАЛОЖЕНЫ ОГРАНИЧЕНИЯ СУММА БОЛЬШАЯ М...                 1.6   \n",
       "18476  Продаю автомобиль собственник я Все внешние по...                 2.0   \n",
       "\n",
       "       enginePower                                     equipment_dict  \\\n",
       "7164         101.0                                                 {}   \n",
       "18476        141.0  {'cruise-control': True, 'engine-proof': True,...   \n",
       "\n",
       "      fuelType  ... OPTION_airbag-curtain  OPTION_third-rear-headrest  \\\n",
       "7164    бензин  ...                     0                           0   \n",
       "18476   бензин  ...                     1                           1   \n",
       "\n",
       "       OPTION_usb  OPTION_front-centre-armrest OPTION_ptf OPTION_12v-socket  \\\n",
       "7164            0                            0          0                 0   \n",
       "18476           0                            1          0                 0   \n",
       "\n",
       "       OPTION_cruise-control  OPTION_rain-sensor OPTION_bluetooth  \\\n",
       "7164                       0                   0                0   \n",
       "18476                      0                   0                1   \n",
       "\n",
       "       Owning_months  \n",
       "7164             0.0  \n",
       "18476           84.0  \n",
       "\n",
       "[2 rows x 64 columns]"
      ]
     },
     "execution_count": 147,
     "metadata": {},
     "output_type": "execute_result"
    }
   ],
   "source": [
    "train_df[train_df.Состояние.isnull()]"
   ]
  },
  {
   "cell_type": "code",
   "execution_count": 148,
   "id": "a9153e8c",
   "metadata": {},
   "outputs": [],
   "source": [
    "# Заполняем оставшиеся пропуски значением 'Состояние_не_указано'\n",
    "train_df['Состояние'] = train_df['Состояние'].fillna(value=('Состояние_не_указано'))"
   ]
  },
  {
   "cell_type": "code",
   "execution_count": 149,
   "id": "3f294e9b",
   "metadata": {},
   "outputs": [
    {
     "data": {
      "text/html": [
       "<div>\n",
       "<style scoped>\n",
       "    .dataframe tbody tr th:only-of-type {\n",
       "        vertical-align: middle;\n",
       "    }\n",
       "\n",
       "    .dataframe tbody tr th {\n",
       "        vertical-align: top;\n",
       "    }\n",
       "\n",
       "    .dataframe thead th {\n",
       "        text-align: right;\n",
       "    }\n",
       "</style>\n",
       "<table border=\"1\" class=\"dataframe\">\n",
       "  <thead>\n",
       "    <tr style=\"text-align: right;\">\n",
       "      <th></th>\n",
       "      <th>bodyType</th>\n",
       "      <th>brand</th>\n",
       "      <th>car_url</th>\n",
       "      <th>color</th>\n",
       "      <th>complectation_dict</th>\n",
       "      <th>description</th>\n",
       "      <th>engineDisplacement</th>\n",
       "      <th>enginePower</th>\n",
       "      <th>equipment_dict</th>\n",
       "      <th>fuelType</th>\n",
       "      <th>...</th>\n",
       "      <th>OPTION_airbag-curtain</th>\n",
       "      <th>OPTION_third-rear-headrest</th>\n",
       "      <th>OPTION_usb</th>\n",
       "      <th>OPTION_front-centre-armrest</th>\n",
       "      <th>OPTION_ptf</th>\n",
       "      <th>OPTION_12v-socket</th>\n",
       "      <th>OPTION_cruise-control</th>\n",
       "      <th>OPTION_rain-sensor</th>\n",
       "      <th>OPTION_bluetooth</th>\n",
       "      <th>Owning_months</th>\n",
       "    </tr>\n",
       "  </thead>\n",
       "  <tbody>\n",
       "  </tbody>\n",
       "</table>\n",
       "<p>0 rows × 64 columns</p>\n",
       "</div>"
      ],
      "text/plain": [
       "Empty DataFrame\n",
       "Columns: [bodyType, brand, car_url, color, complectation_dict, description, engineDisplacement, enginePower, equipment_dict, fuelType, image, mileage, modelDate, model_info, model_name, name, numberOfDoors, parsing_unixtime, priceCurrency, productionDate, sell_id, super_gen, vehicleConfiguration, vehicleTransmission, vendor, Владельцы, Владение, ПТС, Привод, Руль, Состояние, Таможня, price, OPTION_airbag-driver, OPTION_abs, OPTION_lock, OPTION_immo, OPTION_electro-window-front, OPTION_airbag-passenger, OPTION_wheel-configuration1, OPTION_computer, OPTION_electro-mirrors, OPTION_mirrors-heat, OPTION_wheel-configuration2, OPTION_electro-window-back, OPTION_front-seats-heat, OPTION_esp, OPTION_airbag-side, OPTION_isofix, OPTION_seat-transformation, OPTION_audiopreparation, OPTION_audiosystem-cd, OPTION_wheel-leather, OPTION_multi-wheel, OPTION_airbag-curtain, OPTION_third-rear-headrest, OPTION_usb, OPTION_front-centre-armrest, OPTION_ptf, OPTION_12v-socket, OPTION_cruise-control, OPTION_rain-sensor, OPTION_bluetooth, Owning_months]\n",
       "Index: []\n",
       "\n",
       "[0 rows x 64 columns]"
      ]
     },
     "execution_count": 149,
     "metadata": {},
     "output_type": "execute_result"
    }
   ],
   "source": [
    "train_df[train_df.Состояние.isnull()]"
   ]
  },
  {
   "cell_type": "markdown",
   "id": "0982b666",
   "metadata": {},
   "source": [
    "## Таможня"
   ]
  },
  {
   "cell_type": "code",
   "execution_count": 150,
   "id": "a4701853",
   "metadata": {},
   "outputs": [
    {
     "name": "stdout",
     "output_type": "stream",
     "text": [
      "2\n",
      "object\n"
     ]
    },
    {
     "data": {
      "text/plain": [
       "array(['Растаможен', nan], dtype=object)"
      ]
     },
     "execution_count": 150,
     "metadata": {},
     "output_type": "execute_result"
    }
   ],
   "source": [
    "print(len(train_df.Таможня.unique()))\n",
    "print(train_df.Таможня.dtype)\n",
    "train_df.Таможня.unique()"
   ]
  },
  {
   "cell_type": "code",
   "execution_count": 151,
   "id": "dc3d71ea",
   "metadata": {},
   "outputs": [
    {
     "name": "stdout",
     "output_type": "stream",
     "text": [
      "1\n",
      "object\n"
     ]
    },
    {
     "data": {
      "text/plain": [
       "array(['Растаможен'], dtype=object)"
      ]
     },
     "execution_count": 151,
     "metadata": {},
     "output_type": "execute_result"
    }
   ],
   "source": [
    "print(len(test_df.Таможня.unique()))\n",
    "print(test_df.Таможня.dtype)\n",
    "test_df.Таможня.unique()"
   ]
  },
  {
   "cell_type": "code",
   "execution_count": 152,
   "id": "fd649c4f",
   "metadata": {},
   "outputs": [
    {
     "name": "stdout",
     "output_type": "stream",
     "text": [
      "False    33153\n",
      "True      7567\n",
      "Name: Таможня, dtype: int64\n",
      "False    34686\n",
      "Name: Таможня, dtype: int64\n"
     ]
    }
   ],
   "source": [
    "# Проверим наличие пропусков\n",
    "print(train_df.Таможня.isnull().value_counts())\n",
    "print(test_df.Таможня.isnull().value_counts())"
   ]
  },
  {
   "cell_type": "code",
   "execution_count": 153,
   "id": "f4b787bd",
   "metadata": {},
   "outputs": [
    {
     "data": {
      "text/plain": [
       "False    40720\n",
       "Name: Таможня, dtype: int64"
      ]
     },
     "execution_count": 153,
     "metadata": {},
     "output_type": "execute_result"
    }
   ],
   "source": [
    "# Заполняем оставшиеся пропуски значением 'Состояние_не_указано'\n",
    "train_df['Таможня'] = train_df['Таможня'].fillna(value=('Таможня_не_указано'))\n",
    "train_df.Таможня.isnull().value_counts()"
   ]
  },
  {
   "cell_type": "markdown",
   "id": "111952fc",
   "metadata": {},
   "source": [
    "## price"
   ]
  },
  {
   "cell_type": "code",
   "execution_count": 154,
   "id": "3a3100e7",
   "metadata": {},
   "outputs": [
    {
     "name": "stdout",
     "output_type": "stream",
     "text": [
      "8044\n",
      "float64\n"
     ]
    },
    {
     "data": {
      "text/plain": [
       "array([ 999000., 1179000., 1070000., ...,  194500., 2643000.,  875500.])"
      ]
     },
     "execution_count": 154,
     "metadata": {},
     "output_type": "execute_result"
    }
   ],
   "source": [
    "print(len(train_df.price.unique()))\n",
    "print(train_df.price.dtype)\n",
    "train_df.price.unique()"
   ]
  },
  {
   "cell_type": "code",
   "execution_count": 155,
   "id": "1db6a2ab",
   "metadata": {},
   "outputs": [
    {
     "name": "stdout",
     "output_type": "stream",
     "text": [
      "False    36516\n",
      "True      4204\n",
      "Name: price, dtype: int64\n"
     ]
    }
   ],
   "source": [
    "# Проверим наличие пропусков\n",
    "print(train_df.price.isnull().value_counts())"
   ]
  },
  {
   "cell_type": "code",
   "execution_count": 156,
   "id": "6afc6b47",
   "metadata": {},
   "outputs": [],
   "source": [
    "# Удаляем строки без указания цены в обучающей выборке\n",
    "train_df.dropna(subset=['price'], inplace=True)"
   ]
  },
  {
   "cell_type": "markdown",
   "id": "46e4e2d7",
   "metadata": {},
   "source": [
    "# Предобработка данных"
   ]
  },
  {
   "cell_type": "code",
   "execution_count": 157,
   "id": "580f1aac",
   "metadata": {},
   "outputs": [],
   "source": [
    "# Объединяйм обучающую и тестовую выборки для удоства преобразования\n",
    "\n",
    "# Создаем признак для отделения обучающей и тестовой выборки\n",
    "train_df['Train?'] = 1\n",
    "test_df['Train?'] = 0\n",
    "\n",
    "# Создаем признак price в тестовой выборке, заполняем его нулями\n",
    "test_df['price'] = 0\n",
    "\n",
    "# Создаем признак sell_id в обучающей выборке, заполняем нулями - потребуется для проверки\n",
    "train_df['sell_id'] = 0"
   ]
  },
  {
   "cell_type": "code",
   "execution_count": 158,
   "id": "4e33f353",
   "metadata": {},
   "outputs": [],
   "source": [
    "# Создадим список с колонками, которые присутствуют и в train, и в test\n",
    "cols_intersection = list(set(test_df.columns).intersection(train_df.columns))"
   ]
  },
  {
   "cell_type": "code",
   "execution_count": 159,
   "id": "3eda026d",
   "metadata": {},
   "outputs": [
    {
     "name": "stdout",
     "output_type": "stream",
     "text": [
      "Найдены расхождения в типах данных для:\n",
      "\t- колонки price: для train - <class 'numpy.float64'>, для test - <class 'numpy.int64'>\n",
      "\t- колонки model_info: для train - <class 'numpy.float64'>, для test - <class 'str'>\n",
      "\t- колонки parsing_unixtime: для train - <class 'numpy.float64'>, для test - <class 'numpy.int64'>\n"
     ]
    }
   ],
   "source": [
    "# Выводим разницу в типах данных в обучающей и тестовой выборках\n",
    "cols_type_dif = []\n",
    "print(\"Найдены расхождения в типах данных для:\")\n",
    "\n",
    "for col in cols_intersection:\n",
    "    if type(test_df[col][0]) != type(train_df[col][0]):\n",
    "        print(f\"\\t- колонки {col}: для train - {type(train_df[col][0])}, для test - {type(test_df[col][0])}\")\n",
    "        cols_type_dif.append(col)"
   ]
  },
  {
   "cell_type": "code",
   "execution_count": 160,
   "id": "3cbe3e07",
   "metadata": {},
   "outputs": [
    {
     "name": "stdout",
     "output_type": "stream",
     "text": [
      "<class 'pandas.core.frame.DataFrame'>\n",
      "RangeIndex: 71202 entries, 0 to 71201\n",
      "Data columns (total 65 columns):\n",
      " #   Column                       Non-Null Count  Dtype  \n",
      "---  ------                       --------------  -----  \n",
      " 0   bodyType                     71202 non-null  object \n",
      " 1   brand                        71202 non-null  object \n",
      " 2   car_url                      71202 non-null  object \n",
      " 3   color                        71202 non-null  object \n",
      " 4   complectation_dict           71202 non-null  object \n",
      " 5   description                  71202 non-null  object \n",
      " 6   engineDisplacement           71202 non-null  float64\n",
      " 7   enginePower                  71202 non-null  float64\n",
      " 8   equipment_dict               61206 non-null  object \n",
      " 9   fuelType                     71202 non-null  object \n",
      " 10  image                        71194 non-null  object \n",
      " 11  mileage                      71202 non-null  float64\n",
      " 12  modelDate                    71202 non-null  int64  \n",
      " 13  model_info                   34686 non-null  object \n",
      " 14  model_name                   71202 non-null  object \n",
      " 15  name                         71202 non-null  object \n",
      " 16  numberOfDoors                71202 non-null  int64  \n",
      " 17  parsing_unixtime             71202 non-null  float64\n",
      " 18  priceCurrency                71202 non-null  object \n",
      " 19  productionDate               71202 non-null  int64  \n",
      " 20  sell_id                      71202 non-null  int64  \n",
      " 21  super_gen                    71202 non-null  object \n",
      " 22  vehicleConfiguration         71202 non-null  object \n",
      " 23  vehicleTransmission          71202 non-null  object \n",
      " 24  vendor                       71202 non-null  object \n",
      " 25  Владельцы                    71202 non-null  float64\n",
      " 26  Владение                     18026 non-null  object \n",
      " 27  ПТС                          71202 non-null  object \n",
      " 28  Привод                       64610 non-null  object \n",
      " 29  Руль                         71202 non-null  object \n",
      " 30  Состояние                    71202 non-null  object \n",
      " 31  Таможня                      71202 non-null  object \n",
      " 32  price                        71202 non-null  float64\n",
      " 33  OPTION_airbag-driver         71202 non-null  int64  \n",
      " 34  OPTION_abs                   71202 non-null  int64  \n",
      " 35  OPTION_lock                  71202 non-null  int64  \n",
      " 36  OPTION_immo                  71202 non-null  int64  \n",
      " 37  OPTION_electro-window-front  71202 non-null  int64  \n",
      " 38  OPTION_airbag-passenger      71202 non-null  int64  \n",
      " 39  OPTION_wheel-configuration1  71202 non-null  int64  \n",
      " 40  OPTION_computer              71202 non-null  int64  \n",
      " 41  OPTION_electro-mirrors       71202 non-null  int64  \n",
      " 42  OPTION_mirrors-heat          71202 non-null  int64  \n",
      " 43  OPTION_wheel-configuration2  71202 non-null  int64  \n",
      " 44  OPTION_electro-window-back   71202 non-null  int64  \n",
      " 45  OPTION_front-seats-heat      71202 non-null  int64  \n",
      " 46  OPTION_esp                   71202 non-null  int64  \n",
      " 47  OPTION_airbag-side           71202 non-null  int64  \n",
      " 48  OPTION_isofix                71202 non-null  int64  \n",
      " 49  OPTION_seat-transformation   71202 non-null  int64  \n",
      " 50  OPTION_audiopreparation      71202 non-null  int64  \n",
      " 51  OPTION_audiosystem-cd        71202 non-null  int64  \n",
      " 52  OPTION_wheel-leather         71202 non-null  int64  \n",
      " 53  OPTION_multi-wheel           71202 non-null  int64  \n",
      " 54  OPTION_airbag-curtain        71202 non-null  int64  \n",
      " 55  OPTION_third-rear-headrest   71202 non-null  int64  \n",
      " 56  OPTION_usb                   71202 non-null  int64  \n",
      " 57  OPTION_front-centre-armrest  71202 non-null  int64  \n",
      " 58  OPTION_ptf                   71202 non-null  int64  \n",
      " 59  OPTION_12v-socket            71202 non-null  int64  \n",
      " 60  OPTION_cruise-control        71202 non-null  int64  \n",
      " 61  OPTION_rain-sensor           71202 non-null  int64  \n",
      " 62  OPTION_bluetooth             71202 non-null  int64  \n",
      " 63  Owning_months                71202 non-null  float64\n",
      " 64  Train?                       71202 non-null  int64  \n",
      "dtypes: float64(7), int64(35), object(23)\n",
      "memory usage: 35.3+ MB\n"
     ]
    }
   ],
   "source": [
    "# Объединяем обучающую и тестовую выборку в один датасет\n",
    "data = pd.concat([train_df, test_df], axis=0, join=\"inner\", ignore_index=True)\n",
    "data.info()"
   ]
  },
  {
   "cell_type": "code",
   "execution_count": 161,
   "id": "8e6b738c",
   "metadata": {},
   "outputs": [],
   "source": [
    "# Удалим признаки, которые не будем использовать\n",
    "data.drop(['car_url', 'complectation_dict', 'description', 'equipment_dict', 'image', 'parsing_unixtime',\n",
    "           'priceCurrency', 'super_gen', 'model_info', 'Состояние', 'Таможня', 'name', 'Владение', \n",
    "           'Привод'], axis=1, inplace=True)"
   ]
  },
  {
   "cell_type": "code",
   "execution_count": 162,
   "id": "730cba6e",
   "metadata": {},
   "outputs": [
    {
     "data": {
      "text/plain": [
       "bodyType                       0\n",
       "brand                          0\n",
       "color                          0\n",
       "engineDisplacement             0\n",
       "enginePower                    0\n",
       "fuelType                       0\n",
       "mileage                        0\n",
       "modelDate                      0\n",
       "model_name                     0\n",
       "numberOfDoors                  0\n",
       "productionDate                 0\n",
       "sell_id                        0\n",
       "vehicleConfiguration           0\n",
       "vehicleTransmission            0\n",
       "vendor                         0\n",
       "Владельцы                      0\n",
       "ПТС                            0\n",
       "Руль                           0\n",
       "price                          0\n",
       "OPTION_airbag-driver           0\n",
       "OPTION_abs                     0\n",
       "OPTION_lock                    0\n",
       "OPTION_immo                    0\n",
       "OPTION_electro-window-front    0\n",
       "OPTION_airbag-passenger        0\n",
       "OPTION_wheel-configuration1    0\n",
       "OPTION_computer                0\n",
       "OPTION_electro-mirrors         0\n",
       "OPTION_mirrors-heat            0\n",
       "OPTION_wheel-configuration2    0\n",
       "OPTION_electro-window-back     0\n",
       "OPTION_front-seats-heat        0\n",
       "OPTION_esp                     0\n",
       "OPTION_airbag-side             0\n",
       "OPTION_isofix                  0\n",
       "OPTION_seat-transformation     0\n",
       "OPTION_audiopreparation        0\n",
       "OPTION_audiosystem-cd          0\n",
       "OPTION_wheel-leather           0\n",
       "OPTION_multi-wheel             0\n",
       "OPTION_airbag-curtain          0\n",
       "OPTION_third-rear-headrest     0\n",
       "OPTION_usb                     0\n",
       "OPTION_front-centre-armrest    0\n",
       "OPTION_ptf                     0\n",
       "OPTION_12v-socket              0\n",
       "OPTION_cruise-control          0\n",
       "OPTION_rain-sensor             0\n",
       "OPTION_bluetooth               0\n",
       "Owning_months                  0\n",
       "Train?                         0\n",
       "dtype: int64"
      ]
     },
     "execution_count": 162,
     "metadata": {},
     "output_type": "execute_result"
    }
   ],
   "source": [
    "# Проверим наличие пропусков во всем датасете\n",
    "data.isna().sum()"
   ]
  },
  {
   "cell_type": "code",
   "execution_count": 163,
   "id": "902e9748",
   "metadata": {},
   "outputs": [
    {
     "data": {
      "text/plain": [
       "bodyType                          24\n",
       "brand                             12\n",
       "color                             16\n",
       "engineDisplacement                54\n",
       "enginePower                      335\n",
       "fuelType                           5\n",
       "mileage                        23257\n",
       "modelDate                         68\n",
       "model_name                       746\n",
       "numberOfDoors                      5\n",
       "productionDate                    70\n",
       "sell_id                        34687\n",
       "vehicleConfiguration             695\n",
       "vehicleTransmission                4\n",
       "vendor                             2\n",
       "Владельцы                          4\n",
       "ПТС                                2\n",
       "Руль                               3\n",
       "price                           8044\n",
       "OPTION_airbag-driver               2\n",
       "OPTION_abs                         2\n",
       "OPTION_lock                        2\n",
       "OPTION_immo                        2\n",
       "OPTION_electro-window-front        2\n",
       "OPTION_airbag-passenger            2\n",
       "OPTION_wheel-configuration1        2\n",
       "OPTION_computer                    2\n",
       "OPTION_electro-mirrors             2\n",
       "OPTION_mirrors-heat                2\n",
       "OPTION_wheel-configuration2        2\n",
       "OPTION_electro-window-back         2\n",
       "OPTION_front-seats-heat            2\n",
       "OPTION_esp                         2\n",
       "OPTION_airbag-side                 2\n",
       "OPTION_isofix                      2\n",
       "OPTION_seat-transformation         2\n",
       "OPTION_audiopreparation            2\n",
       "OPTION_audiosystem-cd              2\n",
       "OPTION_wheel-leather               2\n",
       "OPTION_multi-wheel                 2\n",
       "OPTION_airbag-curtain              2\n",
       "OPTION_third-rear-headrest         2\n",
       "OPTION_usb                         2\n",
       "OPTION_front-centre-armrest        2\n",
       "OPTION_ptf                         2\n",
       "OPTION_12v-socket                  2\n",
       "OPTION_cruise-control              2\n",
       "OPTION_rain-sensor                 2\n",
       "OPTION_bluetooth                   2\n",
       "Owning_months                    289\n",
       "Train?                             2\n",
       "dtype: int64"
      ]
     },
     "execution_count": 163,
     "metadata": {},
     "output_type": "execute_result"
    }
   ],
   "source": [
    "# Посчитаем количество уникальных значений признаков\n",
    "data.nunique()"
   ]
  },
  {
   "cell_type": "code",
   "execution_count": 164,
   "id": "18a30c75",
   "metadata": {},
   "outputs": [],
   "source": [
    "# Для удобства создадим списки столбцов каждой категории данных\n",
    "num_cols = ['modelDate', 'productionDate', 'numberOfDoors', 'enginePower', 'mileage', 'Владельцы', 'engineDisplacement']\n",
    "\n",
    "dummie_cols = ['OPTION_airbag-driver', 'OPTION_abs', 'OPTION_lock', 'OPTION_immo', 'OPTION_electro-window-front', \n",
    "               'OPTION_airbag-passenger', 'OPTION_wheel-configuration1', 'OPTION_computer', 'OPTION_electro-mirrors', \n",
    "               'OPTION_mirrors-heat', 'OPTION_wheel-configuration2', 'OPTION_electro-window-back', 'OPTION_front-seats-heat', \n",
    "               'OPTION_esp', 'OPTION_airbag-side', 'OPTION_isofix', 'OPTION_seat-transformation', 'OPTION_audiopreparation', \n",
    "               'OPTION_audiosystem-cd', 'OPTION_wheel-leather', 'OPTION_multi-wheel', 'OPTION_airbag-curtain', \n",
    "               'OPTION_third-rear-headrest', 'OPTION_usb', 'OPTION_front-centre-armrest', 'OPTION_ptf', 'OPTION_12v-socket', \n",
    "               'OPTION_cruise-control', 'OPTION_rain-sensor', 'OPTION_bluetooth']\n",
    "\n",
    "cat_cols = ['bodyType', 'brand', 'color', 'fuelType', 'model_name', 'vendor', 'vehicleTransmission', 'vehicleConfiguration', \n",
    "            'Руль']\n",
    "\n",
    "bin_cols = ['ПТС']\n",
    "\n",
    "service_col = ['Train?', 'sell_id']\n",
    "\n",
    "target_col = ['price']"
   ]
  },
  {
   "cell_type": "code",
   "execution_count": 165,
   "id": "edad75e3",
   "metadata": {},
   "outputs": [
    {
     "data": {
      "text/plain": [
       "50"
      ]
     },
     "execution_count": 165,
     "metadata": {},
     "output_type": "execute_result"
    }
   ],
   "source": [
    "# Полный список столбцов после предварительной проработки\n",
    "all_cols = num_cols + dummie_cols + cat_cols + bin_cols + service_col + target_col\n",
    "\n",
    "len(all_cols)"
   ]
  },
  {
   "cell_type": "code",
   "execution_count": 166,
   "id": "643bfa16",
   "metadata": {},
   "outputs": [
    {
     "data": {
      "text/html": [
       "<div>\n",
       "<style scoped>\n",
       "    .dataframe tbody tr th:only-of-type {\n",
       "        vertical-align: middle;\n",
       "    }\n",
       "\n",
       "    .dataframe tbody tr th {\n",
       "        vertical-align: top;\n",
       "    }\n",
       "\n",
       "    .dataframe thead th {\n",
       "        text-align: right;\n",
       "    }\n",
       "</style>\n",
       "<table border=\"1\" class=\"dataframe\">\n",
       "  <thead>\n",
       "    <tr style=\"text-align: right;\">\n",
       "      <th></th>\n",
       "      <th>modelDate</th>\n",
       "      <th>productionDate</th>\n",
       "      <th>numberOfDoors</th>\n",
       "      <th>enginePower</th>\n",
       "      <th>mileage</th>\n",
       "      <th>Владельцы</th>\n",
       "      <th>engineDisplacement</th>\n",
       "    </tr>\n",
       "  </thead>\n",
       "  <tbody>\n",
       "    <tr>\n",
       "      <th>count</th>\n",
       "      <td>71202.000000</td>\n",
       "      <td>71202.000000</td>\n",
       "      <td>71202.000000</td>\n",
       "      <td>71202.000000</td>\n",
       "      <td>71202.000000</td>\n",
       "      <td>71202.000000</td>\n",
       "      <td>71202.000000</td>\n",
       "    </tr>\n",
       "    <tr>\n",
       "      <th>mean</th>\n",
       "      <td>2009.213575</td>\n",
       "      <td>2011.364934</td>\n",
       "      <td>4.547541</td>\n",
       "      <td>191.458456</td>\n",
       "      <td>138702.747760</td>\n",
       "      <td>1.941673</td>\n",
       "      <td>2.374711</td>\n",
       "    </tr>\n",
       "    <tr>\n",
       "      <th>std</th>\n",
       "      <td>7.568585</td>\n",
       "      <td>7.322422</td>\n",
       "      <td>0.663210</td>\n",
       "      <td>88.260760</td>\n",
       "      <td>103429.083768</td>\n",
       "      <td>1.020766</td>\n",
       "      <td>0.941786</td>\n",
       "    </tr>\n",
       "    <tr>\n",
       "      <th>min</th>\n",
       "      <td>1904.000000</td>\n",
       "      <td>1904.000000</td>\n",
       "      <td>0.000000</td>\n",
       "      <td>30.000000</td>\n",
       "      <td>0.000000</td>\n",
       "      <td>0.000000</td>\n",
       "      <td>0.700000</td>\n",
       "    </tr>\n",
       "    <tr>\n",
       "      <th>25%</th>\n",
       "      <td>2006.000000</td>\n",
       "      <td>2008.000000</td>\n",
       "      <td>4.000000</td>\n",
       "      <td>136.000000</td>\n",
       "      <td>61500.000000</td>\n",
       "      <td>1.000000</td>\n",
       "      <td>1.800000</td>\n",
       "    </tr>\n",
       "    <tr>\n",
       "      <th>50%</th>\n",
       "      <td>2010.000000</td>\n",
       "      <td>2012.000000</td>\n",
       "      <td>5.000000</td>\n",
       "      <td>170.000000</td>\n",
       "      <td>129000.000000</td>\n",
       "      <td>2.000000</td>\n",
       "      <td>2.000000</td>\n",
       "    </tr>\n",
       "    <tr>\n",
       "      <th>75%</th>\n",
       "      <td>2015.000000</td>\n",
       "      <td>2017.000000</td>\n",
       "      <td>5.000000</td>\n",
       "      <td>239.000000</td>\n",
       "      <td>197265.000000</td>\n",
       "      <td>3.000000</td>\n",
       "      <td>3.000000</td>\n",
       "    </tr>\n",
       "    <tr>\n",
       "      <th>max</th>\n",
       "      <td>2021.000000</td>\n",
       "      <td>2021.000000</td>\n",
       "      <td>5.000000</td>\n",
       "      <td>646.000000</td>\n",
       "      <td>1000000.000000</td>\n",
       "      <td>3.000000</td>\n",
       "      <td>6.600000</td>\n",
       "    </tr>\n",
       "  </tbody>\n",
       "</table>\n",
       "</div>"
      ],
      "text/plain": [
       "          modelDate  productionDate  numberOfDoors   enginePower  \\\n",
       "count  71202.000000    71202.000000   71202.000000  71202.000000   \n",
       "mean    2009.213575     2011.364934       4.547541    191.458456   \n",
       "std        7.568585        7.322422       0.663210     88.260760   \n",
       "min     1904.000000     1904.000000       0.000000     30.000000   \n",
       "25%     2006.000000     2008.000000       4.000000    136.000000   \n",
       "50%     2010.000000     2012.000000       5.000000    170.000000   \n",
       "75%     2015.000000     2017.000000       5.000000    239.000000   \n",
       "max     2021.000000     2021.000000       5.000000    646.000000   \n",
       "\n",
       "              mileage     Владельцы  engineDisplacement  \n",
       "count    71202.000000  71202.000000        71202.000000  \n",
       "mean    138702.747760      1.941673            2.374711  \n",
       "std     103429.083768      1.020766            0.941786  \n",
       "min          0.000000      0.000000            0.700000  \n",
       "25%      61500.000000      1.000000            1.800000  \n",
       "50%     129000.000000      2.000000            2.000000  \n",
       "75%     197265.000000      3.000000            3.000000  \n",
       "max    1000000.000000      3.000000            6.600000  "
      ]
     },
     "metadata": {},
     "output_type": "display_data"
    }
   ],
   "source": [
    "display(data[num_cols].describe())"
   ]
  },
  {
   "cell_type": "markdown",
   "id": "2bb33726",
   "metadata": {},
   "source": [
    "# Визуализация данных"
   ]
  },
  {
   "cell_type": "code",
   "execution_count": 167,
   "id": "7c04c627",
   "metadata": {},
   "outputs": [
    {
     "data": {
      "image/png": "[encoded data removed]",
      "text/plain": [
       "<Figure size 1080x6120 with 14 Axes>"
      ]
     },
     "metadata": {
      "needs_background": "light"
     },
     "output_type": "display_data"
    }
   ],
   "source": [
    "# Смотрим на распределение и наличие выбросов в количественных переменных\n",
    "fig, axes = plt.subplots(14, 1, figsize=(15, 85))\n",
    "plt.subplots_adjust(wspace=0.5)\n",
    "axes = axes.flatten()\n",
    "\n",
    "i = 0\n",
    "\n",
    "for col in num_cols:\n",
    "    sns.distplot(data[col], ax=axes[i]).grid(visible=True)\n",
    "    i = i + 1\n",
    "    sns.boxplot(data[col], ax=axes[i]).grid(visible=True, axis='x')\n",
    "    i = i + 1"
   ]
  },
  {
   "cell_type": "code",
   "execution_count": 168,
   "id": "2f12b6ab",
   "metadata": {},
   "outputs": [
    {
     "data": {
      "image/png": "[encoded data removed]",
      "text/plain": [
       "<Figure size 432x288 with 2 Axes>"
      ]
     },
     "metadata": {
      "needs_background": "light"
     },
     "output_type": "display_data"
    }
   ],
   "source": [
    "# Построим матрицу корреляции колличественных переменных с целевой\n",
    "heatmap = sns.heatmap(data[target_col + num_cols].corr(), vmin=-1, vmax=1, annot=True, cmap='BrBG')\n",
    "plt.show()"
   ]
  },
  {
   "cell_type": "markdown",
   "id": "ee684e43",
   "metadata": {},
   "source": [
    "**modelDate** почти полностью коррелирует с **productionDate**, оставим только один из них"
   ]
  },
  {
   "cell_type": "code",
   "execution_count": 169,
   "id": "9be01dbb",
   "metadata": {},
   "outputs": [
    {
     "name": "stdout",
     "output_type": "stream",
     "text": [
      "<class 'pandas.core.frame.DataFrame'>\n",
      "RangeIndex: 71202 entries, 0 to 71201\n",
      "Data columns (total 50 columns):\n",
      " #   Column                       Non-Null Count  Dtype  \n",
      "---  ------                       --------------  -----  \n",
      " 0   bodyType                     71202 non-null  object \n",
      " 1   brand                        71202 non-null  object \n",
      " 2   color                        71202 non-null  object \n",
      " 3   engineDisplacement           71202 non-null  float64\n",
      " 4   enginePower                  71202 non-null  float64\n",
      " 5   fuelType                     71202 non-null  object \n",
      " 6   mileage                      71202 non-null  float64\n",
      " 7   model_name                   71202 non-null  object \n",
      " 8   numberOfDoors                71202 non-null  int64  \n",
      " 9   productionDate               71202 non-null  int64  \n",
      " 10  sell_id                      71202 non-null  int64  \n",
      " 11  vehicleConfiguration         71202 non-null  object \n",
      " 12  vehicleTransmission          71202 non-null  object \n",
      " 13  vendor                       71202 non-null  object \n",
      " 14  Владельцы                    71202 non-null  float64\n",
      " 15  ПТС                          71202 non-null  object \n",
      " 16  Руль                         71202 non-null  object \n",
      " 17  price                        71202 non-null  float64\n",
      " 18  OPTION_airbag-driver         71202 non-null  int64  \n",
      " 19  OPTION_abs                   71202 non-null  int64  \n",
      " 20  OPTION_lock                  71202 non-null  int64  \n",
      " 21  OPTION_immo                  71202 non-null  int64  \n",
      " 22  OPTION_electro-window-front  71202 non-null  int64  \n",
      " 23  OPTION_airbag-passenger      71202 non-null  int64  \n",
      " 24  OPTION_wheel-configuration1  71202 non-null  int64  \n",
      " 25  OPTION_computer              71202 non-null  int64  \n",
      " 26  OPTION_electro-mirrors       71202 non-null  int64  \n",
      " 27  OPTION_mirrors-heat          71202 non-null  int64  \n",
      " 28  OPTION_wheel-configuration2  71202 non-null  int64  \n",
      " 29  OPTION_electro-window-back   71202 non-null  int64  \n",
      " 30  OPTION_front-seats-heat      71202 non-null  int64  \n",
      " 31  OPTION_esp                   71202 non-null  int64  \n",
      " 32  OPTION_airbag-side           71202 non-null  int64  \n",
      " 33  OPTION_isofix                71202 non-null  int64  \n",
      " 34  OPTION_seat-transformation   71202 non-null  int64  \n",
      " 35  OPTION_audiopreparation      71202 non-null  int64  \n",
      " 36  OPTION_audiosystem-cd        71202 non-null  int64  \n",
      " 37  OPTION_wheel-leather         71202 non-null  int64  \n",
      " 38  OPTION_multi-wheel           71202 non-null  int64  \n",
      " 39  OPTION_airbag-curtain        71202 non-null  int64  \n",
      " 40  OPTION_third-rear-headrest   71202 non-null  int64  \n",
      " 41  OPTION_usb                   71202 non-null  int64  \n",
      " 42  OPTION_front-centre-armrest  71202 non-null  int64  \n",
      " 43  OPTION_ptf                   71202 non-null  int64  \n",
      " 44  OPTION_12v-socket            71202 non-null  int64  \n",
      " 45  OPTION_cruise-control        71202 non-null  int64  \n",
      " 46  OPTION_rain-sensor           71202 non-null  int64  \n",
      " 47  OPTION_bluetooth             71202 non-null  int64  \n",
      " 48  Owning_months                71202 non-null  float64\n",
      " 49  Train?                       71202 non-null  int64  \n",
      "dtypes: float64(6), int64(34), object(10)\n",
      "memory usage: 27.2+ MB\n"
     ]
    }
   ],
   "source": [
    "data = data.drop(columns='modelDate')\n",
    "data.info()"
   ]
  },
  {
   "cell_type": "code",
   "execution_count": 170,
   "id": "d8c4f290",
   "metadata": {},
   "outputs": [
    {
     "data": {
      "image/png": "[encoded data removed]",
      "text/plain": [
       "<Figure size 1080x3600 with 10 Axes>"
      ]
     },
     "metadata": {
      "needs_background": "light"
     },
     "output_type": "display_data"
    }
   ],
   "source": [
    "# Смотрим на распределение категориальных показателей\n",
    "fig, axes = plt.subplots(10, 1, figsize=(15, 50))\n",
    "plt.subplots_adjust(wspace=0.5)\n",
    "axes = axes.flatten()\n",
    "\n",
    "i = 0\n",
    "\n",
    "for col in (cat_cols + bin_cols):\n",
    "    sns.histplot(data[col], ax=axes[i]).grid(visible=True, axis='y')\n",
    "    i += 1"
   ]
  },
  {
   "cell_type": "code",
   "execution_count": 171,
   "id": "168860e1",
   "metadata": {},
   "outputs": [
    {
     "name": "stdout",
     "output_type": "stream",
     "text": [
      "bodyType 24\n",
      "brand 12\n",
      "color 16\n",
      "fuelType 5\n",
      "model_name 746\n",
      "vendor 2\n",
      "vehicleTransmission 4\n",
      "vehicleConfiguration 695\n",
      "Руль 3\n",
      "ПТС 2\n"
     ]
    }
   ],
   "source": [
    "# Смотрим на количество уникальных значений признаков model_name и bodyType\n",
    "for col in (cat_cols + bin_cols):\n",
    "    print(col, len(data[col].unique()))"
   ]
  },
  {
   "cell_type": "code",
   "execution_count": 172,
   "id": "a094c27a",
   "metadata": {},
   "outputs": [
    {
     "data": {
      "text/plain": [
       "<AxesSubplot:xlabel='price', ylabel='Count'>"
      ]
     },
     "execution_count": 172,
     "metadata": {},
     "output_type": "execute_result"
    },
    {
     "data": {
      "image/png": "[encoded data removed]",
      "text/plain": [
       "<Figure size 720x360 with 1 Axes>"
      ]
     },
     "metadata": {
      "needs_background": "light"
     },
     "output_type": "display_data"
    }
   ],
   "source": [
    "# Смотрим на распределение целефой переменной\n",
    "fig, axe = plt.subplots(figsize=(10, 5))\n",
    "sns.histplot(data=data[data['Train?'] == 1], x='price')"
   ]
  },
  {
   "cell_type": "code",
   "execution_count": 173,
   "id": "daef496c",
   "metadata": {},
   "outputs": [],
   "source": [
    "# Распределение не нормальное, добавим признак логарифмированной цены\n",
    "data['price_log'] = data.price.apply(lambda x: np.log(x+1))"
   ]
  },
  {
   "cell_type": "code",
   "execution_count": 174,
   "id": "93952b66",
   "metadata": {},
   "outputs": [
    {
     "data": {
      "text/plain": [
       "<AxesSubplot:xlabel='price_log', ylabel='Count'>"
      ]
     },
     "execution_count": 174,
     "metadata": {},
     "output_type": "execute_result"
    },
    {
     "data": {
      "image/png": "[encoded data removed]",
      "text/plain": [
       "<Figure size 720x360 with 1 Axes>"
      ]
     },
     "metadata": {
      "needs_background": "light"
     },
     "output_type": "display_data"
    }
   ],
   "source": [
    "# Смотрим на распределение догорифмированной целевой переменной\n",
    "fig, axe = plt.subplots(figsize=(10, 5))\n",
    "sns.histplot(data=data[data['Train?'] == 1], x='price_log')"
   ]
  },
  {
   "cell_type": "code",
   "execution_count": 175,
   "id": "db48e7cf",
   "metadata": {},
   "outputs": [],
   "source": [
    "# Добавляем признак к списку целевых\n",
    "target_col.append('price_log')"
   ]
  },
  {
   "cell_type": "code",
   "execution_count": 176,
   "id": "b5ed3861",
   "metadata": {},
   "outputs": [],
   "source": [
    "# Логарифмируем смещенные числовые признаки\n",
    "cols_to_log = ['enginePower', 'mileage', 'engineDisplacement']\n",
    "\n",
    "for col in cols_to_log:\n",
    "    data[col] = data[col].apply(lambda x: np.log(x+1))"
   ]
  },
  {
   "cell_type": "code",
   "execution_count": 177,
   "id": "51d8f941",
   "metadata": {},
   "outputs": [
    {
     "data": {
      "image/png": "[encoded data removed]",
      "text/plain": [
       "<Figure size 720x1080 with 3 Axes>"
      ]
     },
     "metadata": {
      "needs_background": "light"
     },
     "output_type": "display_data"
    }
   ],
   "source": [
    "# Смотрим на распределение после логарифмирования\n",
    "fig, axes = plt.subplots(len(cols_to_log), figsize=(10, 15))\n",
    "axes = axes.flatten()\n",
    "i = 0\n",
    "\n",
    "for col in cols_to_log:\n",
    "    sns.distplot(data[col], ax=axes[i])\n",
    "    plt.title(col)\n",
    "    i += 1"
   ]
  },
  {
   "cell_type": "markdown",
   "id": "96a5c7f5",
   "metadata": {},
   "source": [
    "# Преобразование текстовых значений в числовые"
   ]
  },
  {
   "cell_type": "code",
   "execution_count": 178,
   "id": "1d45ac00",
   "metadata": {},
   "outputs": [],
   "source": [
    "# Преобразуем категориальные текстовые признаки в числовые\n",
    "for column in cat_cols:\n",
    "    data[column] = LabelEncoder().fit_transform(data[column])"
   ]
  },
  {
   "cell_type": "code",
   "execution_count": 179,
   "id": "10faad46",
   "metadata": {},
   "outputs": [
    {
     "data": {
      "text/html": [
       "<div>\n",
       "<style scoped>\n",
       "    .dataframe tbody tr th:only-of-type {\n",
       "        vertical-align: middle;\n",
       "    }\n",
       "\n",
       "    .dataframe tbody tr th {\n",
       "        vertical-align: top;\n",
       "    }\n",
       "\n",
       "    .dataframe thead th {\n",
       "        text-align: right;\n",
       "    }\n",
       "</style>\n",
       "<table border=\"1\" class=\"dataframe\">\n",
       "  <thead>\n",
       "    <tr style=\"text-align: right;\">\n",
       "      <th></th>\n",
       "      <th>bodyType</th>\n",
       "      <th>brand</th>\n",
       "      <th>color</th>\n",
       "      <th>fuelType</th>\n",
       "      <th>model_name</th>\n",
       "      <th>vendor</th>\n",
       "      <th>vehicleTransmission</th>\n",
       "      <th>vehicleConfiguration</th>\n",
       "      <th>Руль</th>\n",
       "    </tr>\n",
       "  </thead>\n",
       "  <tbody>\n",
       "    <tr>\n",
       "      <th>15396</th>\n",
       "      <td>1</td>\n",
       "      <td>1</td>\n",
       "      <td>6</td>\n",
       "      <td>0</td>\n",
       "      <td>717</td>\n",
       "      <td>0</td>\n",
       "      <td>0</td>\n",
       "      <td>33</td>\n",
       "      <td>2</td>\n",
       "    </tr>\n",
       "    <tr>\n",
       "      <th>39239</th>\n",
       "      <td>15</td>\n",
       "      <td>0</td>\n",
       "      <td>15</td>\n",
       "      <td>0</td>\n",
       "      <td>65</td>\n",
       "      <td>0</td>\n",
       "      <td>0</td>\n",
       "      <td>538</td>\n",
       "      <td>0</td>\n",
       "    </tr>\n",
       "    <tr>\n",
       "      <th>3175</th>\n",
       "      <td>8</td>\n",
       "      <td>8</td>\n",
       "      <td>1</td>\n",
       "      <td>0</td>\n",
       "      <td>447</td>\n",
       "      <td>0</td>\n",
       "      <td>0</td>\n",
       "      <td>354</td>\n",
       "      <td>2</td>\n",
       "    </tr>\n",
       "    <tr>\n",
       "      <th>57142</th>\n",
       "      <td>15</td>\n",
       "      <td>9</td>\n",
       "      <td>1</td>\n",
       "      <td>0</td>\n",
       "      <td>406</td>\n",
       "      <td>1</td>\n",
       "      <td>0</td>\n",
       "      <td>503</td>\n",
       "      <td>1</td>\n",
       "    </tr>\n",
       "    <tr>\n",
       "      <th>22476</th>\n",
       "      <td>1</td>\n",
       "      <td>5</td>\n",
       "      <td>15</td>\n",
       "      <td>0</td>\n",
       "      <td>273</td>\n",
       "      <td>0</td>\n",
       "      <td>0</td>\n",
       "      <td>60</td>\n",
       "      <td>0</td>\n",
       "    </tr>\n",
       "    <tr>\n",
       "      <th>2742</th>\n",
       "      <td>19</td>\n",
       "      <td>8</td>\n",
       "      <td>4</td>\n",
       "      <td>0</td>\n",
       "      <td>251</td>\n",
       "      <td>0</td>\n",
       "      <td>2</td>\n",
       "      <td>656</td>\n",
       "      <td>0</td>\n",
       "    </tr>\n",
       "    <tr>\n",
       "      <th>31628</th>\n",
       "      <td>23</td>\n",
       "      <td>10</td>\n",
       "      <td>11</td>\n",
       "      <td>0</td>\n",
       "      <td>482</td>\n",
       "      <td>0</td>\n",
       "      <td>2</td>\n",
       "      <td>324</td>\n",
       "      <td>0</td>\n",
       "    </tr>\n",
       "    <tr>\n",
       "      <th>55254</th>\n",
       "      <td>1</td>\n",
       "      <td>5</td>\n",
       "      <td>15</td>\n",
       "      <td>0</td>\n",
       "      <td>308</td>\n",
       "      <td>0</td>\n",
       "      <td>0</td>\n",
       "      <td>61</td>\n",
       "      <td>0</td>\n",
       "    </tr>\n",
       "    <tr>\n",
       "      <th>39366</th>\n",
       "      <td>8</td>\n",
       "      <td>0</td>\n",
       "      <td>15</td>\n",
       "      <td>0</td>\n",
       "      <td>61</td>\n",
       "      <td>0</td>\n",
       "      <td>3</td>\n",
       "      <td>372</td>\n",
       "      <td>0</td>\n",
       "    </tr>\n",
       "    <tr>\n",
       "      <th>48728</th>\n",
       "      <td>23</td>\n",
       "      <td>7</td>\n",
       "      <td>13</td>\n",
       "      <td>0</td>\n",
       "      <td>649</td>\n",
       "      <td>1</td>\n",
       "      <td>0</td>\n",
       "      <td>310</td>\n",
       "      <td>0</td>\n",
       "    </tr>\n",
       "  </tbody>\n",
       "</table>\n",
       "</div>"
      ],
      "text/plain": [
       "       bodyType  brand  color  fuelType  model_name  vendor  \\\n",
       "15396         1      1      6         0         717       0   \n",
       "39239        15      0     15         0          65       0   \n",
       "3175          8      8      1         0         447       0   \n",
       "57142        15      9      1         0         406       1   \n",
       "22476         1      5     15         0         273       0   \n",
       "2742         19      8      4         0         251       0   \n",
       "31628        23     10     11         0         482       0   \n",
       "55254         1      5     15         0         308       0   \n",
       "39366         8      0     15         0          61       0   \n",
       "48728        23      7     13         0         649       1   \n",
       "\n",
       "       vehicleTransmission  vehicleConfiguration  Руль  \n",
       "15396                    0                    33     2  \n",
       "39239                    0                   538     0  \n",
       "3175                     0                   354     2  \n",
       "57142                    0                   503     1  \n",
       "22476                    0                    60     0  \n",
       "2742                     2                   656     0  \n",
       "31628                    2                   324     0  \n",
       "55254                    0                    61     0  \n",
       "39366                    3                   372     0  \n",
       "48728                    0                   310     0  "
      ]
     },
     "execution_count": 179,
     "metadata": {},
     "output_type": "execute_result"
    }
   ],
   "source": [
    "data[cat_cols].sample(10)"
   ]
  },
  {
   "cell_type": "code",
   "execution_count": 180,
   "id": "2071df28",
   "metadata": {},
   "outputs": [],
   "source": [
    "# Преобразуем признак ПТС в числовой\n",
    "data['ПТС'] = LabelEncoder().fit_transform(data['ПТС'])"
   ]
  },
  {
   "cell_type": "code",
   "execution_count": 181,
   "id": "1f330be8",
   "metadata": {},
   "outputs": [
    {
     "data": {
      "text/plain": [
       "28292    1\n",
       "48250    1\n",
       "21496    0\n",
       "42907    1\n",
       "48137    1\n",
       "41818    0\n",
       "18081    1\n",
       "5943     1\n",
       "70403    1\n",
       "9048     1\n",
       "Name: ПТС, dtype: int32"
      ]
     },
     "execution_count": 181,
     "metadata": {},
     "output_type": "execute_result"
    }
   ],
   "source": [
    "data['ПТС'].sample(10)"
   ]
  },
  {
   "cell_type": "markdown",
   "id": "370cb094",
   "metadata": {},
   "source": [
    "# Стандартизация числовых переменных"
   ]
  },
  {
   "cell_type": "code",
   "execution_count": 182,
   "id": "dee3bd1c",
   "metadata": {},
   "outputs": [],
   "source": [
    "# Применим стандартизацию к оставшимся числовым переменным\n",
    "cols_to_std = list(set(data.columns) & set(num_cols))\n",
    "\n",
    "for col in cols_to_std:\n",
    "    data[col] = StandardScaler().fit_transform(data[cols_to_std])"
   ]
  },
  {
   "cell_type": "code",
   "execution_count": 183,
   "id": "18f38a29",
   "metadata": {},
   "outputs": [
    {
     "data": {
      "text/html": [
       "<div>\n",
       "<style scoped>\n",
       "    .dataframe tbody tr th:only-of-type {\n",
       "        vertical-align: middle;\n",
       "    }\n",
       "\n",
       "    .dataframe tbody tr th {\n",
       "        vertical-align: top;\n",
       "    }\n",
       "\n",
       "    .dataframe thead th {\n",
       "        text-align: right;\n",
       "    }\n",
       "</style>\n",
       "<table border=\"1\" class=\"dataframe\">\n",
       "  <thead>\n",
       "    <tr style=\"text-align: right;\">\n",
       "      <th></th>\n",
       "      <th>enginePower</th>\n",
       "      <th>Владельцы</th>\n",
       "      <th>mileage</th>\n",
       "      <th>engineDisplacement</th>\n",
       "      <th>numberOfDoors</th>\n",
       "      <th>productionDate</th>\n",
       "    </tr>\n",
       "  </thead>\n",
       "  <tbody>\n",
       "    <tr>\n",
       "      <th>48280</th>\n",
       "      <td>-0.449355</td>\n",
       "      <td>-0.449355</td>\n",
       "      <td>-0.449355</td>\n",
       "      <td>-0.449355</td>\n",
       "      <td>-0.449355</td>\n",
       "      <td>-0.449355</td>\n",
       "    </tr>\n",
       "    <tr>\n",
       "      <th>16822</th>\n",
       "      <td>0.844945</td>\n",
       "      <td>0.844945</td>\n",
       "      <td>0.844945</td>\n",
       "      <td>0.844945</td>\n",
       "      <td>0.844945</td>\n",
       "      <td>0.844945</td>\n",
       "    </tr>\n",
       "    <tr>\n",
       "      <th>54684</th>\n",
       "      <td>0.806131</td>\n",
       "      <td>0.806131</td>\n",
       "      <td>0.806131</td>\n",
       "      <td>0.806131</td>\n",
       "      <td>0.806131</td>\n",
       "      <td>0.806131</td>\n",
       "    </tr>\n",
       "    <tr>\n",
       "      <th>4989</th>\n",
       "      <td>1.370342</td>\n",
       "      <td>1.370342</td>\n",
       "      <td>1.370342</td>\n",
       "      <td>1.370342</td>\n",
       "      <td>1.370342</td>\n",
       "      <td>1.370342</td>\n",
       "    </tr>\n",
       "    <tr>\n",
       "      <th>58467</th>\n",
       "      <td>1.065534</td>\n",
       "      <td>1.065534</td>\n",
       "      <td>1.065534</td>\n",
       "      <td>1.065534</td>\n",
       "      <td>1.065534</td>\n",
       "      <td>1.065534</td>\n",
       "    </tr>\n",
       "    <tr>\n",
       "      <th>16819</th>\n",
       "      <td>1.339191</td>\n",
       "      <td>1.339191</td>\n",
       "      <td>1.339191</td>\n",
       "      <td>1.339191</td>\n",
       "      <td>1.339191</td>\n",
       "      <td>1.339191</td>\n",
       "    </tr>\n",
       "    <tr>\n",
       "      <th>21546</th>\n",
       "      <td>1.542035</td>\n",
       "      <td>1.542035</td>\n",
       "      <td>1.542035</td>\n",
       "      <td>1.542035</td>\n",
       "      <td>1.542035</td>\n",
       "      <td>1.542035</td>\n",
       "    </tr>\n",
       "    <tr>\n",
       "      <th>21482</th>\n",
       "      <td>1.542035</td>\n",
       "      <td>1.542035</td>\n",
       "      <td>1.542035</td>\n",
       "      <td>1.542035</td>\n",
       "      <td>1.542035</td>\n",
       "      <td>1.542035</td>\n",
       "    </tr>\n",
       "    <tr>\n",
       "      <th>60576</th>\n",
       "      <td>0.197168</td>\n",
       "      <td>0.197168</td>\n",
       "      <td>0.197168</td>\n",
       "      <td>0.197168</td>\n",
       "      <td>0.197168</td>\n",
       "      <td>0.197168</td>\n",
       "    </tr>\n",
       "    <tr>\n",
       "      <th>16245</th>\n",
       "      <td>1.339191</td>\n",
       "      <td>1.339191</td>\n",
       "      <td>1.339191</td>\n",
       "      <td>1.339191</td>\n",
       "      <td>1.339191</td>\n",
       "      <td>1.339191</td>\n",
       "    </tr>\n",
       "  </tbody>\n",
       "</table>\n",
       "</div>"
      ],
      "text/plain": [
       "       enginePower  Владельцы   mileage  engineDisplacement  numberOfDoors  \\\n",
       "48280    -0.449355  -0.449355 -0.449355           -0.449355      -0.449355   \n",
       "16822     0.844945   0.844945  0.844945            0.844945       0.844945   \n",
       "54684     0.806131   0.806131  0.806131            0.806131       0.806131   \n",
       "4989      1.370342   1.370342  1.370342            1.370342       1.370342   \n",
       "58467     1.065534   1.065534  1.065534            1.065534       1.065534   \n",
       "16819     1.339191   1.339191  1.339191            1.339191       1.339191   \n",
       "21546     1.542035   1.542035  1.542035            1.542035       1.542035   \n",
       "21482     1.542035   1.542035  1.542035            1.542035       1.542035   \n",
       "60576     0.197168   0.197168  0.197168            0.197168       0.197168   \n",
       "16245     1.339191   1.339191  1.339191            1.339191       1.339191   \n",
       "\n",
       "       productionDate  \n",
       "48280       -0.449355  \n",
       "16822        0.844945  \n",
       "54684        0.806131  \n",
       "4989         1.370342  \n",
       "58467        1.065534  \n",
       "16819        1.339191  \n",
       "21546        1.542035  \n",
       "21482        1.542035  \n",
       "60576        0.197168  \n",
       "16245        1.339191  "
      ]
     },
     "execution_count": 183,
     "metadata": {},
     "output_type": "execute_result"
    }
   ],
   "source": [
    "data[cols_to_std].sample(10)"
   ]
  },
  {
   "cell_type": "code",
   "execution_count": 184,
   "id": "65b80c4f",
   "metadata": {},
   "outputs": [
    {
     "name": "stdout",
     "output_type": "stream",
     "text": [
      "<class 'pandas.core.frame.DataFrame'>\n",
      "RangeIndex: 71202 entries, 0 to 71201\n",
      "Data columns (total 51 columns):\n",
      " #   Column                       Non-Null Count  Dtype  \n",
      "---  ------                       --------------  -----  \n",
      " 0   bodyType                     71202 non-null  int32  \n",
      " 1   brand                        71202 non-null  int32  \n",
      " 2   color                        71202 non-null  int32  \n",
      " 3   engineDisplacement           71202 non-null  float64\n",
      " 4   enginePower                  71202 non-null  float64\n",
      " 5   fuelType                     71202 non-null  int32  \n",
      " 6   mileage                      71202 non-null  float64\n",
      " 7   model_name                   71202 non-null  int32  \n",
      " 8   numberOfDoors                71202 non-null  float64\n",
      " 9   productionDate               71202 non-null  float64\n",
      " 10  sell_id                      71202 non-null  int64  \n",
      " 11  vehicleConfiguration         71202 non-null  int32  \n",
      " 12  vehicleTransmission          71202 non-null  int32  \n",
      " 13  vendor                       71202 non-null  int32  \n",
      " 14  Владельцы                    71202 non-null  float64\n",
      " 15  ПТС                          71202 non-null  int32  \n",
      " 16  Руль                         71202 non-null  int32  \n",
      " 17  price                        71202 non-null  float64\n",
      " 18  OPTION_airbag-driver         71202 non-null  int64  \n",
      " 19  OPTION_abs                   71202 non-null  int64  \n",
      " 20  OPTION_lock                  71202 non-null  int64  \n",
      " 21  OPTION_immo                  71202 non-null  int64  \n",
      " 22  OPTION_electro-window-front  71202 non-null  int64  \n",
      " 23  OPTION_airbag-passenger      71202 non-null  int64  \n",
      " 24  OPTION_wheel-configuration1  71202 non-null  int64  \n",
      " 25  OPTION_computer              71202 non-null  int64  \n",
      " 26  OPTION_electro-mirrors       71202 non-null  int64  \n",
      " 27  OPTION_mirrors-heat          71202 non-null  int64  \n",
      " 28  OPTION_wheel-configuration2  71202 non-null  int64  \n",
      " 29  OPTION_electro-window-back   71202 non-null  int64  \n",
      " 30  OPTION_front-seats-heat      71202 non-null  int64  \n",
      " 31  OPTION_esp                   71202 non-null  int64  \n",
      " 32  OPTION_airbag-side           71202 non-null  int64  \n",
      " 33  OPTION_isofix                71202 non-null  int64  \n",
      " 34  OPTION_seat-transformation   71202 non-null  int64  \n",
      " 35  OPTION_audiopreparation      71202 non-null  int64  \n",
      " 36  OPTION_audiosystem-cd        71202 non-null  int64  \n",
      " 37  OPTION_wheel-leather         71202 non-null  int64  \n",
      " 38  OPTION_multi-wheel           71202 non-null  int64  \n",
      " 39  OPTION_airbag-curtain        71202 non-null  int64  \n",
      " 40  OPTION_third-rear-headrest   71202 non-null  int64  \n",
      " 41  OPTION_usb                   71202 non-null  int64  \n",
      " 42  OPTION_front-centre-armrest  71202 non-null  int64  \n",
      " 43  OPTION_ptf                   71202 non-null  int64  \n",
      " 44  OPTION_12v-socket            71202 non-null  int64  \n",
      " 45  OPTION_cruise-control        71202 non-null  int64  \n",
      " 46  OPTION_rain-sensor           71202 non-null  int64  \n",
      " 47  OPTION_bluetooth             71202 non-null  int64  \n",
      " 48  Owning_months                71202 non-null  float64\n",
      " 49  Train?                       71202 non-null  int64  \n",
      " 50  price_log                    71202 non-null  float64\n",
      "dtypes: float64(9), int32(10), int64(32)\n",
      "memory usage: 25.0 MB\n"
     ]
    }
   ],
   "source": [
    "data.info()"
   ]
  },
  {
   "cell_type": "markdown",
   "id": "67a7085e",
   "metadata": {},
   "source": [
    "# Подготовка итогового датасета к выбору модели"
   ]
  },
  {
   "cell_type": "code",
   "execution_count": 185,
   "id": "931892b7",
   "metadata": {},
   "outputs": [],
   "source": [
    "# Отделим обучающую выборку от тестовой и выделим целевую переменную\n",
    "X = data[data['Train?'] == 1].drop(columns=['Train?', 'price', 'price_log'])\n",
    "y = data[data['Train?'] == 1].price"
   ]
  },
  {
   "cell_type": "code",
   "execution_count": 186,
   "id": "d9960aa2",
   "metadata": {},
   "outputs": [],
   "source": [
    "# Разбиваем обучающую выборку на обучающую и тестовую для выбора модели\n",
    "RANDOM_SEED = 42\n",
    "X_train, X_test, y_train, y_test = train_test_split(X, y, test_size=0.2, shuffle=True, random_state=RANDOM_SEED)"
   ]
  },
  {
   "cell_type": "markdown",
   "id": "0af9fb0a",
   "metadata": {},
   "source": [
    "# Выбор модели\n",
    "В качестве объекта сравнения возьмем модель линейной регрессии с базовыми параметрами.\n",
    "\n",
    "## LinearRegression"
   ]
  },
  {
   "cell_type": "code",
   "execution_count": 187,
   "id": "c013e7f7",
   "metadata": {},
   "outputs": [
    {
     "name": "stdout",
     "output_type": "stream",
     "text": [
      "Точность модели по метрике MAPE: 0.8428479853255585\n"
     ]
    }
   ],
   "source": [
    "l_model = LinearRegression()\n",
    "l_model.fit(X_train, y_train)\n",
    "l_y_pred = l_model.predict(X_test)\n",
    "\n",
    "print(\"Точность модели по метрике MAPE:\", mape(y_test, l_y_pred))"
   ]
  },
  {
   "cell_type": "code",
   "execution_count": 188,
   "id": "aca06a8f",
   "metadata": {},
   "outputs": [
    {
     "name": "stdout",
     "output_type": "stream",
     "text": [
      "Точность модели по метрике MAPE: 0.3673869946433811\n"
     ]
    }
   ],
   "source": [
    "# С логарифмированием цены\n",
    "l_model_log = LinearRegression()\n",
    "l_model_log.fit(X_train, np.log(y_train))\n",
    "l_y_pred_log = np.exp(l_model_log.predict(X_test))\n",
    "\n",
    "print(\"Точность модели по метрике MAPE:\", mape(y_test, l_y_pred_log))"
   ]
  },
  {
   "cell_type": "markdown",
   "id": "73a2ee49",
   "metadata": {},
   "source": [
    "## DecisionTreeRegressor"
   ]
  },
  {
   "cell_type": "code",
   "execution_count": 189,
   "id": "2d5b55a5",
   "metadata": {},
   "outputs": [
    {
     "name": "stdout",
     "output_type": "stream",
     "text": [
      "Точность модели по метрике MAPE: 0.6047549721207164\n"
     ]
    }
   ],
   "source": [
    "dtr_model = DecisionTreeRegressor(max_depth=4, random_state=RANDOM_SEED)\n",
    "dtr_model.fit(X_train, y_train)\n",
    "dtr_y_pred = dtr_model.predict(X_test)\n",
    "\n",
    "print(\"Точность модели по метрике MAPE:\", mape(y_test, dtr_y_pred))"
   ]
  },
  {
   "cell_type": "code",
   "execution_count": 190,
   "id": "10349fd4",
   "metadata": {},
   "outputs": [
    {
     "name": "stdout",
     "output_type": "stream",
     "text": [
      "Точность модели по метрике MAPE: 0.41090500852568695\n"
     ]
    }
   ],
   "source": [
    "# С логарифмированием цены\n",
    "dtr_model_log = DecisionTreeRegressor(max_depth=4, random_state=RANDOM_SEED)\n",
    "dtr_model_log.fit(X_train, np.log(y_train))\n",
    "dtr_pred_log = np.exp(dtr_model_log.predict(X_test))\n",
    "\n",
    "print(\"Точность модели по метрике MAPE:\", mape(y_test, dtr_pred_log))"
   ]
  },
  {
   "cell_type": "markdown",
   "id": "ad3c6f6c",
   "metadata": {},
   "source": [
    "## RandomForestRegressor"
   ]
  },
  {
   "cell_type": "code",
   "execution_count": 191,
   "id": "f4f21434",
   "metadata": {},
   "outputs": [
    {
     "name": "stdout",
     "output_type": "stream",
     "text": [
      "Точность модели по метрике MAPE: 0.1803075655216078\n"
     ]
    }
   ],
   "source": [
    "rf = RandomForestRegressor(random_state=RANDOM_SEED, n_jobs=-1)\n",
    "rf.fit(X_train, y_train)\n",
    "rf_pred = rf.predict(X_test)\n",
    "\n",
    "print(\"Точность модели по метрике MAPE:\", mape(y_test, rf_pred))"
   ]
  },
  {
   "cell_type": "code",
   "execution_count": 192,
   "id": "9afe81a6",
   "metadata": {},
   "outputs": [
    {
     "name": "stdout",
     "output_type": "stream",
     "text": [
      "Точность модели по метрике MAPE: 0.16067133138858175\n"
     ]
    }
   ],
   "source": [
    "# С логарифмированием цены\n",
    "rf = RandomForestRegressor(random_state=RANDOM_SEED, n_jobs=-1)\n",
    "rf.fit(X_train, np.log(y_train))\n",
    "rf_pred_log = np.exp(rf.predict(X_test))\n",
    "\n",
    "print(\"Точность модели по метрике MAPE:\", mape(y_test, rf_pred_log))"
   ]
  },
  {
   "cell_type": "markdown",
   "id": "ae622aa6",
   "metadata": {},
   "source": [
    "Попробуем подобрать оптимальные гиперпараметры для этой модели"
   ]
  },
  {
   "cell_type": "code",
   "execution_count": null,
   "id": "b79d185b",
   "metadata": {},
   "outputs": [],
   "source": [
    "rf = RandomForestRegressor(random_state=RANDOM_SEED, n_jobs=-1)\n",
    "\n",
    "# Задаем сетку гиперпараметров\n",
    "n_estimators = [int(x) for x in np.linspace(start = 100, stop = 500, num = 5)]\n",
    "max_features = ['auto', 'sqrt', 'log2']\n",
    "max_depth = [int(x) for x in np.linspace(5, 15, num = 6)] + [None]\n",
    "min_samples_split = [2, 5, 10]\n",
    "min_samples_leaf = [1, 2, 4]\n",
    "bootstrap = [True, False]\n",
    "random_grid = {'n_estimators': n_estimators,\n",
    "               'max_features': max_features,\n",
    "               'max_depth': max_depth,\n",
    "               'min_samples_split': min_samples_split,\n",
    "               'min_samples_leaf': min_samples_leaf,\n",
    "               'bootstrap': bootstrap}\n",
    "\n",
    "# Проведем поиск оптимальных параметров\n",
    "rf_random = RandomizedSearchCV(estimator=rf, param_distributions=random_grid, n_iter=100, \n",
    "                               cv=3, verbose=2, random_state=RANDOM_SEED, n_jobs=-1)\n",
    "rf_random.fit(X_train, y_train)"
   ]
  },
  {
   "cell_type": "code",
   "execution_count": 407,
   "id": "a42483e0",
   "metadata": {},
   "outputs": [
    {
     "data": {
      "text/plain": [
       "{'n_estimators': 500,\n",
       " 'min_samples_split': 2,\n",
       " 'min_samples_leaf': 1,\n",
       " 'max_features': 'log2',\n",
       " 'max_depth': None,\n",
       " 'bootstrap': True}"
      ]
     },
     "execution_count": 407,
     "metadata": {},
     "output_type": "execute_result"
    }
   ],
   "source": [
    "# Выведем список оптимальных параметров\n",
    "rf_random.best_params_"
   ]
  },
  {
   "cell_type": "markdown",
   "id": "fc49eba8",
   "metadata": {},
   "source": [
    "Опытным путем, уже без использования RandomizedSearchCV, который отрабатывает крайне долго, выяснил количество n_estimators при котором MAPE перестала уменьшаться."
   ]
  },
  {
   "cell_type": "code",
   "execution_count": 215,
   "id": "2e6e1550",
   "metadata": {},
   "outputs": [],
   "source": [
    "rf_best_params = {'n_estimators': 1000,\n",
    "                  'min_samples_split': 2,\n",
    "                  'min_samples_leaf': 1,\n",
    "                  'max_features': 'log2',\n",
    "                  'max_depth': None,\n",
    "                  'bootstrap': True}"
   ]
  },
  {
   "cell_type": "code",
   "execution_count": 213,
   "id": "27c5781b",
   "metadata": {},
   "outputs": [
    {
     "name": "stdout",
     "output_type": "stream",
     "text": [
      "Точность модели по метрике MAPE: 0.1817294839081876\n"
     ]
    }
   ],
   "source": [
    "# Подставим параметры в модель\n",
    "rf_best = RandomForestRegressor(random_state=RANDOM_SEED, n_jobs=-1).set_params(**rf_best_params)\n",
    "rf_best.fit(X_train, y_train)\n",
    "rf_best_pred = rf_best.predict(X_test)\n",
    "\n",
    "print(\"Точность модели по метрике MAPE:\", mape(y_test, rf_best_pred))"
   ]
  },
  {
   "cell_type": "code",
   "execution_count": 216,
   "id": "b6531f90",
   "metadata": {},
   "outputs": [
    {
     "name": "stdout",
     "output_type": "stream",
     "text": [
      "Точность модели по метрике MAPE: 0.16121876454741332\n"
     ]
    }
   ],
   "source": [
    "# С логарифмированием цены\n",
    "rf_best = RandomForestRegressor(random_state=RANDOM_SEED, n_jobs=-1).set_params(**rf_best_params)\n",
    "rf_best.fit(X_train, np.log(y_train))\n",
    "rf_best_pred_log = np.exp(rf_best.predict(X_test))\n",
    "\n",
    "print(\"Точность модели по метрике MAPE:\", mape(y_test, rf_best_pred_log))"
   ]
  },
  {
   "cell_type": "markdown",
   "id": "582b5a13",
   "metadata": {},
   "source": [
    "## ExtraTreesRegressor"
   ]
  },
  {
   "cell_type": "code",
   "execution_count": 405,
   "id": "5917741e",
   "metadata": {},
   "outputs": [
    {
     "name": "stdout",
     "output_type": "stream",
     "text": [
      "Точность модели по метрике MAPE: 0.18246258656730857\n"
     ]
    }
   ],
   "source": [
    "etr = ExtraTreesRegressor(random_state=RANDOM_SEED, n_jobs=-1)\n",
    "etr.fit(X_train, y_train)\n",
    "etr_pred = etr.predict(X_test)\n",
    "\n",
    "print(\"Точность модели по метрике MAPE:\", mape(y_test, etr_pred))"
   ]
  },
  {
   "cell_type": "code",
   "execution_count": 221,
   "id": "a244d458",
   "metadata": {},
   "outputs": [
    {
     "name": "stdout",
     "output_type": "stream",
     "text": [
      "Точность модели по метрике MAPE: 0.1672589992685239\n"
     ]
    }
   ],
   "source": [
    "etr = ExtraTreesRegressor(random_state=RANDOM_SEED, n_jobs=-1)\n",
    "etr.fit(X_train, np.log(y_train))\n",
    "etr_pred_log = np.exp(etr.predict(X_test))\n",
    "\n",
    "print(\"Точность модели по метрике MAPE:\", mape(y_test, etr_pred_log))"
   ]
  },
  {
   "cell_type": "code",
   "execution_count": 217,
   "id": "1bdf7166",
   "metadata": {},
   "outputs": [
    {
     "name": "stdout",
     "output_type": "stream",
     "text": [
      "Fitting 3 folds for each of 100 candidates, totalling 300 fits\n"
     ]
    },
    {
     "data": {
      "text/plain": [
       "RandomizedSearchCV(cv=3,\n",
       "                   estimator=ExtraTreesRegressor(n_jobs=-1, random_state=42),\n",
       "                   n_iter=100, n_jobs=-1,\n",
       "                   param_distributions={'bootstrap': [True, False],\n",
       "                                        'max_depth': [5, 7, 9, 11, 13, 15,\n",
       "                                                      None],\n",
       "                                        'max_features': ['auto', 'sqrt',\n",
       "                                                         'log2'],\n",
       "                                        'min_samples_leaf': [1, 2, 4],\n",
       "                                        'min_samples_split': [2, 5, 10],\n",
       "                                        'n_estimators': [100, 200, 300, 400,\n",
       "                                                         500]},\n",
       "                   random_state=42, verbose=2)"
      ]
     },
     "execution_count": 217,
     "metadata": {},
     "output_type": "execute_result"
    }
   ],
   "source": [
    "# Попробуем подобрать оптимальные гиперпараметры для этой модели\n",
    "# Задаем сетку гиперпараметров\n",
    "n_estimators = [int(x) for x in np.linspace(start = 100, stop = 500, num = 5)]\n",
    "max_features = ['auto', 'sqrt', 'log2']\n",
    "max_depth = [int(x) for x in np.linspace(5, 15, num = 6)] + [None]\n",
    "min_samples_split = [2, 5, 10]\n",
    "min_samples_leaf = [1, 2, 4]\n",
    "bootstrap = [True, False]\n",
    "random_grid = {'n_estimators': n_estimators,\n",
    "               'max_features': max_features,\n",
    "               'max_depth': max_depth,\n",
    "               'min_samples_split': min_samples_split,\n",
    "               'min_samples_leaf': min_samples_leaf,\n",
    "               'bootstrap': bootstrap}\n",
    "\n",
    "etr = ExtraTreesRegressor(random_state=RANDOM_SEED, n_jobs=-1)\n",
    "etr_random = RandomizedSearchCV(estimator=etr, param_distributions=random_grid, n_iter=100, \n",
    "                               cv=3, verbose=2, random_state=RANDOM_SEED, n_jobs=-1)\n",
    "etr_random.fit(X_train, np.log(y_train))"
   ]
  },
  {
   "cell_type": "code",
   "execution_count": 218,
   "id": "32336be7",
   "metadata": {},
   "outputs": [
    {
     "data": {
      "text/plain": [
       "{'n_estimators': 500,\n",
       " 'min_samples_split': 10,\n",
       " 'min_samples_leaf': 1,\n",
       " 'max_features': 'auto',\n",
       " 'max_depth': None,\n",
       " 'bootstrap': False}"
      ]
     },
     "execution_count": 218,
     "metadata": {},
     "output_type": "execute_result"
    }
   ],
   "source": [
    "# Выведем список оптимальных параметров\n",
    "etr_random.best_params_"
   ]
  },
  {
   "cell_type": "code",
   "execution_count": 230,
   "id": "783fcfcc",
   "metadata": {},
   "outputs": [],
   "source": [
    "# Опытным путем выяснил оптимальное значение n_estimators\n",
    "etr_best_params = {'n_estimators': 1200,\n",
    "                   'min_samples_split': 10,\n",
    "                   'min_samples_leaf': 1,\n",
    "                   'max_features': 'auto',\n",
    "                   'max_depth': None,\n",
    "                   'bootstrap': False}"
   ]
  },
  {
   "cell_type": "code",
   "execution_count": 231,
   "id": "07bbb095",
   "metadata": {},
   "outputs": [
    {
     "name": "stdout",
     "output_type": "stream",
     "text": [
      "Точность модели по метрике MAPE: 0.1575702667588203\n"
     ]
    }
   ],
   "source": [
    "# Подставим параметры в модель\n",
    "etr_best = ExtraTreesRegressor(random_state=RANDOM_SEED, n_jobs=-1).set_params(**etr_best_params)\n",
    "etr_best.fit(X_train, np.log(y_train))\n",
    "etr_best_pred_log = np.exp(etr_best.predict(X_test))\n",
    "\n",
    "print(\"Точность модели по метрике MAPE:\", mape(y_test, etr_best_pred_log))"
   ]
  },
  {
   "cell_type": "markdown",
   "id": "25138955",
   "metadata": {},
   "source": [
    "## CatBoost"
   ]
  },
  {
   "cell_type": "code",
   "execution_count": 249,
   "id": "0423079a",
   "metadata": {},
   "outputs": [
    {
     "name": "stdout",
     "output_type": "stream",
     "text": [
      "Точность модели по метрике MAPE: 0.17184574851913959\n"
     ]
    }
   ],
   "source": [
    "cb = CatBoostRegressor(random_seed = RANDOM_SEED, \n",
    "                       iterations = 5000,\n",
    "                       eval_metric='MAPE',\n",
    "                       silent=True)\n",
    "cb.fit(X_train, np.log(y_train))\n",
    "cb_pred = np.exp(cb.predict(X_test))\n",
    "\n",
    "print(\"Точность модели по метрике MAPE:\", mape(y_test, cb_pred))"
   ]
  },
  {
   "cell_type": "markdown",
   "id": "d4e29c89",
   "metadata": {},
   "source": [
    "## XGBRegressor"
   ]
  },
  {
   "cell_type": "code",
   "execution_count": 260,
   "id": "647a90ec",
   "metadata": {},
   "outputs": [
    {
     "name": "stdout",
     "output_type": "stream",
     "text": [
      "Точность модели по метрике MAPE: 0.1543516780073612\n"
     ]
    }
   ],
   "source": [
    "xgb_reg = xgb.XGBRegressor(objective='reg:squarederror', \n",
    "                           colsample_bytree=0.5,\n",
    "                           learning_rate=0.08, \n",
    "                           max_depth=8, \n",
    "                           alpha=1,\n",
    "                           n_estimators=1000, \n",
    "                           random_state=RANDOM_SEED, \n",
    "                           n_jobs=-1)\n",
    "xgb_reg.fit(X_train, np.log(y_train))\n",
    "xgb_reg_pred = np.exp(xgb_reg.predict(X_test))\n",
    "\n",
    "print(\"Точность модели по метрике MAPE:\", mape(y_test, xgb_reg_pred))"
   ]
  },
  {
   "cell_type": "markdown",
   "id": "6af4afd7",
   "metadata": {},
   "source": [
    "## BaggingRegressor\n",
    "Лучшие модели у нас получились **RandomForestRegressor** с базовыми параметрами и **ExtraTreesRegressor**. Будем объединять их."
   ]
  },
  {
   "cell_type": "code",
   "execution_count": 243,
   "id": "ed6afe09",
   "metadata": {},
   "outputs": [
    {
     "name": "stdout",
     "output_type": "stream",
     "text": [
      "Точность модели по метрике MAPE: 0.16074493315711053\n"
     ]
    }
   ],
   "source": [
    "rfr = RandomForestRegressor(random_state=RANDOM_SEED, n_jobs=-1)\n",
    "bag_rfr = BaggingRegressor(rfr, n_jobs=-1, random_state=RANDOM_SEED)\n",
    "bag_rfr.fit(X_train, np.log(y_train))\n",
    "bag_rfr_pred = np.exp(bag_rfr.predict(X_test))\n",
    "\n",
    "print(\"Точность модели по метрике MAPE:\", mape(y_test, bag_rfr_pred))"
   ]
  },
  {
   "cell_type": "code",
   "execution_count": 237,
   "id": "40dfad40",
   "metadata": {},
   "outputs": [
    {
     "name": "stdout",
     "output_type": "stream",
     "text": [
      "Точность модели по метрике MAPE: 0.16268518007850566\n"
     ]
    }
   ],
   "source": [
    "etr = ExtraTreesRegressor(random_state=RANDOM_SEED, n_jobs=-1)\n",
    "bag_etr = BaggingRegressor(etr, n_jobs=-1, random_state=RANDOM_SEED)\n",
    "bag_etr.fit(X_train, np.log(y_train))\n",
    "bag_etr_pred = np.exp(bag_etr.predict(X_test))\n",
    "\n",
    "print(\"Точность модели по метрике MAPE:\", mape(y_test, bag_etr_pred))"
   ]
  },
  {
   "cell_type": "code",
   "execution_count": 264,
   "id": "09d61ae7",
   "metadata": {},
   "outputs": [
    {
     "name": "stdout",
     "output_type": "stream",
     "text": [
      "Точность модели по метрике MAPE: 0.15572811684368762\n"
     ]
    }
   ],
   "source": [
    "xgb_reg = xgb.XGBRegressor(objective='reg:squarederror', \n",
    "                           colsample_bytree=0.5,\n",
    "                           learning_rate=0.08, \n",
    "                           max_depth=8, \n",
    "                           alpha=1,\n",
    "                           n_estimators=1000, \n",
    "                           random_state=RANDOM_SEED, \n",
    "                           n_jobs=-1)\n",
    "bag_xgb = BaggingRegressor(xgb_reg, n_jobs=-1, random_state=RANDOM_SEED)\n",
    "bag_xgb.fit(X_train, np.log(y_train))\n",
    "bag_xgb_pred = np.exp(bag_xgb.predict(X_test))\n",
    "\n",
    "print(\"Точность модели по метрике MAPE:\", mape(y_test, bag_xgb_pred))"
   ]
  },
  {
   "cell_type": "markdown",
   "id": "dab85edb",
   "metadata": {},
   "source": [
    "## StackingRegressor\n",
    "\n",
    "### ExtraTreesRegressor, RandomForestRegressor, final - LinearRegression"
   ]
  },
  {
   "cell_type": "code",
   "execution_count": 262,
   "id": "818090e3",
   "metadata": {},
   "outputs": [
    {
     "name": "stdout",
     "output_type": "stream",
     "text": [
      "Точность модели по метрике MAPE: 0.1609230623833227\n"
     ]
    }
   ],
   "source": [
    "# Базовые модели для генерации параметров\n",
    "estimators = [('etr',ExtraTreesRegressor(random_state=RANDOM_SEED, n_jobs=-1)), \n",
    "              ('rfr', RandomForestRegressor(random_state=RANDOM_SEED, n_jobs=-1))]\n",
    "\n",
    "# Модель стекинга, результирующая - линейная регрессия\n",
    "st_1 = StackingRegressor(estimators=estimators, \n",
    "                         final_estimator=LinearRegression(), \n",
    "                         n_jobs=-1)\n",
    "st_1.fit(X_train, np.log(y_train))\n",
    "st_1_pred = np.exp(st_1.predict(X_test))\n",
    "\n",
    "print(\"Точность модели по метрике MAPE:\", mape(y_test, st_1_pred))"
   ]
  },
  {
   "cell_type": "markdown",
   "id": "91245cbc",
   "metadata": {},
   "source": [
    "### XGBRegressor, ExtraTreesRegressor, final - LinearRegression"
   ]
  },
  {
   "cell_type": "code",
   "execution_count": 265,
   "id": "aca8797f",
   "metadata": {},
   "outputs": [
    {
     "name": "stdout",
     "output_type": "stream",
     "text": [
      "Точность модели по метрике MAPE: 0.15332111257556766\n"
     ]
    }
   ],
   "source": [
    "# Базовые модели для генерации параметров\n",
    "estimators = [('etr',ExtraTreesRegressor(random_state=RANDOM_SEED, \n",
    "                                         n_jobs=-1)), \n",
    "              ('xgb_reg', xgb.XGBRegressor(objective='reg:squarederror', \n",
    "                                           colsample_bytree=0.5,\n",
    "                                           learning_rate=0.08, max_depth=8, \n",
    "                                           alpha=1, n_estimators=1000, \n",
    "                                           random_state=RANDOM_SEED, \n",
    "                                           n_jobs=-1))]\n",
    "\n",
    "# Модель стекинга, результирующая - линейная регрессия\n",
    "st_2 = StackingRegressor(estimators=estimators, \n",
    "                         final_estimator=LinearRegression(), \n",
    "                         n_jobs=-1)\n",
    "st_2.fit(X_train, np.log(y_train))\n",
    "st_2_pred = np.exp(st_2.predict(X_test))\n",
    "\n",
    "print(\"Точность модели по метрике MAPE:\", mape(y_test, st_2_pred))"
   ]
  },
  {
   "cell_type": "markdown",
   "id": "e01a5c63",
   "metadata": {},
   "source": [
    "### XGBRegressor, RandomForestRegressor, final - LinearRegression"
   ]
  },
  {
   "cell_type": "code",
   "execution_count": 268,
   "id": "6a338fc1",
   "metadata": {},
   "outputs": [
    {
     "name": "stdout",
     "output_type": "stream",
     "text": [
      "Точность модели по метрике MAPE: 0.1527522536022689\n"
     ]
    }
   ],
   "source": [
    "# Базовые модели для генерации параметров\n",
    "estimators = [('rfr', RandomForestRegressor(random_state=RANDOM_SEED, n_jobs=-1)), \n",
    "              ('xgb_reg', xgb.XGBRegressor(objective='reg:squarederror', \n",
    "                                           colsample_bytree=0.5,\n",
    "                                           learning_rate=0.08, max_depth=8, \n",
    "                                           alpha=1, n_estimators=1000, \n",
    "                                           random_state=RANDOM_SEED, \n",
    "                                           n_jobs=-1))]\n",
    "\n",
    "# Модель стекинга, результирующая - линейная регрессия\n",
    "st_4 = StackingRegressor(estimators=estimators, \n",
    "                         final_estimator=LinearRegression(), \n",
    "                         n_jobs=-1)\n",
    "st_4.fit(X_train, np.log(y_train))\n",
    "st_4_pred = np.exp(st_4.predict(X_test))\n",
    "\n",
    "print(\"Точность модели по метрике MAPE:\", mape(y_test, st_4_pred))"
   ]
  },
  {
   "cell_type": "code",
   "execution_count": null,
   "id": "eaee5850",
   "metadata": {},
   "outputs": [],
   "source": []
  }
 ],
 "metadata": {
  "kernelspec": {
   "display_name": "Python 3",
   "language": "python",
   "name": "python3"
  },
  "language_info": {
   "codemirror_mode": {
    "name": "ipython",
    "version": 3
   },
   "file_extension": ".py",
   "mimetype": "text/x-python",
   "name": "python",
   "nbconvert_exporter": "python",
   "pygments_lexer": "ipython3",
   "version": "3.8.8"
  }
 },
 "nbformat": 4,
 "nbformat_minor": 5
}
